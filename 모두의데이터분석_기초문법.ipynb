{
  "nbformat": 4,
  "nbformat_minor": 0,
  "metadata": {
    "colab": {
      "name": "모두의데이터분석_기초문법.ipynb",
      "provenance": [],
      "collapsed_sections": [],
      "toc_visible": true,
      "mount_file_id": "11uYUiSOaLErayEjWADjK8tWtb1siY49L",
      "authorship_tag": "ABX9TyP/JRxu6yQOtg+uF/ApTl6u",
      "include_colab_link": true
    },
    "kernelspec": {
      "name": "python3",
      "display_name": "Python 3"
    }
  },
  "cells": [
    {
      "cell_type": "markdown",
      "metadata": {
        "id": "view-in-github",
        "colab_type": "text"
      },
      "source": [
        "<a href=\"https://colab.research.google.com/github/taesamja/AIpython/blob/master/%EB%AA%A8%EB%91%90%EC%9D%98%EB%8D%B0%EC%9D%B4%ED%84%B0%EB%B6%84%EC%84%9D_%EA%B8%B0%EC%B4%88%EB%AC%B8%EB%B2%95.ipynb\" target=\"_parent\"><img src=\"https://colab.research.google.com/assets/colab-badge.svg\" alt=\"Open In Colab\"/></a>"
      ]
    },
    {
      "cell_type": "markdown",
      "metadata": {
        "id": "XuMniu3FhIIK"
      },
      "source": [
        "# 기초문법\n",
        "\n",
        "입력, 출력, 연산자, for 반복문, if 조건문, 리스트 등"
      ]
    },
    {
      "cell_type": "code",
      "metadata": {
        "id": "YqKvVPPrhUOj",
        "outputId": "487dce2c-f544-4191-838c-d009d70d7016",
        "colab": {
          "base_uri": "https://localhost:8080/"
        }
      },
      "source": [
        "names = ['정밀', '폴리', '산설', '메카', '로봇', '전기']\n",
        "\n",
        "names.append('부산기계')\n",
        "\n",
        "for name in names:\n",
        "  if len(name) > 2:\n",
        "    print(name,'공업고등학교')     # 빈칸 만드는 것\n",
        "    print(name + '공업고등학교')   # 빈칸 없이 이어서 출력"
      ],
      "execution_count": 3,
      "outputs": [
        {
          "output_type": "stream",
          "text": [
            "부산기계 공업고등학교\n",
            "부산기계공업고등학교\n"
          ],
          "name": "stdout"
        }
      ]
    },
    {
      "cell_type": "markdown",
      "metadata": {
        "id": "CqLsTqnCiCGu"
      },
      "source": [
        "## 1. 출력과 입력 그리고 변수"
      ]
    },
    {
      "cell_type": "code",
      "metadata": {
        "id": "njl9xuYThvH5",
        "outputId": "27a29bd7-a459-432e-e4fa-3e214c2d6a63",
        "colab": {
          "base_uri": "https://localhost:8080/"
        }
      },
      "source": [
        "# 출력 : print() 함수로 출력하기\n",
        "\n",
        "print(20**3) # 숫자출력 : 세제곱 계산하여 출력\n",
        "\n",
        "print('Hello, World') # 문자열출력 "
      ],
      "execution_count": 5,
      "outputs": [
        {
          "output_type": "stream",
          "text": [
            "8000\n",
            "Hello, World\n"
          ],
          "name": "stdout"
        }
      ]
    },
    {
      "cell_type": "code",
      "metadata": {
        "id": "AgFv7IHWiSd_",
        "outputId": "78f58c95-d29d-47c4-e7d5-a5d1afe5a002",
        "colab": {
          "base_uri": "https://localhost:8080/"
        }
      },
      "source": [
        "# 변수\n",
        "\n",
        "school = '부산기계공고'  # 문자열 변수 선언 및 초기화\n",
        "print(school)  # 변수를 이용하여 print함수 사용\n",
        "\n",
        "a = 1024 # 변수의 이름은 사용자가 지정\n",
        "print(a)\n",
        "\n",
        "name = \"전기과\"\n",
        "print(name+' 화이팅!!!')     # 일반적인 출력\n",
        "print(f'{name} 화이팅!!!')   # f 포맷팅을 이용한 출력\n",
        "\n",
        "print(2020, f'{name} 화이팅!!!') # 다양한 출력형태"
      ],
      "execution_count": 10,
      "outputs": [
        {
          "output_type": "stream",
          "text": [
            "부산기계공고\n",
            "1024\n",
            "전기과 화이팅!!!\n",
            "전기과 화이팅!!!\n",
            "2020 전기과 화이팅!!!\n"
          ],
          "name": "stdout"
        }
      ]
    },
    {
      "cell_type": "code",
      "metadata": {
        "id": "tYW4Pyaui0EE",
        "outputId": "647fb26f-b188-4504-818b-424666a2dcdc",
        "colab": {
          "base_uri": "https://localhost:8080/"
        }
      },
      "source": [
        "# 입력 : input() 함수로 문자열 값 입력받기\n",
        "\n",
        "name = input()\n",
        "\n",
        "print(name+'님! 안녕하세요!')\n",
        "print(name, '님! 안녕하세요!')\n",
        "print(f'{name}님! 안녕하세요!')"
      ],
      "execution_count": 11,
      "outputs": [
        {
          "output_type": "stream",
          "text": [
            "부기공\n",
            "부기공님! 안녕하세요!\n",
            "부기공 님! 안녕하세요!\n",
            "부기공님! 안녕하세요!\n"
          ],
          "name": "stdout"
        }
      ]
    },
    {
      "cell_type": "code",
      "metadata": {
        "id": "Bi9Z7lVwkQ5n",
        "outputId": "d3a713e1-fc11-4280-b5f2-2426c3cc82f2",
        "colab": {
          "base_uri": "https://localhost:8080/"
        }
      },
      "source": [
        "# 입력 : 개선\n",
        "\n",
        "name = input('이름을 입력해주세요 : ')\n",
        "\n",
        "print(name+'님! 안녕하세요!')\n",
        "print(name, '님! 안녕하세요!')\n",
        "print(f'{name}님! 안녕하세요!')"
      ],
      "execution_count": 12,
      "outputs": [
        {
          "output_type": "stream",
          "text": [
            "이름을 입력해주세요 : 부기공\n",
            "부기공님! 안녕하세요!\n",
            "부기공 님! 안녕하세요!\n",
            "부기공님! 안녕하세요!\n"
          ],
          "name": "stdout"
        }
      ]
    },
    {
      "cell_type": "code",
      "metadata": {
        "id": "gEMrchWekjZp",
        "outputId": "1ff5e610-5966-49e0-e238-05392f272e64",
        "colab": {
          "base_uri": "https://localhost:8080/",
          "height": 230
        }
      },
      "source": [
        "# 입력 : 숫자 입력 경우\n",
        "\n",
        "age = input('나이를 입력해 주세요 : ')\n",
        "\n",
        "print(age-1) # 숫자 연산 후 출력 : 만 나이 계산 \n",
        "\n",
        "# 에러 발생 : input()함수로는 문자열만 받음.\n",
        "# unsupported operand type(s) for -: 'str' and 'int'"
      ],
      "execution_count": 14,
      "outputs": [
        {
          "output_type": "stream",
          "text": [
            "나이를 입력해 주세요 : 2020\n"
          ],
          "name": "stdout"
        },
        {
          "output_type": "error",
          "ename": "TypeError",
          "evalue": "ignored",
          "traceback": [
            "\u001b[0;31m---------------------------------------------------------------------------\u001b[0m",
            "\u001b[0;31mTypeError\u001b[0m                                 Traceback (most recent call last)",
            "\u001b[0;32m<ipython-input-14-3d669be4a21d>\u001b[0m in \u001b[0;36m<module>\u001b[0;34m()\u001b[0m\n\u001b[1;32m      3\u001b[0m \u001b[0mage\u001b[0m \u001b[0;34m=\u001b[0m \u001b[0minput\u001b[0m\u001b[0;34m(\u001b[0m\u001b[0;34m'나이를 입력해 주세요 : '\u001b[0m\u001b[0;34m)\u001b[0m\u001b[0;34m\u001b[0m\u001b[0;34m\u001b[0m\u001b[0m\n\u001b[1;32m      4\u001b[0m \u001b[0;34m\u001b[0m\u001b[0m\n\u001b[0;32m----> 5\u001b[0;31m \u001b[0mprint\u001b[0m\u001b[0;34m(\u001b[0m\u001b[0mage\u001b[0m\u001b[0;34m-\u001b[0m\u001b[0;36m1\u001b[0m\u001b[0;34m)\u001b[0m \u001b[0;31m# 숫자 연산 후 출력 : 만 나이 계산\u001b[0m\u001b[0;34m\u001b[0m\u001b[0;34m\u001b[0m\u001b[0m\n\u001b[0m",
            "\u001b[0;31mTypeError\u001b[0m: unsupported operand type(s) for -: 'str' and 'int'"
          ]
        }
      ]
    },
    {
      "cell_type": "code",
      "metadata": {
        "id": "pC3yg1n1k4w5",
        "outputId": "033189ec-d1a9-4737-9569-a0a888348152",
        "colab": {
          "base_uri": "https://localhost:8080/"
        }
      },
      "source": [
        "# 입력 : 숫자 입력 경우 - 해결책\n",
        "\n",
        "age = input('나이를 입력해 주세요 : ')\n",
        "\n",
        "print(int(age) -1) # 해결 : 입력받은 문자열 변수 age를 int 정수형으로 강제 형변환 후 처리"
      ],
      "execution_count": 15,
      "outputs": [
        {
          "output_type": "stream",
          "text": [
            "나이를 입력해 주세요 : 2020\n",
            "2019\n"
          ],
          "name": "stdout"
        }
      ]
    },
    {
      "cell_type": "code",
      "metadata": {
        "id": "EEhWg8jEldnS",
        "outputId": "ef08169c-dc36-47c7-9b31-112dbd874f10",
        "colab": {
          "base_uri": "https://localhost:8080/"
        }
      },
      "source": [
        "# 종합\n",
        "\n",
        "name = input('이름을 입력해 주세요 : ')\n",
        "age = int(input('나이를 입력해 주세요 : '))\n",
        "\n",
        "print(f'안녕하세요! {name} 님! 저는 처음에 {str(age-4)}살인 줄 알았어요!!')"
      ],
      "execution_count": 18,
      "outputs": [
        {
          "output_type": "stream",
          "text": [
            "이름을 입력해 주세요 : 홍길동\n",
            "나이를 입력해 주세요 : 30\n",
            "안녕하세요! 홍길동 님! 저는 처음에 26살인 줄 알았어요!!\n"
          ],
          "name": "stdout"
        }
      ]
    },
    {
      "cell_type": "markdown",
      "metadata": {
        "id": "VQ84t0ZbmUX6"
      },
      "source": [
        "## 2. 연산자 사용하기\n",
        "* +, -, **, = 등"
      ]
    },
    {
      "cell_type": "code",
      "metadata": {
        "id": "BQ82VAf9l6zz",
        "outputId": "3eaf76c1-35ac-4a70-c119-71cf8d708b9f",
        "colab": {
          "base_uri": "https://localhost:8080/"
        }
      },
      "source": [
        "# 산술 연산자\n",
        "\n",
        "print(10 * 2)   # * : 곱셈 연산자\n",
        "print(10 ** 2)  # ** : 거듭 제곱 연산자\n",
        "print(10 % 2)   # % : 나머지 연산자\n",
        "print(7 / 2)   # / : 실수 나눗셈\n",
        "print(7 // 2)  # // : 정수 나눗셈 (몫만 나옴)"
      ],
      "execution_count": 20,
      "outputs": [
        {
          "output_type": "stream",
          "text": [
            "20\n",
            "100\n",
            "0\n",
            "3.5\n",
            "3\n"
          ],
          "name": "stdout"
        }
      ]
    },
    {
      "cell_type": "code",
      "metadata": {
        "id": "aSz12eXOnIRP",
        "outputId": "7b0e6504-886f-488d-fc07-dad97423773d",
        "colab": {
          "base_uri": "https://localhost:8080/"
        }
      },
      "source": [
        "# 비교 연산자 (참:True, 거짓:False)\n",
        "\n",
        "print(10 >= 2)\n",
        "print(10 <= 2)\n",
        "print(10 == 2)   # == : 같다\n",
        "print(10 != 2)   # != : 같지 않다\n",
        "print(10 % 2 == 1)"
      ],
      "execution_count": 21,
      "outputs": [
        {
          "output_type": "stream",
          "text": [
            "True\n",
            "False\n",
            "False\n",
            "True\n",
            "False\n"
          ],
          "name": "stdout"
        }
      ]
    },
    {
      "cell_type": "code",
      "metadata": {
        "id": "_2Nl1se4nqnM",
        "outputId": "ff650110-aa67-40c1-94b9-6690f7617fd1",
        "colab": {
          "base_uri": "https://localhost:8080/"
        }
      },
      "source": [
        "# 논리 연산자 (참:True, 거짓:False)\n",
        "# and(둘 다 참일때 True), or(둘 중 하나만 참일 때 True), not(반전) 연산자\n",
        "\n",
        "# and 연산자\n",
        "print(1==1 and 2 != 1) # True and True => True\n",
        "print(10 % 2 != 0 and 1 + 1 > 0 ) # True and False => False\n",
        "print()\n",
        "\n",
        "# or 연산자\n",
        "print(10 < 5 or 10 == 5) # False or False => False\n",
        "print(10 % 2 != 0 or 1 + 1 > 0) # False or True => True\n",
        "print()\n",
        "\n",
        "# not 연산자\n",
        "print(not 10 > 5)   # not True => False\n",
        "print(not 10 == 5)  # not False => True\n",
        "print(not 0)        # 0은 False에 해당 : not False => True\n",
        "print(not 10)       # 0을 제외한 수는 True에 해당 : not True => False"
      ],
      "execution_count": 23,
      "outputs": [
        {
          "output_type": "stream",
          "text": [
            "True\n",
            "False\n",
            "\n",
            "False\n",
            "True\n",
            "\n",
            "False\n",
            "True\n",
            "True\n",
            "False\n"
          ],
          "name": "stdout"
        }
      ]
    },
    {
      "cell_type": "markdown",
      "metadata": {
        "id": "8PqMSAlopU0j"
      },
      "source": [
        "## 3. 함수 불러오기\n",
        "* 내장 함수\n",
        "* 내장 함수 외의 함수들을 불러올 때는 import 명령어 사용한다.\n",
        " * 사용 예 1 : import math\n",
        " * 사용 예 2 : import matplotlib.pyplot as plt ( 별칭 사용 )\n",
        " * 사용 예 3 : from math import sin ( 라이브러리 이름 제거할때 from사용)\n"
      ]
    },
    {
      "cell_type": "code",
      "metadata": {
        "id": "AgHz6GyspNRx",
        "outputId": "261f1658-5113-43e1-c7b7-c31dba8ff961",
        "colab": {
          "base_uri": "https://localhost:8080/"
        }
      },
      "source": [
        "# random 라이브러리 사용\n",
        "\n",
        "import random\n",
        "\n",
        "# randint() 함수는 입력되는 두 정수 사이의 숫자를 랜덤하게 생성하는 함수\n",
        "# random.randint(a, b) : a 이상 b 이하의 한 개의 정수 생성\n",
        "dice = random.randint(1, 6) \n",
        "\n",
        "print(dice)"
      ],
      "execution_count": 26,
      "outputs": [
        {
          "output_type": "stream",
          "text": [
            "6\n"
          ],
          "name": "stdout"
        }
      ]
    },
    {
      "cell_type": "code",
      "metadata": {
        "id": "X15zJKc4qX8b",
        "outputId": "02a6d458-68ad-4adf-fe81-ab4e426d1d74",
        "colab": {
          "base_uri": "https://localhost:8080/"
        }
      },
      "source": [
        "# math 라이브러리 사용\n",
        "\n",
        "import math\n",
        "\n",
        "print(math.sqrt(2)) # sqrt() 함수는 제곱근 계산"
      ],
      "execution_count": 27,
      "outputs": [
        {
          "output_type": "stream",
          "text": [
            "1.4142135623730951\n"
          ],
          "name": "stdout"
        }
      ]
    },
    {
      "cell_type": "markdown",
      "metadata": {
        "id": "o3Q9PxezvHLV"
      },
      "source": [
        "## 4. 반복과 선택"
      ]
    },
    {
      "cell_type": "markdown",
      "metadata": {
        "id": "6ZpNTV7grVV7"
      },
      "source": [
        "### 1) for 반복문\n",
        "```\n",
        "for A in B:       # 맨 뒤에 콜론 기호(:) 잊지 말기\n",
        "    반복할 문장1    # 들여쓰기(문단구분)가 되어 있음\n",
        "    ...\n",
        "    반복할 문장n    # 보통 공백 문자([space]키) 4개로 사용\n",
        "```\n",
        " * B는 데이터 세트를 의미\n",
        " * for 반복문은 주어진 데이터 세트를 순회하거나 원하는 횟수만큼 반복하고 싶을 때 사용\n",
        " * 즉, 데이터 세트에서 데이터를 하나씩 꺼내 와서 A에 임시로 저장"
      ]
    },
    {
      "cell_type": "code",
      "metadata": {
        "id": "XuBAIoAPrLgB",
        "outputId": "509557d6-c7ab-4281-fe95-eaf1e8330715",
        "colab": {
          "base_uri": "https://localhost:8080/"
        }
      },
      "source": [
        "# for 반복문 - 1\n",
        "\n",
        "name = '부산기계공고'\n",
        "\n",
        "for i in name:\n",
        "  print(i)\n",
        "\n",
        "print()\n",
        "\n",
        "for i in name:\n",
        "  print(i, end='')"
      ],
      "execution_count": 30,
      "outputs": [
        {
          "output_type": "stream",
          "text": [
            "부\n",
            "산\n",
            "기\n",
            "계\n",
            "공\n",
            "고\n",
            "\n",
            "부산기계공고"
          ],
          "name": "stdout"
        }
      ]
    },
    {
      "cell_type": "code",
      "metadata": {
        "id": "hrZgWZWCtB4k",
        "outputId": "78c2fe5f-014a-487f-8cf2-a1f7e770b934",
        "colab": {
          "base_uri": "https://localhost:8080/"
        }
      },
      "source": [
        "# for 반복문 - 2\n",
        "\n",
        "names = ['정밀', '폴리', '산설', '메카', '로봇', '전기']\n",
        "\n",
        "for name in names:\n",
        "  print(name)\n",
        "\n",
        "for name in names:\n",
        "  print(name, end=' ')"
      ],
      "execution_count": 32,
      "outputs": [
        {
          "output_type": "stream",
          "text": [
            "정밀\n",
            "폴리\n",
            "산설\n",
            "메카\n",
            "로봇\n",
            "전기\n",
            "정밀 폴리 산설 메카 로봇 전기 "
          ],
          "name": "stdout"
        }
      ]
    },
    {
      "cell_type": "code",
      "metadata": {
        "id": "t3vw6nHStmHA",
        "outputId": "e9b05929-1138-4e41-9d1a-741ad8eca35b",
        "colab": {
          "base_uri": "https://localhost:8080/"
        }
      },
      "source": [
        "# for 반복문 - 3\n",
        "\n",
        "for i in [0, 1, 2, 3]:\n",
        "  print(i ** 2)\n",
        "\n",
        "for i in [0, 1, 2, 3]:\n",
        "  print(i ** 2, end=' ')"
      ],
      "execution_count": 33,
      "outputs": [
        {
          "output_type": "stream",
          "text": [
            "0\n",
            "1\n",
            "4\n",
            "9\n",
            "0 1 4 9 "
          ],
          "name": "stdout"
        }
      ]
    },
    {
      "cell_type": "code",
      "metadata": {
        "id": "r2NHB2yYt-_D",
        "outputId": "2994fc81-5eaf-4dee-ad91-2586172b022e",
        "colab": {
          "base_uri": "https://localhost:8080/"
        }
      },
      "source": [
        "# for 반복문 - 4\n",
        "\n",
        "for i in range(10): # range(10) : 0 이상 10 미만의 범위를 갖는 정수 즉, 0~9까지 정수\n",
        "  print(i ** 2)\n",
        "\n",
        "for i in range(10):\n",
        "  print(i ** 2, end=' ')"
      ],
      "execution_count": 34,
      "outputs": [
        {
          "output_type": "stream",
          "text": [
            "0\n",
            "1\n",
            "4\n",
            "9\n",
            "16\n",
            "25\n",
            "36\n",
            "49\n",
            "64\n",
            "81\n",
            "0 1 4 9 16 25 36 49 64 81 "
          ],
          "name": "stdout"
        }
      ]
    },
    {
      "cell_type": "code",
      "metadata": {
        "id": "9XIw0v8buWad",
        "outputId": "7b672f5c-2c9e-43ac-aacb-66e1a67ae81d",
        "colab": {
          "base_uri": "https://localhost:8080/"
        }
      },
      "source": [
        "# for 반복문 - 5\n",
        "\n",
        "for i in range(1, 10): # range(1, 10) : 1 이상 10 미만의 범위를 갖는 정수 즉, 1~9까지 정수\n",
        "  print(i ** 2)\n",
        "\n",
        "for i in range(1, 10, 2): # range(1, 10, 2) : 1 이상 10 미만의 범위를 갖는 정수 중 2씩 간격을 두고 생성 즉, 1, 3, 5, 7, 9\n",
        "  print(i ** 2, end=' ')"
      ],
      "execution_count": 35,
      "outputs": [
        {
          "output_type": "stream",
          "text": [
            "1\n",
            "4\n",
            "9\n",
            "16\n",
            "25\n",
            "36\n",
            "49\n",
            "64\n",
            "81\n",
            "1 9 25 49 81 "
          ],
          "name": "stdout"
        }
      ]
    },
    {
      "cell_type": "markdown",
      "metadata": {
        "id": "4Tn-_W_hvP0q"
      },
      "source": [
        "### 2) if 조건문\n",
        "```\n",
        "if 조건:       # 맨 뒤에 콜론 기호(:) 잊지 말기\n",
        "    조건이 참일 경우 실행할 문장1    # 들여쓰기(문단구분)가 되어 있음\n",
        "    ...\n",
        "    조건이 참일 경우 실행할 문장n    # 보통 공백 문자([space]키) 4개로 사용\n",
        "```\n",
        " * if 조건문은 주어진 조건이 True(참)인 경우에만 명령을 선택적으로 실행하고 싶을 때 사용\n"
      ]
    },
    {
      "cell_type": "code",
      "metadata": {
        "id": "EnRNDI3su2oJ",
        "outputId": "f60ce10a-7d68-4872-9599-a09f7de1e6d9",
        "colab": {
          "base_uri": "https://localhost:8080/"
        }
      },
      "source": [
        "# 기본 예\n",
        "\n",
        "if 10 > 0:\n",
        "  print('안녕하세요')"
      ],
      "execution_count": 36,
      "outputs": [
        {
          "output_type": "stream",
          "text": [
            "안녕하세요\n"
          ],
          "name": "stdout"
        }
      ]
    },
    {
      "cell_type": "code",
      "metadata": {
        "id": "0zYnbaHLv-tn",
        "outputId": "c62fa2b9-d07d-4d7b-e9e4-ab6712d2e713",
        "colab": {
          "base_uri": "https://localhost:8080/"
        }
      },
      "source": [
        "if 10 != 0 and 5 % 2 == 1:\n",
        "  print('안녕하세요')"
      ],
      "execution_count": 37,
      "outputs": [
        {
          "output_type": "stream",
          "text": [
            "안녕하세요\n"
          ],
          "name": "stdout"
        }
      ]
    },
    {
      "cell_type": "code",
      "metadata": {
        "id": "vEB9IPFbwH9M",
        "outputId": "7499acfa-a062-429f-9592-44ad5ccffa3c",
        "colab": {
          "base_uri": "https://localhost:8080/"
        }
      },
      "source": [
        "# 비밀번호 확인\n",
        "\n",
        "passwd = int(input('비밀번호 4자리를 입력하세요 : '))\n",
        "\n",
        "if passwd == 2020:\n",
        "  print('비밀번호가 일치합니다.')"
      ],
      "execution_count": 38,
      "outputs": [
        {
          "output_type": "stream",
          "text": [
            "비밀번호 4자리를 입력하세요 : 2020\n",
            "비밀번호가 일치합니다.\n"
          ],
          "name": "stdout"
        }
      ]
    },
    {
      "cell_type": "code",
      "metadata": {
        "id": "w3ELVLegwYnQ",
        "outputId": "db4a3563-5a4c-46fc-d637-cd7052c5d1af",
        "colab": {
          "base_uri": "https://localhost:8080/"
        }
      },
      "source": [
        "# 비밀번호 해킹 프로그램 (for문과 if문의 융합)\n",
        "\n",
        "for i in range(1,10000):\n",
        "  if i == 2020:\n",
        "    print('비밀번호가 일치합니다.')\n",
        "    print(f'비밀번호는 {i}입니다.')"
      ],
      "execution_count": 40,
      "outputs": [
        {
          "output_type": "stream",
          "text": [
            "비밀번호가 일치합니다.\n",
            "비밀번호는 2020입니다.\n"
          ],
          "name": "stdout"
        }
      ]
    },
    {
      "cell_type": "code",
      "metadata": {
        "id": "nixYhTmUw--Q",
        "outputId": "15760bb1-74f1-4cf3-af98-044c893a48a1",
        "colab": {
          "base_uri": "https://localhost:8080/"
        }
      },
      "source": [
        "# else 문 추가\n",
        "\n",
        "passwd = int(input('비밀번호 4자리를 입력하세요 : '))\n",
        "\n",
        "if passwd == 2020:\n",
        "  print('비밀번호가 일치합니다.')\n",
        "else :\n",
        "  print('비밀번호가 일치하지 않습니다.')"
      ],
      "execution_count": 41,
      "outputs": [
        {
          "output_type": "stream",
          "text": [
            "비밀번호 4자리를 입력하세요 : 1234\n",
            "비밀번호가 일치하지 않습니다.\n"
          ],
          "name": "stdout"
        }
      ]
    },
    {
      "cell_type": "code",
      "metadata": {
        "id": "jKAqZDdYxQRh",
        "outputId": "f10e0d0c-9061-4bd4-d72a-62f377638906",
        "colab": {
          "base_uri": "https://localhost:8080/"
        }
      },
      "source": [
        "# 심리게임 프로그램\n",
        "\n",
        "print('[ 소름끼치도록 놀라운 심리테스트 ]')\n",
        "\n",
        "menu = input('당신이 좋아하는 음식을 입력해주세요 : ')\n",
        "\n",
        "if menu == '짜장면':\n",
        "  print(f'당신은 {menu}을 좋아하는 사람입니다.')\n",
        "elif menu == '아이스크림':\n",
        "  print(f'당신은 {menu}을 좋아하는 사람입니다.')\n",
        "elif menu == '사탕':\n",
        "  print(f'당신은 {menu}을 좋아하는 사람입니다.')\n",
        "else :\n",
        "  print(f'당신은 짜장면, 아이스크림, 사탕을 좋아하지 않는 사람입니다.')"
      ],
      "execution_count": 45,
      "outputs": [
        {
          "output_type": "stream",
          "text": [
            "[ 소름끼치도록 놀라운 심리테스트 ]\n",
            "당신이 좋아하는 음식을 입력해주세요 : 밥\n",
            "당신은 짜장면, 아이스크림, 사탕을 좋아하지 않는 사람입니다.\n"
          ],
          "name": "stdout"
        }
      ]
    },
    {
      "cell_type": "markdown",
      "metadata": {
        "id": "yBlNY5kIySXr"
      },
      "source": [
        "## 5. 순서 있는 저장 공간 리스트\n",
        "* 순서가 있는 데이터를 다룰 때, 리스트(List) 데이터 구조 사용"
      ]
    },
    {
      "cell_type": "code",
      "metadata": {
        "id": "8V4EJXQMyIfD",
        "outputId": "d436462d-a962-41a5-b5aa-9c166ab4b360",
        "colab": {
          "base_uri": "https://localhost:8080/"
        }
      },
      "source": [
        "# 리스트에 저장된 위치(index)로 값에 접근하기 : indexing\n",
        "\n",
        "names = ['정밀', '폴리', '산설', '메카', '로봇', '전기']\n",
        "\n",
        "for i in [0, 1, 2, 3, 4, 5]:\n",
        "  print(names[i], end=' ')\n",
        "\n",
        "print()\n",
        "\n",
        "for i in range(6):\n",
        "  print(names[i], end=' ')"
      ],
      "execution_count": 46,
      "outputs": [
        {
          "output_type": "stream",
          "text": [
            "정밀 폴리 산설 메카 로봇 전기 \n",
            "정밀 폴리 산설 메카 로봇 전기 "
          ],
          "name": "stdout"
        }
      ]
    },
    {
      "cell_type": "code",
      "metadata": {
        "id": "QSBR3BOezDDe",
        "outputId": "a669b2d8-3cbb-4b58-ed33-c464d9b01351",
        "colab": {
          "base_uri": "https://localhost:8080/"
        }
      },
      "source": [
        "# 리스트에 저장된 위치(index)로 값에 접근하기 : indexing(인덱싱)\n",
        "\n",
        "names = ['정밀', '폴리', '산설', '메카', '로봇', '전기']\n",
        "         # 0       1       2       3        4       5\n",
        "         # -6     -5      -4      -3       -2       -1\n",
        "\n",
        "print(names[0])   # 리스트 원소 중 제일 첫번째 요소\n",
        "print(names[-1])  # 리스트 원소 중 제일 마지막 요소(뒤에서 첫번째 요소)"
      ],
      "execution_count": 49,
      "outputs": [
        {
          "output_type": "stream",
          "text": [
            "정밀\n",
            "전기\n"
          ],
          "name": "stdout"
        }
      ]
    },
    {
      "cell_type": "code",
      "metadata": {
        "id": "83qFwF-UzUU5",
        "outputId": "bf88f0d3-6d34-47a6-f462-f28d6f2de737",
        "colab": {
          "base_uri": "https://localhost:8080/"
        }
      },
      "source": [
        "# 리스트에 저장된 위치로 데이터의 일부 자르기 : slicing(슬라이싱)\n",
        "\n",
        "names = ['정밀', '폴리', '산설', '메카', '로봇', '전기']\n",
        "\n",
        "print(names[0:2])\n",
        "print(names[1:3])\n",
        "print(names[1:])\n",
        "print(names[:])"
      ],
      "execution_count": 51,
      "outputs": [
        {
          "output_type": "stream",
          "text": [
            "['정밀', '폴리']\n",
            "['폴리', '산설']\n",
            "['폴리', '산설', '메카', '로봇', '전기']\n",
            "['정밀', '폴리', '산설', '메카', '로봇', '전기']\n"
          ],
          "name": "stdout"
        }
      ]
    },
    {
      "cell_type": "code",
      "metadata": {
        "id": "S0RU0TeUz-jY",
        "outputId": "3035a7cc-090d-408b-e52d-7a33e99ad16d",
        "colab": {
          "base_uri": "https://localhost:8080/"
        }
      },
      "source": [
        "# 리스트에 값 추가하기 : append() 함수 사용\n",
        "\n",
        "names = ['정밀', '폴리', '산설', '메카', '로봇', '전기']\n",
        "\n",
        "names.append('부기공')\n",
        "\n",
        "print(names)"
      ],
      "execution_count": 52,
      "outputs": [
        {
          "output_type": "stream",
          "text": [
            "['정밀', '폴리', '산설', '메카', '로봇', '전기', '부기공']\n"
          ],
          "name": "stdout"
        }
      ]
    },
    {
      "cell_type": "code",
      "metadata": {
        "id": "JKyRIfsk0Wch",
        "outputId": "44a4a90a-e865-444a-976b-f43af14d428b",
        "colab": {
          "base_uri": "https://localhost:8080/"
        }
      },
      "source": [
        "# 리스트 길이 구하기 : len() 함수 사용\n",
        "\n",
        "names = ['정밀', '폴리', '산설', '메카', '로봇', '전기']\n",
        "\n",
        "print(len(names))   # 리스트의 길이 출력하기\n",
        "print(len('문자열의 크기를 구해봅시다.')) # 문자열의 길이 출력하기"
      ],
      "execution_count": 55,
      "outputs": [
        {
          "output_type": "stream",
          "text": [
            "6\n",
            "15\n"
          ],
          "name": "stdout"
        }
      ]
    },
    {
      "cell_type": "code",
      "metadata": {
        "id": "3p38pIqo0vjy",
        "outputId": "3c4347f7-fbdd-437a-a9b6-2bd86b138389",
        "colab": {
          "base_uri": "https://localhost:8080/"
        }
      },
      "source": [
        "# 종합\n",
        "\n",
        "names = ['정밀', '폴리', '산설', '메카', '로봇', '전기']\n",
        "\n",
        "names.append('부산기계')\n",
        "\n",
        "for name in names:\n",
        "  if len(name) > 2:\n",
        "    print(f'{name}공업고등학교')"
      ],
      "execution_count": 56,
      "outputs": [
        {
          "output_type": "stream",
          "text": [
            "부산기계공업고등학교\n"
          ],
          "name": "stdout"
        }
      ]
    },
    {
      "cell_type": "code",
      "metadata": {
        "id": "jY_Ga1dH1M9w"
      },
      "source": [
        ""
      ],
      "execution_count": null,
      "outputs": []
    }
  ]
}