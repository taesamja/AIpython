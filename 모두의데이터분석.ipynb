{
  "nbformat": 4,
  "nbformat_minor": 0,
  "metadata": {
    "colab": {
      "name": "모두의데이터분석.ipynb",
      "provenance": [],
      "collapsed_sections": [
        "hN9ALHQRz2AF",
        "hrieJZpi_73R"
      ],
      "toc_visible": true,
      "mount_file_id": "1bZAJgvhNgklUXTBgmYOwsY6jXjmbSJqT",
      "authorship_tag": "ABX9TyNhVBgG6fq064ZAcqjZQrk2",
      "include_colab_link": true
    },
    "kernelspec": {
      "name": "python3",
      "display_name": "Python 3"
    }
  },
  "cells": [
    {
      "cell_type": "markdown",
      "metadata": {
        "id": "view-in-github",
        "colab_type": "text"
      },
      "source": [
        "<a href=\"https://colab.research.google.com/github/taesamja/AIpython/blob/master/%EB%AA%A8%EB%91%90%EC%9D%98%EB%8D%B0%EC%9D%B4%ED%84%B0%EB%B6%84%EC%84%9D.ipynb\" target=\"_parent\"><img src=\"https://colab.research.google.com/assets/colab-badge.svg\" alt=\"Open In Colab\"/></a>"
      ]
    },
    {
      "cell_type": "markdown",
      "metadata": {
        "id": "hN9ALHQRz2AF"
      },
      "source": [
        "# 1장. 기온 공공데이터\n",
        "## 1. [기상자료개방포털](https://data.kma.go.kr) : https://data.kma.go.kr\n",
        "\n"
      ]
    },
    {
      "cell_type": "markdown",
      "metadata": {
        "id": "AEmx37Ec3M2X"
      },
      "source": [
        "## 2. 부산의 기온 데이터 분석하기\n",
        "CSV 모듈 사용하기\n",
        "\n",
        "* csv.reader() : CSV 파일에서 데이터를 읽어오는 함수.\n",
        "* csv.writer() : CSV 파일에서 데이터를 저장하는 함수.\n",
        "\n"
      ]
    },
    {
      "cell_type": "markdown",
      "metadata": {
        "id": "B70hpkY64Syv"
      },
      "source": [
        "구글 드라이브에서 자료 가져오기\n",
        "```\n",
        "# 드라이브에 접근할 수 있도록 아래 코드 입력\n",
        "Colab의 왼쪽 파일모양 아이콘을 열어 드라이브 마운트 아이콘을 클릭하여 마운트 한다.\n",
        "예)\n",
        "# 불러올 파일의 경로를 filename 변수에 저장\n",
        "filename = '/content/drive/My Drive/디렉토리명/파일명'\n",
        "```"
      ]
    },
    {
      "cell_type": "code",
      "metadata": {
        "id": "D5OvjdSlLoAD"
      },
      "source": [
        "filename = '/content/drive/My Drive/DATA/busan.csv'"
      ],
      "execution_count": null,
      "outputs": []
    },
    {
      "cell_type": "code",
      "metadata": {
        "id": "eBRbsazQ7VSM",
        "outputId": "0ba49b0d-4402-4675-d9a8-a1e4292b1050",
        "colab": {
          "base_uri": "https://localhost:8080/"
        }
      },
      "source": [
        "filename = '/content/drive/My Drive/DATA/busan.csv'\n",
        "\n",
        "import csv\n",
        "f = open(filename, 'r', encoding='cp949')\n",
        "data = csv.reader(f, delimiter=',')\n",
        "print(data)\n",
        "f.close()"
      ],
      "execution_count": null,
      "outputs": [
        {
          "output_type": "stream",
          "text": [
            "<_csv.reader object at 0x7fc535dcb198>\n"
          ],
          "name": "stdout"
        }
      ]
    },
    {
      "cell_type": "markdown",
      "metadata": {
        "id": "CoGoiDOaLbvq"
      },
      "source": [
        "1. csv 파일에서 데이터 읽어오기"
      ]
    },
    {
      "cell_type": "code",
      "metadata": {
        "id": "G0BqAyD4I6AK"
      },
      "source": [
        "filename = '/content/drive/My Drive/DATA/busan.csv'\n",
        "\n",
        "import csv\n",
        "f = open(filename, 'r', encoding='cp949') # 윈도우 한글 인코딩 방식\n",
        "data = csv.reader(f, delimiter=',') # 콤마를 기준으로 데이터 읽기, 콤마는 생략가능(기본옵션)\n",
        "print(data)\n",
        "f.close()"
      ],
      "execution_count": null,
      "outputs": []
    },
    {
      "cell_type": "markdown",
      "metadata": {
        "id": "fkcXecdPLSLI"
      },
      "source": [
        "2. 데이터 출력하기"
      ]
    },
    {
      "cell_type": "code",
      "metadata": {
        "id": "r_XS2EnzLVUv"
      },
      "source": [
        "filename = '/content/drive/My Drive/DATA/busan.csv'\n",
        "\n",
        "import csv\n",
        "f = open(filename, 'r', encoding='cp949') # 윈도우 한글 인코딩 방식\n",
        "data = csv.reader(f, delimiter=',') # 콤마를 기준으로 데이터 읽기, 콤마는 생략가능(기본옵션)\n",
        "for row in data :\n",
        "  print(row)\n",
        "f.close()"
      ],
      "execution_count": null,
      "outputs": []
    },
    {
      "cell_type": "markdown",
      "metadata": {
        "id": "4OBtNEAhMoa9"
      },
      "source": [
        "3. 헤더 저장하기"
      ]
    },
    {
      "cell_type": "code",
      "metadata": {
        "id": "MyviJnvvLzbP",
        "outputId": "b0bb9f59-d1e7-4fab-9d1c-975fd7d26d91",
        "colab": {
          "base_uri": "https://localhost:8080/"
        }
      },
      "source": [
        "filename = '/content/drive/My Drive/DATA/busan.csv'\n",
        "\n",
        "import csv\n",
        "f = open(filename, 'r', encoding='cp949') # 윈도우 한글 인코딩 방식\n",
        "data = csv.reader(f)\n",
        "\n",
        "header = next(data)\n",
        "print(header)\n",
        "\n",
        "f.close()"
      ],
      "execution_count": null,
      "outputs": [
        {
          "output_type": "stream",
          "text": [
            "['날짜', '지점', '평균기온(℃)', '최저기온(℃)', '최고기온(℃)']\n"
          ],
          "name": "stdout"
        }
      ]
    },
    {
      "cell_type": "code",
      "metadata": {
        "id": "IfeSGeBHN4X4"
      },
      "source": [
        "filename = '/content/drive/My Drive/DATA/busan.csv'\n",
        "\n",
        "import csv\n",
        "f = open(filename, 'r', encoding='cp949') # 윈도우 한글 인코딩 방식\n",
        "data = csv.reader(f)\n",
        "\n",
        "header = next(data)\n",
        "for row in data:\n",
        "  print(row)\n",
        "\n",
        "f.close()"
      ],
      "execution_count": null,
      "outputs": []
    },
    {
      "cell_type": "markdown",
      "metadata": {
        "id": "t0NKiURKOF9I"
      },
      "source": [
        "4. 기온 공공데이터에 질문하기\n",
        "* 데이터 분석은 내가 관심있는 데이터에 대한 호기심에서 출발한다.\n",
        "* 나와 직접적으로 관련이 있는 매력적인 데이터를 살펴보면 궁금증이 생긴다.\n",
        "\n",
        "*부산이 가장 더웠던 날은 언제였을가? 얼마나 더웠을까?*\n",
        "\n",
        "*일교차가 가장 큰 시기는 1년 중 언제쯤일까?*\n",
        "\n",
        "*겨울에는 언제 가장 추울까? 1월2월?*\n",
        "\n",
        "*가장 덥다고 알려진 대구보다 부산이 더 더운 날이 1년 중 얼마나 있을까?*"
      ]
    },
    {
      "cell_type": "markdown",
      "metadata": {
        "id": "MoqzV87TQH6J"
      },
      "source": [
        "## 3. 부산이 가장 더웠던 날은 언제였을까?"
      ]
    },
    {
      "cell_type": "markdown",
      "metadata": {
        "id": "8mpiEYm5QPj-"
      },
      "source": [
        "1. 질문 다듬기\n",
        "*부산이 가장 더웠던 날은 언제였을까?*\n",
        "\n",
        "*얼마나 더웠을까?*\n",
        "\n",
        "*기상 관측 이래, 서울의 최고 기온이 가장 높았던 날은 언제였고, 몇 도였을까?*"
      ]
    },
    {
      "cell_type": "markdown",
      "metadata": {
        "id": "ixLczYU-QpfN"
      },
      "source": [
        "2. 문제 해결 방법 구상하기\n",
        "\n",
        "* 1) 데이터를 읽어온다.\n",
        "* 2) 순차적으로 최고 기온을 확인한다.\n",
        "* 3) 최고 기온이 가장 높았던 날짜의 데이터를 저장한다.\n",
        "* 4) 최종 저장된 데이터를 출력한다.\n",
        "\n"
      ]
    },
    {
      "cell_type": "markdown",
      "metadata": {
        "id": "MkSulGAYRagq"
      },
      "source": [
        "3. 파이썬 코드로 구현하기"
      ]
    },
    {
      "cell_type": "code",
      "metadata": {
        "id": "5cq9mQKGO4dj"
      },
      "source": [
        "# 1). 데이터를 읽어온다.\n",
        "\n",
        "filename = '/content/drive/My Drive/DATA/busan.csv'\n",
        "\n",
        "import csv\n",
        "f = open(filename, 'r', encoding='cp949') # 윈도우 한글 인코딩 방식\n",
        "data = csv.reader(f)\n",
        "\n",
        "header = next(data)\n",
        "for row in data:\n",
        "  print(row)\n",
        "\n",
        "f.close()"
      ],
      "execution_count": null,
      "outputs": []
    },
    {
      "cell_type": "code",
      "metadata": {
        "id": "7ujQF45cRjM8",
        "outputId": "d75789c1-5b94-4e4c-f40c-fc60d87d5de3",
        "colab": {
          "base_uri": "https://localhost:8080/",
          "height": 416
        }
      },
      "source": [
        "# 2). 순차적으로 최고 기온을 확인한다.\n",
        "\n",
        "filename = '/content/drive/My Drive/DATA/busan.csv'\n",
        "\n",
        "import csv\n",
        "f = open(filename, 'r', encoding='cp949') # 윈도우 한글 인코딩 방식\n",
        "data = csv.reader(f)\n",
        "\n",
        "header = next(data)\n",
        "for row in data:\n",
        "  row[-1] = float(row[-1]) # 마지막 항목(row[-1])인 최고 기온을 실수로 변환\n",
        "  print(row)\n",
        "\n",
        "f.close()"
      ],
      "execution_count": null,
      "outputs": [
        {
          "output_type": "stream",
          "text": [
            "['1904-04-09', '159', '11.3', '7.8', 16.1]\n",
            "['1904-04-10', '159', '9.3', '4.7', 15.2]\n",
            "['1904-04-11', '159', '10.6', '', 14.9]\n",
            "['1904-04-12', '159', '11.3', '8.8', 13.4]\n",
            "['1904-04-13', '159', '14.5', '11.1', 16.9]\n",
            "['1904-04-14', '159', '9.4', '8.6', 16.0]\n",
            "['1904-04-15', '159', '8.8', '7.4', 10.5]\n",
            "['1904-04-16', '159', '9.2', '6.7', 11.3]\n",
            "['1904-04-17', '159', '10.3', '', 12.6]\n"
          ],
          "name": "stdout"
        },
        {
          "output_type": "error",
          "ename": "ValueError",
          "evalue": "ignored",
          "traceback": [
            "\u001b[0;31m---------------------------------------------------------------------------\u001b[0m",
            "\u001b[0;31mValueError\u001b[0m                                Traceback (most recent call last)",
            "\u001b[0;32m<ipython-input-22-d747552bb8a0>\u001b[0m in \u001b[0;36m<module>\u001b[0;34m()\u001b[0m\n\u001b[1;32m      9\u001b[0m \u001b[0mheader\u001b[0m \u001b[0;34m=\u001b[0m \u001b[0mnext\u001b[0m\u001b[0;34m(\u001b[0m\u001b[0mdata\u001b[0m\u001b[0;34m)\u001b[0m\u001b[0;34m\u001b[0m\u001b[0;34m\u001b[0m\u001b[0m\n\u001b[1;32m     10\u001b[0m \u001b[0;32mfor\u001b[0m \u001b[0mrow\u001b[0m \u001b[0;32min\u001b[0m \u001b[0mdata\u001b[0m\u001b[0;34m:\u001b[0m\u001b[0;34m\u001b[0m\u001b[0;34m\u001b[0m\u001b[0m\n\u001b[0;32m---> 11\u001b[0;31m   \u001b[0mrow\u001b[0m\u001b[0;34m[\u001b[0m\u001b[0;34m-\u001b[0m\u001b[0;36m1\u001b[0m\u001b[0;34m]\u001b[0m \u001b[0;34m=\u001b[0m \u001b[0mfloat\u001b[0m\u001b[0;34m(\u001b[0m\u001b[0mrow\u001b[0m\u001b[0;34m[\u001b[0m\u001b[0;34m-\u001b[0m\u001b[0;36m1\u001b[0m\u001b[0;34m]\u001b[0m\u001b[0;34m)\u001b[0m \u001b[0;31m# 마지막 항목(row[-1])인 최고 기온을 실수로 변환\u001b[0m\u001b[0;34m\u001b[0m\u001b[0;34m\u001b[0m\u001b[0m\n\u001b[0m\u001b[1;32m     12\u001b[0m   \u001b[0mprint\u001b[0m\u001b[0;34m(\u001b[0m\u001b[0mrow\u001b[0m\u001b[0;34m)\u001b[0m\u001b[0;34m\u001b[0m\u001b[0;34m\u001b[0m\u001b[0m\n\u001b[1;32m     13\u001b[0m \u001b[0;34m\u001b[0m\u001b[0m\n",
            "\u001b[0;31mValueError\u001b[0m: could not convert string to float: "
          ]
        }
      ]
    },
    {
      "cell_type": "code",
      "metadata": {
        "id": "B78p01_-R-Sj"
      },
      "source": [
        "# 에러 해결 - 빈 데이터로 인한 에러 if문을 이용하여 해결.\n",
        "\n",
        "filename = '/content/drive/My Drive/DATA/busan.csv'\n",
        "\n",
        "import csv\n",
        "f = open(filename, 'r', encoding='cp949') # 윈도우 한글 인코딩 방식\n",
        "data = csv.reader(f)\n",
        "\n",
        "header = next(data)\n",
        "for row in data:\n",
        "  if row[-1] == '':\n",
        "    row[-1] = -999    # -999를 넣어 빈 문자열이 있던 자리라고 표시\n",
        "  row[-1] = float(row[-1])\n",
        "  print(row)\n",
        "\n",
        "f.close()"
      ],
      "execution_count": null,
      "outputs": []
    },
    {
      "cell_type": "code",
      "metadata": {
        "id": "vKoQKS6aSbd3",
        "outputId": "ec0db9ec-5383-4933-83a7-df7c2f79be0c",
        "colab": {
          "base_uri": "https://localhost:8080/"
        }
      },
      "source": [
        "# 3). 최고 기온이 가장 높았던 날짜의 데이터를 저장한다.\n",
        "# 4). 최종 저장된 데이터를 출력한다.\n",
        "# 부산의 기온이 가장 높았던 날의 날짜와 기온 구하기\n",
        "\n",
        "filename = '/content/drive/My Drive/DATA/busan.csv'\n",
        "\n",
        "import csv\n",
        "f = open(filename, 'r', encoding='cp949') # 윈도우 한글 인코딩 방식\n",
        "data = csv.reader(f)\n",
        "\n",
        "header = next(data)\n",
        "max_temp = -999\n",
        "max_date = ''\n",
        "\n",
        "for row in data:\n",
        "  if row[-1] == '':\n",
        "    row[-1] = -999\n",
        "  row[-1] = float(row[-1])\n",
        "\n",
        "  if max_temp < row[-1]:\n",
        "    max_date = row[0]\n",
        "    max_temp = row[-1]\n",
        "  \n",
        "f.close()\n",
        "# f-포맷팅 사용하여 출력하는 예 : f'{변수명1} 적어넣고 {변수명2} 하면된다.'\n",
        "print( f'기상 관측 이래 부산의 최고 기온이 가장 높았던 날은 {max_date}로, {max_temp}도 였습니다.')"
      ],
      "execution_count": null,
      "outputs": [
        {
          "output_type": "stream",
          "text": [
            "기상 관측 이래 부산의 최고 기온이 가장 높았던 날은 2016-08-14로, 37.3도 였습니다.\n"
          ],
          "name": "stdout"
        }
      ]
    },
    {
      "cell_type": "code",
      "metadata": {
        "id": "B-OmY2laUVPn",
        "outputId": "e01577d4-5ca2-4bc0-bf29-ccebf3f3feee",
        "colab": {
          "base_uri": "https://localhost:8080/"
        }
      },
      "source": [
        "# 부산의 기온이 가장 낮았던 날의 날짜와 기온 구하기\n",
        "\n",
        "filename = '/content/drive/My Drive/DATA/busan.csv'\n",
        "\n",
        "import csv\n",
        "f = open(filename, 'r', encoding='cp949') # 윈도우 한글 인코딩 방식\n",
        "data = csv.reader(f)\n",
        "\n",
        "header = next(data)\n",
        "min_temp = 999   # 낮았던 날의 온도 임시 값\n",
        "min_date = ''\n",
        "\n",
        "for row in data:\n",
        "  if row[-2] == '':  # row[-2] 낮은 온도 값\n",
        "    row[-2] = 999    # 임시값\n",
        "  row[-2] = float(row[-2])\n",
        "\n",
        "  if min_temp > row[-2]:  # 낮은 온도 값 비교\n",
        "    min_date = row[0]\n",
        "    min_temp = row[-2]\n",
        "  \n",
        "f.close()\n",
        "# f-포맷팅 사용하여 출력하는 예 : f'{변수명1} 적어넣고 {변수명2} 하면된다.'\n",
        "print( f'기상 관측 이래 부산의 최고 기온이 가장 낮았던 날은 {min_date}로, {min_temp}도 였습니다.')"
      ],
      "execution_count": null,
      "outputs": [
        {
          "output_type": "stream",
          "text": [
            "기상 관측 이래 부산의 최고 기온이 가장 낮았던 날은 1915-01-13로, -14.0도 였습니다.\n"
          ],
          "name": "stdout"
        }
      ]
    },
    {
      "cell_type": "code",
      "metadata": {
        "id": "S8tXbfa-_AWu"
      },
      "source": [
        ""
      ],
      "execution_count": null,
      "outputs": []
    },
    {
      "cell_type": "markdown",
      "metadata": {
        "id": "hrieJZpi_73R"
      },
      "source": [
        "# 2장. 데이터 시각화 기초"
      ]
    },
    {
      "cell_type": "markdown",
      "metadata": {
        "id": "h3l1c0tZAD53"
      },
      "source": [
        "## 1. 기본 그래프 그리기"
      ]
    },
    {
      "cell_type": "markdown",
      "metadata": {
        "id": "eR9yPjpLAVWZ"
      },
      "source": [
        "1. matplotlib 라이브러리란?"
      ]
    },
    {
      "cell_type": "code",
      "metadata": {
        "id": "Kt6wLeAxAcCh"
      },
      "source": [
        "import matplotlib.pyplot"
      ],
      "execution_count": null,
      "outputs": []
    },
    {
      "cell_type": "markdown",
      "metadata": {
        "id": "W1vq_dmaAjB6"
      },
      "source": [
        "2. 기본 그래프 그리기"
      ]
    },
    {
      "cell_type": "code",
      "metadata": {
        "id": "44GMb3wnAhYN",
        "outputId": "b5fb35a0-0348-44c2-f8f1-aab2fa96c1c1",
        "colab": {
          "base_uri": "https://localhost:8080/"
        }
      },
      "source": [
        "import matplotlib.pyplot as plt\n",
        "plt.plot([10,20,30,40])   # y축 값만 리스트 형태로 존재, x축 값은 자동 할당(0-3)\n",
        "plt.show()"
      ],
      "execution_count": null,
      "outputs": [
        {
          "output_type": "display_data",
          "data": {
            "image/png": "[encoded data removed]",
            "text/plain": [
              "<Figure size 432x288 with 1 Axes>"
            ]
          },
          "metadata": {
            "tags": []
          }
        }
      ]
    },
    {
      "cell_type": "code",
      "metadata": {
        "id": "5dtWtWqBAzp-",
        "outputId": "7424f5b8-5b98-4742-9f10-fb6effa263fb",
        "colab": {
          "base_uri": "https://localhost:8080/"
        }
      },
      "source": [
        "import matplotlib.pyplot as plt\n",
        "plt.plot([1,2,3,4], [12, 43, 25, 15]) # x축 데이터 값, y축 데이터 값 리스트 형태로 존재\n",
        "plt.show()"
      ],
      "execution_count": null,
      "outputs": [
        {
          "output_type": "display_data",
          "data": {
            "image/png": "[encoded data removed]",
            "text/plain": [
              "<Figure size 432x288 with 1 Axes>"
            ]
          },
          "metadata": {
            "tags": []
          }
        }
      ]
    },
    {
      "cell_type": "code",
      "metadata": {
        "id": "PZBvQQIrBTaf"
      },
      "source": [
        "# plot()함수에 데이터 입력하기\n",
        "# show()함수는 그래프 보여주기\n",
        "# % matplotlib inline : 별도의 창이 아니라 노트북 화면 안에서 그래프를 보고 싶을 때 코드 맨 위에 코드 입력\n",
        "# 참고 Colab에서는 자동으로 노트북 화면 안에 보여줌."
      ],
      "execution_count": null,
      "outputs": []
    },
    {
      "cell_type": "markdown",
      "metadata": {
        "id": "1ZnKvUKvB9c2"
      },
      "source": [
        "3. 그래프에 옵션 추가하기"
      ]
    },
    {
      "cell_type": "code",
      "metadata": {
        "id": "ntRvdcWjNCzm",
        "outputId": "24457362-888a-49a0-95ae-df02f5f6810c",
        "colab": {
          "base_uri": "https://localhost:8080/"
        }
      },
      "source": [
        "# Colab에서 한글 사용\n",
        "# 참고사이트 : https://teddylee777.github.io/colab/colab-korean\n",
        "!sudo apt-get install -y fonts-nanum\n",
        "!sudo fc-cache -fv\n",
        "!rm ~/.cache/matplotlib -rf\n",
        "# 설치 이후 런타임-런타임 다시 시작을 클릭하여 런타임을 재시작합니다."
      ],
      "execution_count": null,
      "outputs": [
        {
          "output_type": "stream",
          "text": [
            "Reading package lists... Done\n",
            "Building dependency tree       \n",
            "Reading state information... Done\n",
            "The following NEW packages will be installed:\n",
            "  fonts-nanum\n",
            "0 upgraded, 1 newly installed, 0 to remove and 11 not upgraded.\n",
            "Need to get 9,604 kB of archives.\n",
            "After this operation, 29.5 MB of additional disk space will be used.\n",
            "Get:1 http://archive.ubuntu.com/ubuntu bionic/universe amd64 fonts-nanum all 20170925-1 [9,604 kB]\n",
            "2% [1 fonts-nanum 249 kB/9,604 kB 3%]^C\n",
            "/usr/share/fonts: caching, new cache contents: 0 fonts, 1 dirs\n",
            "/usr/share/fonts/truetype: caching, new cache contents: 0 fonts, 2 dirs\n",
            "/usr/share/fonts/truetype/humor-sans: caching, new cache contents: 1 fonts, 0 dirs\n",
            "/usr/share/fonts/truetype/liberation: caching, new cache contents: 16 fonts, 0 dirs\n",
            "/usr/local/share/fonts: caching, new cache contents: 0 fonts, 0 dirs\n",
            "/root/.local/share/fonts: skipping, no such directory\n",
            "/root/.fonts: skipping, no such directory\n",
            "/var/cache/fontconfig: cleaning cache directory\n",
            "/root/.cache/fontconfig: not cleaning non-existent cache directory\n",
            "/root/.fontconfig: not cleaning non-existent cache directory\n",
            "^C\n"
          ],
          "name": "stdout"
        }
      ]
    },
    {
      "cell_type": "code",
      "metadata": {
        "id": "Iar6BVolCCDK"
      },
      "source": [
        "import matplotlib.pyplot as plt\n",
        "plt.rc('font', family=\"NanumBarunGothic\")    # 한글 글꼴 사용\n",
        "plt.rcParams['axes.unicode_minus'] = False   # 수치상의 -기호 표시하기"
      ],
      "execution_count": null,
      "outputs": []
    },
    {
      "cell_type": "code",
      "metadata": {
        "id": "kVPoCNfyOMQc",
        "outputId": "c030d567-a2f8-45d9-abc3-8f089014125f",
        "colab": {
          "base_uri": "https://localhost:8080/"
        }
      },
      "source": [
        "# 그래프에 제목 넣기\n",
        "\n",
        "import matplotlib.pyplot as plt\n",
        "\n",
        "plt.title('플로팅') # 그래프에 제목 쓰기\n",
        "\n",
        "plt.plot([10,20,30,40])  # 그래프에 데이터 입력\n",
        "\n",
        "plt.show() # 그래프 보여주기"
      ],
      "execution_count": null,
      "outputs": [
        {
          "output_type": "stream",
          "text": [
            "findfont: Font family ['NanumBarunGothic'] not found. Falling back to DejaVu Sans.\n",
            "/usr/local/lib/python3.6/dist-packages/matplotlib/backends/backend_agg.py:214: RuntimeWarning: Glyph 54540 missing from current font.\n",
            "  font.set_text(s, 0.0, flags=flags)\n",
            "/usr/local/lib/python3.6/dist-packages/matplotlib/backends/backend_agg.py:214: RuntimeWarning: Glyph 47196 missing from current font.\n",
            "  font.set_text(s, 0.0, flags=flags)\n",
            "/usr/local/lib/python3.6/dist-packages/matplotlib/backends/backend_agg.py:214: RuntimeWarning: Glyph 54021 missing from current font.\n",
            "  font.set_text(s, 0.0, flags=flags)\n",
            "/usr/local/lib/python3.6/dist-packages/matplotlib/backends/backend_agg.py:183: RuntimeWarning: Glyph 54540 missing from current font.\n",
            "  font.set_text(s, 0, flags=flags)\n",
            "/usr/local/lib/python3.6/dist-packages/matplotlib/backends/backend_agg.py:183: RuntimeWarning: Glyph 47196 missing from current font.\n",
            "  font.set_text(s, 0, flags=flags)\n",
            "/usr/local/lib/python3.6/dist-packages/matplotlib/backends/backend_agg.py:183: RuntimeWarning: Glyph 54021 missing from current font.\n",
            "  font.set_text(s, 0, flags=flags)\n"
          ],
          "name": "stderr"
        },
        {
          "output_type": "display_data",
          "data": {
            "image/png": "[encoded data removed]",
            "text/plain": [
              "<Figure size 432x288 with 1 Axes>"
            ]
          },
          "metadata": {
            "tags": []
          }
        }
      ]
    },
    {
      "cell_type": "code",
      "metadata": {
        "id": "MLxDGWV7Lp4N",
        "outputId": "168f272f-82a5-4cc8-875f-c7bd06ce7db5",
        "colab": {
          "base_uri": "https://localhost:8080/"
        }
      },
      "source": [
        "# 그래프에 범례 넣기\n",
        "\n",
        "import matplotlib.pyplot as plt\n",
        "\n",
        "plt.title('범례 넣기')\n",
        "\n",
        "plt.plot([10,20,30,40], label=\"증가\")\n",
        "plt.plot([40,30,20,10], label=\"감소\")\n",
        "\n",
        "plt.legend() # 범례 표시 함수\n",
        "\n",
        "plt.show() # 그래프 보여주기"
      ],
      "execution_count": null,
      "outputs": [
        {
          "output_type": "stream",
          "text": [
            "/usr/local/lib/python3.6/dist-packages/matplotlib/backends/backend_agg.py:214: RuntimeWarning: Glyph 48276 missing from current font.\n",
            "  font.set_text(s, 0.0, flags=flags)\n",
            "/usr/local/lib/python3.6/dist-packages/matplotlib/backends/backend_agg.py:214: RuntimeWarning: Glyph 47168 missing from current font.\n",
            "  font.set_text(s, 0.0, flags=flags)\n",
            "/usr/local/lib/python3.6/dist-packages/matplotlib/backends/backend_agg.py:214: RuntimeWarning: Glyph 45347 missing from current font.\n",
            "  font.set_text(s, 0.0, flags=flags)\n",
            "/usr/local/lib/python3.6/dist-packages/matplotlib/backends/backend_agg.py:214: RuntimeWarning: Glyph 44592 missing from current font.\n",
            "  font.set_text(s, 0.0, flags=flags)\n",
            "/usr/local/lib/python3.6/dist-packages/matplotlib/backends/backend_agg.py:214: RuntimeWarning: Glyph 51613 missing from current font.\n",
            "  font.set_text(s, 0.0, flags=flags)\n",
            "/usr/local/lib/python3.6/dist-packages/matplotlib/backends/backend_agg.py:214: RuntimeWarning: Glyph 44032 missing from current font.\n",
            "  font.set_text(s, 0.0, flags=flags)\n",
            "/usr/local/lib/python3.6/dist-packages/matplotlib/backends/backend_agg.py:214: RuntimeWarning: Glyph 44048 missing from current font.\n",
            "  font.set_text(s, 0.0, flags=flags)\n",
            "/usr/local/lib/python3.6/dist-packages/matplotlib/backends/backend_agg.py:214: RuntimeWarning: Glyph 49548 missing from current font.\n",
            "  font.set_text(s, 0.0, flags=flags)\n",
            "/usr/local/lib/python3.6/dist-packages/matplotlib/backends/backend_agg.py:183: RuntimeWarning: Glyph 48276 missing from current font.\n",
            "  font.set_text(s, 0, flags=flags)\n",
            "/usr/local/lib/python3.6/dist-packages/matplotlib/backends/backend_agg.py:183: RuntimeWarning: Glyph 47168 missing from current font.\n",
            "  font.set_text(s, 0, flags=flags)\n",
            "/usr/local/lib/python3.6/dist-packages/matplotlib/backends/backend_agg.py:183: RuntimeWarning: Glyph 45347 missing from current font.\n",
            "  font.set_text(s, 0, flags=flags)\n",
            "/usr/local/lib/python3.6/dist-packages/matplotlib/backends/backend_agg.py:183: RuntimeWarning: Glyph 44592 missing from current font.\n",
            "  font.set_text(s, 0, flags=flags)\n",
            "/usr/local/lib/python3.6/dist-packages/matplotlib/backends/backend_agg.py:183: RuntimeWarning: Glyph 51613 missing from current font.\n",
            "  font.set_text(s, 0, flags=flags)\n",
            "/usr/local/lib/python3.6/dist-packages/matplotlib/backends/backend_agg.py:183: RuntimeWarning: Glyph 44032 missing from current font.\n",
            "  font.set_text(s, 0, flags=flags)\n",
            "/usr/local/lib/python3.6/dist-packages/matplotlib/backends/backend_agg.py:183: RuntimeWarning: Glyph 44048 missing from current font.\n",
            "  font.set_text(s, 0, flags=flags)\n",
            "/usr/local/lib/python3.6/dist-packages/matplotlib/backends/backend_agg.py:183: RuntimeWarning: Glyph 49548 missing from current font.\n",
            "  font.set_text(s, 0, flags=flags)\n"
          ],
          "name": "stderr"
        },
        {
          "output_type": "display_data",
          "data": {
            "image/png": "[encoded data removed]",
            "text/plain": [
              "<Figure size 432x288 with 1 Axes>"
            ]
          },
          "metadata": {
            "tags": []
          }
        }
      ]
    },
    {
      "cell_type": "code",
      "metadata": {
        "id": "wpuYlO2AP93k",
        "outputId": "7e2af921-1b8c-4144-a8c1-04788db9069f",
        "colab": {
          "base_uri": "https://localhost:8080/"
        }
      },
      "source": [
        "# 그래프에 색상 바꾸기\n",
        "\n",
        "import matplotlib.pyplot as plt\n",
        "\n",
        "plt.title('색상 바꾸기')\n",
        "\n",
        "plt.plot([10,20,30,40],  color='skyblue', label=\"증가\")\n",
        "plt.plot([40,30,20,10],  'pink',          label=\"감소\")\n",
        "\n",
        "plt.legend() # 범례 표시 함수\n",
        "\n",
        "plt.show() # 그래프 보여주기"
      ],
      "execution_count": null,
      "outputs": [
        {
          "output_type": "stream",
          "text": [
            "/usr/local/lib/python3.6/dist-packages/matplotlib/backends/backend_agg.py:214: RuntimeWarning: Glyph 49353 missing from current font.\n",
            "  font.set_text(s, 0.0, flags=flags)\n",
            "/usr/local/lib/python3.6/dist-packages/matplotlib/backends/backend_agg.py:214: RuntimeWarning: Glyph 49345 missing from current font.\n",
            "  font.set_text(s, 0.0, flags=flags)\n",
            "/usr/local/lib/python3.6/dist-packages/matplotlib/backends/backend_agg.py:214: RuntimeWarning: Glyph 48148 missing from current font.\n",
            "  font.set_text(s, 0.0, flags=flags)\n",
            "/usr/local/lib/python3.6/dist-packages/matplotlib/backends/backend_agg.py:214: RuntimeWarning: Glyph 44984 missing from current font.\n",
            "  font.set_text(s, 0.0, flags=flags)\n",
            "/usr/local/lib/python3.6/dist-packages/matplotlib/backends/backend_agg.py:214: RuntimeWarning: Glyph 44592 missing from current font.\n",
            "  font.set_text(s, 0.0, flags=flags)\n",
            "/usr/local/lib/python3.6/dist-packages/matplotlib/backends/backend_agg.py:214: RuntimeWarning: Glyph 51613 missing from current font.\n",
            "  font.set_text(s, 0.0, flags=flags)\n",
            "/usr/local/lib/python3.6/dist-packages/matplotlib/backends/backend_agg.py:214: RuntimeWarning: Glyph 44032 missing from current font.\n",
            "  font.set_text(s, 0.0, flags=flags)\n",
            "/usr/local/lib/python3.6/dist-packages/matplotlib/backends/backend_agg.py:214: RuntimeWarning: Glyph 44048 missing from current font.\n",
            "  font.set_text(s, 0.0, flags=flags)\n",
            "/usr/local/lib/python3.6/dist-packages/matplotlib/backends/backend_agg.py:214: RuntimeWarning: Glyph 49548 missing from current font.\n",
            "  font.set_text(s, 0.0, flags=flags)\n",
            "/usr/local/lib/python3.6/dist-packages/matplotlib/backends/backend_agg.py:183: RuntimeWarning: Glyph 49353 missing from current font.\n",
            "  font.set_text(s, 0, flags=flags)\n",
            "/usr/local/lib/python3.6/dist-packages/matplotlib/backends/backend_agg.py:183: RuntimeWarning: Glyph 49345 missing from current font.\n",
            "  font.set_text(s, 0, flags=flags)\n",
            "/usr/local/lib/python3.6/dist-packages/matplotlib/backends/backend_agg.py:183: RuntimeWarning: Glyph 48148 missing from current font.\n",
            "  font.set_text(s, 0, flags=flags)\n",
            "/usr/local/lib/python3.6/dist-packages/matplotlib/backends/backend_agg.py:183: RuntimeWarning: Glyph 44984 missing from current font.\n",
            "  font.set_text(s, 0, flags=flags)\n",
            "/usr/local/lib/python3.6/dist-packages/matplotlib/backends/backend_agg.py:183: RuntimeWarning: Glyph 44592 missing from current font.\n",
            "  font.set_text(s, 0, flags=flags)\n",
            "/usr/local/lib/python3.6/dist-packages/matplotlib/backends/backend_agg.py:183: RuntimeWarning: Glyph 51613 missing from current font.\n",
            "  font.set_text(s, 0, flags=flags)\n",
            "/usr/local/lib/python3.6/dist-packages/matplotlib/backends/backend_agg.py:183: RuntimeWarning: Glyph 44032 missing from current font.\n",
            "  font.set_text(s, 0, flags=flags)\n",
            "/usr/local/lib/python3.6/dist-packages/matplotlib/backends/backend_agg.py:183: RuntimeWarning: Glyph 44048 missing from current font.\n",
            "  font.set_text(s, 0, flags=flags)\n",
            "/usr/local/lib/python3.6/dist-packages/matplotlib/backends/backend_agg.py:183: RuntimeWarning: Glyph 49548 missing from current font.\n",
            "  font.set_text(s, 0, flags=flags)\n"
          ],
          "name": "stderr"
        },
        {
          "output_type": "display_data",
          "data": {
            "image/png": "[encoded data removed]",
            "text/plain": [
              "<Figure size 432x288 with 1 Axes>"
            ]
          },
          "metadata": {
            "tags": []
          }
        }
      ]
    },
    {
      "cell_type": "code",
      "metadata": {
        "id": "e8jcNco1QX61",
        "outputId": "de295a43-e36c-44be-98c2-e148bd5bfbd6",
        "colab": {
          "base_uri": "https://localhost:8080/"
        }
      },
      "source": [
        "# 그래프 선 모양 바꾸기\n",
        "\n",
        "import matplotlib.pyplot as plt\n",
        "\n",
        "plt.title('선 스타일')\n",
        "\n",
        "plt.plot([10,20,30,40],  color='r', linestyle='--', label=\"dashed\")\n",
        "plt.plot([40,30,20,10],  color='g', ls=':',          label=\"dotted\")\n",
        "\n",
        "plt.legend() # 범례 표시 함수\n",
        "\n",
        "plt.show() # 그래프 보여주기"
      ],
      "execution_count": null,
      "outputs": [
        {
          "output_type": "stream",
          "text": [
            "/usr/local/lib/python3.6/dist-packages/matplotlib/backends/backend_agg.py:214: RuntimeWarning: Glyph 49440 missing from current font.\n",
            "  font.set_text(s, 0.0, flags=flags)\n",
            "/usr/local/lib/python3.6/dist-packages/matplotlib/backends/backend_agg.py:214: RuntimeWarning: Glyph 49828 missing from current font.\n",
            "  font.set_text(s, 0.0, flags=flags)\n",
            "/usr/local/lib/python3.6/dist-packages/matplotlib/backends/backend_agg.py:214: RuntimeWarning: Glyph 53440 missing from current font.\n",
            "  font.set_text(s, 0.0, flags=flags)\n",
            "/usr/local/lib/python3.6/dist-packages/matplotlib/backends/backend_agg.py:214: RuntimeWarning: Glyph 51068 missing from current font.\n",
            "  font.set_text(s, 0.0, flags=flags)\n",
            "/usr/local/lib/python3.6/dist-packages/matplotlib/backends/backend_agg.py:183: RuntimeWarning: Glyph 49440 missing from current font.\n",
            "  font.set_text(s, 0, flags=flags)\n",
            "/usr/local/lib/python3.6/dist-packages/matplotlib/backends/backend_agg.py:183: RuntimeWarning: Glyph 49828 missing from current font.\n",
            "  font.set_text(s, 0, flags=flags)\n",
            "/usr/local/lib/python3.6/dist-packages/matplotlib/backends/backend_agg.py:183: RuntimeWarning: Glyph 53440 missing from current font.\n",
            "  font.set_text(s, 0, flags=flags)\n",
            "/usr/local/lib/python3.6/dist-packages/matplotlib/backends/backend_agg.py:183: RuntimeWarning: Glyph 51068 missing from current font.\n",
            "  font.set_text(s, 0, flags=flags)\n"
          ],
          "name": "stderr"
        },
        {
          "output_type": "display_data",
          "data": {
            "image/png": "[encoded data removed]",
            "text/plain": [
              "<Figure size 432x288 with 1 Axes>"
            ]
          },
          "metadata": {
            "tags": []
          }
        }
      ]
    },
    {
      "cell_type": "code",
      "metadata": {
        "id": "GB0_0VmSQsSS",
        "outputId": "bb922bfc-5c69-4a94-fdb4-6911a095abb3",
        "colab": {
          "base_uri": "https://localhost:8080/"
        }
      },
      "source": [
        "# 그래프 마커 모양 바꾸기\n",
        "\n",
        "import matplotlib.pyplot as plt\n",
        "\n",
        "plt.title('마커 모양 변경')\n",
        "\n",
        "plt.plot([10,20,30,40],  'r.', label=\"원(.)\")\n",
        "plt.plot([40,30,20,10],  'g^', label=\"삼각형(^)\")\n",
        "\n",
        "plt.legend() # 범례 표시 함수\n",
        "\n",
        "plt.show() # 그래프 보여주기"
      ],
      "execution_count": null,
      "outputs": [
        {
          "output_type": "stream",
          "text": [
            "/usr/local/lib/python3.6/dist-packages/matplotlib/backends/backend_agg.py:214: RuntimeWarning: Glyph 47560 missing from current font.\n",
            "  font.set_text(s, 0.0, flags=flags)\n",
            "/usr/local/lib/python3.6/dist-packages/matplotlib/backends/backend_agg.py:214: RuntimeWarning: Glyph 52964 missing from current font.\n",
            "  font.set_text(s, 0.0, flags=flags)\n",
            "/usr/local/lib/python3.6/dist-packages/matplotlib/backends/backend_agg.py:214: RuntimeWarning: Glyph 47784 missing from current font.\n",
            "  font.set_text(s, 0.0, flags=flags)\n",
            "/usr/local/lib/python3.6/dist-packages/matplotlib/backends/backend_agg.py:214: RuntimeWarning: Glyph 50577 missing from current font.\n",
            "  font.set_text(s, 0.0, flags=flags)\n",
            "/usr/local/lib/python3.6/dist-packages/matplotlib/backends/backend_agg.py:214: RuntimeWarning: Glyph 48320 missing from current font.\n",
            "  font.set_text(s, 0.0, flags=flags)\n",
            "/usr/local/lib/python3.6/dist-packages/matplotlib/backends/backend_agg.py:214: RuntimeWarning: Glyph 44221 missing from current font.\n",
            "  font.set_text(s, 0.0, flags=flags)\n",
            "/usr/local/lib/python3.6/dist-packages/matplotlib/backends/backend_agg.py:214: RuntimeWarning: Glyph 50896 missing from current font.\n",
            "  font.set_text(s, 0.0, flags=flags)\n",
            "/usr/local/lib/python3.6/dist-packages/matplotlib/backends/backend_agg.py:214: RuntimeWarning: Glyph 49340 missing from current font.\n",
            "  font.set_text(s, 0.0, flags=flags)\n",
            "/usr/local/lib/python3.6/dist-packages/matplotlib/backends/backend_agg.py:214: RuntimeWarning: Glyph 44033 missing from current font.\n",
            "  font.set_text(s, 0.0, flags=flags)\n",
            "/usr/local/lib/python3.6/dist-packages/matplotlib/backends/backend_agg.py:214: RuntimeWarning: Glyph 54805 missing from current font.\n",
            "  font.set_text(s, 0.0, flags=flags)\n",
            "/usr/local/lib/python3.6/dist-packages/matplotlib/backends/backend_agg.py:183: RuntimeWarning: Glyph 47560 missing from current font.\n",
            "  font.set_text(s, 0, flags=flags)\n",
            "/usr/local/lib/python3.6/dist-packages/matplotlib/backends/backend_agg.py:183: RuntimeWarning: Glyph 52964 missing from current font.\n",
            "  font.set_text(s, 0, flags=flags)\n",
            "/usr/local/lib/python3.6/dist-packages/matplotlib/backends/backend_agg.py:183: RuntimeWarning: Glyph 47784 missing from current font.\n",
            "  font.set_text(s, 0, flags=flags)\n",
            "/usr/local/lib/python3.6/dist-packages/matplotlib/backends/backend_agg.py:183: RuntimeWarning: Glyph 50577 missing from current font.\n",
            "  font.set_text(s, 0, flags=flags)\n",
            "/usr/local/lib/python3.6/dist-packages/matplotlib/backends/backend_agg.py:183: RuntimeWarning: Glyph 48320 missing from current font.\n",
            "  font.set_text(s, 0, flags=flags)\n",
            "/usr/local/lib/python3.6/dist-packages/matplotlib/backends/backend_agg.py:183: RuntimeWarning: Glyph 44221 missing from current font.\n",
            "  font.set_text(s, 0, flags=flags)\n",
            "/usr/local/lib/python3.6/dist-packages/matplotlib/backends/backend_agg.py:183: RuntimeWarning: Glyph 50896 missing from current font.\n",
            "  font.set_text(s, 0, flags=flags)\n",
            "/usr/local/lib/python3.6/dist-packages/matplotlib/backends/backend_agg.py:183: RuntimeWarning: Glyph 49340 missing from current font.\n",
            "  font.set_text(s, 0, flags=flags)\n",
            "/usr/local/lib/python3.6/dist-packages/matplotlib/backends/backend_agg.py:183: RuntimeWarning: Glyph 44033 missing from current font.\n",
            "  font.set_text(s, 0, flags=flags)\n",
            "/usr/local/lib/python3.6/dist-packages/matplotlib/backends/backend_agg.py:183: RuntimeWarning: Glyph 54805 missing from current font.\n",
            "  font.set_text(s, 0, flags=flags)\n"
          ],
          "name": "stderr"
        },
        {
          "output_type": "display_data",
          "data": {
            "image/png": "[encoded data removed]",
            "text/plain": [
              "<Figure size 432x288 with 1 Axes>"
            ]
          },
          "metadata": {
            "tags": []
          }
        }
      ]
    },
    {
      "cell_type": "markdown",
      "metadata": {
        "id": "uv4xQE-jjikn"
      },
      "source": [
        "## 2. 내 생일의 기온 변화를 그래프로 그리기"
      ]
    },
    {
      "cell_type": "markdown",
      "metadata": {
        "id": "rq3kLqLnjpMz"
      },
      "source": [
        "1. 데이터에 질문하기\n",
        "* 생일은 언제인가요?\n",
        "* 그날 날씨는 어땠나요?\n",
        "* 기록적인 한파가 있었나요? / 시원한 바람이 불었나요?\n",
        "* 태어난 날부터 지금까지 매년 생일의 최고 기온을 그래프로 그린다면 어떤 모양일까요?"
      ]
    },
    {
      "cell_type": "code",
      "metadata": {
        "id": "8AFXDA9WRhM1"
      },
      "source": [
        "# 최고 기온의 데이터 읽어오기\n",
        "\n",
        "filename = '/content/drive/My Drive/DATA/busan.csv'\n",
        "\n",
        "import csv\n",
        "f = open(filename, 'r', encoding='cp949') # 윈도우 한글 인코딩 방식\n",
        "data = csv.reader(f)\n",
        "\n",
        "# 데이터의 맨 윗줄에 있는 헤더 부분을 next()함수를 사용해 제외시킨 후 최고 기온만 출력\n",
        "next(data)\n",
        "\n",
        "for row in data:\n",
        "  print(row[-1])\n",
        "  \n",
        "f.close()"
      ],
      "execution_count": null,
      "outputs": []
    },
    {
      "cell_type": "code",
      "metadata": {
        "id": "2BwklOyIk7YM",
        "outputId": "a958baf6-837f-4d9b-fbf4-61b31affe24e",
        "colab": {
          "base_uri": "https://localhost:8080/"
        }
      },
      "source": [
        "# 데이터 리스트에 저장하기\n",
        "\n",
        "filename = '/content/drive/My Drive/DATA/busan.csv'\n",
        "\n",
        "import csv\n",
        "f = open(filename, 'r', encoding='cp949') # 윈도우 한글 인코딩 방식\n",
        "data = csv.reader(f)\n",
        "\n",
        "# 데이터의 맨 윗줄에 있는 헤더 부분을 next()함수를 사용해 제외시킨 후 최고 기온만 출력\n",
        "next(data)\n",
        "\n",
        "result = []  # 최고 기온 데이터를 저장할 리스트 생성\n",
        "\n",
        "for row in data:\n",
        "  if row[-1] != '': # 최고 기온 데이터 값이 존재하다면(최고 기온 데이터 값이 없는 것이 아니라면)\n",
        "    result.append(float(row[-1]))  # result 리스트 변수에 최고 기온 값 추가\n",
        "\n",
        "#print(result)\n",
        "print(f'result 리스트의 갯수는 {len(result)} 이다.')  # 데이터의 갯수 확인 : len(result)\n",
        "  \n",
        "f.close()"
      ],
      "execution_count": null,
      "outputs": [
        {
          "output_type": "stream",
          "text": [
            "result 리스트의 갯수는 42569 이다.\n"
          ],
          "name": "stdout"
        }
      ]
    },
    {
      "cell_type": "markdown",
      "metadata": {
        "id": "fn64OeSXmbrB"
      },
      "source": [
        "2. 데이터 시각화 하기"
      ]
    },
    {
      "cell_type": "code",
      "metadata": {
        "id": "dJ9KDBSgle88",
        "outputId": "56d1617f-6a06-4c4d-de11-c6a2ff5b6a15",
        "colab": {
          "base_uri": "https://localhost:8080/",
          "height": 403
        }
      },
      "source": [
        "filename = '/content/drive/My Drive/DATA/busan.csv'\n",
        "\n",
        "import matplotlib.pyplot as plt\n",
        "import csv\n",
        "f = open(filename, 'r', encoding='cp949') \n",
        "data = csv.reader(f)\n",
        "\n",
        "next(data)\n",
        "\n",
        "result = []  # 최고 기온 데이터를 저장할 리스트 생성\n",
        "\n",
        "for row in data:\n",
        "  if row[-1] != '': # 최고 기온 데이터 값이 존재하다면\n",
        "    result.append(float(row[-1]))  # result 리스트 변수에 최고 기온 값 추가\n",
        "\n",
        "f.close()\n",
        "\n",
        "plt.plot(result, 'r') # result 리스트에 저장된 값을 빨간색 그래프에 데이터 저장\n",
        "plt.show() # 그래프 그리기"
      ],
      "execution_count": null,
      "outputs": [
        {
          "output_type": "error",
          "ename": "KeyboardInterrupt",
          "evalue": "ignored",
          "traceback": [
            "\u001b[0;31m---------------------------------------------------------------------------\u001b[0m",
            "\u001b[0;31mKeyboardInterrupt\u001b[0m                         Traceback (most recent call last)",
            "\u001b[0;32m<ipython-input-33-9dc4a716244a>\u001b[0m in \u001b[0;36m<module>\u001b[0;34m()\u001b[0m\n\u001b[1;32m     17\u001b[0m \u001b[0;34m\u001b[0m\u001b[0m\n\u001b[1;32m     18\u001b[0m \u001b[0mplt\u001b[0m\u001b[0;34m.\u001b[0m\u001b[0mplot\u001b[0m\u001b[0;34m(\u001b[0m\u001b[0mresult\u001b[0m\u001b[0;34m,\u001b[0m \u001b[0;34m'r'\u001b[0m\u001b[0;34m)\u001b[0m \u001b[0;31m# result 리스트에 저장된 값을 빨간색 그래프에 데이터 저장\u001b[0m\u001b[0;34m\u001b[0m\u001b[0;34m\u001b[0m\u001b[0m\n\u001b[0;32m---> 19\u001b[0;31m \u001b[0mplt\u001b[0m\u001b[0;34m.\u001b[0m\u001b[0mshow\u001b[0m\u001b[0;34m(\u001b[0m\u001b[0;34m)\u001b[0m \u001b[0;31m# 그래프 그리기\u001b[0m\u001b[0;34m\u001b[0m\u001b[0;34m\u001b[0m\u001b[0m\n\u001b[0m",
            "\u001b[0;32m/usr/local/lib/python3.6/dist-packages/matplotlib/pyplot.py\u001b[0m in \u001b[0;36mshow\u001b[0;34m(*args, **kw)\u001b[0m\n\u001b[1;32m    270\u001b[0m     \"\"\"\n\u001b[1;32m    271\u001b[0m     \u001b[0;32mglobal\u001b[0m \u001b[0m_show\u001b[0m\u001b[0;34m\u001b[0m\u001b[0;34m\u001b[0m\u001b[0m\n\u001b[0;32m--> 272\u001b[0;31m     \u001b[0;32mreturn\u001b[0m \u001b[0m_show\u001b[0m\u001b[0;34m(\u001b[0m\u001b[0;34m*\u001b[0m\u001b[0margs\u001b[0m\u001b[0;34m,\u001b[0m \u001b[0;34m**\u001b[0m\u001b[0mkw\u001b[0m\u001b[0;34m)\u001b[0m\u001b[0;34m\u001b[0m\u001b[0;34m\u001b[0m\u001b[0m\n\u001b[0m\u001b[1;32m    273\u001b[0m \u001b[0;34m\u001b[0m\u001b[0m\n\u001b[1;32m    274\u001b[0m \u001b[0;34m\u001b[0m\u001b[0m\n",
            "\u001b[0;32m/usr/local/lib/python3.6/dist-packages/ipykernel/pylab/backend_inline.py\u001b[0m in \u001b[0;36mshow\u001b[0;34m(close, block)\u001b[0m\n\u001b[1;32m     37\u001b[0m             display(\n\u001b[1;32m     38\u001b[0m                 \u001b[0mfigure_manager\u001b[0m\u001b[0;34m.\u001b[0m\u001b[0mcanvas\u001b[0m\u001b[0;34m.\u001b[0m\u001b[0mfigure\u001b[0m\u001b[0;34m,\u001b[0m\u001b[0;34m\u001b[0m\u001b[0;34m\u001b[0m\u001b[0m\n\u001b[0;32m---> 39\u001b[0;31m                 \u001b[0mmetadata\u001b[0m\u001b[0;34m=\u001b[0m\u001b[0m_fetch_figure_metadata\u001b[0m\u001b[0;34m(\u001b[0m\u001b[0mfigure_manager\u001b[0m\u001b[0;34m.\u001b[0m\u001b[0mcanvas\u001b[0m\u001b[0;34m.\u001b[0m\u001b[0mfigure\u001b[0m\u001b[0;34m)\u001b[0m\u001b[0;34m\u001b[0m\u001b[0;34m\u001b[0m\u001b[0m\n\u001b[0m\u001b[1;32m     40\u001b[0m             )\n\u001b[1;32m     41\u001b[0m     \u001b[0;32mfinally\u001b[0m\u001b[0;34m:\u001b[0m\u001b[0;34m\u001b[0m\u001b[0;34m\u001b[0m\u001b[0m\n",
            "\u001b[0;32m/usr/local/lib/python3.6/dist-packages/IPython/core/display.py\u001b[0m in \u001b[0;36mdisplay\u001b[0;34m(*objs, **kwargs)\u001b[0m\n\u001b[1;32m    304\u001b[0m             \u001b[0mpublish_display_data\u001b[0m\u001b[0;34m(\u001b[0m\u001b[0mdata\u001b[0m\u001b[0;34m=\u001b[0m\u001b[0mobj\u001b[0m\u001b[0;34m,\u001b[0m \u001b[0mmetadata\u001b[0m\u001b[0;34m=\u001b[0m\u001b[0mmetadata\u001b[0m\u001b[0;34m,\u001b[0m \u001b[0;34m**\u001b[0m\u001b[0mkwargs\u001b[0m\u001b[0;34m)\u001b[0m\u001b[0;34m\u001b[0m\u001b[0;34m\u001b[0m\u001b[0m\n\u001b[1;32m    305\u001b[0m         \u001b[0;32melse\u001b[0m\u001b[0;34m:\u001b[0m\u001b[0;34m\u001b[0m\u001b[0;34m\u001b[0m\u001b[0m\n\u001b[0;32m--> 306\u001b[0;31m             \u001b[0mformat_dict\u001b[0m\u001b[0;34m,\u001b[0m \u001b[0mmd_dict\u001b[0m \u001b[0;34m=\u001b[0m \u001b[0mformat\u001b[0m\u001b[0;34m(\u001b[0m\u001b[0mobj\u001b[0m\u001b[0;34m,\u001b[0m \u001b[0minclude\u001b[0m\u001b[0;34m=\u001b[0m\u001b[0minclude\u001b[0m\u001b[0;34m,\u001b[0m \u001b[0mexclude\u001b[0m\u001b[0;34m=\u001b[0m\u001b[0mexclude\u001b[0m\u001b[0;34m)\u001b[0m\u001b[0;34m\u001b[0m\u001b[0;34m\u001b[0m\u001b[0m\n\u001b[0m\u001b[1;32m    307\u001b[0m             \u001b[0;32mif\u001b[0m \u001b[0;32mnot\u001b[0m \u001b[0mformat_dict\u001b[0m\u001b[0;34m:\u001b[0m\u001b[0;34m\u001b[0m\u001b[0;34m\u001b[0m\u001b[0m\n\u001b[1;32m    308\u001b[0m                 \u001b[0;31m# nothing to display (e.g. _ipython_display_ took over)\u001b[0m\u001b[0;34m\u001b[0m\u001b[0;34m\u001b[0m\u001b[0;34m\u001b[0m\u001b[0m\n",
            "\u001b[0;32m/usr/local/lib/python3.6/dist-packages/IPython/core/formatters.py\u001b[0m in \u001b[0;36mformat\u001b[0;34m(self, obj, include, exclude)\u001b[0m\n\u001b[1;32m    171\u001b[0m             \u001b[0mmd\u001b[0m \u001b[0;34m=\u001b[0m \u001b[0;32mNone\u001b[0m\u001b[0;34m\u001b[0m\u001b[0;34m\u001b[0m\u001b[0m\n\u001b[1;32m    172\u001b[0m             \u001b[0;32mtry\u001b[0m\u001b[0;34m:\u001b[0m\u001b[0;34m\u001b[0m\u001b[0;34m\u001b[0m\u001b[0m\n\u001b[0;32m--> 173\u001b[0;31m                 \u001b[0mdata\u001b[0m \u001b[0;34m=\u001b[0m \u001b[0mformatter\u001b[0m\u001b[0;34m(\u001b[0m\u001b[0mobj\u001b[0m\u001b[0;34m)\u001b[0m\u001b[0;34m\u001b[0m\u001b[0;34m\u001b[0m\u001b[0m\n\u001b[0m\u001b[1;32m    174\u001b[0m             \u001b[0;32mexcept\u001b[0m\u001b[0;34m:\u001b[0m\u001b[0;34m\u001b[0m\u001b[0;34m\u001b[0m\u001b[0m\n\u001b[1;32m    175\u001b[0m                 \u001b[0;31m# FIXME: log the exception\u001b[0m\u001b[0;34m\u001b[0m\u001b[0;34m\u001b[0m\u001b[0;34m\u001b[0m\u001b[0m\n",
            "\u001b[0;32m<decorator-gen-9>\u001b[0m in \u001b[0;36m__call__\u001b[0;34m(self, obj)\u001b[0m\n",
            "\u001b[0;32m/usr/local/lib/python3.6/dist-packages/IPython/core/formatters.py\u001b[0m in \u001b[0;36mcatch_format_error\u001b[0;34m(method, self, *args, **kwargs)\u001b[0m\n\u001b[1;32m    215\u001b[0m     \u001b[0;34m\"\"\"show traceback on failed format call\"\"\"\u001b[0m\u001b[0;34m\u001b[0m\u001b[0;34m\u001b[0m\u001b[0m\n\u001b[1;32m    216\u001b[0m     \u001b[0;32mtry\u001b[0m\u001b[0;34m:\u001b[0m\u001b[0;34m\u001b[0m\u001b[0;34m\u001b[0m\u001b[0m\n\u001b[0;32m--> 217\u001b[0;31m         \u001b[0mr\u001b[0m \u001b[0;34m=\u001b[0m \u001b[0mmethod\u001b[0m\u001b[0;34m(\u001b[0m\u001b[0mself\u001b[0m\u001b[0;34m,\u001b[0m \u001b[0;34m*\u001b[0m\u001b[0margs\u001b[0m\u001b[0;34m,\u001b[0m \u001b[0;34m**\u001b[0m\u001b[0mkwargs\u001b[0m\u001b[0;34m)\u001b[0m\u001b[0;34m\u001b[0m\u001b[0;34m\u001b[0m\u001b[0m\n\u001b[0m\u001b[1;32m    218\u001b[0m     \u001b[0;32mexcept\u001b[0m \u001b[0mNotImplementedError\u001b[0m\u001b[0;34m:\u001b[0m\u001b[0;34m\u001b[0m\u001b[0;34m\u001b[0m\u001b[0m\n\u001b[1;32m    219\u001b[0m         \u001b[0;31m# don't warn on NotImplementedErrors\u001b[0m\u001b[0;34m\u001b[0m\u001b[0;34m\u001b[0m\u001b[0;34m\u001b[0m\u001b[0m\n",
            "\u001b[0;32m/usr/local/lib/python3.6/dist-packages/IPython/core/formatters.py\u001b[0m in \u001b[0;36m__call__\u001b[0;34m(self, obj)\u001b[0m\n\u001b[1;32m    332\u001b[0m                 \u001b[0;32mpass\u001b[0m\u001b[0;34m\u001b[0m\u001b[0;34m\u001b[0m\u001b[0m\n\u001b[1;32m    333\u001b[0m             \u001b[0;32melse\u001b[0m\u001b[0;34m:\u001b[0m\u001b[0;34m\u001b[0m\u001b[0;34m\u001b[0m\u001b[0m\n\u001b[0;32m--> 334\u001b[0;31m                 \u001b[0;32mreturn\u001b[0m \u001b[0mprinter\u001b[0m\u001b[0;34m(\u001b[0m\u001b[0mobj\u001b[0m\u001b[0;34m)\u001b[0m\u001b[0;34m\u001b[0m\u001b[0;34m\u001b[0m\u001b[0m\n\u001b[0m\u001b[1;32m    335\u001b[0m             \u001b[0;31m# Finally look for special method names\u001b[0m\u001b[0;34m\u001b[0m\u001b[0;34m\u001b[0m\u001b[0;34m\u001b[0m\u001b[0m\n\u001b[1;32m    336\u001b[0m             \u001b[0mmethod\u001b[0m \u001b[0;34m=\u001b[0m \u001b[0mget_real_method\u001b[0m\u001b[0;34m(\u001b[0m\u001b[0mobj\u001b[0m\u001b[0;34m,\u001b[0m \u001b[0mself\u001b[0m\u001b[0;34m.\u001b[0m\u001b[0mprint_method\u001b[0m\u001b[0;34m)\u001b[0m\u001b[0;34m\u001b[0m\u001b[0;34m\u001b[0m\u001b[0m\n",
            "\u001b[0;32m/usr/local/lib/python3.6/dist-packages/IPython/core/pylabtools.py\u001b[0m in \u001b[0;36m<lambda>\u001b[0;34m(fig)\u001b[0m\n\u001b[1;32m    239\u001b[0m \u001b[0;34m\u001b[0m\u001b[0m\n\u001b[1;32m    240\u001b[0m     \u001b[0;32mif\u001b[0m \u001b[0;34m'png'\u001b[0m \u001b[0;32min\u001b[0m \u001b[0mformats\u001b[0m\u001b[0;34m:\u001b[0m\u001b[0;34m\u001b[0m\u001b[0;34m\u001b[0m\u001b[0m\n\u001b[0;32m--> 241\u001b[0;31m         \u001b[0mpng_formatter\u001b[0m\u001b[0;34m.\u001b[0m\u001b[0mfor_type\u001b[0m\u001b[0;34m(\u001b[0m\u001b[0mFigure\u001b[0m\u001b[0;34m,\u001b[0m \u001b[0;32mlambda\u001b[0m \u001b[0mfig\u001b[0m\u001b[0;34m:\u001b[0m \u001b[0mprint_figure\u001b[0m\u001b[0;34m(\u001b[0m\u001b[0mfig\u001b[0m\u001b[0;34m,\u001b[0m \u001b[0;34m'png'\u001b[0m\u001b[0;34m,\u001b[0m \u001b[0;34m**\u001b[0m\u001b[0mkwargs\u001b[0m\u001b[0;34m)\u001b[0m\u001b[0;34m)\u001b[0m\u001b[0;34m\u001b[0m\u001b[0;34m\u001b[0m\u001b[0m\n\u001b[0m\u001b[1;32m    242\u001b[0m     \u001b[0;32mif\u001b[0m \u001b[0;34m'retina'\u001b[0m \u001b[0;32min\u001b[0m \u001b[0mformats\u001b[0m \u001b[0;32mor\u001b[0m \u001b[0;34m'png2x'\u001b[0m \u001b[0;32min\u001b[0m \u001b[0mformats\u001b[0m\u001b[0;34m:\u001b[0m\u001b[0;34m\u001b[0m\u001b[0;34m\u001b[0m\u001b[0m\n\u001b[1;32m    243\u001b[0m         \u001b[0mpng_formatter\u001b[0m\u001b[0;34m.\u001b[0m\u001b[0mfor_type\u001b[0m\u001b[0;34m(\u001b[0m\u001b[0mFigure\u001b[0m\u001b[0;34m,\u001b[0m \u001b[0;32mlambda\u001b[0m \u001b[0mfig\u001b[0m\u001b[0;34m:\u001b[0m \u001b[0mretina_figure\u001b[0m\u001b[0;34m(\u001b[0m\u001b[0mfig\u001b[0m\u001b[0;34m,\u001b[0m \u001b[0;34m**\u001b[0m\u001b[0mkwargs\u001b[0m\u001b[0;34m)\u001b[0m\u001b[0;34m)\u001b[0m\u001b[0;34m\u001b[0m\u001b[0;34m\u001b[0m\u001b[0m\n",
            "\u001b[0;32m/usr/local/lib/python3.6/dist-packages/IPython/core/pylabtools.py\u001b[0m in \u001b[0;36mprint_figure\u001b[0;34m(fig, fmt, bbox_inches, **kwargs)\u001b[0m\n\u001b[1;32m    123\u001b[0m \u001b[0;34m\u001b[0m\u001b[0m\n\u001b[1;32m    124\u001b[0m     \u001b[0mbytes_io\u001b[0m \u001b[0;34m=\u001b[0m \u001b[0mBytesIO\u001b[0m\u001b[0;34m(\u001b[0m\u001b[0;34m)\u001b[0m\u001b[0;34m\u001b[0m\u001b[0;34m\u001b[0m\u001b[0m\n\u001b[0;32m--> 125\u001b[0;31m     \u001b[0mfig\u001b[0m\u001b[0;34m.\u001b[0m\u001b[0mcanvas\u001b[0m\u001b[0;34m.\u001b[0m\u001b[0mprint_figure\u001b[0m\u001b[0;34m(\u001b[0m\u001b[0mbytes_io\u001b[0m\u001b[0;34m,\u001b[0m \u001b[0;34m**\u001b[0m\u001b[0mkw\u001b[0m\u001b[0;34m)\u001b[0m\u001b[0;34m\u001b[0m\u001b[0;34m\u001b[0m\u001b[0m\n\u001b[0m\u001b[1;32m    126\u001b[0m     \u001b[0mdata\u001b[0m \u001b[0;34m=\u001b[0m \u001b[0mbytes_io\u001b[0m\u001b[0;34m.\u001b[0m\u001b[0mgetvalue\u001b[0m\u001b[0;34m(\u001b[0m\u001b[0;34m)\u001b[0m\u001b[0;34m\u001b[0m\u001b[0;34m\u001b[0m\u001b[0m\n\u001b[1;32m    127\u001b[0m     \u001b[0;32mif\u001b[0m \u001b[0mfmt\u001b[0m \u001b[0;34m==\u001b[0m \u001b[0;34m'svg'\u001b[0m\u001b[0;34m:\u001b[0m\u001b[0;34m\u001b[0m\u001b[0;34m\u001b[0m\u001b[0m\n",
            "\u001b[0;32m/usr/local/lib/python3.6/dist-packages/matplotlib/backend_bases.py\u001b[0m in \u001b[0;36mprint_figure\u001b[0;34m(self, filename, dpi, facecolor, edgecolor, orientation, format, bbox_inches, **kwargs)\u001b[0m\n\u001b[1;32m   2124\u001b[0m                     \u001b[0morientation\u001b[0m\u001b[0;34m=\u001b[0m\u001b[0morientation\u001b[0m\u001b[0;34m,\u001b[0m\u001b[0;34m\u001b[0m\u001b[0;34m\u001b[0m\u001b[0m\n\u001b[1;32m   2125\u001b[0m                     \u001b[0mbbox_inches_restore\u001b[0m\u001b[0;34m=\u001b[0m\u001b[0m_bbox_inches_restore\u001b[0m\u001b[0;34m,\u001b[0m\u001b[0;34m\u001b[0m\u001b[0;34m\u001b[0m\u001b[0m\n\u001b[0;32m-> 2126\u001b[0;31m                     **kwargs)\n\u001b[0m\u001b[1;32m   2127\u001b[0m             \u001b[0;32mfinally\u001b[0m\u001b[0;34m:\u001b[0m\u001b[0;34m\u001b[0m\u001b[0;34m\u001b[0m\u001b[0m\n\u001b[1;32m   2128\u001b[0m                 \u001b[0;32mif\u001b[0m \u001b[0mbbox_inches\u001b[0m \u001b[0;32mand\u001b[0m \u001b[0mrestore_bbox\u001b[0m\u001b[0;34m:\u001b[0m\u001b[0;34m\u001b[0m\u001b[0;34m\u001b[0m\u001b[0m\n",
            "\u001b[0;32m/usr/local/lib/python3.6/dist-packages/matplotlib/backends/backend_agg.py\u001b[0m in \u001b[0;36mprint_png\u001b[0;34m(self, filename_or_obj, metadata, pil_kwargs, *args, **kwargs)\u001b[0m\n\u001b[1;32m    512\u001b[0m         }\n\u001b[1;32m    513\u001b[0m \u001b[0;34m\u001b[0m\u001b[0m\n\u001b[0;32m--> 514\u001b[0;31m         \u001b[0mFigureCanvasAgg\u001b[0m\u001b[0;34m.\u001b[0m\u001b[0mdraw\u001b[0m\u001b[0;34m(\u001b[0m\u001b[0mself\u001b[0m\u001b[0;34m)\u001b[0m\u001b[0;34m\u001b[0m\u001b[0;34m\u001b[0m\u001b[0m\n\u001b[0m\u001b[1;32m    515\u001b[0m         \u001b[0;32mif\u001b[0m \u001b[0mpil_kwargs\u001b[0m \u001b[0;32mis\u001b[0m \u001b[0;32mnot\u001b[0m \u001b[0;32mNone\u001b[0m\u001b[0;34m:\u001b[0m\u001b[0;34m\u001b[0m\u001b[0;34m\u001b[0m\u001b[0m\n\u001b[1;32m    516\u001b[0m             \u001b[0;32mfrom\u001b[0m \u001b[0mPIL\u001b[0m \u001b[0;32mimport\u001b[0m \u001b[0mImage\u001b[0m\u001b[0;34m\u001b[0m\u001b[0;34m\u001b[0m\u001b[0m\n",
            "\u001b[0;32m/usr/local/lib/python3.6/dist-packages/matplotlib/backends/backend_agg.py\u001b[0m in \u001b[0;36mdraw\u001b[0;34m(self)\u001b[0m\n\u001b[1;32m    391\u001b[0m              (self.toolbar._wait_cursor_for_draw_cm() if self.toolbar\n\u001b[1;32m    392\u001b[0m               else nullcontext()):\n\u001b[0;32m--> 393\u001b[0;31m             \u001b[0mself\u001b[0m\u001b[0;34m.\u001b[0m\u001b[0mfigure\u001b[0m\u001b[0;34m.\u001b[0m\u001b[0mdraw\u001b[0m\u001b[0;34m(\u001b[0m\u001b[0mself\u001b[0m\u001b[0;34m.\u001b[0m\u001b[0mrenderer\u001b[0m\u001b[0;34m)\u001b[0m\u001b[0;34m\u001b[0m\u001b[0;34m\u001b[0m\u001b[0m\n\u001b[0m\u001b[1;32m    394\u001b[0m             \u001b[0;31m# A GUI class may be need to update a window using this draw, so\u001b[0m\u001b[0;34m\u001b[0m\u001b[0;34m\u001b[0m\u001b[0;34m\u001b[0m\u001b[0m\n\u001b[1;32m    395\u001b[0m             \u001b[0;31m# don't forget to call the superclass.\u001b[0m\u001b[0;34m\u001b[0m\u001b[0;34m\u001b[0m\u001b[0;34m\u001b[0m\u001b[0m\n",
            "\u001b[0;32m/usr/local/lib/python3.6/dist-packages/matplotlib/artist.py\u001b[0m in \u001b[0;36mdraw_wrapper\u001b[0;34m(artist, renderer, *args, **kwargs)\u001b[0m\n\u001b[1;32m     36\u001b[0m                 \u001b[0mrenderer\u001b[0m\u001b[0;34m.\u001b[0m\u001b[0mstart_filter\u001b[0m\u001b[0;34m(\u001b[0m\u001b[0;34m)\u001b[0m\u001b[0;34m\u001b[0m\u001b[0;34m\u001b[0m\u001b[0m\n\u001b[1;32m     37\u001b[0m \u001b[0;34m\u001b[0m\u001b[0m\n\u001b[0;32m---> 38\u001b[0;31m             \u001b[0;32mreturn\u001b[0m \u001b[0mdraw\u001b[0m\u001b[0;34m(\u001b[0m\u001b[0martist\u001b[0m\u001b[0;34m,\u001b[0m \u001b[0mrenderer\u001b[0m\u001b[0;34m,\u001b[0m \u001b[0;34m*\u001b[0m\u001b[0margs\u001b[0m\u001b[0;34m,\u001b[0m \u001b[0;34m**\u001b[0m\u001b[0mkwargs\u001b[0m\u001b[0;34m)\u001b[0m\u001b[0;34m\u001b[0m\u001b[0;34m\u001b[0m\u001b[0m\n\u001b[0m\u001b[1;32m     39\u001b[0m         \u001b[0;32mfinally\u001b[0m\u001b[0;34m:\u001b[0m\u001b[0;34m\u001b[0m\u001b[0;34m\u001b[0m\u001b[0m\n\u001b[1;32m     40\u001b[0m             \u001b[0;32mif\u001b[0m \u001b[0martist\u001b[0m\u001b[0;34m.\u001b[0m\u001b[0mget_agg_filter\u001b[0m\u001b[0;34m(\u001b[0m\u001b[0;34m)\u001b[0m \u001b[0;32mis\u001b[0m \u001b[0;32mnot\u001b[0m \u001b[0;32mNone\u001b[0m\u001b[0;34m:\u001b[0m\u001b[0;34m\u001b[0m\u001b[0;34m\u001b[0m\u001b[0m\n",
            "\u001b[0;32m/usr/local/lib/python3.6/dist-packages/matplotlib/figure.py\u001b[0m in \u001b[0;36mdraw\u001b[0;34m(self, renderer)\u001b[0m\n\u001b[1;32m   1734\u001b[0m             \u001b[0mself\u001b[0m\u001b[0;34m.\u001b[0m\u001b[0mpatch\u001b[0m\u001b[0;34m.\u001b[0m\u001b[0mdraw\u001b[0m\u001b[0;34m(\u001b[0m\u001b[0mrenderer\u001b[0m\u001b[0;34m)\u001b[0m\u001b[0;34m\u001b[0m\u001b[0;34m\u001b[0m\u001b[0m\n\u001b[1;32m   1735\u001b[0m             mimage._draw_list_compositing_images(\n\u001b[0;32m-> 1736\u001b[0;31m                 renderer, self, artists, self.suppressComposite)\n\u001b[0m\u001b[1;32m   1737\u001b[0m \u001b[0;34m\u001b[0m\u001b[0m\n\u001b[1;32m   1738\u001b[0m             \u001b[0mrenderer\u001b[0m\u001b[0;34m.\u001b[0m\u001b[0mclose_group\u001b[0m\u001b[0;34m(\u001b[0m\u001b[0;34m'figure'\u001b[0m\u001b[0;34m)\u001b[0m\u001b[0;34m\u001b[0m\u001b[0;34m\u001b[0m\u001b[0m\n",
            "\u001b[0;32m/usr/local/lib/python3.6/dist-packages/matplotlib/image.py\u001b[0m in \u001b[0;36m_draw_list_compositing_images\u001b[0;34m(renderer, parent, artists, suppress_composite)\u001b[0m\n\u001b[1;32m    135\u001b[0m     \u001b[0;32mif\u001b[0m \u001b[0mnot_composite\u001b[0m \u001b[0;32mor\u001b[0m \u001b[0;32mnot\u001b[0m \u001b[0mhas_images\u001b[0m\u001b[0;34m:\u001b[0m\u001b[0;34m\u001b[0m\u001b[0;34m\u001b[0m\u001b[0m\n\u001b[1;32m    136\u001b[0m         \u001b[0;32mfor\u001b[0m \u001b[0ma\u001b[0m \u001b[0;32min\u001b[0m \u001b[0martists\u001b[0m\u001b[0;34m:\u001b[0m\u001b[0;34m\u001b[0m\u001b[0;34m\u001b[0m\u001b[0m\n\u001b[0;32m--> 137\u001b[0;31m             \u001b[0ma\u001b[0m\u001b[0;34m.\u001b[0m\u001b[0mdraw\u001b[0m\u001b[0;34m(\u001b[0m\u001b[0mrenderer\u001b[0m\u001b[0;34m)\u001b[0m\u001b[0;34m\u001b[0m\u001b[0;34m\u001b[0m\u001b[0m\n\u001b[0m\u001b[1;32m    138\u001b[0m     \u001b[0;32melse\u001b[0m\u001b[0;34m:\u001b[0m\u001b[0;34m\u001b[0m\u001b[0;34m\u001b[0m\u001b[0m\n\u001b[1;32m    139\u001b[0m         \u001b[0;31m# Composite any adjacent images together\u001b[0m\u001b[0;34m\u001b[0m\u001b[0;34m\u001b[0m\u001b[0;34m\u001b[0m\u001b[0m\n",
            "\u001b[0;32m/usr/local/lib/python3.6/dist-packages/matplotlib/artist.py\u001b[0m in \u001b[0;36mdraw_wrapper\u001b[0;34m(artist, renderer, *args, **kwargs)\u001b[0m\n\u001b[1;32m     36\u001b[0m                 \u001b[0mrenderer\u001b[0m\u001b[0;34m.\u001b[0m\u001b[0mstart_filter\u001b[0m\u001b[0;34m(\u001b[0m\u001b[0;34m)\u001b[0m\u001b[0;34m\u001b[0m\u001b[0;34m\u001b[0m\u001b[0m\n\u001b[1;32m     37\u001b[0m \u001b[0;34m\u001b[0m\u001b[0m\n\u001b[0;32m---> 38\u001b[0;31m             \u001b[0;32mreturn\u001b[0m \u001b[0mdraw\u001b[0m\u001b[0;34m(\u001b[0m\u001b[0martist\u001b[0m\u001b[0;34m,\u001b[0m \u001b[0mrenderer\u001b[0m\u001b[0;34m,\u001b[0m \u001b[0;34m*\u001b[0m\u001b[0margs\u001b[0m\u001b[0;34m,\u001b[0m \u001b[0;34m**\u001b[0m\u001b[0mkwargs\u001b[0m\u001b[0;34m)\u001b[0m\u001b[0;34m\u001b[0m\u001b[0;34m\u001b[0m\u001b[0m\n\u001b[0m\u001b[1;32m     39\u001b[0m         \u001b[0;32mfinally\u001b[0m\u001b[0;34m:\u001b[0m\u001b[0;34m\u001b[0m\u001b[0;34m\u001b[0m\u001b[0m\n\u001b[1;32m     40\u001b[0m             \u001b[0;32mif\u001b[0m \u001b[0martist\u001b[0m\u001b[0;34m.\u001b[0m\u001b[0mget_agg_filter\u001b[0m\u001b[0;34m(\u001b[0m\u001b[0;34m)\u001b[0m \u001b[0;32mis\u001b[0m \u001b[0;32mnot\u001b[0m \u001b[0;32mNone\u001b[0m\u001b[0;34m:\u001b[0m\u001b[0;34m\u001b[0m\u001b[0;34m\u001b[0m\u001b[0m\n",
            "\u001b[0;32m/usr/local/lib/python3.6/dist-packages/matplotlib/axes/_base.py\u001b[0m in \u001b[0;36mdraw\u001b[0;34m(self, renderer, inframe)\u001b[0m\n\u001b[1;32m   2628\u001b[0m             \u001b[0mrenderer\u001b[0m\u001b[0;34m.\u001b[0m\u001b[0mstop_rasterizing\u001b[0m\u001b[0;34m(\u001b[0m\u001b[0;34m)\u001b[0m\u001b[0;34m\u001b[0m\u001b[0;34m\u001b[0m\u001b[0m\n\u001b[1;32m   2629\u001b[0m \u001b[0;34m\u001b[0m\u001b[0m\n\u001b[0;32m-> 2630\u001b[0;31m         \u001b[0mmimage\u001b[0m\u001b[0;34m.\u001b[0m\u001b[0m_draw_list_compositing_images\u001b[0m\u001b[0;34m(\u001b[0m\u001b[0mrenderer\u001b[0m\u001b[0;34m,\u001b[0m \u001b[0mself\u001b[0m\u001b[0;34m,\u001b[0m \u001b[0martists\u001b[0m\u001b[0;34m)\u001b[0m\u001b[0;34m\u001b[0m\u001b[0;34m\u001b[0m\u001b[0m\n\u001b[0m\u001b[1;32m   2631\u001b[0m \u001b[0;34m\u001b[0m\u001b[0m\n\u001b[1;32m   2632\u001b[0m         \u001b[0mrenderer\u001b[0m\u001b[0;34m.\u001b[0m\u001b[0mclose_group\u001b[0m\u001b[0;34m(\u001b[0m\u001b[0;34m'axes'\u001b[0m\u001b[0;34m)\u001b[0m\u001b[0;34m\u001b[0m\u001b[0;34m\u001b[0m\u001b[0m\n",
            "\u001b[0;32m/usr/local/lib/python3.6/dist-packages/matplotlib/image.py\u001b[0m in \u001b[0;36m_draw_list_compositing_images\u001b[0;34m(renderer, parent, artists, suppress_composite)\u001b[0m\n\u001b[1;32m    135\u001b[0m     \u001b[0;32mif\u001b[0m \u001b[0mnot_composite\u001b[0m \u001b[0;32mor\u001b[0m \u001b[0;32mnot\u001b[0m \u001b[0mhas_images\u001b[0m\u001b[0;34m:\u001b[0m\u001b[0;34m\u001b[0m\u001b[0;34m\u001b[0m\u001b[0m\n\u001b[1;32m    136\u001b[0m         \u001b[0;32mfor\u001b[0m \u001b[0ma\u001b[0m \u001b[0;32min\u001b[0m \u001b[0martists\u001b[0m\u001b[0;34m:\u001b[0m\u001b[0;34m\u001b[0m\u001b[0;34m\u001b[0m\u001b[0m\n\u001b[0;32m--> 137\u001b[0;31m             \u001b[0ma\u001b[0m\u001b[0;34m.\u001b[0m\u001b[0mdraw\u001b[0m\u001b[0;34m(\u001b[0m\u001b[0mrenderer\u001b[0m\u001b[0;34m)\u001b[0m\u001b[0;34m\u001b[0m\u001b[0;34m\u001b[0m\u001b[0m\n\u001b[0m\u001b[1;32m    138\u001b[0m     \u001b[0;32melse\u001b[0m\u001b[0;34m:\u001b[0m\u001b[0;34m\u001b[0m\u001b[0;34m\u001b[0m\u001b[0m\n\u001b[1;32m    139\u001b[0m         \u001b[0;31m# Composite any adjacent images together\u001b[0m\u001b[0;34m\u001b[0m\u001b[0;34m\u001b[0m\u001b[0;34m\u001b[0m\u001b[0m\n",
            "\u001b[0;32m/usr/local/lib/python3.6/dist-packages/matplotlib/artist.py\u001b[0m in \u001b[0;36mdraw_wrapper\u001b[0;34m(artist, renderer, *args, **kwargs)\u001b[0m\n\u001b[1;32m     36\u001b[0m                 \u001b[0mrenderer\u001b[0m\u001b[0;34m.\u001b[0m\u001b[0mstart_filter\u001b[0m\u001b[0;34m(\u001b[0m\u001b[0;34m)\u001b[0m\u001b[0;34m\u001b[0m\u001b[0;34m\u001b[0m\u001b[0m\n\u001b[1;32m     37\u001b[0m \u001b[0;34m\u001b[0m\u001b[0m\n\u001b[0;32m---> 38\u001b[0;31m             \u001b[0;32mreturn\u001b[0m \u001b[0mdraw\u001b[0m\u001b[0;34m(\u001b[0m\u001b[0martist\u001b[0m\u001b[0;34m,\u001b[0m \u001b[0mrenderer\u001b[0m\u001b[0;34m,\u001b[0m \u001b[0;34m*\u001b[0m\u001b[0margs\u001b[0m\u001b[0;34m,\u001b[0m \u001b[0;34m**\u001b[0m\u001b[0mkwargs\u001b[0m\u001b[0;34m)\u001b[0m\u001b[0;34m\u001b[0m\u001b[0;34m\u001b[0m\u001b[0m\n\u001b[0m\u001b[1;32m     39\u001b[0m         \u001b[0;32mfinally\u001b[0m\u001b[0;34m:\u001b[0m\u001b[0;34m\u001b[0m\u001b[0;34m\u001b[0m\u001b[0m\n\u001b[1;32m     40\u001b[0m             \u001b[0;32mif\u001b[0m \u001b[0martist\u001b[0m\u001b[0;34m.\u001b[0m\u001b[0mget_agg_filter\u001b[0m\u001b[0;34m(\u001b[0m\u001b[0;34m)\u001b[0m \u001b[0;32mis\u001b[0m \u001b[0;32mnot\u001b[0m \u001b[0;32mNone\u001b[0m\u001b[0;34m:\u001b[0m\u001b[0;34m\u001b[0m\u001b[0;34m\u001b[0m\u001b[0m\n",
            "\u001b[0;32m/usr/local/lib/python3.6/dist-packages/matplotlib/axis.py\u001b[0m in \u001b[0;36mdraw\u001b[0;34m(self, renderer, *args, **kwargs)\u001b[0m\n\u001b[1;32m   1227\u001b[0m         \u001b[0mticks_to_draw\u001b[0m \u001b[0;34m=\u001b[0m \u001b[0mself\u001b[0m\u001b[0;34m.\u001b[0m\u001b[0m_update_ticks\u001b[0m\u001b[0;34m(\u001b[0m\u001b[0;34m)\u001b[0m\u001b[0;34m\u001b[0m\u001b[0;34m\u001b[0m\u001b[0m\n\u001b[1;32m   1228\u001b[0m         ticklabelBoxes, ticklabelBoxes2 = self._get_tick_bboxes(ticks_to_draw,\n\u001b[0;32m-> 1229\u001b[0;31m                                                                 renderer)\n\u001b[0m\u001b[1;32m   1230\u001b[0m \u001b[0;34m\u001b[0m\u001b[0m\n\u001b[1;32m   1231\u001b[0m         \u001b[0;32mfor\u001b[0m \u001b[0mtick\u001b[0m \u001b[0;32min\u001b[0m \u001b[0mticks_to_draw\u001b[0m\u001b[0;34m:\u001b[0m\u001b[0;34m\u001b[0m\u001b[0;34m\u001b[0m\u001b[0m\n",
            "\u001b[0;32m/usr/local/lib/python3.6/dist-packages/matplotlib/axis.py\u001b[0m in \u001b[0;36m_get_tick_bboxes\u001b[0;34m(self, ticks, renderer)\u001b[0m\n\u001b[1;32m   1172\u001b[0m         \u001b[0;34m\"\"\"Return lists of bboxes for ticks' label1's and label2's.\"\"\"\u001b[0m\u001b[0;34m\u001b[0m\u001b[0;34m\u001b[0m\u001b[0m\n\u001b[1;32m   1173\u001b[0m         return ([tick.label1.get_window_extent(renderer)\n\u001b[0;32m-> 1174\u001b[0;31m                  for tick in ticks if tick.label1.get_visible()],\n\u001b[0m\u001b[1;32m   1175\u001b[0m                 [tick.label2.get_window_extent(renderer)\n\u001b[1;32m   1176\u001b[0m                  for tick in ticks if tick.label2.get_visible()])\n",
            "\u001b[0;32m/usr/local/lib/python3.6/dist-packages/matplotlib/axis.py\u001b[0m in \u001b[0;36m<listcomp>\u001b[0;34m(.0)\u001b[0m\n\u001b[1;32m   1172\u001b[0m         \u001b[0;34m\"\"\"Return lists of bboxes for ticks' label1's and label2's.\"\"\"\u001b[0m\u001b[0;34m\u001b[0m\u001b[0;34m\u001b[0m\u001b[0m\n\u001b[1;32m   1173\u001b[0m         return ([tick.label1.get_window_extent(renderer)\n\u001b[0;32m-> 1174\u001b[0;31m                  for tick in ticks if tick.label1.get_visible()],\n\u001b[0m\u001b[1;32m   1175\u001b[0m                 [tick.label2.get_window_extent(renderer)\n\u001b[1;32m   1176\u001b[0m                  for tick in ticks if tick.label2.get_visible()])\n",
            "\u001b[0;32m/usr/local/lib/python3.6/dist-packages/matplotlib/text.py\u001b[0m in \u001b[0;36mget_window_extent\u001b[0;34m(self, renderer, dpi)\u001b[0m\n\u001b[1;32m    905\u001b[0m         \u001b[0mbbox\u001b[0m\u001b[0;34m,\u001b[0m \u001b[0minfo\u001b[0m\u001b[0;34m,\u001b[0m \u001b[0mdescent\u001b[0m \u001b[0;34m=\u001b[0m \u001b[0mself\u001b[0m\u001b[0;34m.\u001b[0m\u001b[0m_get_layout\u001b[0m\u001b[0;34m(\u001b[0m\u001b[0mself\u001b[0m\u001b[0;34m.\u001b[0m\u001b[0m_renderer\u001b[0m\u001b[0;34m)\u001b[0m\u001b[0;34m\u001b[0m\u001b[0;34m\u001b[0m\u001b[0m\n\u001b[1;32m    906\u001b[0m         \u001b[0mx\u001b[0m\u001b[0;34m,\u001b[0m \u001b[0my\u001b[0m \u001b[0;34m=\u001b[0m \u001b[0mself\u001b[0m\u001b[0;34m.\u001b[0m\u001b[0mget_unitless_position\u001b[0m\u001b[0;34m(\u001b[0m\u001b[0;34m)\u001b[0m\u001b[0;34m\u001b[0m\u001b[0;34m\u001b[0m\u001b[0m\n\u001b[0;32m--> 907\u001b[0;31m         \u001b[0mx\u001b[0m\u001b[0;34m,\u001b[0m \u001b[0my\u001b[0m \u001b[0;34m=\u001b[0m \u001b[0mself\u001b[0m\u001b[0;34m.\u001b[0m\u001b[0mget_transform\u001b[0m\u001b[0;34m(\u001b[0m\u001b[0;34m)\u001b[0m\u001b[0;34m.\u001b[0m\u001b[0mtransform\u001b[0m\u001b[0;34m(\u001b[0m\u001b[0;34m(\u001b[0m\u001b[0mx\u001b[0m\u001b[0;34m,\u001b[0m \u001b[0my\u001b[0m\u001b[0;34m)\u001b[0m\u001b[0;34m)\u001b[0m\u001b[0;34m\u001b[0m\u001b[0;34m\u001b[0m\u001b[0m\n\u001b[0m\u001b[1;32m    908\u001b[0m         \u001b[0mbbox\u001b[0m \u001b[0;34m=\u001b[0m \u001b[0mbbox\u001b[0m\u001b[0;34m.\u001b[0m\u001b[0mtranslated\u001b[0m\u001b[0;34m(\u001b[0m\u001b[0mx\u001b[0m\u001b[0;34m,\u001b[0m \u001b[0my\u001b[0m\u001b[0;34m)\u001b[0m\u001b[0;34m\u001b[0m\u001b[0;34m\u001b[0m\u001b[0m\n\u001b[1;32m    909\u001b[0m         \u001b[0;32mif\u001b[0m \u001b[0mdpi\u001b[0m \u001b[0;32mis\u001b[0m \u001b[0;32mnot\u001b[0m \u001b[0;32mNone\u001b[0m\u001b[0;34m:\u001b[0m\u001b[0;34m\u001b[0m\u001b[0;34m\u001b[0m\u001b[0m\n",
            "\u001b[0;32m/usr/local/lib/python3.6/dist-packages/matplotlib/transforms.py\u001b[0m in \u001b[0;36mtransform\u001b[0;34m(self, values)\u001b[0m\n\u001b[1;32m   1403\u001b[0m \u001b[0;34m\u001b[0m\u001b[0m\n\u001b[1;32m   1404\u001b[0m         \u001b[0;31m# Transform the values\u001b[0m\u001b[0;34m\u001b[0m\u001b[0;34m\u001b[0m\u001b[0;34m\u001b[0m\u001b[0m\n\u001b[0;32m-> 1405\u001b[0;31m         \u001b[0mres\u001b[0m \u001b[0;34m=\u001b[0m \u001b[0mself\u001b[0m\u001b[0;34m.\u001b[0m\u001b[0mtransform_affine\u001b[0m\u001b[0;34m(\u001b[0m\u001b[0mself\u001b[0m\u001b[0;34m.\u001b[0m\u001b[0mtransform_non_affine\u001b[0m\u001b[0;34m(\u001b[0m\u001b[0mvalues\u001b[0m\u001b[0;34m)\u001b[0m\u001b[0;34m)\u001b[0m\u001b[0;34m\u001b[0m\u001b[0;34m\u001b[0m\u001b[0m\n\u001b[0m\u001b[1;32m   1406\u001b[0m \u001b[0;34m\u001b[0m\u001b[0m\n\u001b[1;32m   1407\u001b[0m         \u001b[0;31m# Convert the result back to the shape of the input values.\u001b[0m\u001b[0;34m\u001b[0m\u001b[0;34m\u001b[0m\u001b[0;34m\u001b[0m\u001b[0m\n",
            "\u001b[0;32m/usr/local/lib/python3.6/dist-packages/matplotlib/transforms.py\u001b[0m in \u001b[0;36mtransform_affine\u001b[0;34m(self, points)\u001b[0m\n\u001b[1;32m   2363\u001b[0m     \u001b[0;32mdef\u001b[0m \u001b[0mtransform_affine\u001b[0m\u001b[0;34m(\u001b[0m\u001b[0mself\u001b[0m\u001b[0;34m,\u001b[0m \u001b[0mpoints\u001b[0m\u001b[0;34m)\u001b[0m\u001b[0;34m:\u001b[0m\u001b[0;34m\u001b[0m\u001b[0;34m\u001b[0m\u001b[0m\n\u001b[1;32m   2364\u001b[0m         \u001b[0;31m# docstring inherited\u001b[0m\u001b[0;34m\u001b[0m\u001b[0;34m\u001b[0m\u001b[0;34m\u001b[0m\u001b[0m\n\u001b[0;32m-> 2365\u001b[0;31m         \u001b[0;32mreturn\u001b[0m \u001b[0mself\u001b[0m\u001b[0;34m.\u001b[0m\u001b[0mget_affine\u001b[0m\u001b[0;34m(\u001b[0m\u001b[0;34m)\u001b[0m\u001b[0;34m.\u001b[0m\u001b[0mtransform\u001b[0m\u001b[0;34m(\u001b[0m\u001b[0mpoints\u001b[0m\u001b[0;34m)\u001b[0m\u001b[0;34m\u001b[0m\u001b[0;34m\u001b[0m\u001b[0m\n\u001b[0m\u001b[1;32m   2366\u001b[0m \u001b[0;34m\u001b[0m\u001b[0m\n\u001b[1;32m   2367\u001b[0m     \u001b[0;32mdef\u001b[0m \u001b[0mtransform_non_affine\u001b[0m\u001b[0;34m(\u001b[0m\u001b[0mself\u001b[0m\u001b[0;34m,\u001b[0m \u001b[0mpoints\u001b[0m\u001b[0;34m)\u001b[0m\u001b[0;34m:\u001b[0m\u001b[0;34m\u001b[0m\u001b[0;34m\u001b[0m\u001b[0m\n",
            "\u001b[0;32m/usr/local/lib/python3.6/dist-packages/matplotlib/transforms.py\u001b[0m in \u001b[0;36mget_affine\u001b[0;34m(self)\u001b[0m\n\u001b[1;32m   2391\u001b[0m         \u001b[0;32melse\u001b[0m\u001b[0;34m:\u001b[0m\u001b[0;34m\u001b[0m\u001b[0;34m\u001b[0m\u001b[0m\n\u001b[1;32m   2392\u001b[0m             return Affine2D(np.dot(self._b.get_affine().get_matrix(),\n\u001b[0;32m-> 2393\u001b[0;31m                                 self._a.get_affine().get_matrix()))\n\u001b[0m\u001b[1;32m   2394\u001b[0m \u001b[0;34m\u001b[0m\u001b[0m\n\u001b[1;32m   2395\u001b[0m     \u001b[0;32mdef\u001b[0m \u001b[0minverted\u001b[0m\u001b[0;34m(\u001b[0m\u001b[0mself\u001b[0m\u001b[0;34m)\u001b[0m\u001b[0;34m:\u001b[0m\u001b[0;34m\u001b[0m\u001b[0;34m\u001b[0m\u001b[0m\n",
            "\u001b[0;32m/usr/local/lib/python3.6/dist-packages/matplotlib/transforms.py\u001b[0m in \u001b[0;36mget_affine\u001b[0;34m(self)\u001b[0m\n\u001b[1;32m   2198\u001b[0m                 \u001b[0mself\u001b[0m\u001b[0;34m.\u001b[0m\u001b[0m_affine\u001b[0m \u001b[0;34m=\u001b[0m \u001b[0mself\u001b[0m\u001b[0;34m.\u001b[0m\u001b[0m_x\u001b[0m\u001b[0;34m.\u001b[0m\u001b[0mget_affine\u001b[0m\u001b[0;34m(\u001b[0m\u001b[0;34m)\u001b[0m\u001b[0;34m\u001b[0m\u001b[0;34m\u001b[0m\u001b[0m\n\u001b[1;32m   2199\u001b[0m             \u001b[0;32melse\u001b[0m\u001b[0;34m:\u001b[0m\u001b[0;34m\u001b[0m\u001b[0;34m\u001b[0m\u001b[0m\n\u001b[0;32m-> 2200\u001b[0;31m                 \u001b[0mx_mtx\u001b[0m \u001b[0;34m=\u001b[0m \u001b[0mself\u001b[0m\u001b[0;34m.\u001b[0m\u001b[0m_x\u001b[0m\u001b[0;34m.\u001b[0m\u001b[0mget_affine\u001b[0m\u001b[0;34m(\u001b[0m\u001b[0;34m)\u001b[0m\u001b[0;34m.\u001b[0m\u001b[0mget_matrix\u001b[0m\u001b[0;34m(\u001b[0m\u001b[0;34m)\u001b[0m\u001b[0;34m\u001b[0m\u001b[0;34m\u001b[0m\u001b[0m\n\u001b[0m\u001b[1;32m   2201\u001b[0m                 \u001b[0my_mtx\u001b[0m \u001b[0;34m=\u001b[0m \u001b[0mself\u001b[0m\u001b[0;34m.\u001b[0m\u001b[0m_y\u001b[0m\u001b[0;34m.\u001b[0m\u001b[0mget_affine\u001b[0m\u001b[0;34m(\u001b[0m\u001b[0;34m)\u001b[0m\u001b[0;34m.\u001b[0m\u001b[0mget_matrix\u001b[0m\u001b[0;34m(\u001b[0m\u001b[0;34m)\u001b[0m\u001b[0;34m\u001b[0m\u001b[0;34m\u001b[0m\u001b[0m\n\u001b[1;32m   2202\u001b[0m                 \u001b[0;31m# This works because we already know the transforms are\u001b[0m\u001b[0;34m\u001b[0m\u001b[0;34m\u001b[0m\u001b[0;34m\u001b[0m\u001b[0m\n",
            "\u001b[0;32m/usr/local/lib/python3.6/dist-packages/matplotlib/transforms.py\u001b[0m in \u001b[0;36mget_affine\u001b[0;34m(self)\u001b[0m\n\u001b[1;32m   2390\u001b[0m             \u001b[0;32mreturn\u001b[0m \u001b[0mself\u001b[0m\u001b[0;34m.\u001b[0m\u001b[0m_b\u001b[0m\u001b[0;34m.\u001b[0m\u001b[0mget_affine\u001b[0m\u001b[0;34m(\u001b[0m\u001b[0;34m)\u001b[0m\u001b[0;34m\u001b[0m\u001b[0;34m\u001b[0m\u001b[0m\n\u001b[1;32m   2391\u001b[0m         \u001b[0;32melse\u001b[0m\u001b[0;34m:\u001b[0m\u001b[0;34m\u001b[0m\u001b[0;34m\u001b[0m\u001b[0m\n\u001b[0;32m-> 2392\u001b[0;31m             return Affine2D(np.dot(self._b.get_affine().get_matrix(),\n\u001b[0m\u001b[1;32m   2393\u001b[0m                                 self._a.get_affine().get_matrix()))\n\u001b[1;32m   2394\u001b[0m \u001b[0;34m\u001b[0m\u001b[0m\n",
            "\u001b[0;32m/usr/local/lib/python3.6/dist-packages/matplotlib/transforms.py\u001b[0m in \u001b[0;36mget_affine\u001b[0;34m(self)\u001b[0m\n\u001b[1;32m   2391\u001b[0m         \u001b[0;32melse\u001b[0m\u001b[0;34m:\u001b[0m\u001b[0;34m\u001b[0m\u001b[0;34m\u001b[0m\u001b[0m\n\u001b[1;32m   2392\u001b[0m             return Affine2D(np.dot(self._b.get_affine().get_matrix(),\n\u001b[0;32m-> 2393\u001b[0;31m                                 self._a.get_affine().get_matrix()))\n\u001b[0m\u001b[1;32m   2394\u001b[0m \u001b[0;34m\u001b[0m\u001b[0m\n\u001b[1;32m   2395\u001b[0m     \u001b[0;32mdef\u001b[0m \u001b[0minverted\u001b[0m\u001b[0;34m(\u001b[0m\u001b[0mself\u001b[0m\u001b[0;34m)\u001b[0m\u001b[0;34m:\u001b[0m\u001b[0;34m\u001b[0m\u001b[0;34m\u001b[0m\u001b[0m\n",
            "\u001b[0;31mKeyboardInterrupt\u001b[0m: "
          ]
        }
      ]
    },
    {
      "cell_type": "code",
      "metadata": {
        "id": "8e0Slt4fnJY-"
      },
      "source": [
        "# 그래프 크기 조절하기\n",
        "plt.figure(figsize=(10,2))\n",
        "plt.plot(result, 'g')\n",
        "plt.show()"
      ],
      "execution_count": null,
      "outputs": []
    },
    {
      "cell_type": "markdown",
      "metadata": {
        "id": "KDswDEkVngAf"
      },
      "source": [
        "3. 날짜 데이터 추출하기 : split() 함수\n",
        "* 파이썬이 제공하는 문자열\n",
        "* 사용자가 설정하는 특정 문자를 기준으로 문자열을 분리"
      ]
    },
    {
      "cell_type": "code",
      "metadata": {
        "id": "FwvMydgKnVG7"
      },
      "source": [
        "s = 'Hello Python'\n",
        "print(s.split()) # 기본적으로 공백을 기준으로 문자열 분리"
      ],
      "execution_count": null,
      "outputs": []
    },
    {
      "cell_type": "code",
      "metadata": {
        "id": "NgLxNvhcoIRl"
      },
      "source": [
        "date='2020-10-29'\n",
        "print(date.split('-')) # -(dash) 문자를 기준으로 문자열 분리\n",
        "# 문자열 분리와 동시에 리스트의 인덱싱 기능을 활용하여 날짜의 연, 월, 일을 각각 추출\n",
        "print(date.split('-')[0]) # 연도\n",
        "print(date.split('-')[1]) # 월\n",
        "print(date.split('-')[2]) # 일"
      ],
      "execution_count": null,
      "outputs": []
    },
    {
      "cell_type": "code",
      "metadata": {
        "id": "2Il4hoxXoWVd"
      },
      "source": [
        "# split()함수를 사용해 1년 중 여름의 정점인 8월의 최고 기온 데이터만을 추출해서 그래프로 그리기\n",
        "filename = '/content/drive/My Drive/DATA/busan.csv'\n",
        "\n",
        "import matplotlib.pyplot as plt\n",
        "import csv\n",
        "f = open(filename, 'r', encoding='cp949') \n",
        "data = csv.reader(f)\n",
        "\n",
        "next(data)\n",
        "\n",
        "result = []  # 최고 기온 데이터를 저장할 리스트 생성\n",
        "\n",
        "for row in data:\n",
        "  if row[-1] != '': # 최고 기온 데이터 값이 존재하다면\n",
        "    if row[0].split('-')[1] == '08':\n",
        "      result.append(float(row[-1]))  # result 리스트 변수에 최고 기온 값 추가\n",
        "\n",
        "f.close()\n",
        "\n",
        "plt.plot(result, 'hotpink') # result 리스트에 저장된 값을 그래프에 데이터 저장\n",
        "plt.show() # 그래프 그리기"
      ],
      "execution_count": null,
      "outputs": []
    },
    {
      "cell_type": "code",
      "metadata": {
        "id": "6wYe19P9rB2C"
      },
      "source": [
        "# 매년 스승의 날인 5월 15일을 기준으로 최고 기온 데이터에 대한 그래프 그리기\n",
        "filename = '/content/drive/My Drive/DATA/busan.csv'\n",
        "\n",
        "import matplotlib.pyplot as plt\n",
        "import csv\n",
        "f = open(filename, 'r', encoding='cp949') \n",
        "data = csv.reader(f)\n",
        "\n",
        "next(data)\n",
        "\n",
        "result = []  # 최고 기온 데이터를 저장할 리스트 생성\n",
        "\n",
        "for row in data:\n",
        "  if row[-1] != '': # 최고 기온 데이터 값이 존재하다면\n",
        "    if row[0].split('-')[1] == '05' and row[0].split('-')[2] == '15':  # python의 논리 연산자 : and, or\n",
        "      result.append(float(row[-1]))  # result 리스트 변수에 최고 기온 값 추가\n",
        "\n",
        "f.close()\n",
        "\n",
        "plt.plot(result, 'hotpink') # result 리스트에 저장된 값을 그래프에 데이터 저장\n",
        "plt.show() # 그래프 그리기"
      ],
      "execution_count": null,
      "outputs": []
    },
    {
      "cell_type": "code",
      "metadata": {
        "id": "UmlQE3gGrxuj"
      },
      "source": [
        "# 2002년 이후의 데이터만 추출하여 매년 스승의 날인 5월 15일을 기준으로 최고/최저 기온 데이터에 대한 그래프 그리기\n",
        "filename = '/content/drive/My Drive/DATA/busan.csv'\n",
        "\n",
        "import matplotlib.pyplot as plt\n",
        "import csv\n",
        "f = open(filename, 'r', encoding='cp949') \n",
        "data = csv.reader(f)\n",
        "\n",
        "next(data)\n",
        "\n",
        "high = []  # 최고 기온 데이터를 저장할 리스트 생성\n",
        "low = []   # 최저 기온 데이터를 저장할 리스트 생성\n",
        "\n",
        "for row in data:\n",
        "  if row[-1] != '' and row[-2] != '': # 최고(row[-1])/ 최저(row[-2]) 기온 데이터 값이 존재하다면\n",
        "    if 2002 <= int(row[0].split('-')[0]): # 2002년 이후 데이터라면\n",
        "      if row[0].split('-')[1] == '05' and row[0].split('-')[2] == '15': # 5월 15일 기준\n",
        "        high.append(float(row[-1]))  # high 리스트 변수에 최고 기온 값 추가\n",
        "        low.append(float(row[-2]))   # low  리스트 변수에 최저 기온 값 추가\n",
        "\n",
        "f.close()\n",
        "\n",
        "plt.plot(high, 'hotpink') # high 리스트에 저장된 값을 그래프에 데이터 저장\n",
        "plt.plot(low, 'skyblue') # low 리스트에 저장된 값을 그래프에 데이터 저장\n",
        "plt.show() # 그래프 그리기"
      ],
      "execution_count": null,
      "outputs": []
    },
    {
      "cell_type": "markdown",
      "metadata": {
        "id": "2HbOuKYUvahH"
      },
      "source": [
        "4. 스승의 날의 기온 변화를 그래프로 그리기"
      ]
    },
    {
      "cell_type": "code",
      "metadata": {
        "id": "F-ynR5IFuins",
        "outputId": "b7d2e45b-3455-41e3-a538-bdc2887dd375",
        "colab": {
          "base_uri": "https://localhost:8080/",
          "height": 280
        }
      },
      "source": [
        "'''\n",
        "# Colab에서 한글 사용\n",
        "# 참고사이트 : https://teddylee777.github.io/colab/colab-korean\n",
        "!sudo apt-get install -y fonts-nanum\n",
        "!sudo fc-cache -fv\n",
        "!rm ~/.cache/matplotlib -rf\n",
        "# 설치 이후 런타임-런타임 다시 시작을 클릭하여 런타임을 재시작합니다.\n",
        "'''\n",
        "\n",
        "\n",
        "filename = '/content/drive/My Drive/DATA/busan.csv'\n",
        "\n",
        "import matplotlib.pyplot as plt\n",
        "import csv\n",
        "f = open(filename, 'r', encoding='cp949') \n",
        "data = csv.reader(f)\n",
        "\n",
        "plt.rc('font', family=\"NanumBarunGothic\")    # 한글 글꼴 사용\n",
        "plt.rcParams['axes.unicode_minus'] = False   # 수치상의 -기호 표시하기\n",
        "\n",
        "next(data)\n",
        "\n",
        "high = []  \n",
        "low = []   \n",
        "\n",
        "for row in data:\n",
        "  if row[-1] != '' and row[-2] != '': \n",
        "    if 2002 <= int(row[0].split('-')[0]):\n",
        "      if row[0].split('-')[1] == '05' and row[0].split('-')[2] == '15': \n",
        "        high.append(float(row[-1]))  \n",
        "        low.append(float(row[-2]))   \n",
        "\n",
        "f.close()\n",
        "\n",
        "plt.title('스승의 날의 기온 변화 그래프') # 제목 설정\n",
        "\n",
        "plt.plot(high, 'hotpink', label='최고기온') \n",
        "plt.plot(low, 'skyblue', label='최저기온') \n",
        "\n",
        "plt.legend() # 범례 표시\n",
        "plt.show() "
      ],
      "execution_count": null,
      "outputs": [
        {
          "output_type": "display_data",
          "data": {
            "image/png": "[encoded data removed]",
            "text/plain": [
              "<Figure size 432x288 with 1 Axes>"
            ]
          },
          "metadata": {
            "tags": [],
            "needs_background": "light"
          }
        }
      ]
    },
    {
      "cell_type": "code",
      "metadata": {
        "id": "FVRxuu-jwUwE",
        "outputId": "6d42a401-cb12-4500-a263-d4b8a5dacc80",
        "colab": {
          "base_uri": "https://localhost:8080/"
        }
      },
      "source": [
        "!sudo apt-get install -y fonts-nanum\n",
        "!sudo fc-cache -fv\n",
        "!rm ~/.cache/matplotlib -rf"
      ],
      "execution_count": null,
      "outputs": [
        {
          "output_type": "stream",
          "text": [
            "Reading package lists... Done\n",
            "Building dependency tree       \n",
            "Reading state information... Done\n",
            "The following NEW packages will be installed:\n",
            "  fonts-nanum\n",
            "0 upgraded, 1 newly installed, 0 to remove and 11 not upgraded.\n",
            "Need to get 9,604 kB of archives.\n",
            "After this operation, 29.5 MB of additional disk space will be used.\n",
            "Get:1 http://archive.ubuntu.com/ubuntu bionic/universe amd64 fonts-nanum all 20170925-1 [9,604 kB]\n",
            "Fetched 9,604 kB in 3s (3,090 kB/s)\n",
            "debconf: unable to initialize frontend: Dialog\n",
            "debconf: (No usable dialog-like program is installed, so the dialog based frontend cannot be used. at /usr/share/perl5/Debconf/FrontEnd/Dialog.pm line 76, <> line 1.)\n",
            "debconf: falling back to frontend: Readline\n",
            "debconf: unable to initialize frontend: Readline\n",
            "debconf: (This frontend requires a controlling tty.)\n",
            "debconf: falling back to frontend: Teletype\n",
            "dpkg-preconfigure: unable to re-open stdin: \n",
            "Selecting previously unselected package fonts-nanum.\n",
            "(Reading database ... 144628 files and directories currently installed.)\n",
            "Preparing to unpack .../fonts-nanum_20170925-1_all.deb ...\n",
            "Unpacking fonts-nanum (20170925-1) ...\n",
            "Setting up fonts-nanum (20170925-1) ...\n",
            "Processing triggers for fontconfig (2.12.6-0ubuntu2) ...\n",
            "/usr/share/fonts: caching, new cache contents: 0 fonts, 1 dirs\n",
            "/usr/share/fonts/truetype: caching, new cache contents: 0 fonts, 3 dirs\n",
            "/usr/share/fonts/truetype/humor-sans: caching, new cache contents: 1 fonts, 0 dirs\n",
            "/usr/share/fonts/truetype/liberation: caching, new cache contents: 16 fonts, 0 dirs\n",
            "/usr/share/fonts/truetype/nanum: caching, new cache contents: 10 fonts, 0 dirs\n",
            "/usr/local/share/fonts: caching, new cache contents: 0 fonts, 0 dirs\n",
            "/root/.local/share/fonts: skipping, no such directory\n",
            "/root/.fonts: skipping, no such directory\n",
            "/var/cache/fontconfig: cleaning cache directory\n",
            "/root/.cache/fontconfig: not cleaning non-existent cache directory\n",
            "/root/.fontconfig: not cleaning non-existent cache directory\n",
            "fc-cache: succeeded\n"
          ],
          "name": "stdout"
        }
      ]
    },
    {
      "cell_type": "markdown",
      "metadata": {
        "id": "LMshVSPlwoC-"
      },
      "source": [
        "## 3. 기온 데이터를 다양하게 시각화하기"
      ]
    },
    {
      "cell_type": "markdown",
      "metadata": {
        "id": "68-4F1abwoC_"
      },
      "source": [
        "1. 데이터에 질문하기\n",
        "* 같은 그림이라도 보는 관점에 따라 다르게 느껴질 수 있듯이, 데이터도 보는 관점에 따라 다르게 해석될 수 있다."
      ]
    },
    {
      "cell_type": "markdown",
      "metadata": {
        "id": "n9iwr7UjxEf9"
      },
      "source": [
        "2. 히스토그램"
      ]
    },
    {
      "cell_type": "code",
      "metadata": {
        "id": "mh7KCHcdxKmY"
      },
      "source": [
        "# hist() 함수\n",
        "import matplotlib.pyplot as plt\n",
        "\n",
        "plt.hist([1,1,2,3,4,5,6,6,7,8,10])\n",
        "\n",
        "plt.show()"
      ],
      "execution_count": null,
      "outputs": []
    },
    {
      "cell_type": "code",
      "metadata": {
        "id": "kuV-3yhOxXPu"
      },
      "source": [
        "# 랜덤 모듈 사용 : C언어에서와 달리 seed를 사용할 필요가 없다. \n",
        "# python에서의 random함수는 그 당시 시간이 자동으로 seed값이 되어 난수를 발생시킨다.\n",
        "\n",
        "import random\n",
        "print(random.randint(1,6))"
      ],
      "execution_count": null,
      "outputs": []
    },
    {
      "cell_type": "code",
      "metadata": {
        "id": "bRhRue1Zxtos"
      },
      "source": [
        "# 주사위 시뮬레이션\n",
        "'''\n",
        "1) 주사위를 굴린다.\n",
        "2) 나온 결과를 기록한다.\n",
        "3) 1)~2) 과정을 n번 반복한다.\n",
        "4) 주사위의 눈이 나온 횟수를 히스토그램으로 그린다.\n",
        "'''\n",
        "\n",
        "import random\n",
        "import matplotlib.pyplot as plt\n",
        "\n",
        "dice = []\n",
        "\n",
        "for i in range(5): # range(5) : 0, 1, 2, 3, 4\n",
        "  dice.append(random.randint(1,6)) # random.randint(1,6) : 1~6사이의 임의의 수 발생\n",
        "\n",
        "print(dice)\n",
        "\n",
        "plt.hist(dice, bins=6) # bins 옵션은 가로축의 구간 개수를 설정하는 속성\n",
        "\n",
        "plt.show()"
      ],
      "execution_count": null,
      "outputs": []
    },
    {
      "cell_type": "code",
      "metadata": {
        "id": "xfFu-yF57Yfp"
      },
      "source": [
        "# 횟수를 100으로\n",
        "\n",
        "import random\n",
        "import matplotlib.pyplot as plt\n",
        "\n",
        "dice = []\n",
        "\n",
        "for i in range(100):\n",
        "  dice.append(random.randint(1,6)) \n",
        "\n",
        "plt.hist(dice, bins=6)\n",
        "\n",
        "plt.show()"
      ],
      "execution_count": null,
      "outputs": []
    },
    {
      "cell_type": "code",
      "metadata": {
        "id": "V_faOKEO8fYG"
      },
      "source": [
        "# 횟수를 100으로\n",
        "\n",
        "import random\n",
        "import matplotlib.pyplot as plt\n",
        "\n",
        "dice = []\n",
        "\n",
        "for i in range(1000000):\n",
        "  dice.append(random.randint(1,6))\n",
        "\n",
        "plt.hist(dice, bins=6)\n",
        "\n",
        "plt.show()"
      ],
      "execution_count": null,
      "outputs": []
    },
    {
      "cell_type": "markdown",
      "metadata": {
        "id": "QP-Fjlq68-mZ"
      },
      "source": [
        "3. 기온 데이터를 히스토그램으로 표현하기"
      ]
    },
    {
      "cell_type": "code",
      "metadata": {
        "id": "9Gb_3zvJ8yWJ"
      },
      "source": [
        "filename = '/content/drive/My Drive/DATA/busan.csv'\n",
        "\n",
        "import matplotlib.pyplot as plt\n",
        "import csv\n",
        "f = open(filename, 'r', encoding='cp949') \n",
        "data = csv.reader(f)\n",
        "\n",
        "plt.rc('font', family=\"NanumBarunGothic\")    # 한글 글꼴 사용\n",
        "plt.rcParams['axes.unicode_minus'] = False   # 수치상의 -기호 표시하기\n",
        "\n",
        "next(data)\n",
        "result = []\n",
        "\n",
        "for row in data:\n",
        "  if row[-1] != '':\n",
        "    result.append(float(row[-1]))\n",
        "\n",
        "f.close()\n",
        "\n",
        "plt.hist(result, bins=100, color='r')\n",
        "\n",
        "plt.show()"
      ],
      "execution_count": null,
      "outputs": []
    },
    {
      "cell_type": "code",
      "metadata": {
        "id": "hSo7iR819vJb"
      },
      "source": [
        "# 8월의 데이터만 뽑기\n",
        "\n",
        "filename = '/content/drive/My Drive/DATA/busan.csv'\n",
        "\n",
        "import matplotlib.pyplot as plt\n",
        "import csv\n",
        "f = open(filename, 'r', encoding='cp949') \n",
        "data = csv.reader(f)\n",
        "\n",
        "plt.rc('font', family=\"NanumBarunGothic\")    # 한글 글꼴 사용\n",
        "plt.rcParams['axes.unicode_minus'] = False   # 수치상의 -기호 표시하기\n",
        "\n",
        "next(data)\n",
        "\n",
        "aug = []\n",
        "\n",
        "for row in data:\n",
        "  month = row[0].split('-')[1] # -로 구분된 날짜값 중 두 번째 값을 month값을 저장\n",
        "  if row[-1] != '':\n",
        "    if month == '08':\n",
        "      aug.append(float(row[-1]))\n",
        "\n",
        "f.close()\n",
        "\n",
        "plt.hist(aug, bins=100, color='r')\n",
        "\n",
        "plt.show()"
      ],
      "execution_count": null,
      "outputs": []
    },
    {
      "cell_type": "code",
      "metadata": {
        "id": "e6K7jvKS_jpv",
        "outputId": "4e03c6f0-93ed-4d91-f53e-586f3ef1d9ba",
        "colab": {
          "base_uri": "https://localhost:8080/",
          "height": 359
        }
      },
      "source": [
        "# 1월과 8월의 최고온도 데이터를 히스토그램으로 시각화하기\n",
        "\n",
        "filename = '/content/drive/My Drive/DATA/busan.csv'\n",
        "\n",
        "import matplotlib.pyplot as plt\n",
        "import csv\n",
        "f = open(filename, 'r', encoding='cp949') \n",
        "data = csv.reader(f)\n",
        "\n",
        "plt.rc('font', family=\"NanumBarunGothic\")    # 한글 글꼴 사용\n",
        "plt.rcParams['axes.unicode_minus'] = False   # 수치상의 -기호 표시하기\n",
        "\n",
        "next(data)\n",
        "\n",
        "aug = []\n",
        "jan = []\n",
        "\n",
        "for row in data:\n",
        "  month = row[0].split('-')[1] # -로 구분된 날짜값 중 두 번째 값을 month값을 저장\n",
        "  if row[-1] != '':\n",
        "    if month == '08':\n",
        "      aug.append(float(row[-1]))\n",
        "    if month == '01':\n",
        "      jan.append(float(row[-1]))\n",
        "\n",
        "f.close()\n",
        "\n",
        "plt.hist(aug, bins=100, color='r', label='8월')\n",
        "plt.hist(jan, bins=100, color='b', label='1월')\n",
        "plt.legend()\n",
        "\n",
        "plt.show()"
      ],
      "execution_count": null,
      "outputs": [
        {
          "output_type": "stream",
          "text": [
            "/usr/local/lib/python3.6/dist-packages/matplotlib/backends/backend_agg.py:214: RuntimeWarning: Glyph 50900 missing from current font.\n",
            "  font.set_text(s, 0.0, flags=flags)\n",
            "/usr/local/lib/python3.6/dist-packages/matplotlib/backends/backend_agg.py:183: RuntimeWarning: Glyph 50900 missing from current font.\n",
            "  font.set_text(s, 0, flags=flags)\n"
          ],
          "name": "stderr"
        },
        {
          "output_type": "display_data",
          "data": {
            "image/png": "[encoded data removed]",
            "text/plain": [
              "<Figure size 432x288 with 1 Axes>"
            ]
          },
          "metadata": {
            "tags": []
          }
        }
      ]
    },
    {
      "cell_type": "markdown",
      "metadata": {
        "id": "EiTOOQxDBxDg"
      },
      "source": [
        "4. 기온 데이터를 상자 그림으로 표현하기"
      ]
    },
    {
      "cell_type": "code",
      "metadata": {
        "id": "lLQIuXXFArlA"
      },
      "source": [
        "import matplotlib.pyplot as plt\n",
        "import random\n",
        "\n",
        "result = []\n",
        "\n",
        "for i in range(13): # 13개의 값 추출(0~12)\n",
        "  result.append(random.randint(1, 1000)) # 1~1000 사이의 랜덤한 값 발생\n",
        "\n",
        "print(sorted(result))\n",
        "\n",
        "plt.boxplot(result)\n",
        "\n",
        "plt.show()"
      ],
      "execution_count": null,
      "outputs": []
    },
    {
      "cell_type": "code",
      "metadata": {
        "id": "pQczGFvMCRrC"
      },
      "source": [
        "# 위 그림 최대값, 3/4값, 2/4값, 1/4값, 최소값\n",
        "# 만약 1/4, 2/4, 3/4에 위치한 정확한 값을 알 수 있는 코드\n",
        "import numpy as np\n",
        "\n",
        "result = np.array(result)\n",
        "\n",
        "print(f'최소값 : {int(np.percentile(result,0))}')\n",
        "print(f'1/4 : {int(np.percentile(result,25))}')\n",
        "print(f'2/4 : {int(np.percentile(result,50))}')\n",
        "print(f'3/4 : {int(np.percentile(result,75))}')\n",
        "print(f'최대값 : {int(np.percentile(result,100))}')"
      ],
      "execution_count": null,
      "outputs": []
    },
    {
      "cell_type": "code",
      "metadata": {
        "id": "rsOFeuSEC6Ln"
      },
      "source": [
        "# 부산의 최고 기온 데이터를 상자 그림으로 그리기\n",
        "filename = '/content/drive/My Drive/DATA/busan.csv'\n",
        "\n",
        "import matplotlib.pyplot as plt\n",
        "import csv\n",
        "f = open(filename, 'r', encoding='cp949') \n",
        "data = csv.reader(f)\n",
        "\n",
        "plt.rc('font', family=\"NanumBarunGothic\")    # 한글 글꼴 사용\n",
        "plt.rcParams['axes.unicode_minus'] = False   # 수치상의 -기호 표시하기\n",
        "\n",
        "next(data)\n",
        "\n",
        "result = []\n",
        "\n",
        "for row in data:\n",
        "  if row[-1] != '':\n",
        "    result.append(float(row[-1]))\n",
        "\n",
        "f.close()\n",
        "\n",
        "plt.boxplot(result)\n",
        "\n",
        "plt.show()"
      ],
      "execution_count": null,
      "outputs": []
    },
    {
      "cell_type": "code",
      "metadata": {
        "id": "IQQh8ZcCEB8i"
      },
      "source": [
        "# 1월과 8월의 최고기온 상자 그림 그리기 - 1\n",
        "filename = '/content/drive/My Drive/DATA/busan.csv'\n",
        "\n",
        "import matplotlib.pyplot as plt\n",
        "import csv\n",
        "f = open(filename, 'r', encoding='cp949') \n",
        "data = csv.reader(f)\n",
        "\n",
        "plt.rc('font', family=\"NanumBarunGothic\")    # 한글 글꼴 사용\n",
        "plt.rcParams['axes.unicode_minus'] = False   # 수치상의 -기호 표시하기\n",
        "\n",
        "next(data)\n",
        "\n",
        "aug = []\n",
        "jan = []\n",
        "\n",
        "for row in data:\n",
        "  month = row[0].split('-')[1]\n",
        "  if row[-1] != '':\n",
        "    if month == '08':\n",
        "      aug.append(float(row[-1]))\n",
        "    if month == '01':\n",
        "      jan.append(float(row[-1]))\n",
        "\n",
        "f.close()\n",
        "\n",
        "plt.boxplot(aug)\n",
        "plt.boxplot(jan)\n",
        "\n",
        "plt.show()"
      ],
      "execution_count": null,
      "outputs": []
    },
    {
      "cell_type": "markdown",
      "metadata": {
        "id": "tO--F9UzJP6s"
      },
      "source": [
        "[matplotlib 기본기 ](https://bcho.tistory.com/1201) <br>\n",
        " https://bcho.tistory.com/1201"
      ]
    },
    {
      "cell_type": "code",
      "metadata": {
        "id": "cuRJ29OUEzES"
      },
      "source": [
        "# subplot 그리기 - 1\n",
        "\n",
        "import matplotlib.pyplot as plt\n",
        "\n",
        "plt.figure(figsize=(10,6))\n",
        "\n",
        "plt.subplot(221) # 221 : 2*2 의 1번째\n",
        "plt.subplot(222) # 222 : 2*2 의 2번째\n",
        "plt.subplot(212) # 212 : 2행 1열로 잡은 공간에 2번째로 지정\n",
        "\n",
        "plt.show()"
      ],
      "execution_count": null,
      "outputs": []
    },
    {
      "cell_type": "code",
      "metadata": {
        "id": "wohBk0IhGV_a"
      },
      "source": [
        "# subplot 그리기 - 2\n",
        "\n",
        "import matplotlib.pyplot as plt\n",
        "\n",
        "plt.figure(figsize=(10,6))\n",
        "\n",
        "plt.subplot(411)\n",
        "plt.subplot(423) \n",
        "plt.subplot(424) \n",
        "plt.subplot(413)\n",
        "plt.subplot(414)\n",
        "\n",
        "plt.show()"
      ],
      "execution_count": null,
      "outputs": []
    },
    {
      "cell_type": "code",
      "metadata": {
        "id": "glMLqBwhG7J4"
      },
      "source": [
        "# subplot 그리기 - 3\n",
        "\n",
        "import matplotlib.pyplot as plt\n",
        "import numpy as np\n",
        "\n",
        "t = np.arange(0, 5, 0.01) # 5를 제외한 수의 나열\n",
        "\n",
        "plt.figure(figsize=(10,12))\n",
        "\n",
        "plt.subplot(411)\n",
        "plt.plot(t, np.sqrt(t))\n",
        "plt.grid()\n",
        "\n",
        "plt.subplot(423)\n",
        "plt.plot(t, t**2)\n",
        "plt.grid()\n",
        "\n",
        "plt.subplot(424)\n",
        "plt.plot(t, t**3)\n",
        "plt.grid()\n",
        "\n",
        "plt.subplot(413)\n",
        "plt.plot(t, np.sin(t))\n",
        "plt.grid()\n",
        "\n",
        "plt.subplot(414)\n",
        "plt.plot(t, np.cos(t))\n",
        "plt.grid()\n",
        "\n",
        "plt.show()"
      ],
      "execution_count": null,
      "outputs": []
    },
    {
      "cell_type": "code",
      "metadata": {
        "id": "vSW9SitpHe2u"
      },
      "source": [
        "# 1월과 8월의 최고기온 상자 그림 그리기 - 2\n",
        "filename = '/content/drive/My Drive/DATA/busan.csv'\n",
        "\n",
        "import matplotlib.pyplot as plt\n",
        "import csv\n",
        "f = open(filename, 'r', encoding='cp949') \n",
        "data = csv.reader(f)\n",
        "\n",
        "plt.rc('font', family=\"NanumBarunGothic\")    # 한글 글꼴 사용\n",
        "plt.rcParams['axes.unicode_minus'] = False   # 수치상의 -기호 표시하기\n",
        "\n",
        "next(data)\n",
        "\n",
        "aug = []\n",
        "jan = []\n",
        "\n",
        "for row in data:\n",
        "  month = row[0].split('-')[1]\n",
        "  if row[-1] != '':\n",
        "    if month == '08':\n",
        "      aug.append(float(row[-1]))\n",
        "    if month == '01':\n",
        "      jan.append(float(row[-1]))\n",
        "\n",
        "f.close()\n",
        "\n",
        "plt.figure(figsize=(20,5))\n",
        "\n",
        "plt.subplot(1,2,1)\n",
        "plt.boxplot(aug)\n",
        "plt.boxplot(jan)\n",
        "\n",
        "plt.subplot(1,2,2)\n",
        "plt.boxplot([aug, jan])\n",
        "\n",
        "plt.show()"
      ],
      "execution_count": null,
      "outputs": []
    },
    {
      "cell_type": "code",
      "metadata": {
        "id": "raM246uOKExq"
      },
      "source": [
        "# 최고 기온 데이터를 월별로 구분하여 표현\n",
        "# 1) 데이터를 월별로 분류해 저장한다.\n",
        "# 2) 월별 데이터를 상자 그림으로 그린다.\n",
        "\n",
        "filename = '/content/drive/My Drive/DATA/busan.csv'\n",
        "\n",
        "import matplotlib.pyplot as plt\n",
        "import csv\n",
        "f = open(filename, 'r', encoding='cp949') \n",
        "data = csv.reader(f)\n",
        "\n",
        "plt.rc('font', family=\"NanumBarunGothic\")    # 한글 글꼴 사용\n",
        "plt.rcParams['axes.unicode_minus'] = False   # 수치상의 -기호 표시하기\n",
        "\n",
        "next(data)\n",
        "\n",
        "# 월별 데이터를 저장할 리스트 month 생성(12개)\n",
        "month = [ [], [], [], [], [], [], \n",
        "          [], [], [], [], [], [] ]\n",
        "\n",
        "for row in data:\n",
        "  if row[-1] != '':\n",
        "    # 월과 같은 번호의 인덱스에 월별 데이터 저장(예:1월->month[0] / 12월->month[11])\n",
        "    month[int(row[0].split('-')[1])-1].append(float(row[-1]))\n",
        "\n",
        "plt.boxplot(month)\n",
        "\n",
        "f.close()"
      ],
      "execution_count": null,
      "outputs": []
    },
    {
      "cell_type": "code",
      "metadata": {
        "id": "c4SCEQJALobo",
        "outputId": "1dfd115c-6a72-4544-ae1f-1d8a7d9aa435",
        "colab": {
          "base_uri": "https://localhost:8080/",
          "height": 438
        }
      },
      "source": [
        "# 위 그래프를 보면 1월이 가장 춥고, 8월이 가장 덥다는 사실을 확인 할 수 있다.\n",
        "# 그렇다면 8월은 언제가 가장 더울까?\n",
        "\n",
        "filename = '/content/drive/My Drive/DATA/busan.csv'\n",
        "\n",
        "import matplotlib.pyplot as plt\n",
        "import csv\n",
        "f = open(filename, 'r', encoding='cp949') \n",
        "data = csv.reader(f)\n",
        "\n",
        "plt.rc('font', family=\"NanumBarunGothic\")    # 한글 글꼴 사용\n",
        "plt.rcParams['axes.unicode_minus'] = False   # 수치상의 -기호 표시하기\n",
        "\n",
        "next(data)\n",
        "\n",
        "day = [] # 일별 데이터를 저장할 리스트 day 생성\n",
        "for i in range(31):\n",
        "  day.append([]) # day 리스트 내 31개 리스트 생성\n",
        "\n",
        "for row in data:\n",
        "  if row[-1] != '':\n",
        "    if row[0].split('-')[1] == '08': # 8월이라면\n",
        "      day[int(row[0].split('-')[2])-1].append(float(row[-1])) # 최고 기온 값 저장\n",
        "\n",
        "f.close()\n",
        "\n",
        "plt.style.use('ggplot') # 그래프 스타일 지정 : 회색의 격자 무늬 스타일\n",
        "\n",
        "plt.figure(figsize=(10,5), dpi=100) # 그래프 크기 수정 : 가로 10, 세로 5 , dpi는 해상도를 의미 100은 작게 / 300은 크게\n",
        "\n",
        "plt.boxplot(day, showfliers=False) # 아웃라이어 값 생략 : showfliers=False는 이상치 값이 보이지 않게 설정\n",
        "\n",
        "plt.show()\n",
        "\n",
        "# 생각해 볼 거리 \n",
        "# => 1년 중 일교차가 가장 큰 달은 몇 월일까요? ㅎㅎ"
      ],
      "execution_count": null,
      "outputs": [
        {
          "output_type": "display_data",
          "data": {
            "image/png": "[encoded data removed]",
            "text/plain": [
              "<Figure size 1000x500 with 1 Axes>"
            ]
          },
          "metadata": {
            "tags": []
          }
        }
      ]
    },
    {
      "cell_type": "markdown",
      "metadata": {
        "id": "fH5Lb3pO0ATG"
      },
      "source": [
        "# 3장. 인구 공공데이터"
      ]
    },
    {
      "cell_type": "markdown",
      "metadata": {
        "id": "wyZfPiwS0FHF"
      },
      "source": [
        " ## 1. 우리 동네 인구 구조 시각화하기\n",
        " * 피터 드러커 : '인구 통계의 변화는 미래와 관련된 것 가운데 정확한 예측을 할 수 있는 유일한 사실'\n",
        " * [행정안전부](https://www.mois.go.kr)\n",
        " * https://www.mois.go.kr : 정책자료-통계-주민등록 인구통계"
      ]
    },
    {
      "cell_type": "markdown",
      "metadata": {
        "id": "50jbvoxa0rk0"
      },
      "source": [
        "1. 인구 공공데이터 내려받기"
      ]
    },
    {
      "cell_type": "code",
      "metadata": {
        "id": "55cAksRHNYHs"
      },
      "source": [
        "# 연령별 인구현황-통계표\n",
        "# 조회기간 : 2020년 09월\n",
        "# 남녀구분 : 체크해제\n",
        "# 연령구분단위 : 1세\n",
        "# 만 연령구분 : 0, 100이상 으로 설정"
      ],
      "execution_count": null,
      "outputs": []
    },
    {
      "cell_type": "markdown",
      "metadata": {
        "id": "Vk8x37Ei6SXQ"
      },
      "source": [
        "2. 인구 데이터 살펴보고 질문하기"
      ]
    },
    {
      "cell_type": "markdown",
      "metadata": {
        "id": "kP5gCsWi7Er5"
      },
      "source": [
        "3. 우리 동네 인구 구조 시각화하기 \n",
        "* 예) 그래프 분석 - 30대 중후반 사람들이 많이 산다.\n",
        "* 예) 그래프 분석 - 10세 이하의 아이가 10대 후반 청소년보다 많다.\n",
        "* 예) 결론 : 이 지역은 어린 아이를 키우는 3~40대 부부가 많겠다라고 생각 할 수 있다."
      ]
    },
    {
      "cell_type": "markdown",
      "metadata": {
        "id": "jHVdi6Q88AeY"
      },
      "source": [
        "[ 우리 동네의 인구 구조 시각화 절차 - 알고리즘 ]\n",
        "1. 인구 데이터 파일을 읽어온다.\n",
        "2. 전체 데이터에서 한 줄씩 반복해서 읽어온다.\n",
        "3. 우리 동네에 대한 데이터인지 확인한다.\n",
        "4. 우리 동네일 경우 0세부터 100세이상까지의 인구수를 순서대로 저장한다.\n",
        "5. 저장된 연령별 인구수 데이터를 시각화한다.\n",
        "\n"
      ]
    },
    {
      "cell_type": "code",
      "metadata": {
        "id": "Yit9xCmu7I7p",
        "outputId": "1a8ef636-9541-4f05-9781-5e15e3b1fb45",
        "colab": {
          "base_uri": "https://localhost:8080/"
        }
      },
      "source": [
        "# 우리나라 전체 인구 데이터 출력\n",
        "\n",
        "filename = '/content/drive/My Drive/DATA/age.csv'\n",
        "\n",
        "import csv\n",
        "\n",
        "f = open(filename, 'r', encoding='cp949')\n",
        "data = csv.reader(f)\n",
        "\n",
        "head = next(data)\n",
        "print(head)\n",
        "\n",
        "f.close()"
      ],
      "execution_count": null,
      "outputs": [
        {
          "output_type": "stream",
          "text": [
            "['행정구역', '2020년09월_계_총인구수', '2020년09월_계_연령구간인구수', '2020년09월_계_0세', '2020년09월_계_1세', '2020년09월_계_2세', '2020년09월_계_3세', '2020년09월_계_4세', '2020년09월_계_5세', '2020년09월_계_6세', '2020년09월_계_7세', '2020년09월_계_8세', '2020년09월_계_9세', '2020년09월_계_10세', '2020년09월_계_11세', '2020년09월_계_12세', '2020년09월_계_13세', '2020년09월_계_14세', '2020년09월_계_15세', '2020년09월_계_16세', '2020년09월_계_17세', '2020년09월_계_18세', '2020년09월_계_19세', '2020년09월_계_20세', '2020년09월_계_21세', '2020년09월_계_22세', '2020년09월_계_23세', '2020년09월_계_24세', '2020년09월_계_25세', '2020년09월_계_26세', '2020년09월_계_27세', '2020년09월_계_28세', '2020년09월_계_29세', '2020년09월_계_30세', '2020년09월_계_31세', '2020년09월_계_32세', '2020년09월_계_33세', '2020년09월_계_34세', '2020년09월_계_35세', '2020년09월_계_36세', '2020년09월_계_37세', '2020년09월_계_38세', '2020년09월_계_39세', '2020년09월_계_40세', '2020년09월_계_41세', '2020년09월_계_42세', '2020년09월_계_43세', '2020년09월_계_44세', '2020년09월_계_45세', '2020년09월_계_46세', '2020년09월_계_47세', '2020년09월_계_48세', '2020년09월_계_49세', '2020년09월_계_50세', '2020년09월_계_51세', '2020년09월_계_52세', '2020년09월_계_53세', '2020년09월_계_54세', '2020년09월_계_55세', '2020년09월_계_56세', '2020년09월_계_57세', '2020년09월_계_58세', '2020년09월_계_59세', '2020년09월_계_60세', '2020년09월_계_61세', '2020년09월_계_62세', '2020년09월_계_63세', '2020년09월_계_64세', '2020년09월_계_65세', '2020년09월_계_66세', '2020년09월_계_67세', '2020년09월_계_68세', '2020년09월_계_69세', '2020년09월_계_70세', '2020년09월_계_71세', '2020년09월_계_72세', '2020년09월_계_73세', '2020년09월_계_74세', '2020년09월_계_75세', '2020년09월_계_76세', '2020년09월_계_77세', '2020년09월_계_78세', '2020년09월_계_79세', '2020년09월_계_80세', '2020년09월_계_81세', '2020년09월_계_82세', '2020년09월_계_83세', '2020년09월_계_84세', '2020년09월_계_85세', '2020년09월_계_86세', '2020년09월_계_87세', '2020년09월_계_88세', '2020년09월_계_89세', '2020년09월_계_90세', '2020년09월_계_91세', '2020년09월_계_92세', '2020년09월_계_93세', '2020년09월_계_94세', '2020년09월_계_95세', '2020년09월_계_96세', '2020년09월_계_97세', '2020년09월_계_98세', '2020년09월_계_99세', '2020년09월_계_100세 이상']\n"
          ],
          "name": "stdout"
        }
      ]
    },
    {
      "cell_type": "code",
      "metadata": {
        "id": "NQq4_Xf9-mcz"
      },
      "source": [
        "# 우리나라 전체 인구 데이터 출력\n",
        "\n",
        "filename = '/content/drive/My Drive/DATA/age.csv'\n",
        "\n",
        "import csv\n",
        "\n",
        "f = open(filename, 'r', encoding='cp949')\n",
        "data = csv.reader(f)\n",
        "\n",
        "for row in data:\n",
        "  print(row)\n",
        "\n",
        "f.close()"
      ],
      "execution_count": null,
      "outputs": []
    },
    {
      "cell_type": "code",
      "metadata": {
        "id": "jeRr7zSU9EpP",
        "outputId": "434377a2-8972-4040-cfe3-bef96f0ba2f0",
        "colab": {
          "base_uri": "https://localhost:8080/"
        }
      },
      "source": [
        "# 부산광역시 해운대구의 인구 시각화\n",
        "\n",
        "filename = '/content/drive/My Drive/DATA/age.csv'\n",
        "\n",
        "import csv\n",
        "\n",
        "f = open(filename, 'r', encoding='cp949')\n",
        "data = csv.reader(f)\n",
        "\n",
        "for row in data:\n",
        "  if '부산광역시 해운대구 우제1동(2635051000)'  == row[0]:\n",
        "    print(row)\n",
        "\n",
        "f.close()"
      ],
      "execution_count": null,
      "outputs": [
        {
          "output_type": "stream",
          "text": [
            "['부산광역시 해운대구 우제1동(2635051000)', '23,254', '23,254', '101', '111', '112', '112', '157', '154', '133', '156', '154', '156', '151', '140', '169', '152', '132', '147', '165', '172', '194', '213', '245', '297', '280', '284', '315', '336', '311', '351', '325', '356', '322', '280', '255', '257', '315', '260', '306', '310', '358', '334', '358', '332', '303', '319', '295', '338', '356', '417', '394', '442', '396', '429', '380', '398', '383', '365', '339', '412', '387', '419', '478', '394', '399', '413', '381', '389', '316', '301', '330', '244', '249', '302', '294', '260', '162', '187', '189', '191', '170', '159', '126', '132', '95', '102', '80', '71', '56', '39', '36', '35', '25', '25', '17', '17', '8', '3', '5', '5', '2', '1', '26']\n"
          ],
          "name": "stdout"
        }
      ]
    },
    {
      "cell_type": "code",
      "metadata": {
        "id": "jUKIH5G--5Hl",
        "outputId": "604ecd95-4e21-48f6-8aa1-a8f8afb3971c",
        "colab": {
          "base_uri": "https://localhost:8080/"
        }
      },
      "source": [
        "# in 연산자를 사용하여 검색 쉽게하기\n",
        "\n",
        "filename = '/content/drive/My Drive/DATA/age.csv'\n",
        "\n",
        "import csv\n",
        "\n",
        "f = open(filename, 'r', encoding='cp949')\n",
        "data = csv.reader(f)\n",
        "\n",
        "for row in data:\n",
        "  if '우제1동' in row[0]: # in 연산자를 이용하여 검색 쉽게하기\n",
        "    print(row) \n",
        "\n",
        "f.close()"
      ],
      "execution_count": null,
      "outputs": [
        {
          "output_type": "stream",
          "text": [
            "['부산광역시 해운대구 우제1동(2635051000)', '23,254', '23,254', '101', '111', '112', '112', '157', '154', '133', '156', '154', '156', '151', '140', '169', '152', '132', '147', '165', '172', '194', '213', '245', '297', '280', '284', '315', '336', '311', '351', '325', '356', '322', '280', '255', '257', '315', '260', '306', '310', '358', '334', '358', '332', '303', '319', '295', '338', '356', '417', '394', '442', '396', '429', '380', '398', '383', '365', '339', '412', '387', '419', '478', '394', '399', '413', '381', '389', '316', '301', '330', '244', '249', '302', '294', '260', '162', '187', '189', '191', '170', '159', '126', '132', '95', '102', '80', '71', '56', '39', '36', '35', '25', '25', '17', '17', '8', '3', '5', '5', '2', '1', '26']\n"
          ],
          "name": "stdout"
        }
      ]
    },
    {
      "cell_type": "code",
      "metadata": {
        "id": "kJujlCgREu74",
        "outputId": "6aea83ae-9402-48c5-a426-8304468c2699",
        "colab": {
          "base_uri": "https://localhost:8080/"
        }
      },
      "source": [
        "# in 연산자\n",
        "print('우제1동' in '부산광역시 해운대구 우제1동(2635051000)')\n",
        "print('2635' in '부산광역시 해운대구 우제1동(2635051000)')\n",
        "print('()' in '부산광역시 해운대구 우제1동(2635051000)')"
      ],
      "execution_count": null,
      "outputs": [
        {
          "output_type": "stream",
          "text": [
            "True\n",
            "True\n",
            "False\n"
          ],
          "name": "stdout"
        }
      ]
    },
    {
      "cell_type": "code",
      "metadata": {
        "id": "1Xit9ySmFHE5"
      },
      "source": [
        "# 부산 해운대구 우제1동의 0~100세 이상까지의 인구수를 순서대로 저장\n",
        "\n",
        "filename = '/content/drive/My Drive/DATA/age.csv'\n",
        "\n",
        "import csv\n",
        "\n",
        "f = open(filename, 'r', encoding='cp949')\n",
        "data = csv.reader(f)\n",
        "\n",
        "for row in data:\n",
        "  if '우제1동' in row[0]:\n",
        "    for i in row[3:]:\n",
        "      print(i , end=' ') # print함수의 end옵션을 통해 빈칸 구분해줌.\n",
        "    for i in row[3:]:\n",
        "      print(i)           # print함수의 end옵션이 없으면 한줄띄움.\n",
        "      \n",
        "f.close()"
      ],
      "execution_count": null,
      "outputs": []
    },
    {
      "cell_type": "code",
      "metadata": {
        "id": "Koubs1FCGIS-",
        "outputId": "647ac6d8-0b2a-4125-cbb3-860ed1b6508c",
        "colab": {
          "base_uri": "https://localhost:8080/"
        }
      },
      "source": [
        "# 읽어온 데이터 저장\n",
        "# 저장할때는 리스트 변수를 사용하는 것이 좋음.\n",
        "\n",
        "filename = '/content/drive/My Drive/DATA/age.csv'\n",
        "\n",
        "import csv\n",
        "\n",
        "f = open(filename, 'r', encoding='cp949')\n",
        "data = csv.reader(f)\n",
        "\n",
        "result = []  # 읽어온 데이터 저장할 변수 리스트 만들기\n",
        "\n",
        "for row in data:\n",
        "  if '우제1동' in row[0]: # 우제1동이 포함된 행정구역 찾기\n",
        "    for i in row[3:]:     # 0세부터 끝(100세이상)까지 모든 연령에 대해 반복하기\n",
        "      result.append(i)    # 해당 연령의 인구수 리스트에 순서대로 저장하기\n",
        "      \n",
        "f.close()\n",
        "\n",
        "print(result)             # 0세부터 100세 이상까지의 인구수 출력하기"
      ],
      "execution_count": null,
      "outputs": [
        {
          "output_type": "stream",
          "text": [
            "['101', '111', '112', '112', '157', '154', '133', '156', '154', '156', '151', '140', '169', '152', '132', '147', '165', '172', '194', '213', '245', '297', '280', '284', '315', '336', '311', '351', '325', '356', '322', '280', '255', '257', '315', '260', '306', '310', '358', '334', '358', '332', '303', '319', '295', '338', '356', '417', '394', '442', '396', '429', '380', '398', '383', '365', '339', '412', '387', '419', '478', '394', '399', '413', '381', '389', '316', '301', '330', '244', '249', '302', '294', '260', '162', '187', '189', '191', '170', '159', '126', '132', '95', '102', '80', '71', '56', '39', '36', '35', '25', '25', '17', '17', '8', '3', '5', '5', '2', '1', '26']\n"
          ],
          "name": "stdout"
        }
      ]
    },
    {
      "cell_type": "code",
      "metadata": {
        "id": "XIiFVkfAHzlH",
        "outputId": "cf16e7b1-2c25-4cc1-8aae-8a3925f7d6d7",
        "colab": {
          "base_uri": "https://localhost:8080/",
          "height": 307
        }
      },
      "source": [
        "# 문자열 출력값을 그래프를 위해서 수치형으로 바꾼다.\n",
        "\n",
        "filename = '/content/drive/My Drive/DATA/age.csv'\n",
        "\n",
        "import csv\n",
        "\n",
        "f = open(filename, 'r', encoding='cp949')\n",
        "data = csv.reader(f)\n",
        "\n",
        "result = [] \n",
        "\n",
        "for row in data:\n",
        "  if '우제1동' in row[0]:\n",
        "    for i in row[3:]:    \n",
        "      result.append(int(i))  # 데이터 시각화를 위해 문자열 출력을 정수형으로 변환\n",
        "      \n",
        "f.close()\n",
        "\n",
        "print(result)   \n",
        "\n",
        "import matplotlib.pyplot as plt\n",
        "plt.style.use('ggplot')  # 회색 격자 무늬 스타일 지정\n",
        "\n",
        "plt.plot(result)\n",
        "\n",
        "plt.show()"
      ],
      "execution_count": null,
      "outputs": [
        {
          "output_type": "stream",
          "text": [
            "[101, 111, 112, 112, 157, 154, 133, 156, 154, 156, 151, 140, 169, 152, 132, 147, 165, 172, 194, 213, 245, 297, 280, 284, 315, 336, 311, 351, 325, 356, 322, 280, 255, 257, 315, 260, 306, 310, 358, 334, 358, 332, 303, 319, 295, 338, 356, 417, 394, 442, 396, 429, 380, 398, 383, 365, 339, 412, 387, 419, 478, 394, 399, 413, 381, 389, 316, 301, 330, 244, 249, 302, 294, 260, 162, 187, 189, 191, 170, 159, 126, 132, 95, 102, 80, 71, 56, 39, 36, 35, 25, 25, 17, 17, 8, 3, 5, 5, 2, 1, 26]\n"
          ],
          "name": "stdout"
        },
        {
          "output_type": "display_data",
          "data": {
            "image/png": "[encoded data removed]",
            "text/plain": [
              "<Figure size 432x288 with 1 Axes>"
            ]
          },
          "metadata": {
            "tags": []
          }
        }
      ]
    },
    {
      "cell_type": "markdown",
      "metadata": {
        "id": "K-ORZwLONohL"
      },
      "source": [
        "## 2. 인구 구조를 다양한 형태로 시각화 하기"
      ]
    },
    {
      "cell_type": "code",
      "metadata": {
        "id": "GpL2MRbtY95k"
      },
      "source": [
        "# Colab에서 한글 사용\n",
        "# 참고사이트 : https://teddylee777.github.io/colab/colab-korean\n",
        "!sudo apt-get install -y fonts-nanum\n",
        "!sudo fc-cache -fv\n",
        "!rm ~/.cache/matplotlib -rf\n",
        "# 설치 이후 런타임-런타임 다시 시작을 클릭하여 런타임을 재시작합니다."
      ],
      "execution_count": null,
      "outputs": []
    },
    {
      "cell_type": "code",
      "metadata": {
        "id": "l76I74RWKo5Q",
        "outputId": "e0235315-e352-4796-b941-e39acfdbf72c",
        "colab": {
          "base_uri": "https://localhost:8080/",
          "height": 338
        }
      },
      "source": [
        "# 문자열 출력값을 그래프를 위해서 수치형으로 바꾼다.\n",
        "\n",
        "filename = '/content/drive/My Drive/DATA/age.csv'\n",
        "\n",
        "import csv\n",
        "\n",
        "f = open(filename, 'r', encoding='cp949')\n",
        "data = csv.reader(f)\n",
        "\n",
        "result = [] \n",
        "loc_name = input('인구 구조를 알고 싶은 지역의 이름(읍면동 단위)을 입력해 주세요. : ')\n",
        "\n",
        "for row in data:\n",
        "  if loc_name in row[0]:\n",
        "    for i in row[3:]:    \n",
        "      result.append(int(i))\n",
        "      \n",
        "f.close()\n",
        "\n",
        "print(result)   \n",
        "\n",
        "import matplotlib.pyplot as plt\n",
        "\n",
        "plt.rc('font', family=\"NanumBarunGothic\")    # 한글 글꼴 사용\n",
        "plt.rcParams['axes.unicode_minus'] = False   # 수치상의 -기호 표시하기\n",
        "\n",
        "plt.style.use('ggplot')\n",
        "plt.title(f'{loc_name} 지역의 인구 구조')\n",
        "plt.plot(result)\n",
        "\n",
        "plt.show()"
      ],
      "execution_count": null,
      "outputs": [
        {
          "output_type": "stream",
          "text": [
            "인구 구조를 알고 싶은 지역의 이름(읍면동 단위)을 입력해 주세요. : 아름동\n",
            "[191, 281, 271, 344, 402, 384, 404, 441, 512, 554, 493, 504, 516, 463, 457, 428, 423, 372, 325, 314, 261, 208, 171, 152, 150, 144, 150, 148, 181, 194, 201, 216, 239, 305, 284, 350, 408, 457, 558, 609, 657, 623, 617, 640, 621, 624, 661, 574, 531, 516, 436, 357, 344, 285, 236, 216, 156, 183, 180, 210, 175, 163, 142, 113, 121, 121, 98, 77, 97, 52, 68, 69, 58, 64, 42, 30, 29, 31, 35, 29, 15, 24, 25, 22, 19, 19, 18, 5, 10, 5, 10, 9, 4, 5, 3, 3, 1, 1, 0, 2, 0]\n"
          ],
          "name": "stdout"
        },
        {
          "output_type": "display_data",
          "data": {
            "image/png": "[encoded data removed]",
            "text/plain": [
              "<Figure size 432x288 with 1 Axes>"
            ]
          },
          "metadata": {
            "tags": []
          }
        }
      ]
    },
    {
      "cell_type": "markdown",
      "metadata": {
        "id": "d2H0HMQeaBsO"
      },
      "source": [
        "1. 막대그래프 그리기"
      ]
    },
    {
      "cell_type": "code",
      "metadata": {
        "id": "FyE2Y7HQQxAk",
        "outputId": "d5afc656-35b3-4b72-f8d6-c3b3d02b282f",
        "colab": {
          "base_uri": "https://localhost:8080/",
          "height": 265
        }
      },
      "source": [
        "# bar()함수 \n",
        "\n",
        "import matplotlib.pyplot as plt\n",
        "\n",
        "plt.bar([0,1,2,4,6,10], [1,2,3,5,6,7])  # bar( 막대를 표시할 위치, 막대의 높이 )\n",
        "\n",
        "plt.show()"
      ],
      "execution_count": null,
      "outputs": [
        {
          "output_type": "display_data",
          "data": {
            "image/png": "[encoded data removed]",
            "text/plain": [
              "<Figure size 432x288 with 1 Axes>"
            ]
          },
          "metadata": {
            "tags": []
          }
        }
      ]
    },
    {
      "cell_type": "code",
      "metadata": {
        "id": "VF3Kss6pbd1m",
        "outputId": "409dc03a-1683-4a21-898b-e85cd2977113",
        "colab": {
          "base_uri": "https://localhost:8080/",
          "height": 265
        }
      },
      "source": [
        "# 막대그래프를 오름차순으로 표현하는 경우 : range()함수 사용\n",
        "\n",
        "import matplotlib.pyplot as plt\n",
        "\n",
        "plt.bar(range(6), [1,2,3,5,6,7])\n",
        "\n",
        "plt.show()"
      ],
      "execution_count": null,
      "outputs": [
        {
          "output_type": "display_data",
          "data": {
            "image/png": "[encoded data removed]",
            "text/plain": [
              "<Figure size 432x288 with 1 Axes>"
            ]
          },
          "metadata": {
            "tags": []
          }
        }
      ]
    },
    {
      "cell_type": "code",
      "metadata": {
        "id": "Oy-y8Qrhcfcp",
        "outputId": "d419e7d7-cdb9-44e0-d841-7fd2ae3d2fee",
        "colab": {
          "base_uri": "https://localhost:8080/",
          "height": 246
        }
      },
      "source": [
        "# 우리 동네의 인구 구조를 막대 그래프로 표현\n",
        "# 0~100세 이상까지 101개 구간이 있기때문에 range(101)을 사용\n",
        "\n",
        "filename = '/content/drive/My Drive/DATA/age.csv'\n",
        "\n",
        "import csv\n",
        "\n",
        "f = open(filename, 'r', encoding='cp949')\n",
        "data = csv.reader(f)\n",
        "\n",
        "result = [] \n",
        "loc_name = input('인구 구조를 알고 싶은 지역의 이름(읍면동 단위)을 입력해 주세요. : ')\n",
        "\n",
        "for row in data:\n",
        "  if loc_name in row[0]:\n",
        "    for i in row[3:]:    \n",
        "      result.append(int(i))\n",
        "      \n",
        "f.close()\n",
        "\n",
        "import matplotlib.pyplot as plt\n",
        "\n",
        "plt.rc('font', family=\"NanumBarunGothic\")    # 한글 글꼴 사용\n",
        "plt.rcParams['axes.unicode_minus'] = False   # 수치상의 -기호 표시하기\n",
        "\n",
        "plt.figure(figsize=(12,3))\n",
        "plt.title(f'{loc_name} 지역의 인구 구조')\n",
        "\n",
        "plt.bar(range(101), result)  # 인구구조를 막대그래프로 표시\n",
        "\n",
        "plt.show()"
      ],
      "execution_count": null,
      "outputs": [
        {
          "output_type": "stream",
          "text": [
            "인구 구조를 알고 싶은 지역의 이름(읍면동 단위)을 입력해 주세요. : 부산광역시 연제구 연산제1동\n"
          ],
          "name": "stdout"
        },
        {
          "output_type": "display_data",
          "data": {
            "image/png": "[encoded data removed]",
            "text/plain": [
              "<Figure size 864x216 with 1 Axes>"
            ]
          },
          "metadata": {
            "tags": []
          }
        }
      ]
    },
    {
      "cell_type": "code",
      "metadata": {
        "id": "AsY1xUebdKBQ",
        "outputId": "c0aff688-b01c-4b96-99cf-089bb57dfd37",
        "colab": {
          "base_uri": "https://localhost:8080/",
          "height": 227
        }
      },
      "source": [
        "# 수평방향 막대 그래프 : barh()함수\n",
        "\n",
        "filename = '/content/drive/My Drive/DATA/age.csv'\n",
        "\n",
        "import csv\n",
        "\n",
        "f = open(filename, 'r', encoding='cp949')\n",
        "data = csv.reader(f)\n",
        "\n",
        "result = [] \n",
        "# loc_name = input('인구 구조를 알고 싶은 지역의 이름(읍면동 단위)을 입력해 주세요. : ')\n",
        "loc_name = '부산광역시 연제구 연산제1동'\n",
        "\n",
        "for row in data:\n",
        "  if loc_name in row[0]:\n",
        "    for i in row[3:]:    \n",
        "      result.append(int(i))\n",
        "      \n",
        "f.close()\n",
        "\n",
        "import matplotlib.pyplot as plt\n",
        "\n",
        "plt.rc('font', family=\"NanumBarunGothic\")    # 한글 글꼴 사용\n",
        "plt.rcParams['axes.unicode_minus'] = False   # 수치상의 -기호 표시하기\n",
        "\n",
        "plt.figure(figsize=(12,3))\n",
        "plt.title(f'{loc_name} 지역의 인구 구조')\n",
        "\n",
        "plt.barh(range(101), result)  # 수평방향 막대 그래프 그림\n",
        "\n",
        "plt.show()"
      ],
      "execution_count": null,
      "outputs": [
        {
          "output_type": "display_data",
          "data": {
            "image/png": "[encoded data removed]",
            "text/plain": [
              "<Figure size 864x216 with 1 Axes>"
            ]
          },
          "metadata": {
            "tags": []
          }
        }
      ]
    },
    {
      "cell_type": "markdown",
      "metadata": {
        "id": "eT2wXI2HrFcB"
      },
      "source": [
        "2. 항아리 모양 그래프 그리기"
      ]
    },
    {
      "cell_type": "code",
      "metadata": {
        "id": "nKuJXsykrFcG"
      },
      "source": [
        "# 데이터 수집하기\n",
        "# 행정안전부 홈페이지( www.mois.go.kr )의 정책자료-통계-주민등록 인구통계 접속\n",
        "# 구분- 계 선택 해제 / 남여구분 체크\n",
        "# 연령구분단위 1세\n",
        "# 만 연령구분 : 0 ~ 100세 이상\n",
        "# 검색"
      ],
      "execution_count": null,
      "outputs": []
    },
    {
      "cell_type": "code",
      "metadata": {
        "id": "gVh1CI3RrOZs",
        "outputId": "6dcc19a1-c276-474f-e074-83ec92e68f36",
        "colab": {
          "base_uri": "https://localhost:8080/"
        }
      },
      "source": [
        "filename = '/content/drive/My Drive/DATA/gender.csv'\n",
        "\n",
        "import csv\n",
        "\n",
        "f = open(filename, 'r', encoding='cp949')\n",
        "data = csv.reader(f)\n",
        "\n",
        "loc_name = \"부산광역시 연제구 연산제1동\"\n",
        "male = [] # 남성 데이터 변수\n",
        "female = [] # 여성 데이터 변수\n",
        "\n",
        "for row in data:\n",
        "  if loc_name in row[0]:\n",
        "    for i in range(0,101): # 0~100세이상\n",
        "      male.append(int(row[i+3]))\n",
        "      female.append(int(row[-(i+1)]))\n",
        "\n",
        "female.reverse() # reverse()함수는 리스트의 값을 역순으로 재배열하는 함수\n",
        "      \n",
        "f.close()\n",
        "\n",
        "print(f'남성의 연령별 인구수 : {male}')\n",
        "print(f'여성의 연령별 인구수 : {female}')"
      ],
      "execution_count": null,
      "outputs": [
        {
          "output_type": "stream",
          "text": [
            "남성의 연령별 인구수 : [51, 56, 63, 55, 83, 61, 76, 64, 76, 62, 69, 79, 71, 60, 67, 51, 85, 64, 62, 65, 79, 75, 105, 90, 109, 104, 109, 116, 117, 102, 105, 99, 81, 91, 118, 112, 109, 106, 145, 177, 151, 132, 107, 117, 96, 104, 123, 123, 145, 109, 110, 140, 123, 107, 117, 142, 103, 122, 130, 150, 153, 130, 144, 141, 133, 142, 130, 89, 138, 77, 95, 99, 88, 81, 64, 52, 50, 57, 51, 40, 37, 42, 34, 20, 17, 16, 10, 8, 12, 4, 1, 7, 5, 0, 0, 0, 0, 1, 0, 0, 2]\n",
            "여성의 연령별 인구수 : [40, 52, 55, 62, 69, 77, 67, 70, 71, 58, 56, 52, 58, 60, 66, 60, 52, 55, 63, 67, 74, 69, 77, 84, 96, 95, 93, 79, 91, 116, 103, 85, 89, 95, 109, 110, 116, 114, 131, 139, 151, 124, 136, 110, 121, 118, 137, 122, 128, 122, 134, 138, 136, 140, 129, 141, 142, 153, 154, 195, 199, 172, 148, 178, 135, 153, 139, 113, 126, 94, 111, 105, 93, 93, 44, 69, 62, 72, 67, 45, 51, 43, 42, 45, 30, 23, 27, 15, 17, 16, 9, 5, 2, 2, 2, 5, 2, 2, 3, 0, 6]\n"
          ],
          "name": "stdout"
        }
      ]
    },
    {
      "cell_type": "code",
      "metadata": {
        "id": "BkrJgRu3vfjD",
        "outputId": "3463dba2-c89f-4062-a599-89d95cdd6793",
        "colab": {
          "base_uri": "https://localhost:8080/"
        }
      },
      "source": [
        "# 또 다른 표현\n",
        "\n",
        "filename = '/content/drive/My Drive/DATA/gender.csv'\n",
        "\n",
        "import csv\n",
        "\n",
        "f = open(filename, 'r', encoding='cp949')\n",
        "data = csv.reader(f)\n",
        "\n",
        "loc_name = \"부산광역시 연제구 연산제1동\"\n",
        "male = [] # 남성 데이터 변수\n",
        "female = [] # 여성 데이터 변수\n",
        "\n",
        "for row in data:\n",
        "  if loc_name in row[0]:\n",
        "    for i in row[3:104]:\n",
        "      male.append(int(i))\n",
        "    for i in row[106:]:\n",
        "      female.append(int(i))\n",
        "      \n",
        "f.close()\n",
        "\n",
        "print(f'남성의 연령별 인구수 : {male}')\n",
        "print(f'여성의 연령별 인구수 : {female}')"
      ],
      "execution_count": null,
      "outputs": [
        {
          "output_type": "stream",
          "text": [
            "남성의 연령별 인구수 : [51, 56, 63, 55, 83, 61, 76, 64, 76, 62, 69, 79, 71, 60, 67, 51, 85, 64, 62, 65, 79, 75, 105, 90, 109, 104, 109, 116, 117, 102, 105, 99, 81, 91, 118, 112, 109, 106, 145, 177, 151, 132, 107, 117, 96, 104, 123, 123, 145, 109, 110, 140, 123, 107, 117, 142, 103, 122, 130, 150, 153, 130, 144, 141, 133, 142, 130, 89, 138, 77, 95, 99, 88, 81, 64, 52, 50, 57, 51, 40, 37, 42, 34, 20, 17, 16, 10, 8, 12, 4, 1, 7, 5, 0, 0, 0, 0, 1, 0, 0, 2]\n",
            "여성의 연령별 인구수 : [40, 52, 55, 62, 69, 77, 67, 70, 71, 58, 56, 52, 58, 60, 66, 60, 52, 55, 63, 67, 74, 69, 77, 84, 96, 95, 93, 79, 91, 116, 103, 85, 89, 95, 109, 110, 116, 114, 131, 139, 151, 124, 136, 110, 121, 118, 137, 122, 128, 122, 134, 138, 136, 140, 129, 141, 142, 153, 154, 195, 199, 172, 148, 178, 135, 153, 139, 113, 126, 94, 111, 105, 93, 93, 44, 69, 62, 72, 67, 45, 51, 43, 42, 45, 30, 23, 27, 15, 17, 16, 9, 5, 2, 2, 2, 5, 2, 2, 3, 0, 6]\n"
          ],
          "name": "stdout"
        }
      ]
    },
    {
      "cell_type": "code",
      "metadata": {
        "id": "o-jW0nakw-oZ"
      },
      "source": [
        "# Colab에서 한글 사용\n",
        "# 참고사이트 : https://teddylee777.github.io/colab/colab-korean\n",
        "!sudo apt-get install -y fonts-nanum\n",
        "!sudo fc-cache -fv\n",
        "!rm ~/.cache/matplotlib -rf\n",
        "# 설치 이후 런타임-런타임 다시 시작을 클릭하여 런타임을 재시작합니다."
      ],
      "execution_count": null,
      "outputs": []
    },
    {
      "cell_type": "code",
      "metadata": {
        "id": "6IvxUaq3wXSc",
        "outputId": "d6d1f9a6-f018-45ba-a284-aa0bf700bcd4",
        "colab": {
          "base_uri": "https://localhost:8080/",
          "height": 486
        }
      },
      "source": [
        "# 데이터 시각화 하기-1\n",
        "\n",
        "filename = '/content/drive/My Drive/DATA/gender.csv'\n",
        "\n",
        "import csv\n",
        "\n",
        "f = open(filename, 'r', encoding='cp949')\n",
        "data = csv.reader(f)\n",
        "\n",
        "loc_name = \"부산광역시 연제구 연산제1동\"\n",
        "male = [] # 남성 데이터 변수\n",
        "female = [] # 여성 데이터 변수\n",
        "\n",
        "for row in data:\n",
        "  if loc_name in row[0]:\n",
        "    for i in row[3:104]:\n",
        "      male.append(int(i))\n",
        "    for i in row[106:]:\n",
        "      female.append(int(i))\n",
        "      \n",
        "f.close()\n",
        "\n",
        "import matplotlib.pyplot as plt\n",
        "\n",
        "plt.rc('font', family=\"NanumBarunGothic\")    # 한글 글꼴 사용\n",
        "plt.rcParams['axes.unicode_minus'] = False   # 수치상의 -기호 표시하기\n",
        "\n",
        "plt.figure(figsize=(12,8))\n",
        "plt.title(f'{loc_name}의 남성 및 여성 인구 수')\n",
        "\n",
        "plt.barh(range(101), male, label='남성')\n",
        "plt.barh(range(101), female, label='여성')\n",
        "\n",
        "plt.legend()\n",
        "plt.show()"
      ],
      "execution_count": null,
      "outputs": [
        {
          "output_type": "display_data",
          "data": {
            "image/png": "[encoded data removed]",
            "text/plain": [
              "<Figure size 864x576 with 1 Axes>"
            ]
          },
          "metadata": {
            "tags": [],
            "needs_background": "light"
          }
        }
      ]
    },
    {
      "cell_type": "code",
      "metadata": {
        "id": "13DONNfcwpLI",
        "outputId": "c2e69b19-93da-443b-8d11-e1c72e495d04",
        "colab": {
          "base_uri": "https://localhost:8080/",
          "height": 499
        }
      },
      "source": [
        "# 데이터 시각화 하기-2\n",
        "\n",
        "filename = '/content/drive/My Drive/DATA/gender.csv'\n",
        "\n",
        "import csv\n",
        "\n",
        "f = open(filename, 'r', encoding='cp949')\n",
        "data = csv.reader(f)\n",
        "\n",
        "loc_name = \"부산광역시 연제구 연산제1동\"\n",
        "male = [] # 남성 데이터 변수\n",
        "female = [] # 여성 데이터 변수\n",
        "\n",
        "for row in data:\n",
        "  if loc_name in row[0]:\n",
        "    for i in row[3:104]:\n",
        "      male.append(-int(i))   # 마이너스 부호를 넣어서 음수로 변경\n",
        "    for i in row[106:]:\n",
        "      female.append(int(i))\n",
        "      \n",
        "f.close()\n",
        "\n",
        "import matplotlib.pyplot as plt\n",
        "\n",
        "plt.rc('font', family=\"NanumBarunGothic\")    # 한글 글꼴 사용\n",
        "plt.rcParams['axes.unicode_minus'] = False   # 수치상의 -기호 표시하기\n",
        "\n",
        "plt.style.use('ggplot') # 회색 격자 바탕\n",
        "plt.figure(figsize=(12,8))\n",
        "plt.title(f'{loc_name}의 남성 및 여성 인구 수')\n",
        "\n",
        "plt.barh(range(101), male, label='남성')\n",
        "plt.barh(range(101), female, label='여성')\n",
        "\n",
        "plt.legend()\n",
        "plt.show()"
      ],
      "execution_count": 6,
      "outputs": [
        {
          "output_type": "display_data",
          "data": {
            "image/png": "[encoded data removed]",
            "text/plain": [
              "<Figure size 864x576 with 1 Axes>"
            ]
          },
          "metadata": {
            "tags": []
          }
        }
      ]
    },
    {
      "cell_type": "markdown",
      "metadata": {
        "id": "nYq-JSbMzMc5"
      },
      "source": [
        "3. 제주도에는 여성의 비율이 더 높을까?"
      ]
    },
    {
      "cell_type": "code",
      "metadata": {
        "id": "6qCf75GxyWXq",
        "outputId": "f717ae7b-c442-44ea-e2fa-0ce58ad77b60",
        "colab": {
          "base_uri": "https://localhost:8080/",
          "height": 1000
        }
      },
      "source": [
        "# 찾고자 하는 구역 이름 입력\n",
        "\n",
        "filename = '/content/drive/My Drive/DATA/gender.csv'\n",
        "\n",
        "import csv\n",
        "\n",
        "f = open(filename, 'r', encoding='cp949')\n",
        "data = csv.reader(f)\n",
        "\n",
        "#loc_name = \"부산광역시 연제구 연산제1동\"\n",
        "loc_name = input('찾고 싶은 지역의 이름을 알려주세요 : ')   # 검색할 지역 입력\n",
        "\n",
        "male = [] \n",
        "female = [] \n",
        "\n",
        "for row in data:\n",
        "  if loc_name in row[0]:\n",
        "    for i in row[3:104]:\n",
        "      male.append(-int(i.replace(',',''))) # 예 '23,578'과 같은 콤마 문자열을 숫자로 변환할려면 replace()함수를 사용.\n",
        "    for i in row[106:]:\n",
        "      female.append(int(i.replace(',','')))\n",
        "      \n",
        "f.close()\n",
        "\n",
        "import matplotlib.pyplot as plt\n",
        "\n",
        "plt.rc('font', family=\"NanumBarunGothic\")    # 한글 글꼴 사용\n",
        "plt.rcParams['axes.unicode_minus'] = False   # 수치상의 -기호 표시하기\n",
        "\n",
        "plt.style.use('ggplot') # 회색 격자 바탕\n",
        "plt.figure(figsize=(12,8), dpi=100)\n",
        "plt.title(f'{loc_name}의 남성 및 여성 인구 수')\n",
        "\n",
        "plt.barh(range(101), male, label='남성')\n",
        "plt.barh(range(101), female, label='여성')\n",
        "\n",
        "plt.legend()\n",
        "plt.show()"
      ],
      "execution_count": 65,
      "outputs": [
        {
          "output_type": "stream",
          "text": [
            "찾고 싶은 지역의 이름을 알려주세요 : 제주특별자치도\n"
          ],
          "name": "stdout"
        },
        {
          "output_type": "error",
          "ename": "ValueError",
          "evalue": "ignored",
          "traceback": [
            "\u001b[0;31m---------------------------------------------------------------------------\u001b[0m",
            "\u001b[0;31mValueError\u001b[0m                                Traceback (most recent call last)",
            "\u001b[0;32m<ipython-input-65-1a3e3c31aa0d>\u001b[0m in \u001b[0;36m<module>\u001b[0;34m()\u001b[0m\n\u001b[1;32m     32\u001b[0m \u001b[0mplt\u001b[0m\u001b[0;34m.\u001b[0m\u001b[0mtitle\u001b[0m\u001b[0;34m(\u001b[0m\u001b[0;34mf'{loc_name}의 남성 및 여성 인구 수'\u001b[0m\u001b[0;34m)\u001b[0m\u001b[0;34m\u001b[0m\u001b[0;34m\u001b[0m\u001b[0m\n\u001b[1;32m     33\u001b[0m \u001b[0;34m\u001b[0m\u001b[0m\n\u001b[0;32m---> 34\u001b[0;31m \u001b[0mplt\u001b[0m\u001b[0;34m.\u001b[0m\u001b[0mbarh\u001b[0m\u001b[0;34m(\u001b[0m\u001b[0mrange\u001b[0m\u001b[0;34m(\u001b[0m\u001b[0;36m101\u001b[0m\u001b[0;34m)\u001b[0m\u001b[0;34m,\u001b[0m \u001b[0mmale\u001b[0m\u001b[0;34m,\u001b[0m \u001b[0mlabel\u001b[0m\u001b[0;34m=\u001b[0m\u001b[0;34m'남성'\u001b[0m\u001b[0;34m)\u001b[0m\u001b[0;34m\u001b[0m\u001b[0;34m\u001b[0m\u001b[0m\n\u001b[0m\u001b[1;32m     35\u001b[0m \u001b[0mplt\u001b[0m\u001b[0;34m.\u001b[0m\u001b[0mbarh\u001b[0m\u001b[0;34m(\u001b[0m\u001b[0mrange\u001b[0m\u001b[0;34m(\u001b[0m\u001b[0;36m101\u001b[0m\u001b[0;34m)\u001b[0m\u001b[0;34m,\u001b[0m \u001b[0mfemale\u001b[0m\u001b[0;34m,\u001b[0m \u001b[0mlabel\u001b[0m\u001b[0;34m=\u001b[0m\u001b[0;34m'여성'\u001b[0m\u001b[0;34m)\u001b[0m\u001b[0;34m\u001b[0m\u001b[0;34m\u001b[0m\u001b[0m\n\u001b[1;32m     36\u001b[0m \u001b[0;34m\u001b[0m\u001b[0m\n",
            "\u001b[0;32m/usr/local/lib/python3.6/dist-packages/matplotlib/pyplot.py\u001b[0m in \u001b[0;36mbarh\u001b[0;34m(y, width, height, left, align, **kwargs)\u001b[0m\n\u001b[1;32m   2421\u001b[0m \u001b[0;32mdef\u001b[0m \u001b[0mbarh\u001b[0m\u001b[0;34m(\u001b[0m\u001b[0my\u001b[0m\u001b[0;34m,\u001b[0m \u001b[0mwidth\u001b[0m\u001b[0;34m,\u001b[0m \u001b[0mheight\u001b[0m\u001b[0;34m=\u001b[0m\u001b[0;36m0.8\u001b[0m\u001b[0;34m,\u001b[0m \u001b[0mleft\u001b[0m\u001b[0;34m=\u001b[0m\u001b[0;32mNone\u001b[0m\u001b[0;34m,\u001b[0m \u001b[0;34m*\u001b[0m\u001b[0;34m,\u001b[0m \u001b[0malign\u001b[0m\u001b[0;34m=\u001b[0m\u001b[0;34m'center'\u001b[0m\u001b[0;34m,\u001b[0m \u001b[0;34m**\u001b[0m\u001b[0mkwargs\u001b[0m\u001b[0;34m)\u001b[0m\u001b[0;34m:\u001b[0m\u001b[0;34m\u001b[0m\u001b[0;34m\u001b[0m\u001b[0m\n\u001b[1;32m   2422\u001b[0m     return gca().barh(\n\u001b[0;32m-> 2423\u001b[0;31m         y, width, height=height, left=left, align=align, **kwargs)\n\u001b[0m\u001b[1;32m   2424\u001b[0m \u001b[0;34m\u001b[0m\u001b[0m\n\u001b[1;32m   2425\u001b[0m \u001b[0;34m\u001b[0m\u001b[0m\n",
            "\u001b[0;32m/usr/local/lib/python3.6/dist-packages/matplotlib/axes/_axes.py\u001b[0m in \u001b[0;36mbarh\u001b[0;34m(self, y, width, height, left, align, **kwargs)\u001b[0m\n\u001b[1;32m   2545\u001b[0m         \u001b[0mkwargs\u001b[0m\u001b[0;34m.\u001b[0m\u001b[0msetdefault\u001b[0m\u001b[0;34m(\u001b[0m\u001b[0;34m'orientation'\u001b[0m\u001b[0;34m,\u001b[0m \u001b[0;34m'horizontal'\u001b[0m\u001b[0;34m)\u001b[0m\u001b[0;34m\u001b[0m\u001b[0;34m\u001b[0m\u001b[0m\n\u001b[1;32m   2546\u001b[0m         patches = self.bar(x=left, height=height, width=width, bottom=y,\n\u001b[0;32m-> 2547\u001b[0;31m                            align=align, **kwargs)\n\u001b[0m\u001b[1;32m   2548\u001b[0m         \u001b[0;32mreturn\u001b[0m \u001b[0mpatches\u001b[0m\u001b[0;34m\u001b[0m\u001b[0;34m\u001b[0m\u001b[0m\n\u001b[1;32m   2549\u001b[0m \u001b[0;34m\u001b[0m\u001b[0m\n",
            "\u001b[0;32m/usr/local/lib/python3.6/dist-packages/matplotlib/__init__.py\u001b[0m in \u001b[0;36minner\u001b[0;34m(ax, data, *args, **kwargs)\u001b[0m\n\u001b[1;32m   1563\u001b[0m     \u001b[0;32mdef\u001b[0m \u001b[0minner\u001b[0m\u001b[0;34m(\u001b[0m\u001b[0max\u001b[0m\u001b[0;34m,\u001b[0m \u001b[0;34m*\u001b[0m\u001b[0margs\u001b[0m\u001b[0;34m,\u001b[0m \u001b[0mdata\u001b[0m\u001b[0;34m=\u001b[0m\u001b[0;32mNone\u001b[0m\u001b[0;34m,\u001b[0m \u001b[0;34m**\u001b[0m\u001b[0mkwargs\u001b[0m\u001b[0;34m)\u001b[0m\u001b[0;34m:\u001b[0m\u001b[0;34m\u001b[0m\u001b[0;34m\u001b[0m\u001b[0m\n\u001b[1;32m   1564\u001b[0m         \u001b[0;32mif\u001b[0m \u001b[0mdata\u001b[0m \u001b[0;32mis\u001b[0m \u001b[0;32mNone\u001b[0m\u001b[0;34m:\u001b[0m\u001b[0;34m\u001b[0m\u001b[0;34m\u001b[0m\u001b[0m\n\u001b[0;32m-> 1565\u001b[0;31m             \u001b[0;32mreturn\u001b[0m \u001b[0mfunc\u001b[0m\u001b[0;34m(\u001b[0m\u001b[0max\u001b[0m\u001b[0;34m,\u001b[0m \u001b[0;34m*\u001b[0m\u001b[0mmap\u001b[0m\u001b[0;34m(\u001b[0m\u001b[0msanitize_sequence\u001b[0m\u001b[0;34m,\u001b[0m \u001b[0margs\u001b[0m\u001b[0;34m)\u001b[0m\u001b[0;34m,\u001b[0m \u001b[0;34m**\u001b[0m\u001b[0mkwargs\u001b[0m\u001b[0;34m)\u001b[0m\u001b[0;34m\u001b[0m\u001b[0;34m\u001b[0m\u001b[0m\n\u001b[0m\u001b[1;32m   1566\u001b[0m \u001b[0;34m\u001b[0m\u001b[0m\n\u001b[1;32m   1567\u001b[0m         \u001b[0mbound\u001b[0m \u001b[0;34m=\u001b[0m \u001b[0mnew_sig\u001b[0m\u001b[0;34m.\u001b[0m\u001b[0mbind\u001b[0m\u001b[0;34m(\u001b[0m\u001b[0max\u001b[0m\u001b[0;34m,\u001b[0m \u001b[0;34m*\u001b[0m\u001b[0margs\u001b[0m\u001b[0;34m,\u001b[0m \u001b[0;34m**\u001b[0m\u001b[0mkwargs\u001b[0m\u001b[0;34m)\u001b[0m\u001b[0;34m\u001b[0m\u001b[0;34m\u001b[0m\u001b[0m\n",
            "\u001b[0;32m/usr/local/lib/python3.6/dist-packages/matplotlib/axes/_axes.py\u001b[0m in \u001b[0;36mbar\u001b[0;34m(self, x, height, width, bottom, align, **kwargs)\u001b[0m\n\u001b[1;32m   2340\u001b[0m         x, height, width, y, linewidth = np.broadcast_arrays(\n\u001b[1;32m   2341\u001b[0m             \u001b[0;31m# Make args iterable too.\u001b[0m\u001b[0;34m\u001b[0m\u001b[0;34m\u001b[0m\u001b[0;34m\u001b[0m\u001b[0m\n\u001b[0;32m-> 2342\u001b[0;31m             np.atleast_1d(x), height, width, y, linewidth)\n\u001b[0m\u001b[1;32m   2343\u001b[0m \u001b[0;34m\u001b[0m\u001b[0m\n\u001b[1;32m   2344\u001b[0m         \u001b[0;31m# Now that units have been converted, set the tick locations.\u001b[0m\u001b[0;34m\u001b[0m\u001b[0;34m\u001b[0m\u001b[0;34m\u001b[0m\u001b[0m\n",
            "\u001b[0;32m<__array_function__ internals>\u001b[0m in \u001b[0;36mbroadcast_arrays\u001b[0;34m(*args, **kwargs)\u001b[0m\n",
            "\u001b[0;32m/usr/local/lib/python3.6/dist-packages/numpy/lib/stride_tricks.py\u001b[0m in \u001b[0;36mbroadcast_arrays\u001b[0;34m(*args, **kwargs)\u001b[0m\n\u001b[1;32m    262\u001b[0m     \u001b[0margs\u001b[0m \u001b[0;34m=\u001b[0m \u001b[0;34m[\u001b[0m\u001b[0mnp\u001b[0m\u001b[0;34m.\u001b[0m\u001b[0marray\u001b[0m\u001b[0;34m(\u001b[0m\u001b[0m_m\u001b[0m\u001b[0;34m,\u001b[0m \u001b[0mcopy\u001b[0m\u001b[0;34m=\u001b[0m\u001b[0;32mFalse\u001b[0m\u001b[0;34m,\u001b[0m \u001b[0msubok\u001b[0m\u001b[0;34m=\u001b[0m\u001b[0msubok\u001b[0m\u001b[0;34m)\u001b[0m \u001b[0;32mfor\u001b[0m \u001b[0m_m\u001b[0m \u001b[0;32min\u001b[0m \u001b[0margs\u001b[0m\u001b[0;34m]\u001b[0m\u001b[0;34m\u001b[0m\u001b[0;34m\u001b[0m\u001b[0m\n\u001b[1;32m    263\u001b[0m \u001b[0;34m\u001b[0m\u001b[0m\n\u001b[0;32m--> 264\u001b[0;31m     \u001b[0mshape\u001b[0m \u001b[0;34m=\u001b[0m \u001b[0m_broadcast_shape\u001b[0m\u001b[0;34m(\u001b[0m\u001b[0;34m*\u001b[0m\u001b[0margs\u001b[0m\u001b[0;34m)\u001b[0m\u001b[0;34m\u001b[0m\u001b[0;34m\u001b[0m\u001b[0m\n\u001b[0m\u001b[1;32m    265\u001b[0m \u001b[0;34m\u001b[0m\u001b[0m\n\u001b[1;32m    266\u001b[0m     \u001b[0;32mif\u001b[0m \u001b[0mall\u001b[0m\u001b[0;34m(\u001b[0m\u001b[0marray\u001b[0m\u001b[0;34m.\u001b[0m\u001b[0mshape\u001b[0m \u001b[0;34m==\u001b[0m \u001b[0mshape\u001b[0m \u001b[0;32mfor\u001b[0m \u001b[0marray\u001b[0m \u001b[0;32min\u001b[0m \u001b[0margs\u001b[0m\u001b[0;34m)\u001b[0m\u001b[0;34m:\u001b[0m\u001b[0;34m\u001b[0m\u001b[0;34m\u001b[0m\u001b[0m\n",
            "\u001b[0;32m/usr/local/lib/python3.6/dist-packages/numpy/lib/stride_tricks.py\u001b[0m in \u001b[0;36m_broadcast_shape\u001b[0;34m(*args)\u001b[0m\n\u001b[1;32m    189\u001b[0m     \u001b[0;31m# use the old-iterator because np.nditer does not handle size 0 arrays\u001b[0m\u001b[0;34m\u001b[0m\u001b[0;34m\u001b[0m\u001b[0;34m\u001b[0m\u001b[0m\n\u001b[1;32m    190\u001b[0m     \u001b[0;31m# consistently\u001b[0m\u001b[0;34m\u001b[0m\u001b[0;34m\u001b[0m\u001b[0;34m\u001b[0m\u001b[0m\n\u001b[0;32m--> 191\u001b[0;31m     \u001b[0mb\u001b[0m \u001b[0;34m=\u001b[0m \u001b[0mnp\u001b[0m\u001b[0;34m.\u001b[0m\u001b[0mbroadcast\u001b[0m\u001b[0;34m(\u001b[0m\u001b[0;34m*\u001b[0m\u001b[0margs\u001b[0m\u001b[0;34m[\u001b[0m\u001b[0;34m:\u001b[0m\u001b[0;36m32\u001b[0m\u001b[0;34m]\u001b[0m\u001b[0;34m)\u001b[0m\u001b[0;34m\u001b[0m\u001b[0;34m\u001b[0m\u001b[0m\n\u001b[0m\u001b[1;32m    192\u001b[0m     \u001b[0;31m# unfortunately, it cannot handle 32 or more arguments directly\u001b[0m\u001b[0;34m\u001b[0m\u001b[0;34m\u001b[0m\u001b[0;34m\u001b[0m\u001b[0m\n\u001b[1;32m    193\u001b[0m     \u001b[0;32mfor\u001b[0m \u001b[0mpos\u001b[0m \u001b[0;32min\u001b[0m \u001b[0mrange\u001b[0m\u001b[0;34m(\u001b[0m\u001b[0;36m32\u001b[0m\u001b[0;34m,\u001b[0m \u001b[0mlen\u001b[0m\u001b[0;34m(\u001b[0m\u001b[0margs\u001b[0m\u001b[0;34m)\u001b[0m\u001b[0;34m,\u001b[0m \u001b[0;36m31\u001b[0m\u001b[0;34m)\u001b[0m\u001b[0;34m:\u001b[0m\u001b[0;34m\u001b[0m\u001b[0;34m\u001b[0m\u001b[0m\n",
            "\u001b[0;31mValueError\u001b[0m: shape mismatch: objects cannot be broadcast to a single shape"
          ]
        },
        {
          "output_type": "display_data",
          "data": {
            "image/png": "[encoded data removed]",
            "text/plain": [
              "<Figure size 1200x800 with 1 Axes>"
            ]
          },
          "metadata": {
            "tags": []
          }
        }
      ]
    },
    {
      "cell_type": "code",
      "metadata": {
        "id": "Kt6zm2fGz4oC",
        "outputId": "322f3173-7abc-4d2b-ef0e-701b78a559f4",
        "colab": {
          "base_uri": "https://localhost:8080/",
          "height": 662
        }
      },
      "source": [
        "# 오류 해결\n",
        "\n",
        "filename = '/content/drive/My Drive/DATA/gender.csv'\n",
        "\n",
        "import csv\n",
        "\n",
        "f = open(filename, 'r', encoding='cp949')\n",
        "data = csv.reader(f)\n",
        "\n",
        "#loc_name = \"부산광역시 연제구 연산제1동\"\n",
        "loc_name = input('찾고 싶은 지역의 이름을 알려주세요 : ')   # 검색할 지역 입력\n",
        "\n",
        "male = [] \n",
        "female = [] \n",
        "\n",
        "for row in data:\n",
        "  if loc_name in row[0]:\n",
        "    for i in row[3:104]:\n",
        "      male.append(-int(i.replace(',','')))   # 예 '23,578'과 같은 콤마 문자열을 숫자로 변환할려면 replace()함수를 사용.\n",
        "    for i in row[106:]:\n",
        "      female.append(int(i.replace(',','')))\n",
        "    break # 사용자가 입력한 내용에 해당하는 데이터를 만나면 전체 데이터를 탐색하는 반복을 멈추면 됨 => break문 사용.\n",
        "      \n",
        "f.close()\n",
        "\n",
        "import matplotlib.pyplot as plt\n",
        "\n",
        "plt.rc('font', family=\"NanumBarunGothic\")    # 한글 글꼴 사용\n",
        "plt.rcParams['axes.unicode_minus'] = False   # 수치상의 -기호 표시하기\n",
        "\n",
        "plt.style.use('ggplot') # 회색 격자 바탕\n",
        "plt.figure(figsize=(12,6), dpi=120)\n",
        "plt.title(f'{loc_name}의 남성 및 여성 인구 수')\n",
        "\n",
        "plt.barh(range(101), male, label='남성')\n",
        "plt.barh(range(101), female, label='여성')\n",
        "\n",
        "plt.legend()\n",
        "plt.show()"
      ],
      "execution_count": 66,
      "outputs": [
        {
          "output_type": "stream",
          "text": [
            "찾고 싶은 지역의 이름을 알려주세요 : 제주\n"
          ],
          "name": "stdout"
        },
        {
          "output_type": "display_data",
          "data": {
            "image/png": "[encoded data removed]",
            "text/plain": [
              "<Figure size 1440x720 with 1 Axes>"
            ]
          },
          "metadata": {
            "tags": []
          }
        }
      ]
    },
    {
      "cell_type": "code",
      "metadata": {
        "id": "bZb4zqSg0tXv"
      },
      "source": [
        ""
      ],
      "execution_count": null,
      "outputs": []
    }
  ]
}