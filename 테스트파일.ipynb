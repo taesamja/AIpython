{
  "nbformat": 4,
  "nbformat_minor": 0,
  "metadata": {
    "colab": {
      "name": "방과후10_31400",
      "provenance": [],
      "authorship_tag": "ABX9TyPWqMTltUlQXa815ZwYzt/y",
      "include_colab_link": true
    },
    "kernelspec": {
      "name": "python3",
      "display_name": "Python 3"
    }
  },
  "cells": [
    {
      "cell_type": "markdown",
      "metadata": {
        "id": "view-in-github",
        "colab_type": "text"
      },
      "source": [
        "<a href=\"https://colab.research.google.com/github/taesamja/AIpython/blob/master/%ED%85%8C%EC%8A%A4%ED%8A%B8%ED%8C%8C%EC%9D%BC.ipynb\" target=\"_parent\"><img src=\"https://colab.research.google.com/assets/colab-badge.svg\" alt=\"Open In Colab\"/></a>"
      ]
    },
    {
      "cell_type": "markdown",
      "metadata": {
        "id": "w_L5ft4SJ3F-",
        "colab_type": "text"
      },
      "source": [
        "# Keras AI"
      ]
    },
    {
      "cell_type": "code",
      "metadata": {
        "id": "GEo1TGWeJxIz",
        "colab_type": "code",
        "colab": {
          "base_uri": "https://localhost:8080/",
          "height": 35
        },
        "outputId": "0ad87ddb-8793-4083-fd1a-072b5742a9d0"
      },
      "source": [
        "print(\"Hello Github\")"
      ],
      "execution_count": 1,
      "outputs": [
        {
          "output_type": "stream",
          "text": [
            "Hello Github\n"
          ],
          "name": "stdout"
        }
      ]
    }
  ]
}