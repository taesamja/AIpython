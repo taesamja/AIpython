{
  "nbformat": 4,
  "nbformat_minor": 0,
  "metadata": {
    "colab": {
      "name": "모두의데이터분석_라이브러리활용.ipynb",
      "provenance": [],
      "collapsed_sections": [
        "hN9ALHQRz2AF"
      ],
      "toc_visible": true,
      "mount_file_id": "11uYUiSOaLErayEjWADjK8tWtb1siY49L",
      "authorship_tag": "ABX9TyNUFiHPrBJVtSrXQM7FafFO",
      "include_colab_link": true
    },
    "kernelspec": {
      "name": "python3",
      "display_name": "Python 3"
    }
  },
  "cells": [
    {
      "cell_type": "markdown",
      "metadata": {
        "id": "view-in-github",
        "colab_type": "text"
      },
      "source": [
        "<a href=\"https://colab.research.google.com/github/taesamja/AIpython/blob/master/%EB%AA%A8%EB%91%90%EC%9D%98%EB%8D%B0%EC%9D%B4%ED%84%B0%EB%B6%84%EC%84%9D_%EB%9D%BC%EC%9D%B4%EB%B8%8C%EB%9F%AC%EB%A6%AC%ED%99%9C%EC%9A%A9.ipynb\" target=\"_parent\"><img src=\"https://colab.research.google.com/assets/colab-badge.svg\" alt=\"Open In Colab\"/></a>"
      ]
    },
    {
      "cell_type": "markdown",
      "metadata": {
        "id": "hN9ALHQRz2AF"
      },
      "source": [
        "# 1장. 숫자 데이터를 쉽게 다루게 돕는 numpy 라이브러리\n",
        "\n"
      ]
    },
    {
      "cell_type": "markdown",
      "metadata": {
        "id": "0WoHQ3zK9qUF"
      },
      "source": [
        "## 1. matplotlib 홈페이지 [바로가기](https://matplotlib.org)\n",
        "* https://matplotlib.org"
      ]
    },
    {
      "cell_type": "code",
      "metadata": {
        "id": "hyIFGPFy9uxX",
        "outputId": "402759fa-e4e3-4096-8cb0-c911486f1011",
        "colab": {
          "base_uri": "https://localhost:8080/",
          "height": 265
        }
      },
      "source": [
        "# tutorial - numpy 이용\n",
        "\n",
        "import matplotlib.pyplot as plt\n",
        "import numpy as np\n",
        "\n",
        "plt.style.use('ggplot')\n",
        "\n",
        "t = np.arange(0., 5., 0.2)\n",
        "\n",
        "plt.plot(t, t, 'r--', t, t**2, 'bs', t, t**3, 'g^')\n",
        "\n",
        "plt.show()"
      ],
      "execution_count": null,
      "outputs": [
        {
          "output_type": "display_data",
          "data": {
            "image/png": "[encoded data removed]",
            "text/plain": [
              "<Figure size 432x288 with 1 Axes>"
            ]
          },
          "metadata": {
            "tags": []
          }
        }
      ]
    },
    {
      "cell_type": "code",
      "metadata": {
        "id": "xh-i9A2B-rJ1",
        "outputId": "111d3577-7d39-43ad-e4d6-daf0fec18984",
        "colab": {
          "base_uri": "https://localhost:8080/",
          "height": 265
        }
      },
      "source": [
        "# tutorial - python list 이용\n",
        "\n",
        "import matplotlib.pyplot as plt\n",
        "\n",
        "t = []\n",
        "p2 = []\n",
        "p3 = []\n",
        "\n",
        "for i in range(0, 50, 2):\n",
        "   t.append(i / 10)\n",
        "   p2.append((i / 10) ** 2)\n",
        "   p3.append((i / 10) ** 3)\n",
        "\n",
        "plt.style.use('ggplot')\n",
        "\n",
        "t = np.arange(0., 5., 0.2)\n",
        "\n",
        "plt.plot(t, t, 'r--', t, p2, 'bs', t, p3, 'g^')\n",
        "\n",
        "plt.show()\n",
        "\n",
        "# numpy를 이용하는 것이 훨씬 간단하다."
      ],
      "execution_count": null,
      "outputs": [
        {
          "output_type": "display_data",
          "data": {
            "image/png": "[encoded data removed]",
            "text/plain": [
              "<Figure size 432x288 with 1 Axes>"
            ]
          },
          "metadata": {
            "tags": []
          }
        }
      ]
    },
    {
      "cell_type": "markdown",
      "metadata": {
        "id": "p5K6Wik2DTmu"
      },
      "source": [
        "## 2. numpy 라이브러리 시작하기\n"
      ]
    },
    {
      "cell_type": "code",
      "metadata": {
        "id": "rq2QaMnsCLrK",
        "outputId": "4a1dc7bd-e09d-47a7-f4bd-3a49cf536bdd",
        "colab": {
          "base_uri": "https://localhost:8080/"
        }
      },
      "source": [
        "# 2의 제곱근 출력\n",
        "\n",
        "import numpy\n",
        "\n",
        "print(numpy.sqrt(2))"
      ],
      "execution_count": null,
      "outputs": [
        {
          "output_type": "stream",
          "text": [
            "1.4142135623730951\n"
          ],
          "name": "stdout"
        }
      ]
    },
    {
      "cell_type": "code",
      "metadata": {
        "id": "Ra-JJUsjDkKl",
        "outputId": "5b552a60-28ef-48ac-acf8-b40088ec4253",
        "colab": {
          "base_uri": "https://localhost:8080/"
        }
      },
      "source": [
        "# numpy 별칭\n",
        "\n",
        "import numpy as np\n",
        "\n",
        "print(np.sqrt(2))"
      ],
      "execution_count": null,
      "outputs": [
        {
          "output_type": "stream",
          "text": [
            "1.4142135623730951\n"
          ],
          "name": "stdout"
        }
      ]
    },
    {
      "cell_type": "code",
      "metadata": {
        "id": "kBFHOhK5D5GJ",
        "outputId": "3e4dcb3f-612f-4245-de6b-01d5b8580409",
        "colab": {
          "base_uri": "https://localhost:8080/"
        }
      },
      "source": [
        "# 파이와 삼각함수 이용\n",
        "\n",
        "import numpy as np\n",
        "\n",
        "print(np.pi)\n",
        "print(np.sin(0))\n",
        "print(np.cos(np.pi))"
      ],
      "execution_count": null,
      "outputs": [
        {
          "output_type": "stream",
          "text": [
            "3.141592653589793\n",
            "0.0\n",
            "-1.0\n"
          ],
          "name": "stdout"
        }
      ]
    },
    {
      "cell_type": "code",
      "metadata": {
        "id": "tIB2fOm2EI1p",
        "outputId": "e585faa8-3990-4d02-e377-e6693628ed89",
        "colab": {
          "base_uri": "https://localhost:8080/"
        }
      },
      "source": [
        "# numpy의 random 함수\n",
        "\n",
        "import numpy as np\n",
        "\n",
        "a = np.random.rand(5) # 랜덤한 실수 5개 출력\n",
        "\n",
        "print(a)\n",
        "print(type(a))"
      ],
      "execution_count": null,
      "outputs": [
        {
          "output_type": "stream",
          "text": [
            "0.974240885194925\n",
            "<class 'float'>\n"
          ],
          "name": "stdout"
        }
      ]
    },
    {
      "cell_type": "code",
      "metadata": {
        "id": "n_SZycCdEm0-",
        "outputId": "4a419ced-6a40-484f-b4e0-ef3128018277",
        "colab": {
          "base_uri": "https://localhost:8080/"
        }
      },
      "source": [
        "# choice 함수\n",
        "\n",
        "import numpy as np\n",
        "\n",
        "print(np.random.choice(6, 10)) # <6 : 0~5사이 숫자 / 10 : 10개> 랜덤한 수 출력"
      ],
      "execution_count": null,
      "outputs": [
        {
          "output_type": "stream",
          "text": [
            "[0 0 3 4 1 5 0 1 3 0]\n"
          ],
          "name": "stdout"
        }
      ]
    },
    {
      "cell_type": "code",
      "metadata": {
        "id": "-S4jND9rFgYt",
        "outputId": "4267b3a6-0ace-4684-b442-86114d7d1b96",
        "colab": {
          "base_uri": "https://localhost:8080/"
        }
      },
      "source": [
        "# choice 함수 - 중복없이\n",
        "\n",
        "import numpy as np\n",
        "\n",
        "# 0~9사이의 숫자 중 중복없이(replace=False) 6번 뽑기\n",
        "print(np.random.choice(10, 6, replace=False)) "
      ],
      "execution_count": null,
      "outputs": [
        {
          "output_type": "stream",
          "text": [
            "[0 4 8 1 9 2]\n"
          ],
          "name": "stdout"
        }
      ]
    },
    {
      "cell_type": "code",
      "metadata": {
        "id": "9JZ4N7KhG2OX",
        "outputId": "697bec29-eb60-46a0-f4cf-b2507a34c40c",
        "colab": {
          "base_uri": "https://localhost:8080/"
        }
      },
      "source": [
        "# choice 함수 - 확률지정 p속성\n",
        "\n",
        "import numpy as np\n",
        "\n",
        "# p 속성 : 각 경우의 수가 발생할 확률을 정할 수 있음. 각각의 확률의 합은 반드시 1이어야 함.\n",
        "print(np.random.choice(6, 10, p=[0.1, 0.2, 0.3, 0.2, 0.1, 0.1]))"
      ],
      "execution_count": null,
      "outputs": [
        {
          "output_type": "stream",
          "text": [
            "[3 1 1 1 4 2 5 4 3 5]\n"
          ],
          "name": "stdout"
        }
      ]
    },
    {
      "cell_type": "markdown",
      "metadata": {
        "id": "dY3ExWM8H9qT"
      },
      "source": [
        "## 3. numpy 라이브러리를 활용해 그래프 그리기\n"
      ]
    },
    {
      "cell_type": "code",
      "metadata": {
        "id": "mAt--6wlHlF2",
        "outputId": "837c04d6-ac90-4d3a-a1dc-59342cce08e6",
        "colab": {
          "base_uri": "https://localhost:8080/",
          "height": 265
        }
      },
      "source": [
        "# numpy를 사용하여 그래프 그리기\n",
        "\n",
        "import matplotlib.pyplot as plt\n",
        "import numpy as np\n",
        "\n",
        "dice = np.random.choice(6, 100000)\n",
        "\n",
        "plt.hist(dice, bins = 20)\n",
        "\n",
        "plt.style.use('ggplot')\n",
        "\n",
        "plt.show()"
      ],
      "execution_count": null,
      "outputs": [
        {
          "output_type": "display_data",
          "data": {
            "image/png": "[encoded data removed]",
            "text/plain": [
              "<Figure size 432x288 with 1 Axes>"
            ]
          },
          "metadata": {
            "tags": []
          }
        }
      ]
    },
    {
      "cell_type": "code",
      "metadata": {
        "id": "ipc5kftqIZQz",
        "outputId": "567d8766-bc8c-4220-fb36-36df064f14d9",
        "colab": {
          "base_uri": "https://localhost:8080/",
          "height": 265
        }
      },
      "source": [
        "# numpy를 사용하여 그래프 그리기 : p속성을 이용한 확률\n",
        "\n",
        "import matplotlib.pyplot as plt\n",
        "import numpy as np\n",
        "\n",
        "dice = np.random.choice(6, 100000, p=[0.1, 0.2, 0.3, 0.2, 0.1, 0.1])\n",
        "\n",
        "plt.hist(dice, bins = 20) # 0~5 중 랜덤으로 추출한 숫자를 히스토그램 표현\n",
        "\n",
        "plt.style.use('ggplot')\n",
        "\n",
        "plt.show()"
      ],
      "execution_count": null,
      "outputs": [
        {
          "output_type": "display_data",
          "data": {
            "image/png": "[encoded data removed]",
            "text/plain": [
              "<Figure size 432x288 with 1 Axes>"
            ]
          },
          "metadata": {
            "tags": []
          }
        }
      ]
    },
    {
      "cell_type": "code",
      "metadata": {
        "id": "pG3xElWhJ8sK",
        "outputId": "00d3c3f3-f893-4e07-cbcb-d3751967d1cf",
        "colab": {
          "base_uri": "https://localhost:8080/",
          "height": 265
        }
      },
      "source": [
        "# numpy를 이용한 버블 차트 그리기\n",
        "\n",
        "import matplotlib.pyplot as plt\n",
        "import numpy as np\n",
        "\n",
        "x = np.random.randint(10, 100, 200) # 10~100 사이의 정수 랜덤값을 200개 출력\n",
        "y = np.random.randint(10, 100, 200)\n",
        "size = np.random.rand(200) * 100  # np.random.rand(200) : 0~1 사이의 실수 랜덤값을 200개 출력\n",
        "\n",
        "plt.style.use('ggplot')\n",
        "\n",
        "plt.scatter(x, y, s=size, c=x, cmap='jet', alpha=0.7)\n",
        "plt.colorbar()\n",
        "\n",
        "plt.show()"
      ],
      "execution_count": null,
      "outputs": [
        {
          "output_type": "display_data",
          "data": {
            "image/png": "[encoded data removed]",
            "text/plain": [
              "<Figure size 432x288 with 2 Axes>"
            ]
          },
          "metadata": {
            "tags": []
          }
        }
      ]
    },
    {
      "cell_type": "code",
      "metadata": {
        "id": "P8d6dMHaKwII",
        "outputId": "28f32622-728a-44d6-e3fa-106f0468be82",
        "colab": {
          "base_uri": "https://localhost:8080/"
        }
      },
      "source": [
        "x"
      ],
      "execution_count": null,
      "outputs": [
        {
          "output_type": "execute_result",
          "data": {
            "text/plain": [
              "array([17, 48, 55, 39, 28, 33, 54, 18, 28, 72, 80, 59, 28, 10, 67, 52, 50,\n",
              "       77, 52, 38, 49, 55, 91, 13, 70, 53, 11, 43, 93, 50, 70, 18, 21, 26,\n",
              "       76, 98, 43, 85, 99, 22, 37, 52, 52, 58, 93, 26, 79, 30, 54, 42, 96,\n",
              "       84, 65, 79, 42, 84, 46, 67, 46, 98, 56, 76, 27, 81, 94, 44, 39, 80,\n",
              "       73, 40, 35, 16, 70, 63, 22, 64, 91, 99, 19, 18, 40, 92, 28, 62, 16,\n",
              "       57, 25, 56, 91, 12, 11, 17, 24, 59, 98, 93, 27, 75, 17, 20, 87, 32,\n",
              "       16, 95, 21, 42, 15, 65, 65, 71, 14, 85, 43, 13, 71, 18, 80, 21, 22,\n",
              "       24, 94, 79, 84, 90, 78, 60, 19, 28, 39, 21, 33, 29, 29, 25, 99, 76,\n",
              "       58, 66, 99, 56, 69, 81, 82, 70, 34, 40, 94, 44, 52, 48, 64, 11, 75,\n",
              "       27, 88, 26, 90, 16, 56, 49, 66, 78, 63, 51, 38, 60, 29, 77, 33, 97,\n",
              "       64, 97, 13, 10, 52, 72, 81, 11, 26, 81, 68, 50, 66, 72, 46, 94, 16,\n",
              "       66, 69, 61, 59, 94, 89, 59, 81, 76, 35, 17, 24, 16])"
            ]
          },
          "metadata": {
            "tags": []
          },
          "execution_count": 42
        }
      ]
    },
    {
      "cell_type": "markdown",
      "metadata": {
        "id": "t_26V_E_NFE6"
      },
      "source": [
        "## 4. numpy array 생성하기"
      ]
    },
    {
      "cell_type": "code",
      "metadata": {
        "id": "L6CztCgsK2ZB",
        "outputId": "c5f0656e-c533-4f82-c930-fede551b6a09",
        "colab": {
          "base_uri": "https://localhost:8080/"
        }
      },
      "source": [
        "# numpy array 배열 생성하기\n",
        "\n",
        "import numpy as np\n",
        "\n",
        "a = np.array([1,2,3,4])\n",
        "\n",
        "print(a)\n",
        "# ndarray 자료형은 리스트 형태의 출력을 하나 각 요소마다 쉼표(,)가 없다는 차이점이 있음."
      ],
      "execution_count": null,
      "outputs": [
        {
          "output_type": "stream",
          "text": [
            "[1 2 3 4]\n"
          ],
          "name": "stdout"
        }
      ]
    },
    {
      "cell_type": "code",
      "metadata": {
        "id": "KJ85LaeBNW6N",
        "outputId": "e2edbe47-db11-46a0-e81e-53cd8e4c47c2",
        "colab": {
          "base_uri": "https://localhost:8080/"
        }
      },
      "source": [
        "# numpy array 인덱싱 및 슬라이싱\n",
        "\n",
        "import numpy as np\n",
        "\n",
        "a = np.array([1,2,3,4])\n",
        "\n",
        "print(a[1], a[-1]) # 인덱싱\n",
        "print(a[1:])       # 슬라이싱"
      ],
      "execution_count": null,
      "outputs": [
        {
          "output_type": "stream",
          "text": [
            "2 4\n",
            "[2 3 4]\n"
          ],
          "name": "stdout"
        }
      ]
    },
    {
      "cell_type": "code",
      "metadata": {
        "id": "D3OEU6d6NYTE",
        "outputId": "3b6f27c7-6439-4423-905c-4654141584c9",
        "colab": {
          "base_uri": "https://localhost:8080/"
        }
      },
      "source": [
        "# ndarray의 특징\n",
        "\n",
        "import numpy as np\n",
        "\n",
        "a = np.array([1, 2, '3', 4])\n",
        "\n",
        "print(a)\n",
        "\n",
        "# ndarray는 한 가지 타입의 데이터만을 저장\n",
        "# 예) 3개의 정수와 1개의 문자가 저장된 리스트 => ndarray 변환 => 모두 같은 타입의 문자로 변환됨."
      ],
      "execution_count": null,
      "outputs": [
        {
          "output_type": "stream",
          "text": [
            "['1' '2' '3' '4']\n"
          ],
          "name": "stdout"
        }
      ]
    },
    {
      "cell_type": "code",
      "metadata": {
        "id": "OamebyCwOjqc",
        "outputId": "fe35d8db-8a80-486d-c898-7c314574efb8",
        "colab": {
          "base_uri": "https://localhost:8080/"
        }
      },
      "source": [
        "# ndarray를 생성하기 위한 다양한 종류의 함수 : zeros(), ones(), eye()\n",
        "\n",
        "import numpy as np\n",
        "\n",
        "a = np.zeros(10) # 실수 형 0으로 이루어진 크기가 10인 배열 생성\n",
        "print(a)\n",
        "\n",
        "b = np.ones(10) # 실수 형 1로 이루어진 크기가 10인 배열 생성\n",
        "print(b)\n",
        "\n",
        "c = np.eye(3) # 실수 원소를 갖는 3행X3열의 단위 배열 생성\n",
        "print(c)"
      ],
      "execution_count": null,
      "outputs": [
        {
          "output_type": "stream",
          "text": [
            "[0. 0. 0. 0. 0. 0. 0. 0. 0. 0.]\n",
            "[1. 1. 1. 1. 1. 1. 1. 1. 1. 1.]\n",
            "[[1. 0. 0.]\n",
            " [0. 1. 0.]\n",
            " [0. 0. 1.]]\n"
          ],
          "name": "stdout"
        }
      ]
    },
    {
      "cell_type": "code",
      "metadata": {
        "id": "GUjNDcXVPtMq",
        "outputId": "0d0d7faa-19b0-4867-bfde-23df668e0e71",
        "colab": {
          "base_uri": "https://localhost:8080/"
        }
      },
      "source": [
        "# numpy의 arange()함수 \n",
        "# 0과 1이 아닌 연속된 숫자로 데이터를 생성하는 것\n",
        "\n",
        "import numpy as np\n",
        "\n",
        "print(np.arange(3))        # arange() 함수에 1개값 입력 : 0, 1, 2 출력 [3개]\n",
        "print(np.arange(3, 7))     # arange() 함수에 2개값 입력 : 3, 4, 5, 6 출력 [4개]\n",
        "print(np.arange(3, 7, 2))  # arange() 함수에 3개값 입력 : 3, 5 출력 [2개]"
      ],
      "execution_count": null,
      "outputs": [
        {
          "output_type": "stream",
          "text": [
            "[0 1 2]\n",
            "[3 4 5 6]\n",
            "[3 5]\n"
          ],
          "name": "stdout"
        }
      ]
    },
    {
      "cell_type": "code",
      "metadata": {
        "id": "9EWXnxT8QxdR",
        "outputId": "f90ffab3-0d5f-49fa-8dd7-2c8089b6a91f",
        "colab": {
          "base_uri": "https://localhost:8080/"
        }
      },
      "source": [
        "# 또 다른 숫자 생성하는 함수 : linspace()함수\n",
        "\n",
        "import numpy as np\n",
        "\n",
        "a = np.arange(1, 2, 0.1)  # 1이상 2미만 구간에서 0.1간격으로 실수 생성\n",
        "b = np.linspace(1, 2, 11) # 1부터 2까지 11개 구간으로 나눈 실수 생성\n",
        "\n",
        "print(a)\n",
        "print(b)"
      ],
      "execution_count": null,
      "outputs": [
        {
          "output_type": "stream",
          "text": [
            "[1.  1.1 1.2 1.3 1.4 1.5 1.6 1.7 1.8 1.9]\n",
            "[1.  1.1 1.2 1.3 1.4 1.5 1.6 1.7 1.8 1.9 2. ]\n"
          ],
          "name": "stdout"
        }
      ]
    },
    {
      "cell_type": "markdown",
      "metadata": {
        "id": "4YUpwUiwRfUD"
      },
      "source": [
        "* numpy의 linspace() 함수는 특정 구간을 쪼개어 값을 생성한다는 점에서 arange()함수와 비슷.\n",
        "* 하지만, arange()함수는 특정 간격에 해당하는 값을 생성하고 싶을 때 사용.\n",
        "* linspace()함수는 특정 개수의 구간으로 나눈 값을 생성하고 싶을 때 사용."
      ]
    },
    {
      "cell_type": "code",
      "metadata": {
        "id": "flPYYR_-RUVP",
        "outputId": "067c030d-fbbb-4ef3-e556-39f6a6c74c35",
        "colab": {
          "base_uri": "https://localhost:8080/"
        }
      },
      "source": [
        "import numpy as np\n",
        "\n",
        "a = np.arange(-np.pi, np.pi, np.pi/10)  # 구간 (-pi-pi) 사이에 pi/10 간격으로 출력\n",
        "b = np.linspace(-np.pi, np.pi, 20)      # 구간 (-pi~pi) 사이에 20개 데이터 출력\n",
        "\n",
        "print(a)\n",
        "print(b)"
      ],
      "execution_count": null,
      "outputs": [
        {
          "output_type": "stream",
          "text": [
            "[-3.14159265 -2.82743339 -2.51327412 -2.19911486 -1.88495559 -1.57079633\n",
            " -1.25663706 -0.9424778  -0.62831853 -0.31415927  0.          0.31415927\n",
            "  0.62831853  0.9424778   1.25663706  1.57079633  1.88495559  2.19911486\n",
            "  2.51327412  2.82743339]\n",
            "[-3.14159265 -2.81089869 -2.48020473 -2.14951076 -1.8188168  -1.48812284\n",
            " -1.15742887 -0.82673491 -0.49604095 -0.16534698  0.16534698  0.49604095\n",
            "  0.82673491  1.15742887  1.48812284  1.8188168   2.14951076  2.48020473\n",
            "  2.81089869  3.14159265]\n"
          ],
          "name": "stdout"
        }
      ]
    },
    {
      "cell_type": "markdown",
      "metadata": {
        "id": "nVju3B4AT_Yt"
      },
      "source": [
        "## 5. numpy array의 다양한 활용"
      ]
    },
    {
      "cell_type": "code",
      "metadata": {
        "id": "0lzvtVYATYbW",
        "outputId": "2cd1ed21-1fa8-43ad-fe74-494e3085af11",
        "colab": {
          "base_uri": "https://localhost:8080/"
        }
      },
      "source": [
        "# 초기값이 5인 배열을 10개를 만드는 코드\n",
        "\n",
        "import numpy as np\n",
        "\n",
        "a = np.zeros(10) + 5\n",
        "\n",
        "print(a)"
      ],
      "execution_count": null,
      "outputs": [
        {
          "output_type": "stream",
          "text": [
            "[5. 5. 5. 5. 5. 5. 5. 5. 5. 5.]\n"
          ],
          "name": "stdout"
        }
      ]
    },
    {
      "cell_type": "code",
      "metadata": {
        "id": "GekBda05URw_",
        "outputId": "446e2d87-6eb0-4837-8311-1469ae7236aa",
        "colab": {
          "base_uri": "https://localhost:8080/"
        }
      },
      "source": [
        "# 배열에 연산이 아닌 함수 적용\n",
        "\n",
        "import numpy as np\n",
        "\n",
        "a = np.linspace(1, 2, 11)\n",
        "\n",
        "print(np.sqrt(a)) # a값의 제곱근 출력"
      ],
      "execution_count": null,
      "outputs": [
        {
          "output_type": "stream",
          "text": [
            "[1.         1.04880885 1.09544512 1.14017543 1.18321596 1.22474487\n",
            " 1.26491106 1.30384048 1.34164079 1.37840488 1.41421356]\n"
          ],
          "name": "stdout"
        }
      ]
    },
    {
      "cell_type": "code",
      "metadata": {
        "id": "Fb9o-y8TU6CT",
        "outputId": "5ee10fd8-5755-45a2-8de6-e9f12ffbb524",
        "colab": {
          "base_uri": "https://localhost:8080/",
          "height": 265
        }
      },
      "source": [
        "# 정현파 그림 그리기\n",
        "\n",
        "import matplotlib.pyplot as plt\n",
        "import numpy as np\n",
        "\n",
        "plt.style.use('ggplot')\n",
        "\n",
        "a = np.arange(-np.pi, np.pi, np.pi/100)\n",
        "\n",
        "plt.plot(a, np.sin(a))\n",
        "\n",
        "plt.show()"
      ],
      "execution_count": null,
      "outputs": [
        {
          "output_type": "display_data",
          "data": {
            "image/png": "[encoded data removed]",
            "text/plain": [
              "<Figure size 432x288 with 1 Axes>"
            ]
          },
          "metadata": {
            "tags": []
          }
        }
      ]
    },
    {
      "cell_type": "code",
      "metadata": {
        "id": "-L8qF2QtVabR",
        "outputId": "ed334168-2e89-41e2-8c95-5bd62ce6aef2",
        "colab": {
          "base_uri": "https://localhost:8080/",
          "height": 265
        }
      },
      "source": [
        "# 3상 정현파 그리기\n",
        "\n",
        "import matplotlib.pyplot as plt\n",
        "import numpy as np\n",
        "\n",
        "plt.style.use('ggplot')\n",
        "\n",
        "a = np.arange(-np.pi, np.pi, np.pi/100)\n",
        "\n",
        "plt.plot(a, np.sin(a))\n",
        "plt.plot(a, np.cos(a))\n",
        "plt.plot(a+np.pi/2, np.sin(a))\n",
        "\n",
        "plt.show()"
      ],
      "execution_count": null,
      "outputs": [
        {
          "output_type": "display_data",
          "data": {
            "image/png": "[encoded data removed]",
            "text/plain": [
              "<Figure size 432x288 with 1 Axes>"
            ]
          },
          "metadata": {
            "tags": []
          }
        }
      ]
    },
    {
      "cell_type": "code",
      "metadata": {
        "id": "Ck9Ds4mSWUN1",
        "outputId": "77d50c92-d8d7-473c-d060-e10aacfe589c",
        "colab": {
          "base_uri": "https://localhost:8080/"
        }
      },
      "source": [
        "# mask 기능 - 1\n",
        "# 마스크는 어떤 조건에 부합하는 데이터만 선별적으로 저장하기 위한 기능\n",
        "\n",
        "import numpy as np\n",
        "\n",
        "a = np.arange(-5, 5)\n",
        "print(a)"
      ],
      "execution_count": null,
      "outputs": [
        {
          "output_type": "stream",
          "text": [
            "[-5 -4 -3 -2 -1  0  1  2  3  4]\n"
          ],
          "name": "stdout"
        }
      ]
    },
    {
      "cell_type": "code",
      "metadata": {
        "id": "wDTJgsgeWvha",
        "outputId": "aa3ccb8d-7415-4b25-b04f-1ecff8d72269",
        "colab": {
          "base_uri": "https://localhost:8080/"
        }
      },
      "source": [
        "# mask 기능 - 2\n",
        "\n",
        "import numpy as np\n",
        "\n",
        "a = np.arange(-5, 5)\n",
        "print(a<0)"
      ],
      "execution_count": null,
      "outputs": [
        {
          "output_type": "stream",
          "text": [
            "[ True  True  True  True  True False False False False False]\n"
          ],
          "name": "stdout"
        }
      ]
    },
    {
      "cell_type": "code",
      "metadata": {
        "id": "3ovvyumSXCEv",
        "outputId": "624bb12f-ffde-4cf9-fa0d-36bb07b5e52f",
        "colab": {
          "base_uri": "https://localhost:8080/"
        }
      },
      "source": [
        "# mask 기능 - 3\n",
        "\n",
        "import numpy as np\n",
        "\n",
        "a = np.arange(-5, 5)\n",
        "print(a[a<0])"
      ],
      "execution_count": null,
      "outputs": [
        {
          "output_type": "stream",
          "text": [
            "[-5 -4 -3 -2 -1]\n"
          ],
          "name": "stdout"
        }
      ]
    },
    {
      "cell_type": "code",
      "metadata": {
        "id": "qFhBPiHNXXU5",
        "outputId": "36e1bc27-00a3-440a-dace-55789d1ce916",
        "colab": {
          "base_uri": "https://localhost:8080/"
        }
      },
      "source": [
        "# 변형\n",
        "\n",
        "import numpy as np\n",
        "\n",
        "a = np.arange(-5, 5)\n",
        "print(a<0)"
      ],
      "execution_count": null,
      "outputs": [
        {
          "output_type": "stream",
          "text": [
            "[ True  True  True  True  True False False False False False]\n"
          ],
          "name": "stdout"
        }
      ]
    },
    {
      "cell_type": "code",
      "metadata": {
        "id": "hfhVJx1SXlj4",
        "outputId": "6890f7bf-8fe3-42d2-f665-04f92041b4bf",
        "colab": {
          "base_uri": "https://localhost:8080/"
        }
      },
      "source": [
        "# 마스크 적용 - 1\n",
        "\n",
        "import numpy as np\n",
        "\n",
        "a = np.arange(-5, 5)\n",
        "mask1 = abs(a) > 3\n",
        "print(a[mask1])"
      ],
      "execution_count": null,
      "outputs": [
        {
          "output_type": "stream",
          "text": [
            "[-5 -4  4]\n"
          ],
          "name": "stdout"
        }
      ]
    },
    {
      "cell_type": "code",
      "metadata": {
        "id": "ABsDYYvcXxJA",
        "outputId": "9ce0148f-5443-46a6-b27c-64808db219ed",
        "colab": {
          "base_uri": "https://localhost:8080/"
        }
      },
      "source": [
        "# 마스크 적용 - 2\n",
        "\n",
        "import numpy as np\n",
        "\n",
        "a = np.arange(-5, 5)\n",
        "\n",
        "mask1 = abs(a) > 3\n",
        "mask2 = abs(a) % 2 == 0\n",
        "\n",
        "print(a[mask1+mask2]) # 둘 중 하나의 조건이라도 참일 경우\n",
        "print(a[mask1*mask2]) # 두 가지 조건이 모두 참일 경우"
      ],
      "execution_count": null,
      "outputs": [
        {
          "output_type": "stream",
          "text": [
            "[-5 -4 -2  0  2  4]\n",
            "[-4  4]\n"
          ],
          "name": "stdout"
        }
      ]
    },
    {
      "cell_type": "code",
      "metadata": {
        "id": "9c8G-iytYW94",
        "outputId": "7b223901-9d6c-440c-b9d2-48fa1954b090",
        "colab": {
          "base_uri": "https://localhost:8080/",
          "height": 265
        }
      },
      "source": [
        "# numpy 라이브러리를 사용하여 재미있는 버블 차트 그리기\n",
        "\n",
        "import matplotlib.pyplot as plt\n",
        "import numpy as np\n",
        "\n",
        "x = np.random.randint(-100, 100, 1000) # -100~100 사이의 정수 랜덤값을 1000개 출력\n",
        "y = np.random.randint(-100, 100, 1000)\n",
        "size = np.random.rand(755) * 100  # np.random.rand(755) : 0~1 사이의 실수 랜덤값을 755개 출력\n",
        "# mask한 후에 x, y의 갯수는 len(x) = 755 가 나온다.\n",
        "\n",
        "plt.style.use('ggplot')\n",
        "\n",
        "mask1 = abs(x) > 50  # x에 저장된 값 중 절대값이 50보다 큰 값 걸러냄\n",
        "mask2 = abs(y) > 50  # y에 저장된 값 중 절대값이 50보다 큰 값 걸러냄\n",
        "x = x[mask1+mask2]   # mask1과 mask2 중 하나라도 만족하는 값 정함\n",
        "y = y[mask1+mask2]   # mask1과 mask2 중 하나라도 만족하는 값 정함\n",
        "\n",
        "plt.scatter(x, y, s=size, c=x, cmap='jet', alpha=0.7)\n",
        "plt.colorbar()\n",
        "\n",
        "plt.show()"
      ],
      "execution_count": null,
      "outputs": [
        {
          "output_type": "display_data",
          "data": {
            "image/png": "[encoded data removed]",
            "text/plain": [
              "<Figure size 432x288 with 2 Axes>"
            ]
          },
          "metadata": {
            "tags": []
          }
        }
      ]
    },
    {
      "cell_type": "markdown",
      "metadata": {
        "id": "ZLxmw88eUci7"
      },
      "source": [
        "# 2장. numpy를 활용한 나만의 프로젝트 만들기"
      ]
    },
    {
      "cell_type": "markdown",
      "metadata": {
        "id": "HxKTkOq8Uptv"
      },
      "source": [
        "## 1. 관심있는 데이트 찾기\n",
        "* 공공데이터 포털 : https://www.data.go.kr"
      ]
    },
    {
      "cell_type": "markdown",
      "metadata": {
        "id": "c77-cIYMVABj"
      },
      "source": [
        "## 2.데이터 살펴보며 질문하기\n",
        " 1) 엑셀과 같은 스프레드시트 프로그램을 활용해서 데이터를 구석구석 살펴보기\n",
        "\n",
        " 2) 자신이 흥미가 있는 데이터를 보며 데이터가 어떤 내용을 담고 있는지, 담고 있지 않는지, 데이터가 기록된 기간은 언제부터인지, 어떤 형태로 시각화해보면 정보를 알수 있나 질문하기\n",
        "\n",
        " * 전국에서 영유아들이 가장 많이 사는 지역은 어디일까?\n",
        " * 보통 학군이 좋다고 알려진 지역에는 청소년들이 많이 살까?\n",
        " * 광역시 데이터를 10년 단위로 살펴보면 청년 비율이 줄고 있다는 사실을 알 수 있을까?\n",
        " * 서울에서 지난 5년간 인구가 가장 많이 증가한 구는 어디일까?\n",
        " * 우리 동네의 인구 구조와 가장 비스한 동네는 어디일까?\n",
        "\n"
      ]
    },
    {
      "cell_type": "markdown",
      "metadata": {
        "id": "ba4VLe-8WUrh"
      },
      "source": [
        "## 3. 질문을 명확한 문제로 정의하기\n",
        "* 예시 : 전국에서 가장 영유아들이 많이 사는 지역은 어디일까?\n",
        "* 변환 ; 전국에 있는 읍면동 중 만 0세 이상 6세 이하의 인구 비율이 높은 상위 10곳은 어디일까?"
      ]
    },
    {
      "cell_type": "markdown",
      "metadata": {
        "id": "PKiROEvsYI_Q"
      },
      "source": [
        "## 4. 알고리즘 설계하기\n",
        "1. 데이터를 읽어온다.\n",
        "2. 궁금한 지역의 이름을 입력받는다.\n",
        "3. 궁금한 지역의 인구 구조를 저장한다.\n",
        "4. 궁금한 지역의 인구 구조와 가장 비슷한 인구 구조를 가진 지역을 찾는다.\n",
        "5. 가장 비슷한 곳의 인구 구조와 궁금한 지역의 인구 구조를 시각화한다."
      ]
    },
    {
      "cell_type": "markdown",
      "metadata": {
        "id": "lsYfnGLtYfkf"
      },
      "source": [
        "## 5. 알고리즘을 코드로 표현하기"
      ]
    },
    {
      "cell_type": "markdown",
      "metadata": {
        "id": "uaM-VP-SYnGl"
      },
      "source": [
        "1) 데이터를 읽어온다."
      ]
    },
    {
      "cell_type": "code",
      "metadata": {
        "id": "5LNYUs8cYkm7"
      },
      "source": [
        "# 우리나라 전체 인구 데이터 출력\n",
        "\n",
        "filename = '/content/drive/My Drive/DATA/age.csv'\n",
        "\n",
        "import csv\n",
        "\n",
        "f = open(filename, 'r', encoding='cp949')\n",
        "data = csv.reader(f)\n",
        "\n",
        "for row in data:\n",
        "  print(row)\n",
        "\n",
        "f.close()"
      ],
      "execution_count": null,
      "outputs": []
    },
    {
      "cell_type": "code",
      "metadata": {
        "id": "r9_7xAQDZjvO",
        "outputId": "8e1d845b-8374-407c-8123-8e31d25c1557",
        "colab": {
          "base_uri": "https://localhost:8080/"
        }
      },
      "source": [
        "# 헤더부분 출력\n",
        "\n",
        "filename = '/content/drive/My Drive/DATA/age.csv'\n",
        "\n",
        "import csv\n",
        "\n",
        "f = open(filename, 'r', encoding='cp949')\n",
        "data = csv.reader(f)\n",
        "\n",
        "head = next(data)\n",
        "print(head)\n",
        "\n",
        "f.close()"
      ],
      "execution_count": null,
      "outputs": [
        {
          "output_type": "stream",
          "text": [
            "['행정구역', '2020년09월_계_총인구수', '2020년09월_계_연령구간인구수', '2020년09월_계_0세', '2020년09월_계_1세', '2020년09월_계_2세', '2020년09월_계_3세', '2020년09월_계_4세', '2020년09월_계_5세', '2020년09월_계_6세', '2020년09월_계_7세', '2020년09월_계_8세', '2020년09월_계_9세', '2020년09월_계_10세', '2020년09월_계_11세', '2020년09월_계_12세', '2020년09월_계_13세', '2020년09월_계_14세', '2020년09월_계_15세', '2020년09월_계_16세', '2020년09월_계_17세', '2020년09월_계_18세', '2020년09월_계_19세', '2020년09월_계_20세', '2020년09월_계_21세', '2020년09월_계_22세', '2020년09월_계_23세', '2020년09월_계_24세', '2020년09월_계_25세', '2020년09월_계_26세', '2020년09월_계_27세', '2020년09월_계_28세', '2020년09월_계_29세', '2020년09월_계_30세', '2020년09월_계_31세', '2020년09월_계_32세', '2020년09월_계_33세', '2020년09월_계_34세', '2020년09월_계_35세', '2020년09월_계_36세', '2020년09월_계_37세', '2020년09월_계_38세', '2020년09월_계_39세', '2020년09월_계_40세', '2020년09월_계_41세', '2020년09월_계_42세', '2020년09월_계_43세', '2020년09월_계_44세', '2020년09월_계_45세', '2020년09월_계_46세', '2020년09월_계_47세', '2020년09월_계_48세', '2020년09월_계_49세', '2020년09월_계_50세', '2020년09월_계_51세', '2020년09월_계_52세', '2020년09월_계_53세', '2020년09월_계_54세', '2020년09월_계_55세', '2020년09월_계_56세', '2020년09월_계_57세', '2020년09월_계_58세', '2020년09월_계_59세', '2020년09월_계_60세', '2020년09월_계_61세', '2020년09월_계_62세', '2020년09월_계_63세', '2020년09월_계_64세', '2020년09월_계_65세', '2020년09월_계_66세', '2020년09월_계_67세', '2020년09월_계_68세', '2020년09월_계_69세', '2020년09월_계_70세', '2020년09월_계_71세', '2020년09월_계_72세', '2020년09월_계_73세', '2020년09월_계_74세', '2020년09월_계_75세', '2020년09월_계_76세', '2020년09월_계_77세', '2020년09월_계_78세', '2020년09월_계_79세', '2020년09월_계_80세', '2020년09월_계_81세', '2020년09월_계_82세', '2020년09월_계_83세', '2020년09월_계_84세', '2020년09월_계_85세', '2020년09월_계_86세', '2020년09월_계_87세', '2020년09월_계_88세', '2020년09월_계_89세', '2020년09월_계_90세', '2020년09월_계_91세', '2020년09월_계_92세', '2020년09월_계_93세', '2020년09월_계_94세', '2020년09월_계_95세', '2020년09월_계_96세', '2020년09월_계_97세', '2020년09월_계_98세', '2020년09월_계_99세', '2020년09월_계_100세 이상']\n"
          ],
          "name": "stdout"
        }
      ]
    },
    {
      "cell_type": "code",
      "metadata": {
        "id": "asobx2C1ZFzp"
      },
      "source": [
        "# 데이터 처리에 불필요한 헤더부분 제외\n",
        "\n",
        "filename = '/content/drive/My Drive/DATA/age.csv'\n",
        "\n",
        "import csv\n",
        "\n",
        "f = open(filename, 'r', encoding='cp949')\n",
        "data = csv.reader(f)\n",
        "\n",
        "next(data) # 헤더부분 제외\n",
        "\n",
        "for row in data:\n",
        "  print(row)\n",
        "\n",
        "f.close()"
      ],
      "execution_count": null,
      "outputs": []
    },
    {
      "cell_type": "markdown",
      "metadata": {
        "id": "C6KI-S-KZ5kC"
      },
      "source": [
        "2) 궁금한 지역의 이름을 입력 및 인구 구조 저장"
      ]
    },
    {
      "cell_type": "code",
      "metadata": {
        "id": "zqlTHpS5eErV",
        "outputId": "5ebc8538-cc2f-44f3-80d4-74e3e795a343",
        "colab": {
          "base_uri": "https://localhost:8080/"
        }
      },
      "source": [
        "# 우리나라 전체 인구 데이터 출력\n",
        "filename = '/content/drive/My Drive/DATA/age.csv'\n",
        "\n",
        "import csv\n",
        "\n",
        "f = open(filename, 'r', encoding='cp949')\n",
        "data = csv.reader(f)\n",
        "\n",
        "next(data)\n",
        "result = []\n",
        "loc_name = input('인구 구조가 알고 싶은 지역의 이름(읍면동 단위)을 입력해 주세요 : ')\n",
        "\n",
        "for row in data:\n",
        "  if loc_name in row[0]:                        # 입력받은 지역의 이름이 포함된 행 찾기\n",
        "    for i in row[3:]:                           # 3번 인덱스 값부터 슬라이싱\n",
        "      result.append(int(i))\n",
        "\n",
        "print(result)                                   # result에 저장된 데이터 출력\n",
        "\n",
        "f.close()"
      ],
      "execution_count": null,
      "outputs": [
        {
          "output_type": "stream",
          "text": [
            "인구 구조가 알고 싶은 지역의 이름(읍면동 단위)을 입력해 주세요 : 부산\n",
            "[15330, 17410, 19879, 22084, 25372, 26442, 26251, 26633, 28263, 28207, 26008, 25495, 26733, 26758, 24678, 25021, 27474, 28000, 29496, 34624, 38524, 38016, 41954, 43919, 45930, 45649, 45914, 45624, 45636, 41637, 40565, 38871, 37336, 37174, 38003, 38932, 41864, 46630, 51414, 53329, 54274, 50244, 46541, 46073, 45079, 49191, 53775, 54341, 54971, 58475, 57140, 58525, 57877, 54712, 53748, 53724, 51237, 58791, 58733, 67981, 66685, 60711, 57725, 58490, 54081, 56917, 46705, 42996, 45168, 35613, 36510, 36840, 35746, 33303, 23800, 25193, 25144, 26721, 26541, 22061, 19500, 18201, 15122, 13583, 11594, 10444, 8354, 6699, 5755, 4257, 3568, 3093, 2490, 1784, 1102, 940, 643, 594, 429, 265, 1871, 90, 90, 121, 127, 123, 162, 156, 139, 178, 178, 177, 164, 174, 170, 175, 174, 199, 238, 279, 326, 421, 405, 506, 578, 599, 616, 646, 628, 657, 578, 520, 442, 445, 397, 401, 438, 362, 466, 509, 500, 523, 456, 452, 461, 474, 558, 567, 653, 652, 695, 685, 737, 684, 664, 671, 643, 617, 764, 778, 866, 870, 848, 860, 880, 802, 904, 716, 689, 712, 555, 614, 609, 606, 528, 434, 447, 475, 485, 466, 419, 348, 348, 290, 236, 217, 178, 150, 112, 115, 73, 83, 64, 67, 48, 28, 18, 12, 21, 21, 7, 84, 5, 4, 7, 4, 4, 2, 5, 0, 3, 8, 5, 4, 8, 7, 5, 6, 8, 7, 16, 20, 15, 29, 41, 61, 62, 57, 84, 62, 82, 64, 66, 45, 47, 45, 30, 42, 32, 27, 43, 35, 38, 30, 21, 21, 25, 31, 18, 31, 36, 31, 41, 36, 43, 29, 34, 31, 25, 37, 37, 49, 44, 35, 40, 39, 37, 43, 37, 38, 34, 28, 26, 33, 13, 20, 16, 17, 19, 11, 17, 15, 10, 17, 10, 8, 6, 7, 8, 3, 8, 5, 2, 4, 9, 0, 1, 2, 1, 2, 3, 0, 3, 5, 6, 9, 8, 6, 9, 8, 10, 13, 8, 13, 9, 7, 8, 6, 12, 4, 10, 13, 20, 24, 23, 27, 22, 33, 38, 41, 42, 50, 29, 25, 24, 21, 24, 19, 23, 30, 31, 27, 25, 29, 40, 20, 32, 31, 39, 26, 48, 47, 51, 51, 50, 49, 47, 48, 45, 56, 60, 69, 71, 64, 67, 46, 76, 51, 69, 43, 54, 58, 54, 59, 51, 56, 41, 39, 42, 41, 45, 40, 51, 36, 25, 18, 16, 23, 14, 15, 6, 9, 10, 6, 9, 8, 4, 4, 4, 0, 3, 2, 0, 5, 7, 15, 19, 15, 24, 22, 24, 24, 31, 34, 25, 24, 34, 34, 31, 35, 41, 59, 55, 59, 61, 53, 98, 101, 113, 90, 117, 100, 122, 86, 74, 85, 81, 64, 70, 52, 55, 72, 78, 68, 93, 78, 67, 89, 89, 100, 86, 113, 104, 110, 101, 122, 104, 103, 98, 110, 95, 114, 129, 132, 135, 128, 158, 129, 95, 128, 102, 106, 94, 78, 80, 102, 84, 81, 67, 76, 65, 84, 77, 54, 44, 53, 40, 26, 33, 25, 23, 16, 12, 14, 18, 9, 16, 11, 6, 4, 3, 4, 2, 1, 8, 29, 26, 30, 43, 39, 55, 50, 40, 43, 41, 42, 41, 60, 46, 39, 53, 63, 67, 65, 106, 142, 138, 136, 165, 152, 158, 150, 151, 143, 153, 129, 112, 103, 111, 97, 114, 80, 108, 127, 133, 153, 113, 127, 127, 129, 142, 156, 174, 171, 192, 163, 188, 171, 164, 184, 166, 164, 195, 194, 212, 219, 214, 208, 228, 198, 232, 186, 168, 171, 131, 158, 146, 137, 140, 106, 108, 107, 104, 126, 103, 100, 83, 69, 70, 48, 48, 41, 34, 29, 15, 18, 12, 10, 11, 4, 2, 3, 5, 1, 4, 13, 10, 7, 11, 8, 6, 16, 11, 9, 14, 21, 23, 16, 18, 10, 18, 11, 21, 22, 34, 23, 37, 29, 52, 66, 57, 68, 59, 59, 70, 43, 47, 41, 46, 43, 44, 56, 42, 46, 58, 57, 43, 49, 51, 38, 49, 55, 56, 65, 67, 77, 72, 87, 82, 76, 82, 70, 50, 96, 99, 109, 106, 108, 108, 108, 125, 106, 92, 86, 96, 68, 94, 63, 82, 65, 53, 47, 60, 68, 51, 47, 55, 42, 44, 30, 34, 17, 13, 15, 14, 9, 11, 8, 9, 6, 4, 2, 1, 2, 4, 0, 25, 1, 3, 1, 0, 2, 1, 0, 0, 5, 5, 3, 5, 0, 5, 4, 2, 4, 5, 5, 4, 4, 11, 16, 7, 10, 13, 10, 15, 8, 15, 10, 8, 9, 7, 15, 12, 8, 13, 17, 11, 11, 12, 13, 5, 11, 11, 10, 13, 16, 15, 27, 25, 11, 18, 13, 22, 15, 23, 20, 26, 25, 31, 31, 26, 25, 31, 28, 23, 24, 15, 21, 14, 16, 18, 12, 8, 18, 8, 8, 12, 9, 5, 11, 9, 11, 4, 5, 2, 4, 2, 3, 3, 5, 3, 2, 0, 0, 1, 0, 0, 5, 0, 1, 1, 2, 2, 4, 1, 3, 1, 2, 4, 4, 0, 1, 6, 2, 3, 4, 1, 3, 6, 3, 7, 3, 5, 11, 9, 8, 8, 12, 7, 9, 9, 8, 5, 14, 4, 13, 16, 12, 12, 7, 7, 6, 5, 13, 14, 15, 10, 20, 24, 19, 18, 21, 26, 10, 13, 16, 29, 37, 36, 36, 32, 34, 44, 21, 16, 32, 23, 15, 13, 15, 24, 18, 19, 9, 17, 16, 15, 9, 6, 10, 10, 6, 5, 1, 7, 0, 0, 1, 4, 2, 2, 2, 0, 0, 0, 1, 1, 1, 1, 12, 14, 19, 17, 9, 18, 26, 21, 25, 21, 23, 17, 13, 24, 20, 18, 14, 20, 28, 37, 49, 41, 56, 63, 89, 94, 104, 113, 94, 101, 85, 65, 65, 53, 57, 59, 55, 92, 62, 67, 55, 51, 54, 64, 52, 75, 90, 74, 89, 75, 77, 69, 86, 74, 79, 56, 66, 68, 67, 74, 72, 80, 90, 91, 80, 88, 73, 67, 77, 51, 60, 74, 60, 46, 43, 43, 50, 49, 46, 37, 28, 50, 22, 27, 22, 26, 14, 16, 13, 7, 6, 11, 3, 5, 4, 2, 1, 1, 2, 1, 9, 21, 14, 24, 30, 31, 35, 31, 32, 43, 38, 39, 44, 34, 35, 46, 35, 41, 44, 62, 54, 83, 78, 73, 90, 78, 87, 72, 78, 80, 75, 77, 53, 64, 42, 64, 66, 56, 64, 81, 92, 89, 76, 92, 79, 83, 92, 111, 120, 112, 124, 129, 141, 120, 132, 107, 133, 133, 155, 134, 156, 169, 149, 147, 149, 147, 186, 139, 115, 135, 115, 103, 111, 134, 99, 79, 97, 98, 100, 86, 91, 60, 63, 66, 44, 35, 36, 24, 20, 26, 10, 15, 6, 5, 6, 3, 2, 3, 2, 6, 0, 15, 348, 430, 427, 521, 584, 622, 629, 625, 691, 728, 662, 658, 647, 682, 637, 668, 762, 764, 796, 1005, 1161, 1197, 1371, 1489, 1489, 1454, 1421, 1390, 1353, 1179, 1172, 1063, 1024, 966, 923, 1023, 1026, 1264, 1368, 1440, 1499, 1348, 1247, 1251, 1226, 1428, 1578, 1671, 1655, 1738, 1744, 1783, 1721, 1693, 1657, 1686, 1662, 1914, 1872, 2284, 2323, 2081, 2023, 2044, 1887, 2069, 1782, 1550, 1752, 1388, 1475, 1465, 1433, 1393, 1005, 1032, 1127, 1189, 1191, 999, 903, 859, 693, 637, 561, 504, 374, 314, 266, 192, 160, 149, 117, 104, 46, 57, 36, 31, 30, 10, 122, 12, 15, 11, 24, 23, 26, 24, 30, 26, 23, 36, 31, 23, 23, 27, 24, 32, 25, 34, 37, 46, 39, 75, 62, 79, 58, 54, 68, 65, 57, 54, 44, 48, 47, 52, 41, 34, 49, 65, 67, 58, 62, 56, 46, 56, 50, 64, 72, 57, 82, 71, 80, 75, 66, 79, 64, 68, 90, 80, 88, 95, 80, 82, 85, 81, 95, 63, 70, 86, 54, 60, 61, 68, 56, 40, 47, 43, 47, 56, 45, 38, 48, 32, 31, 29, 28, 23, 17, 12, 15, 5, 8, 4, 4, 1, 1, 4, 3, 1, 1, 4, 15, 23, 27, 26, 38, 46, 35, 39, 45, 44, 45, 44, 45, 53, 49, 44, 56, 61, 60, 87, 87, 64, 78, 76, 81, 91, 83, 78, 72, 61, 67, 68, 58, 53, 54, 66, 61, 84, 96, 74, 91, 94, 88, 79, 89, 102, 102, 138, 120, 129, 152, 130, 136, 126, 118, 113, 125, 130, 133, 172, 152, 162, 159, 143, 143, 167, 151, 108, 154, 104, 110, 127, 119, 121, 89, 91, 82, 105, 107, 85, 85, 76, 51, 55, 45, 53, 45, 34, 25, 16, 12, 5, 12, 8, 4, 5, 5, 2, 2, 0, 4, 28, 34, 42, 42, 54, 44, 46, 46, 49, 51, 58, 48, 46, 38, 57, 47, 58, 60, 43, 72, 82, 120, 147, 137, 136, 136, 112, 109, 136, 86, 96, 84, 100, 83, 81, 76, 66, 104, 91, 111, 116, 103, 101, 84, 92, 88, 130, 125, 121, 116, 130, 105, 126, 127, 98, 96, 122, 106, 129, 130, 173, 141, 131, 134, 131, 133, 124, 96, 123, 97, 92, 96, 82, 90, 61, 77, 85, 75, 82, 60, 73, 59, 46, 46, 36, 37, 18, 26, 18, 16, 11, 7, 7, 14, 4, 5, 3, 6, 2, 1, 10, 58, 74, 67, 96, 97, 102, 112, 97, 111, 105, 94, 86, 70, 102, 72, 84, 93, 88, 107, 136, 135, 139, 139, 194, 152, 168, 174, 164, 157, 139, 145, 142, 132, 126, 129, 133, 160, 179, 211, 226, 194, 187, 138, 171, 171, 176, 196, 177, 203, 206, 188, 205, 189, 179, 172, 198, 167, 197, 186, 201, 219, 169, 178, 177, 165, 174, 165, 152, 165, 133, 138, 149, 118, 132, 86, 81, 124, 115, 128, 90, 80, 87, 62, 76, 51, 53, 36, 26, 20, 21, 22, 17, 15, 9, 4, 10, 4, 1, 0, 1, 5, 39, 44, 45, 47, 70, 69, 74, 74, 84, 95, 73, 92, 87, 88, 81, 79, 91, 78, 80, 108, 109, 102, 100, 132, 102, 103, 125, 101, 105, 84, 80, 79, 76, 84, 73, 88, 88, 112, 120, 112, 143, 123, 140, 123, 125, 138, 121, 169, 139, 151, 164, 153, 145, 139, 126, 135, 132, 142, 146, 189, 170, 149, 134, 135, 133, 142, 121, 99, 129, 90, 90, 89, 86, 83, 64, 75, 71, 84, 71, 59, 58, 54, 55, 37, 55, 26, 28, 23, 14, 18, 11, 17, 9, 4, 5, 3, 0, 3, 3, 1, 3, 40, 44, 55, 54, 55, 76, 80, 71, 91, 83, 76, 82, 80, 81, 59, 83, 70, 86, 85, 70, 97, 94, 102, 102, 110, 95, 86, 104, 87, 85, 71, 83, 70, 77, 65, 103, 86, 93, 109, 125, 133, 115, 103, 105, 106, 128, 144, 134, 145, 153, 131, 127, 137, 128, 109, 130, 120, 121, 126, 161, 170, 133, 128, 123, 106, 123, 92, 94, 107, 60, 104, 72, 72, 76, 51, 56, 55, 57, 64, 35, 55, 51, 52, 34, 34, 24, 21, 15, 18, 15, 9, 13, 9, 8, 1, 1, 1, 2, 1, 2, 4, 30, 41, 40, 44, 52, 53, 47, 51, 63, 48, 49, 54, 52, 56, 46, 50, 46, 58, 57, 116, 134, 141, 160, 195, 156, 182, 174, 150, 151, 141, 115, 97, 115, 85, 77, 91, 91, 109, 107, 120, 104, 110, 88, 97, 85, 115, 99, 119, 123, 136, 121, 121, 83, 109, 113, 101, 109, 118, 107, 146, 129, 121, 134, 113, 131, 135, 110, 90, 98, 80, 82, 68, 81, 74, 53, 51, 52, 54, 57, 46, 49, 53, 35, 36, 33, 28, 30, 17, 13, 7, 13, 12, 8, 4, 5, 6, 0, 2, 2, 1, 7, 6, 6, 10, 14, 3, 10, 7, 17, 19, 18, 17, 15, 26, 19, 30, 27, 43, 46, 36, 57, 51, 59, 76, 84, 93, 84, 83, 86, 83, 66, 64, 70, 60, 54, 45, 38, 48, 48, 74, 57, 83, 60, 66, 63, 79, 95, 102, 92, 114, 102, 107, 130, 113, 115, 101, 98, 121, 144, 142, 192, 177, 167, 164, 171, 146, 164, 159, 133, 148, 120, 134, 134, 119, 130, 78, 97, 90, 116, 101, 121, 83, 77, 71, 81, 41, 53, 37, 31, 34, 17, 17, 15, 13, 8, 1, 6, 6, 2, 5, 0, 29, 7, 10, 7, 6, 16, 19, 20, 17, 9, 13, 15, 16, 14, 18, 20, 17, 18, 25, 25, 24, 41, 41, 56, 43, 47, 40, 41, 52, 33, 43, 49, 37, 29, 36, 28, 32, 24, 42, 48, 56, 45, 44, 66, 45, 47, 58, 72, 84, 75, 82, 73, 73, 56, 78, 93, 78, 80, 94, 114, 81, 123, 107, 100, 107, 107, 106, 111, 80, 83, 74, 92, 81, 90, 60, 62, 53, 79, 94, 79, 71, 61, 54, 48, 44, 40, 22, 16, 12, 22, 11, 14, 10, 4, 7, 1, 4, 1, 1, 2, 1, 9, 46, 53, 37, 61, 59, 60, 56, 41, 60, 48, 64, 50, 45, 48, 34, 43, 54, 60, 59, 80, 101, 92, 137, 138, 166, 149, 153, 153, 147, 144, 143, 137, 127, 112, 104, 127, 102, 126, 142, 133, 150, 110, 96, 115, 100, 149, 130, 169, 156, 162, 191, 160, 166, 154, 155, 173, 150, 172, 191, 216, 219, 205, 177, 173, 187, 190, 165, 143, 145, 133, 135, 143, 146, 118, 110, 79, 108, 94, 113, 85, 86, 69, 42, 56, 50, 39, 31, 26, 21, 12, 9, 10, 8, 7, 7, 1, 4, 4, 4, 1, 15, 19, 14, 7, 14, 15, 11, 16, 14, 16, 14, 8, 17, 18, 21, 21, 15, 22, 19, 32, 34, 44, 40, 35, 62, 54, 46, 48, 51, 53, 30, 48, 42, 45, 47, 49, 41, 43, 62, 49, 60, 69, 51, 44, 48, 44, 58, 76, 70, 77, 76, 70, 85, 93, 99, 88, 88, 91, 112, 93, 136, 99, 119, 119, 152, 99, 126, 115, 103, 123, 87, 102, 83, 81, 95, 61, 66, 68, 76, 78, 77, 49, 60, 44, 25, 29, 25, 23, 20, 15, 13, 13, 4, 7, 8, 2, 3, 2, 2, 2, 0, 7, 11, 25, 30, 40, 36, 41, 30, 43, 40, 52, 46, 53, 51, 34, 33, 46, 59, 44, 93, 81, 83, 90, 84, 82, 98, 110, 95, 97, 92, 88, 73, 62, 52, 66, 63, 73, 76, 98, 103, 128, 111, 114, 91, 119, 113, 106, 138, 142, 157, 148, 145, 175, 171, 151, 186, 149, 165, 190, 162, 224, 249, 222, 230, 246, 185, 226, 197, 180, 184, 161, 178, 175, 178, 170, 141, 143, 123, 139, 126, 115, 93, 74, 74, 56, 61, 59, 34, 32, 26, 10, 14, 10, 15, 12, 4, 7, 2, 0, 3, 0, 12, 37, 47, 49, 53, 66, 65, 82, 85, 78, 134, 81, 70, 90, 101, 108, 109, 120, 114, 85, 103, 151, 176, 182, 182, 215, 192, 193, 177, 172, 155, 167, 118, 112, 96, 103, 114, 147, 158, 153, 171, 202, 175, 170, 156, 119, 165, 204, 180, 168, 195, 201, 239, 231, 222, 219, 263, 212, 298, 263, 348, 348, 306, 287, 285, 273, 288, 209, 202, 207, 195, 158, 187, 193, 188, 109, 116, 147, 133, 129, 110, 93, 97, 81, 60, 57, 57, 32, 35, 28, 21, 10, 21, 6, 11, 7, 5, 4, 3, 3, 1, 13, 349, 345, 380, 427, 433, 458, 423, 442, 476, 447, 440, 406, 474, 497, 420, 447, 530, 578, 630, 798, 838, 775, 952, 997, 1114, 1133, 1177, 1208, 1236, 1159, 1105, 1041, 1038, 953, 962, 959, 1017, 1085, 1184, 1159, 1160, 1112, 1067, 1036, 1000, 1194, 1306, 1305, 1408, 1487, 1464, 1586, 1437, 1441, 1373, 1360, 1285, 1527, 1576, 1855, 1906, 1777, 1640, 1790, 1627, 1716, 1440, 1367, 1489, 1259, 1222, 1303, 1262, 1145, 864, 955, 966, 1015, 1069, 894, 782, 731, 595, 555, 499, 414, 312, 269, 234, 157, 121, 130, 109, 69, 52, 32, 24, 21, 15, 11, 101, 6, 10, 10, 19, 15, 23, 30, 22, 22, 20, 29, 27, 22, 26, 25, 24, 19, 36, 29, 39, 43, 45, 70, 65, 88, 69, 85, 72, 81, 66, 65, 60, 48, 57, 42, 38, 44, 47, 51, 64, 64, 76, 54, 57, 60, 75, 59, 84, 86, 92, 80, 97, 92, 69, 72, 67, 64, 71, 89, 96, 90, 102, 100, 96, 92, 73, 95, 73, 67, 67, 73, 73, 81, 54, 47, 51, 43, 54, 59, 54, 50, 31, 28, 36, 28, 14, 11, 11, 12, 7, 5, 5, 5, 5, 1, 5, 0, 0, 2, 0, 5, 5, 7, 13, 18, 18, 20, 24, 16, 20, 20, 34, 18, 24, 29, 24, 22, 27, 17, 34, 47, 46, 46, 53, 53, 59, 65, 77, 83, 74, 83, 65, 50, 53, 48, 41, 47, 67, 56, 64, 62, 69, 84, 68, 67, 50, 76, 86, 67, 89, 112, 94, 91, 100, 102, 87, 123, 93, 102, 112, 125, 126, 110, 130, 124, 124, 133, 125, 120, 116, 106, 107, 108, 85, 91, 50, 78, 80, 64, 74, 75, 56, 49, 46, 36, 35, 19, 21, 28, 21, 13, 17, 12, 10, 8, 2, 4, 0, 1, 0, 1, 9, 114, 104, 116, 111, 115, 100, 85, 102, 78, 78, 54, 48, 84, 62, 58, 68, 66, 67, 85, 114, 107, 111, 115, 168, 156, 181, 170, 204, 263, 252, 230, 239, 236, 221, 236, 219, 228, 252, 231, 238, 205, 204, 162, 150, 153, 150, 194, 166, 176, 170, 171, 193, 177, 158, 149, 138, 127, 165, 124, 171, 155, 181, 115, 156, 118, 133, 123, 92, 108, 83, 78, 77, 93, 48, 60, 66, 84, 63, 54, 44, 38, 42, 38, 31, 29, 28, 21, 24, 22, 12, 10, 5, 11, 7, 6, 2, 6, 1, 5, 1, 8, 9, 9, 12, 13, 15, 28, 20, 27, 34, 33, 44, 38, 45, 41, 42, 27, 47, 40, 39, 55, 63, 68, 73, 65, 65, 63, 78, 69, 68, 53, 55, 50, 36, 53, 45, 59, 43, 54, 58, 71, 69, 66, 72, 70, 71, 88, 85, 93, 114, 117, 81, 112, 103, 105, 93, 98, 98, 120, 115, 130, 152, 136, 113, 117, 129, 134, 97, 115, 140, 100, 96, 123, 112, 103, 65, 75, 80, 95, 110, 76, 67, 74, 49, 51, 60, 46, 30, 22, 27, 17, 12, 14, 14, 5, 4, 4, 2, 4, 3, 1, 13, 10, 8, 6, 12, 15, 21, 25, 30, 29, 22, 30, 19, 24, 42, 34, 29, 37, 32, 29, 43, 55, 35, 49, 40, 59, 48, 47, 70, 57, 46, 39, 27, 35, 33, 37, 33, 42, 45, 48, 53, 53, 47, 56, 60, 50, 62, 62, 72, 69, 66, 75, 69, 79, 82, 59, 69, 53, 59, 80, 94, 67, 59, 86, 87, 81, 76, 70, 66, 86, 55, 68, 62, 68, 72, 50, 45, 41, 49, 59, 39, 47, 27, 25, 32, 21, 18, 11, 15, 12, 11, 5, 8, 5, 0, 4, 0, 1, 1, 0, 0, 5, 40, 34, 34, 42, 40, 41, 42, 46, 54, 47, 41, 38, 43, 55, 52, 50, 74, 82, 74, 102, 94, 85, 127, 115, 133, 125, 144, 142, 147, 122, 135, 130, 121, 112, 98, 112, 117, 133, 119, 96, 133, 93, 112, 111, 112, 120, 148, 169, 144, 174, 181, 176, 161, 153, 151, 150, 133, 197, 178, 213, 247, 202, 185, 207, 184, 205, 165, 154, 158, 161, 141, 146, 174, 140, 111, 97, 105, 108, 120, 105, 84, 83, 69, 56, 48, 60, 45, 32, 21, 20, 12, 17, 3, 6, 4, 4, 0, 4, 1, 2, 16, 10, 13, 15, 14, 14, 14, 5, 13, 14, 15, 13, 20, 18, 25, 18, 19, 28, 31, 37, 36, 45, 32, 30, 39, 35, 37, 33, 40, 44, 40, 31, 34, 34, 25, 28, 26, 36, 26, 47, 30, 45, 30, 38, 32, 44, 45, 73, 63, 67, 74, 77, 80, 52, 68, 73, 51, 74, 76, 88, 86, 80, 90, 94, 87, 65, 99, 81, 81, 96, 47, 86, 81, 80, 95, 69, 55, 49, 84, 84, 58, 58, 50, 41, 40, 43, 26, 17, 13, 15, 9, 4, 6, 11, 7, 4, 1, 4, 0, 0, 0, 2, 5, 12, 11, 12, 23, 22, 20, 19, 32, 33, 30, 32, 28, 38, 26, 35, 42, 45, 44, 45, 60, 63, 56, 63, 62, 57, 65, 51, 58, 54, 42, 45, 40, 38, 36, 36, 46, 44, 61, 64, 51, 61, 66, 65, 62, 65, 89, 84, 84, 95, 97, 98, 94, 108, 82, 87, 83, 102, 102, 132, 127, 121, 106, 107, 107, 127, 90, 87, 114, 95, 83, 123, 90, 96, 64, 83, 75, 82, 83, 68, 61, 68, 52, 28, 29, 39, 31, 19, 19, 7, 11, 14, 10, 8, 8, 1, 0, 1, 2, 1, 2, 48, 35, 46, 47, 42, 51, 44, 47, 58, 42, 47, 38, 56, 54, 45, 61, 83, 66, 90, 115, 105, 99, 128, 125, 167, 158, 152, 140, 117, 119, 123, 124, 113, 97, 101, 113, 121, 115, 130, 136, 153, 135, 112, 133, 123, 155, 152, 152, 155, 181, 188, 190, 180, 177, 183, 174, 162, 188, 214, 233, 243, 212, 213, 234, 206, 215, 187, 184, 171, 163, 172, 174, 180, 133, 133, 139, 138, 146, 139, 119, 111, 121, 70, 82, 64, 62, 40, 35, 21, 15, 12, 10, 15, 5, 3, 2, 4, 4, 0, 1, 15, 27, 30, 22, 36, 37, 39, 44, 41, 54, 68, 48, 55, 51, 64, 45, 57, 57, 89, 82, 99, 115, 87, 115, 130, 133, 164, 136, 148, 150, 137, 133, 108, 130, 104, 105, 96, 92, 131, 146, 141, 113, 125, 115, 111, 110, 162, 163, 162, 202, 193, 191, 243, 195, 195, 205, 190, 203, 225, 245, 278, 333, 295, 235, 288, 278, 269, 223, 203, 237, 213, 183, 165, 170, 161, 117, 141, 158, 160, 170, 154, 116, 116, 107, 102, 84, 59, 44, 39, 38, 23, 22, 21, 12, 10, 8, 4, 4, 2, 0, 2, 13, 40, 38, 56, 58, 59, 59, 43, 47, 47, 45, 40, 41, 46, 34, 35, 32, 29, 51, 62, 63, 69, 68, 93, 97, 115, 116, 148, 140, 129, 136, 132, 112, 119, 110, 128, 109, 109, 104, 146, 125, 125, 117, 131, 113, 93, 128, 122, 126, 152, 151, 165, 166, 153, 151, 158, 155, 141, 161, 157, 223, 208, 186, 177, 194, 160, 161, 130, 124, 123, 120, 87, 113, 84, 95, 61, 75, 74, 67, 69, 61, 61, 46, 39, 37, 33, 30, 19, 17, 12, 15, 6, 8, 6, 3, 3, 4, 1, 2, 0, 1, 8, 35, 45, 39, 45, 40, 40, 41, 32, 34, 24, 30, 32, 33, 27, 16, 23, 21, 22, 25, 40, 36, 36, 43, 37, 42, 50, 42, 49, 48, 51, 55, 62, 73, 55, 65, 71, 72, 78, 83, 79, 80, 74, 81, 67, 72, 68, 73, 67, 70, 62, 64, 71, 51, 73, 61, 58, 54, 61, 72, 74, 78, 83, 86, 93, 83, 91, 54, 68, 73, 49, 48, 58, 45, 57, 37, 50, 39, 43, 48, 41, 33, 24, 31, 24, 25, 13, 22, 14, 14, 8, 5, 10, 7, 5, 5, 1, 2, 1, 2, 1, 5, 311, 348, 450, 481, 569, 567, 630, 608, 668, 708, 673, 636, 685, 713, 690, 641, 793, 790, 884, 1051, 1198, 1120, 1247, 1248, 1277, 1269, 1257, 1200, 1251, 1042, 998, 962, 947, 906, 974, 1062, 1066, 1205, 1300, 1466, 1484, 1383, 1327, 1262, 1329, 1534, 1729, 1727, 1758, 1863, 1844, 1867, 1922, 1839, 1898, 1835, 1710, 2097, 2193, 2607, 2583, 2398, 2331, 2341, 2305, 2514, 2017, 1814, 2014, 1634, 1689, 1771, 1685, 1694, 1209, 1291, 1239, 1434, 1386, 1159, 1039, 976, 752, 688, 612, 503, 425, 300, 276, 206, 161, 162, 105, 90, 66, 44, 31, 38, 20, 18, 133, 25, 27, 34, 32, 39, 49, 47, 42, 55, 55, 47, 42, 57, 48, 46, 37, 65, 56, 66, 78, 101, 87, 107, 116, 104, 114, 115, 116, 92, 108, 105, 95, 93, 87, 106, 112, 89, 129, 109, 149, 129, 129, 119, 118, 110, 158, 143, 173, 152, 183, 160, 182, 166, 188, 188, 220, 161, 203, 190, 284, 257, 224, 245, 232, 244, 287, 191, 175, 191, 143, 181, 188, 193, 181, 114, 134, 122, 155, 156, 111, 99, 110, 87, 69, 64, 59, 52, 34, 25, 31, 15, 23, 14, 6, 8, 5, 4, 3, 2, 0, 9, 11, 6, 17, 23, 25, 16, 20, 18, 27, 23, 26, 20, 19, 31, 21, 15, 34, 27, 22, 41, 48, 38, 49, 50, 45, 31, 46, 43, 54, 51, 32, 38, 39, 31, 28, 39, 40, 38, 53, 51, 57, 57, 49, 56, 40, 49, 49, 53, 66, 71, 52, 76, 72, 66, 82, 75, 53, 67, 86, 94, 98, 95, 83, 95, 90, 89, 68, 61, 86, 66, 76, 65, 70, 63, 47, 36, 45, 55, 50, 41, 39, 33, 20, 21, 31, 18, 18, 15, 9, 6, 8, 3, 1, 2, 2, 3, 1, 2, 1, 3, 9, 22, 24, 30, 40, 48, 50, 61, 34, 55, 59, 62, 51, 53, 48, 69, 45, 51, 59, 70, 78, 99, 93, 83, 98, 97, 79, 94, 91, 86, 85, 79, 70, 93, 75, 73, 68, 90, 90, 102, 101, 99, 100, 91, 95, 105, 101, 133, 123, 147, 140, 138, 140, 146, 146, 142, 143, 144, 169, 182, 202, 194, 202, 166, 182, 189, 155, 168, 139, 173, 140, 132, 142, 153, 148, 95, 109, 99, 118, 116, 93, 103, 74, 73, 58, 56, 46, 27, 15, 33, 15, 14, 17, 9, 13, 5, 6, 3, 6, 0, 3, 12, 16, 14, 21, 11, 23, 21, 27, 32, 35, 25, 51, 33, 45, 45, 45, 48, 52, 47, 71, 80, 83, 55, 71, 91, 82, 99, 105, 79, 86, 69, 63, 64, 51, 48, 57, 58, 67, 76, 96, 92, 101, 83, 78, 95, 99, 109, 124, 147, 142, 167, 160, 138, 155, 171, 175, 154, 155, 182, 184, 213, 230, 191, 195, 220, 172, 195, 182, 164, 187, 124, 170, 168, 176, 186, 137, 127, 141, 149, 162, 139, 142, 124, 95, 83, 60, 48, 47, 32, 24, 17, 13, 19, 15, 11, 5, 5, 4, 2, 3, 6, 12, 27, 29, 35, 47, 45, 37, 34, 42, 38, 39, 48, 39, 39, 39, 43, 33, 37, 46, 50, 59, 72, 66, 60, 58, 80, 82, 92, 72, 94, 68, 77, 64, 67, 64, 67, 80, 70, 79, 77, 109, 97, 95, 95, 85, 85, 103, 113, 103, 99, 101, 115, 110, 95, 113, 117, 116, 104, 118, 153, 165, 170, 147, 175, 142, 157, 158, 147, 107, 130, 113, 111, 115, 98, 99, 75, 78, 81, 95, 74, 75, 67, 66, 57, 46, 32, 44, 28, 33, 26, 18, 14, 14, 7, 7, 11, 0, 2, 4, 1, 0, 30, 10, 7, 9, 17, 11, 18, 21, 17, 25, 21, 18, 21, 27, 21, 33, 20, 29, 31, 29, 45, 31, 44, 46, 55, 63, 47, 65, 52, 59, 37, 40, 35, 37, 32, 38, 42, 36, 39, 47, 58, 58, 63, 54, 50, 68, 79, 79, 88, 76, 75, 78, 94, 99, 89, 88, 89, 78, 108, 86, 128, 102, 116, 105, 97, 105, 111, 100, 109, 119, 95, 98, 93, 104, 94, 58, 89, 81, 102, 110, 70, 71, 66, 36, 42, 35, 29, 22, 13, 19, 4, 9, 3, 6, 6, 2, 2, 1, 2, 0, 0, 8, 17, 23, 27, 34, 51, 35, 51, 40, 42, 57, 40, 40, 44, 50, 39, 41, 42, 37, 60, 45, 70, 51, 58, 50, 58, 66, 67, 71, 71, 57, 47, 64, 45, 47, 67, 50, 73, 78, 84, 116, 91, 95, 102, 85, 93, 117, 110, 91, 95, 106, 127, 102, 113, 89, 96, 82, 111, 121, 117, 141, 146, 127, 122, 138, 136, 167, 97, 100, 114, 95, 108, 104, 96, 115, 80, 96, 72, 93, 95, 62, 74, 54, 41, 47, 35, 33, 27, 19, 12, 15, 9, 12, 9, 9, 8, 4, 6, 1, 0, 0, 12, 51, 71, 82, 102, 106, 113, 119, 129, 137, 156, 133, 128, 136, 120, 136, 137, 165, 156, 167, 169, 199, 181, 204, 195, 205, 202, 197, 211, 202, 173, 163, 173, 161, 157, 186, 178, 162, 207, 250, 254, 251, 264, 240, 221, 232, 258, 303, 281, 307, 323, 353, 298, 328, 274, 315, 286, 291, 331, 354, 397, 423, 366, 358, 346, 327, 391, 318, 281, 307, 269, 250, 247, 221, 227, 158, 183, 183, 189, 177, 155, 125, 136, 105, 97, 92, 72, 50, 40, 32, 14, 26, 24, 13, 15, 6, 3, 2, 5, 4, 1, 15, 100, 112, 139, 127, 163, 162, 193, 184, 199, 201, 178, 207, 208, 229, 186, 211, 242, 239, 254, 344, 375, 343, 392, 349, 354, 382, 345, 324, 368, 266, 277, 243, 255, 261, 251, 296, 305, 339, 340, 359, 413, 359, 350, 326, 341, 388, 476, 489, 476, 492, 458, 509, 532, 489, 482, 462, 424, 540, 555, 648, 611, 622, 566, 585, 553, 596, 453, 412, 442, 346, 349, 397, 355, 360, 265, 251, 242, 282, 264, 243, 198, 188, 136, 140, 126, 86, 99, 69, 52, 57, 30, 27, 14, 14, 10, 10, 7, 8, 6, 2, 16, 8, 9, 19, 22, 19, 23, 22, 29, 9, 22, 20, 14, 8, 25, 14, 11, 17, 21, 24, 36, 51, 66, 83, 96, 74, 70, 47, 48, 34, 36, 37, 35, 25, 32, 23, 34, 30, 38, 43, 44, 44, 43, 41, 38, 44, 46, 45, 50, 48, 43, 50, 51, 43, 41, 55, 46, 42, 40, 52, 65, 85, 61, 65, 72, 76, 79, 70, 55, 60, 55, 52, 65, 37, 48, 54, 54, 40, 40, 39, 23, 24, 28, 25, 14, 14, 13, 15, 6, 9, 4, 8, 7, 2, 1, 3, 3, 0, 2, 2, 0, 2, 24, 26, 37, 26, 39, 43, 35, 41, 46, 50, 50, 41, 49, 57, 58, 43, 59, 71, 71, 76, 69, 96, 94, 90, 115, 97, 84, 93, 105, 92, 78, 81, 81, 72, 78, 105, 104, 92, 99, 133, 144, 95, 108, 93, 112, 126, 154, 129, 150, 162, 153, 167, 173, 173, 158, 162, 147, 218, 234, 270, 267, 247, 251, 232, 256, 286, 223, 211, 205, 188, 162, 187, 182, 173, 126, 134, 133, 156, 143, 147, 97, 97, 77, 71, 67, 55, 40, 24, 35, 25, 15, 13, 15, 6, 6, 3, 1, 3, 1, 3, 8, 1469, 1638, 1957, 1970, 2327, 2341, 2371, 2293, 2493, 2507, 2334, 2241, 2410, 2348, 2218, 2183, 2553, 2589, 2765, 3477, 3962, 4130, 4666, 5201, 5565, 5773, 5920, 5832, 5921, 5274, 5079, 4847, 4439, 4419, 4298, 4388, 4540, 4939, 5334, 5264, 5402, 5071, 4562, 4569, 4558, 4853, 5482, 5442, 5609, 5910, 5738, 5813, 5899, 5492, 5489, 5612, 5280, 6067, 6065, 7092, 6951, 6387, 6103, 6144, 5738, 5941, 4845, 4496, 4774, 3800, 3894, 3992, 3798, 3581, 2477, 2683, 2721, 2952, 3069, 2480, 2244, 2101, 1662, 1548, 1277, 1133, 899, 752, 635, 466, 370, 310, 269, 179, 92, 88, 60, 59, 53, 27, 228, 74, 67, 82, 76, 60, 63, 62, 50, 48, 55, 30, 45, 42, 40, 49, 51, 47, 71, 60, 129, 163, 192, 252, 306, 349, 419, 414, 383, 433, 333, 305, 276, 258, 270, 225, 216, 220, 213, 229, 220, 193, 163, 157, 143, 136, 183, 201, 194, 191, 203, 225, 281, 269, 260, 232, 244, 234, 254, 262, 295, 299, 280, 262, 275, 266, 259, 200, 187, 197, 170, 172, 179, 164, 157, 92, 134, 98, 120, 116, 106, 95, 87, 70, 71, 53, 35, 37, 33, 25, 20, 17, 12, 13, 7, 4, 5, 2, 2, 5, 4, 14, 51, 62, 59, 68, 98, 74, 60, 69, 53, 50, 52, 41, 44, 37, 36, 34, 50, 53, 61, 81, 106, 132, 183, 185, 210, 242, 236, 244, 232, 207, 187, 201, 164, 158, 159, 175, 160, 184, 213, 185, 170, 169, 148, 127, 120, 136, 137, 167, 155, 170, 138, 158, 158, 142, 145, 148, 132, 163, 156, 206, 163, 154, 180, 143, 134, 135, 98, 107, 104, 79, 71, 65, 83, 66, 44, 50, 36, 55, 55, 42, 38, 28, 37, 36, 18, 17, 20, 12, 11, 7, 8, 6, 10, 5, 2, 4, 4, 3, 2, 1, 7, 85, 97, 136, 131, 147, 183, 155, 169, 188, 192, 190, 181, 189, 188, 167, 163, 213, 170, 183, 228, 211, 202, 220, 208, 184, 235, 195, 203, 218, 235, 194, 223, 182, 198, 196, 210, 245, 251, 300, 327, 281, 338, 299, 281, 325, 326, 371, 336, 399, 390, 329, 357, 328, 285, 303, 311, 280, 289, 352, 426, 443, 355, 371, 376, 347, 352, 292, 277, 296, 240, 249, 251, 246, 235, 166, 179, 159, 198, 201, 145, 141, 121, 108, 104, 92, 87, 57, 44, 34, 38, 22, 22, 15, 17, 4, 9, 6, 3, 3, 2, 6, 72, 111, 112, 132, 149, 148, 146, 133, 155, 155, 139, 157, 145, 148, 139, 145, 155, 172, 191, 189, 205, 222, 215, 217, 242, 266, 256, 235, 249, 230, 232, 213, 212, 217, 231, 243, 268, 253, 315, 309, 324, 332, 275, 272, 245, 292, 357, 348, 352, 355, 344, 374, 395, 343, 355, 346, 326, 401, 391, 416, 420, 416, 432, 442, 423, 454, 380, 370, 379, 339, 335, 329, 281, 289, 233, 237, 245, 234, 267, 212, 205, 169, 133, 100, 123, 78, 77, 65, 47, 40, 27, 23, 16, 14, 6, 5, 4, 4, 6, 4, 12, 96, 108, 127, 131, 119, 127, 128, 121, 145, 144, 143, 132, 143, 143, 135, 140, 171, 167, 163, 234, 252, 254, 294, 328, 297, 299, 339, 279, 318, 292, 252, 266, 249, 223, 236, 222, 218, 292, 294, 258, 301, 285, 241, 290, 261, 291, 347, 334, 348, 359, 362, 374, 382, 359, 334, 347, 349, 352, 338, 419, 394, 373, 348, 319, 319, 337, 258, 227, 254, 194, 206, 205, 204, 194, 124, 183, 151, 156, 167, 127, 128, 131, 91, 90, 82, 73, 60, 59, 42, 26, 25, 14, 14, 14, 7, 1, 2, 4, 3, 1, 12, 49, 55, 55, 56, 67, 62, 65, 47, 58, 59, 60, 49, 56, 49, 47, 42, 56, 57, 90, 123, 172, 208, 222, 292, 276, 341, 380, 351, 376, 301, 297, 258, 220, 221, 223, 199, 217, 212, 243, 210, 192, 182, 172, 157, 147, 174, 194, 196, 192, 196, 183, 180, 181, 150, 155, 154, 153, 163, 177, 180, 187, 172, 177, 190, 172, 181, 153, 137, 148, 105, 129, 122, 134, 121, 79, 79, 78, 92, 101, 87, 69, 82, 51, 54, 42, 38, 31, 18, 19, 15, 7, 17, 5, 13, 2, 3, 2, 4, 0, 3, 8, 80, 78, 80, 78, 103, 86, 92, 90, 84, 124, 97, 76, 91, 88, 90, 107, 90, 113, 120, 132, 197, 255, 279, 393, 453, 484, 551, 507, 530, 411, 384, 390, 333, 323, 290, 271, 275, 290, 315, 280, 256, 259, 202, 218, 237, 222, 247, 246, 253, 259, 249, 233, 243, 230, 196, 204, 200, 211, 257, 256, 233, 234, 236, 248, 200, 263, 207, 166, 189, 156, 157, 185, 172, 142, 100, 120, 131, 146, 151, 117, 118, 108, 70, 81, 62, 55, 48, 34, 26, 17, 29, 18, 12, 7, 7, 6, 3, 3, 4, 1, 16, 70, 62, 84, 94, 117, 123, 111, 129, 118, 130, 110, 103, 128, 117, 105, 95, 112, 126, 135, 182, 209, 214, 286, 318, 372, 410, 367, 452, 414, 380, 379, 318, 332, 299, 280, 262, 254, 299, 318, 350, 344, 321, 258, 280, 253, 266, 321, 288, 347, 329, 344, 313, 291, 312, 283, 290, 279, 332, 300, 383, 395, 393, 370, 378, 341, 331, 290, 290, 279, 236, 261, 272, 249, 243, 164, 180, 197, 223, 193, 168, 159, 156, 116, 111, 82, 82, 66, 41, 44, 19, 25, 17, 17, 8, 8, 6, 6, 2, 1, 1, 13, 108, 161, 194, 166, 236, 222, 224, 232, 219, 206, 191, 188, 178, 181, 169, 146, 202, 176, 206, 222, 224, 229, 234, 247, 300, 234, 285, 277, 270, 235, 258, 262, 244, 271, 296, 304, 303, 347, 395, 394, 417, 349, 376, 348, 344, 342, 392, 413, 387, 393, 412, 362, 357, 355, 327, 349, 347, 418, 395, 427, 407, 382, 375, 348, 342, 343, 266, 264, 256, 207, 236, 268, 245, 225, 148, 159, 163, 202, 187, 142, 111, 112, 97, 81, 54, 59, 50, 51, 33, 23, 14, 19, 14, 11, 6, 6, 5, 4, 1, 4, 32, 54, 62, 96, 96, 102, 130, 134, 144, 197, 155, 164, 183, 197, 203, 184, 181, 222, 206, 198, 230, 215, 208, 208, 217, 228, 208, 225, 216, 178, 161, 155, 184, 160, 129, 169, 168, 157, 210, 218, 257, 255, 268, 289, 255, 255, 323, 318, 311, 322, 343, 371, 330, 333, 307, 313, 349, 313, 357, 353, 417, 340, 359, 321, 292, 288, 248, 244, 194, 223, 171, 183, 188, 191, 156, 114, 115, 119, 143, 149, 102, 99, 83, 66, 68, 63, 50, 38, 20, 28, 17, 17, 11, 11, 6, 3, 7, 1, 4, 1, 1, 12, 68, 64, 86, 107, 133, 122, 151, 153, 189, 164, 187, 177, 202, 194, 176, 174, 216, 206, 241, 290, 279, 267, 295, 305, 311, 300, 294, 312, 318, 263, 250, 232, 204, 220, 206, 221, 246, 265, 307, 250, 352, 305, 281, 317, 292, 331, 421, 383, 421, 453, 428, 408, 456, 454, 405, 431, 448, 477, 440, 562, 550, 475, 432, 470, 420, 418, 344, 337, 356, 274, 277, 271, 259, 252, 148, 170, 187, 205, 207, 182, 159, 128, 135, 135, 98, 91, 71, 58, 48, 44, 34, 28, 28, 18, 7, 7, 3, 3, 4, 3, 12, 84, 64, 81, 81, 78, 85, 87, 68, 73, 73, 65, 74, 66, 62, 72, 66, 68, 57, 79, 94, 101, 84, 98, 110, 126, 124, 146, 151, 173, 162, 182, 140, 154, 177, 146, 150, 148, 198, 195, 174, 187, 183, 123, 114, 136, 145, 144, 148, 156, 164, 141, 152, 163, 130, 127, 148, 145, 148, 170, 195, 209, 176, 177, 186, 166, 176, 153, 110, 131, 102, 111, 133, 114, 110, 68, 76, 79, 78, 81, 71, 58, 80, 39, 40, 41, 39, 20, 20, 15, 13, 15, 7, 6, 5, 1, 0, 0, 0, 2, 0, 7, 33, 38, 64, 73, 85, 74, 97, 89, 92, 83, 91, 95, 100, 90, 92, 85, 95, 108, 91, 127, 147, 114, 114, 136, 153, 131, 137, 136, 126, 109, 114, 131, 107, 97, 129, 143, 143, 142, 152, 198, 192, 166, 152, 187, 162, 156, 191, 185, 210, 214, 223, 216, 244, 214, 234, 236, 195, 210, 245, 264, 250, 211, 191, 192, 197, 202, 181, 151, 178, 124, 118, 134, 119, 129, 81, 79, 103, 102, 96, 87, 84, 65, 58, 48, 30, 37, 28, 27, 25, 11, 9, 11, 4, 8, 2, 6, 2, 3, 0, 0, 7, 50, 76, 54, 80, 101, 101, 126, 96, 131, 140, 117, 100, 118, 132, 90, 104, 108, 139, 140, 216, 265, 326, 344, 402, 391, 341, 351, 313, 284, 231, 266, 239, 212, 201, 219, 210, 214, 259, 259, 243, 251, 273, 253, 249, 276, 274, 267, 278, 309, 320, 321, 333, 330, 302, 354, 330, 303, 365, 358, 447, 423, 386, 354, 352, 344, 367, 291, 275, 336, 254, 236, 241, 217, 242, 161, 173, 160, 185, 197, 160, 136, 121, 89, 81, 67, 52, 47, 44, 21, 27, 14, 17, 16, 12, 2, 4, 4, 4, 3, 0, 8, 60, 68, 88, 92, 112, 121, 120, 127, 137, 141, 129, 117, 138, 129, 134, 127, 142, 157, 135, 183, 194, 205, 210, 231, 212, 221, 224, 236, 212, 208, 166, 161, 177, 172, 181, 187, 200, 211, 225, 242, 273, 226, 210, 190, 203, 231, 268, 264, 280, 275, 277, 299, 274, 266, 280, 279, 239, 332, 312, 361, 366, 333, 317, 324, 293, 307, 280, 261, 268, 194, 224, 212, 211, 185, 154, 141, 151, 151, 149, 110, 106, 86, 94, 77, 64, 50, 34, 36, 34, 21, 22, 22, 16, 5, 2, 2, 3, 3, 4, 0, 12, 110, 104, 127, 108, 128, 160, 167, 111, 119, 133, 102, 85, 97, 84, 85, 88, 86, 112, 116, 140, 205, 224, 297, 319, 393, 386, 414, 359, 399, 355, 348, 303, 283, 296, 227, 248, 271, 272, 276, 291, 295, 262, 232, 242, 215, 221, 261, 246, 216, 250, 266, 266, 287, 251, 244, 259, 207, 254, 234, 287, 279, 257, 225, 239, 202, 230, 168, 191, 172, 162, 138, 149, 144, 142, 106, 93, 97, 100, 117, 115, 76, 90, 64, 47, 45, 48, 30, 17, 19, 16, 13, 6, 12, 3, 5, 3, 3, 2, 3, 0, 3, 38, 40, 69, 58, 56, 79, 65, 71, 91, 101, 77, 83, 89, 77, 77, 78, 87, 86, 100, 108, 167, 164, 167, 173, 182, 160, 178, 149, 134, 142, 132, 128, 118, 116, 105, 122, 117, 105, 146, 128, 157, 147, 142, 128, 159, 149, 172, 167, 161, 210, 181, 201, 199, 188, 206, 192, 173, 187, 217, 226, 258, 234, 197, 202, 193, 189, 186, 157, 159, 140, 131, 148, 125, 111, 96, 97, 121, 104, 119, 91, 84, 82, 61, 58, 42, 36, 27, 26, 22, 16, 9, 8, 7, 4, 4, 2, 2, 1, 2, 0, 3, 112, 139, 163, 162, 224, 212, 221, 226, 211, 236, 231, 209, 240, 244, 252, 241, 270, 263, 270, 342, 359, 336, 374, 387, 376, 397, 365, 385, 378, 359, 340, 350, 305, 300, 292, 306, 354, 409, 389, 417, 449, 357, 364, 363, 406, 426, 441, 505, 489, 517, 483, 534, 528, 525, 545, 512, 490, 581, 561, 703, 693, 593, 570, 572, 523, 537, 395, 366, 370, 313, 301, 257, 269, 267, 158, 184, 202, 191, 185, 169, 156, 175, 123, 110, 98, 95, 81, 67, 64, 41, 30, 23, 18, 11, 9, 8, 5, 4, 4, 1, 9, 55, 57, 62, 59, 46, 43, 55, 40, 50, 45, 51, 47, 55, 47, 35, 31, 45, 39, 59, 82, 112, 119, 193, 181, 249, 286, 285, 323, 373, 345, 304, 262, 252, 243, 202, 204, 188, 186, 191, 189, 169, 172, 127, 151, 153, 130, 147, 161, 160, 199, 180, 164, 182, 148, 167, 172, 148, 198, 181, 195, 225, 196, 180, 199, 184, 195, 128, 133, 126, 118, 113, 128, 111, 83, 69, 70, 73, 94, 103, 84, 79, 66, 49, 54, 46, 36, 26, 23, 21, 22, 15, 12, 10, 3, 6, 2, 0, 3, 2, 1, 9, 120, 125, 138, 122, 166, 126, 105, 128, 135, 121, 108, 99, 92, 95, 84, 85, 118, 111, 127, 145, 179, 175, 181, 246, 261, 289, 278, 321, 306, 315, 334, 310, 273, 288, 286, 327, 342, 341, 354, 342, 344, 314, 261, 257, 233, 235, 285, 272, 261, 311, 281, 278, 299, 271, 284, 311, 319, 375, 366, 427, 417, 408, 388, 397, 384, 417, 331, 296, 353, 222, 246, 255, 260, 232, 172, 164, 171, 173, 228, 163, 143, 131, 111, 102, 75, 75, 51, 57, 57, 33, 18, 17, 25, 8, 5, 2, 3, 3, 3, 0, 26, 1306, 1398, 1558, 1806, 2056, 2243, 2225, 2322, 2501, 2467, 2367, 2321, 2508, 2573, 2359, 2294, 2546, 2590, 2594, 2938, 3179, 3076, 3223, 3351, 3422, 3378, 3350, 3451, 3489, 3121, 3155, 3031, 2909, 2872, 3045, 3052, 3369, 3808, 4138, 4254, 4554, 4222, 3882, 3852, 3932, 4241, 4556, 4589, 4620, 4886, 4732, 4789, 4580, 4396, 4117, 4190, 3913, 4404, 4536, 5155, 5083, 4674, 4370, 4515, 4117, 4501, 3636, 3406, 3492, 2861, 2870, 2833, 2789, 2528, 1826, 1912, 1951, 1889, 1952, 1650, 1416, 1272, 1033, 958, 856, 777, 601, 476, 406, 307, 283, 227, 165, 121, 91, 64, 48, 53, 25, 19, 136, 183, 193, 233, 250, 282, 311, 285, 300, 304, 302, 248, 265, 286, 301, 256, 248, 243, 297, 304, 343, 392, 354, 372, 403, 393, 390, 427, 425, 435, 416, 431, 384, 410, 384, 429, 406, 413, 496, 508, 516, 569, 495, 478, 439, 471, 492, 506, 511, 505, 560, 563, 547, 555, 496, 502, 533, 469, 561, 515, 655, 562, 581, 551, 526, 506, 541, 463, 400, 415, 334, 365, 319, 329, 286, 230, 234, 233, 227, 224, 234, 181, 147, 116, 107, 108, 74, 76, 64, 48, 40, 35, 25, 19, 14, 10, 7, 4, 10, 0, 3, 17, 24, 27, 28, 27, 39, 38, 35, 51, 59, 49, 52, 51, 70, 69, 57, 47, 70, 76, 92, 89, 120, 120, 122, 118, 119, 112, 111, 119, 117, 92, 128, 91, 64, 97, 84, 61, 88, 92, 102, 107, 128, 115, 116, 92, 116, 141, 127, 151, 153, 184, 165, 184, 190, 175, 180, 169, 159, 197, 185, 248, 237, 224, 214, 245, 203, 222, 194, 180, 179, 154, 176, 143, 182, 150, 118, 95, 115, 129, 151, 98, 104, 84, 79, 74, 58, 63, 51, 40, 15, 24, 29, 16, 8, 8, 10, 4, 2, 4, 0, 1, 22, 134, 146, 197, 203, 277, 314, 296, 337, 358, 357, 333, 364, 361, 351, 311, 303, 299, 284, 287, 278, 288, 256, 264, 265, 237, 270, 248, 233, 239, 215, 225, 247, 251, 239, 247, 279, 361, 382, 429, 490, 500, 499, 430, 480, 475, 514, 527, 503, 519, 456, 478, 466, 351, 328, 362, 354, 302, 296, 327, 354, 355, 309, 280, 317, 223, 276, 238, 208, 217, 208, 197, 198, 191, 167, 121, 124, 122, 128, 135, 109, 103, 91, 64, 65, 68, 52, 46, 29, 32, 14, 26, 21, 16, 12, 4, 2, 3, 8, 2, 0, 7, 137, 106, 112, 108, 108, 106, 100, 91, 99, 101, 95, 91, 111, 97, 113, 101, 137, 105, 124, 155, 186, 236, 227, 254, 309, 308, 310, 348, 371, 322, 370, 312, 306, 309, 326, 292, 284, 315, 341, 332, 357, 292, 293, 270, 270, 294, 303, 320, 327, 339, 368, 326, 321, 265, 243, 278, 265, 301, 307, 343, 312, 303, 286, 271, 304, 271, 255, 235, 203, 197, 172, 184, 207, 174, 125, 145, 170, 154, 156, 142, 106, 104, 74, 75, 61, 77, 55, 41, 48, 25, 21, 14, 14, 10, 7, 6, 10, 4, 3, 4, 28, 47, 45, 70, 88, 93, 97, 95, 111, 110, 130, 130, 141, 145, 144, 145, 117, 156, 145, 165, 162, 188, 180, 175, 181, 197, 175, 214, 173, 170, 137, 155, 159, 143, 126, 140, 128, 123, 138, 179, 183, 200, 187, 197, 184, 197, 204, 255, 214, 232, 284, 247, 319, 246, 239, 214, 232, 210, 244, 295, 300, 328, 286, 272, 304, 249, 284, 211, 213, 232, 178, 178, 210, 199, 172, 146, 129, 122, 134, 170, 140, 103, 87, 88, 97, 83, 61, 54, 44, 46, 32, 28, 20, 13, 13, 12, 9, 8, 5, 3, 1, 7, 234, 243, 237, 276, 273, 323, 255, 263, 270, 269, 277, 235, 265, 273, 265, 281, 291, 315, 353, 392, 478, 479, 562, 567, 570, 587, 555, 620, 658, 583, 550, 531, 530, 511, 523, 516, 558, 568, 607, 604, 591, 556, 505, 490, 526, 537, 587, 631, 603, 660, 661, 694, 680, 757, 595, 590, 559, 651, 716, 778, 739, 701, 614, 654, 564, 657, 498, 520, 512, 421, 408, 381, 386, 346, 248, 266, 250, 263, 274, 222, 201, 182, 139, 136, 98, 105, 66, 61, 47, 39, 32, 27, 26, 11, 14, 4, 3, 5, 3, 3, 15, 61, 58, 67, 95, 86, 91, 92, 104, 87, 89, 86, 81, 90, 109, 112, 92, 123, 111, 101, 120, 113, 107, 136, 161, 145, 134, 123, 148, 148, 123, 136, 119, 109, 119, 123, 127, 162, 178, 159, 186, 183, 174, 164, 155, 173, 179, 188, 190, 170, 218, 191, 196, 213, 161, 133, 165, 136, 163, 152, 178, 188, 163, 134, 155, 138, 152, 129, 142, 152, 80, 111, 122, 105, 100, 63, 85, 84, 84, 87, 84, 73, 78, 39, 42, 37, 31, 24, 18, 16, 8, 9, 7, 8, 11, 4, 3, 2, 1, 2, 1, 2, 109, 140, 150, 199, 249, 274, 318, 327, 434, 370, 398, 382, 433, 445, 395, 406, 421, 429, 385, 468, 427, 396, 384, 370, 334, 335, 283, 272, 238, 211, 222, 210, 176, 217, 238, 239, 293, 372, 418, 454, 581, 524, 472, 505, 523, 580, 610, 650, 621, 666, 567, 577, 530, 475, 462, 401, 406, 439, 375, 417, 478, 382, 353, 363, 327, 357, 244, 249, 269, 208, 197, 197, 194, 183, 125, 123, 129, 101, 110, 109, 71, 71, 55, 43, 60, 44, 38, 24, 22, 18, 16, 19, 10, 6, 9, 3, 2, 3, 2, 1, 5, 77, 79, 106, 126, 144, 168, 220, 203, 235, 225, 213, 180, 202, 214, 164, 154, 173, 161, 131, 158, 203, 181, 192, 190, 217, 177, 181, 173, 189, 174, 141, 160, 160, 149, 172, 207, 205, 256, 301, 339, 341, 300, 312, 329, 308, 298, 347, 314, 322, 307, 258, 299, 235, 256, 267, 256, 225, 258, 266, 307, 312, 293, 243, 273, 246, 306, 244, 219, 227, 201, 181, 207, 172, 186, 122, 142, 155, 156, 139, 99, 94, 80, 76, 68, 55, 46, 40, 29, 22, 16, 16, 13, 7, 6, 1, 4, 6, 3, 4, 1, 5, 58, 61, 71, 66, 88, 92, 96, 100, 106, 98, 91, 98, 100, 98, 98, 67, 107, 114, 98, 150, 128, 148, 153, 174, 195, 170, 201, 199, 200, 182, 156, 158, 167, 166, 139, 145, 171, 222, 194, 201, 215, 223, 188, 186, 170, 197, 236, 211, 241, 238, 232, 244, 240, 242, 252, 253, 249, 267, 299, 329, 341, 296, 280, 322, 283, 335, 257, 256, 246, 199, 203, 186, 189, 177, 138, 162, 129, 148, 133, 102, 111, 98, 76, 58, 39, 51, 36, 25, 31, 25, 20, 14, 10, 4, 7, 5, 4, 4, 1, 2, 6, 114, 147, 128, 158, 210, 201, 227, 246, 234, 291, 256, 244, 269, 290, 261, 279, 295, 327, 311, 321, 355, 311, 323, 328, 359, 343, 316, 314, 331, 289, 290, 292, 264, 260, 312, 297, 321, 355, 401, 432, 427, 429, 383, 356, 405, 444, 475, 486, 503, 517, 555, 457, 533, 497, 444, 461, 441, 472, 484, 537, 565, 538, 543, 460, 450, 454, 419, 334, 351, 288, 314, 295, 274, 268, 168, 180, 190, 157, 160, 133, 121, 115, 86, 93, 92, 78, 61, 38, 34, 34, 26, 24, 17, 9, 3, 4, 2, 2, 2, 1, 11, 59, 63, 74, 120, 114, 137, 115, 113, 116, 98, 106, 108, 91, 99, 95, 102, 115, 106, 104, 149, 153, 145, 143, 155, 144, 189, 180, 209, 182, 169, 165, 169, 151, 126, 147, 184, 205, 229, 252, 211, 250, 216, 180, 179, 146, 182, 206, 207, 201, 234, 220, 232, 234, 252, 215, 254, 245, 259, 301, 289, 307, 293, 312, 280, 280, 292, 242, 205, 230, 208, 174, 199, 171, 166, 112, 107, 130, 98, 105, 91, 79, 76, 67, 43, 67, 45, 34, 31, 25, 15, 13, 12, 10, 10, 5, 7, 0, 1, 0, 0, 7, 69, 90, 85, 90, 93, 91, 91, 76, 89, 88, 82, 81, 85, 83, 87, 97, 116, 120, 139, 153, 148, 163, 170, 185, 203, 188, 201, 218, 211, 208, 186, 199, 178, 169, 165, 171, 185, 205, 247, 199, 212, 212, 164, 187, 152, 179, 189, 201, 223, 223, 227, 248, 252, 253, 248, 244, 247, 296, 314, 420, 359, 305, 288, 345, 344, 354, 242, 245, 259, 185, 194, 192, 190, 153, 110, 120, 122, 110, 108, 87, 69, 59, 74, 57, 30, 50, 20, 32, 20, 17, 12, 15, 7, 7, 5, 6, 2, 3, 3, 1, 4, 1030, 1240, 1413, 1656, 1988, 2070, 2116, 2204, 2369, 2293, 2293, 2164, 2225, 2355, 2103, 2183, 2308, 2340, 2463, 2911, 3403, 3381, 3733, 3876, 3874, 3807, 3541, 3429, 3319, 3019, 2800, 2745, 2569, 2676, 2690, 2736, 3112, 3406, 3864, 4149, 4278, 4101, 3809, 3826, 3661, 4090, 4522, 4549, 4521, 4885, 4563, 4718, 4483, 4156, 4022, 3869, 3849, 4238, 4317, 4844, 5030, 4527, 4401, 4492, 4204, 4443, 3624, 3405, 3602, 2931, 3093, 3095, 2922, 2812, 2042, 2216, 2260, 2382, 2270, 1801, 1664, 1486, 1302, 1093, 967, 842, 660, 508, 452, 302, 284, 234, 183, 142, 93, 72, 42, 37, 29, 15, 138, 46, 40, 44, 47, 50, 67, 55, 54, 77, 81, 74, 93, 78, 63, 81, 77, 85, 108, 117, 197, 230, 281, 381, 456, 459, 424, 389, 380, 331, 266, 240, 220, 185, 189, 147, 134, 177, 172, 205, 238, 214, 182, 189, 190, 151, 211, 225, 243, 221, 252, 257, 266, 230, 242, 196, 220, 185, 213, 223, 252, 269, 248, 249, 269, 253, 256, 222, 197, 231, 180, 197, 192, 189, 185, 127, 163, 149, 157, 159, 120, 115, 108, 91, 54, 61, 51, 49, 30, 34, 17, 13, 14, 11, 12, 4, 6, 1, 0, 1, 2, 11, 147, 200, 219, 248, 307, 320, 320, 347, 397, 343, 362, 348, 333, 356, 278, 266, 293, 270, 279, 409, 608, 642, 765, 825, 765, 696, 584, 553, 468, 452, 401, 366, 333, 401, 378, 406, 416, 490, 554, 599, 617, 615, 570, 542, 478, 548, 585, 573, 615, 565, 564, 580, 519, 447, 413, 413, 405, 434, 411, 464, 462, 397, 407, 367, 337, 389, 272, 269, 270, 229, 248, 212, 238, 205, 167, 174, 170, 159, 173, 129, 123, 104, 95, 96, 77, 62, 55, 53, 44, 26, 31, 27, 18, 10, 6, 5, 3, 5, 3, 1, 15, 75, 99, 75, 114, 110, 127, 119, 107, 113, 108, 94, 92, 95, 90, 68, 79, 88, 68, 91, 100, 110, 119, 121, 120, 129, 123, 127, 123, 140, 140, 142, 169, 165, 154, 171, 162, 169, 206, 235, 239, 222, 230, 174, 195, 146, 173, 176, 182, 191, 204, 181, 180, 180, 174, 174, 157, 198, 208, 208, 229, 273, 231, 193, 203, 205, 234, 166, 172, 173, 151, 166, 174, 176, 134, 121, 116, 136, 128, 121, 89, 93, 84, 68, 69, 58, 36, 40, 26, 33, 16, 11, 14, 5, 9, 4, 0, 0, 3, 0, 0, 10, 61, 67, 77, 98, 120, 108, 131, 149, 138, 125, 138, 117, 137, 128, 143, 128, 158, 159, 161, 218, 218, 205, 251, 284, 330, 276, 276, 294, 243, 244, 204, 178, 170, 190, 186, 175, 201, 196, 264, 256, 277, 266, 254, 235, 213, 255, 267, 295, 275, 322, 260, 284, 269, 237, 230, 193, 231, 224, 255, 277, 304, 244, 260, 289, 244, 269, 211, 184, 216, 182, 194, 195, 169, 175, 113, 153, 125, 154, 162, 105, 123, 112, 84, 57, 57, 53, 41, 35, 31, 16, 22, 13, 8, 3, 6, 2, 0, 0, 3, 1, 6, 113, 127, 148, 152, 219, 185, 238, 230, 224, 183, 162, 161, 146, 170, 141, 135, 153, 137, 149, 157, 182, 180, 183, 183, 173, 181, 161, 172, 179, 171, 158, 162, 173, 178, 199, 211, 261, 294, 310, 331, 316, 300, 257, 252, 222, 282, 297, 248, 256, 268, 280, 257, 239, 206, 216, 218, 180, 233, 196, 200, 222, 226, 210, 192, 201, 171, 158, 152, 162, 130, 141, 112, 142, 133, 72, 85, 96, 97, 109, 74, 62, 53, 46, 55, 32, 37, 33, 21, 14, 10, 14, 10, 6, 10, 3, 7, 0, 1, 1, 0, 7, 148, 197, 252, 289, 390, 396, 425, 456, 499, 471, 519, 476, 466, 575, 481, 487, 521, 560, 525, 561, 623, 564, 571, 573, 516, 527, 463, 421, 443, 361, 355, 342, 355, 327, 361, 372, 449, 519, 570, 658, 731, 661, 732, 722, 699, 773, 841, 846, 866, 1017, 876, 929, 895, 746, 748, 725, 684, 712, 780, 755, 808, 770, 668, 712, 610, 708, 559, 508, 484, 464, 423, 457, 400, 423, 295, 276, 326, 355, 307, 244, 236, 206, 186, 167, 151, 123, 94, 76, 64, 44, 47, 46, 29, 24, 13, 11, 7, 11, 8, 2, 8, 77, 86, 116, 121, 149, 181, 188, 168, 198, 229, 194, 185, 190, 196, 182, 178, 172, 162, 173, 181, 221, 171, 177, 158, 168, 158, 174, 146, 169, 153, 138, 162, 140, 158, 154, 192, 170, 225, 263, 298, 280, 301, 268, 265, 315, 274, 314, 319, 287, 340, 300, 270, 273, 242, 254, 266, 254, 282, 270, 332, 316, 312, 324, 328, 303, 296, 223, 228, 248, 195, 198, 211, 179, 174, 135, 151, 136, 125, 122, 78, 80, 80, 62, 69, 69, 60, 38, 32, 29, 19, 17, 14, 15, 9, 11, 3, 5, 1, 2, 0, 9, 22, 33, 32, 46, 56, 71, 58, 66, 73, 63, 92, 52, 90, 78, 79, 110, 94, 107, 110, 117, 135, 141, 145, 137, 178, 163, 157, 126, 162, 134, 115, 112, 88, 108, 103, 92, 109, 133, 138, 170, 171, 141, 142, 148, 138, 147, 192, 201, 200, 190, 197, 234, 223, 209, 234, 197, 203, 210, 226, 282, 282, 280, 253, 239, 266, 285, 239, 233, 247, 175, 209, 184, 172, 192, 129, 142, 141, 144, 159, 105, 95, 81, 74, 54, 59, 56, 30, 27, 22, 18, 15, 15, 11, 3, 8, 5, 1, 1, 1, 0, 7, 38, 38, 45, 56, 64, 53, 63, 68, 63, 66, 76, 59, 60, 55, 49, 72, 63, 79, 83, 71, 98, 100, 91, 106, 89, 87, 92, 100, 92, 95, 92, 111, 98, 100, 101, 90, 117, 114, 147, 125, 160, 118, 110, 120, 131, 144, 161, 136, 141, 144, 158, 145, 135, 117, 134, 111, 125, 144, 134, 175, 181, 167, 171, 180, 177, 185, 160, 135, 143, 109, 123, 118, 97, 114, 91, 70, 63, 80, 67, 60, 50, 50, 41, 31, 34, 27, 24, 16, 8, 11, 11, 10, 6, 9, 2, 1, 0, 0, 2, 1, 9, 31, 37, 32, 57, 50, 63, 40, 62, 53, 69, 60, 67, 64, 79, 75, 73, 76, 71, 93, 111, 98, 89, 102, 112, 127, 115, 115, 79, 77, 76, 73, 61, 53, 67, 65, 75, 80, 98, 86, 99, 109, 128, 107, 119, 116, 118, 132, 132, 145, 177, 150, 152, 133, 171, 112, 141, 125, 151, 142, 157, 165, 121, 149, 146, 140, 164, 123, 116, 108, 86, 90, 97, 96, 71, 78, 58, 79, 87, 45, 57, 49, 42, 38, 25, 21, 13, 23, 11, 9, 13, 10, 6, 5, 1, 5, 2, 0, 1, 0, 4, 2, 49, 61, 54, 65, 86, 73, 66, 93, 94, 101, 97, 92, 91, 96, 97, 106, 103, 111, 96, 127, 137, 172, 156, 142, 163, 181, 166, 177, 160, 158, 142, 147, 142, 133, 133, 104, 152, 131, 177, 177, 211, 195, 157, 172, 156, 203, 247, 254, 226, 234, 238, 252, 244, 219, 205, 193, 250, 242, 272, 283, 302, 280, 300, 286, 284, 280, 232, 211, 237, 191, 185, 212, 190, 175, 122, 128, 139, 159, 157, 132, 119, 79, 82, 70, 52, 58, 41, 32, 30, 12, 12, 10, 8, 6, 3, 7, 5, 3, 3, 0, 15, 19, 13, 29, 33, 28, 38, 36, 43, 35, 52, 44, 50, 49, 40, 46, 49, 50, 51, 59, 63, 74, 67, 80, 69, 70, 95, 60, 62, 55, 60, 66, 59, 54, 69, 52, 55, 71, 88, 78, 93, 108, 96, 104, 87, 91, 104, 116, 110, 136, 114, 114, 118, 100, 128, 111, 117, 110, 125, 120, 148, 157, 141, 143, 130, 150, 134, 121, 113, 146, 86, 99, 127, 106, 97, 70, 96, 98, 110, 91, 72, 57, 61, 54, 41, 31, 25, 18, 26, 20, 12, 13, 4, 2, 7, 0, 2, 3, 0, 0, 0, 3, 36, 40, 49, 71, 73, 86, 72, 74, 94, 77, 89, 72, 82, 93, 85, 90, 104, 97, 99, 116, 128, 125, 130, 135, 134, 150, 155, 149, 121, 132, 104, 117, 114, 112, 130, 131, 128, 153, 161, 175, 190, 189, 154, 163, 168, 186, 201, 205, 205, 238, 189, 197, 219, 206, 212, 191, 212, 245, 249, 319, 312, 283, 274, 282, 273, 302, 255, 244, 257, 213, 221, 196, 189, 194, 132, 144, 172, 175, 134, 118, 100, 105, 92, 77, 61, 52, 41, 28, 31, 23, 16, 18, 23, 20, 9, 3, 3, 1, 2, 3, 10, 38, 41, 67, 73, 71, 98, 102, 97, 116, 116, 114, 112, 103, 141, 109, 124, 123, 117, 156, 166, 186, 171, 189, 186, 162, 172, 170, 175, 177, 136, 137, 130, 109, 111, 119, 130, 133, 149, 173, 198, 208, 203, 193, 186, 183, 202, 261, 276, 249, 258, 255, 281, 257, 238, 272, 245, 217, 256, 252, 277, 284, 257, 243, 243, 250, 217, 218, 194, 208, 163, 164, 175, 180, 170, 131, 138, 126, 116, 126, 121, 99, 96, 78, 54, 59, 49, 34, 29, 15, 17, 20, 6, 9, 5, 7, 5, 2, 2, 0, 0, 6, 39, 34, 37, 36, 47, 37, 29, 32, 36, 35, 42, 34, 50, 27, 32, 31, 43, 40, 50, 61, 63, 75, 94, 99, 136, 149, 152, 164, 182, 177, 141, 124, 134, 128, 124, 146, 152, 122, 134, 143, 125, 125, 111, 117, 124, 106, 108, 134, 118, 114, 132, 125, 143, 144, 124, 129, 125, 134, 143, 179, 187, 146, 151, 171, 136, 149, 126, 127, 126, 83, 114, 124, 119, 106, 78, 97, 92, 104, 95, 90, 82, 67, 75, 58, 48, 54, 31, 22, 18, 16, 11, 9, 11, 3, 3, 6, 2, 3, 0, 0, 12, 71, 97, 109, 117, 127, 111, 137, 115, 115, 120, 96, 112, 146, 124, 109, 124, 124, 136, 142, 166, 187, 185, 186, 182, 168, 201, 208, 200, 206, 184, 201, 200, 180, 173, 181, 182, 228, 213, 265, 255, 236, 249, 195, 217, 215, 216, 271, 250, 249, 279, 264, 288, 272, 272, 249, 231, 213, 252, 261, 305, 293, 246, 222, 255, 223, 227, 204, 171, 212, 162, 188, 175, 145, 156, 91, 120, 116, 126, 127, 113, 96, 76, 69, 69, 56, 43, 33, 27, 28, 18, 11, 10, 9, 6, 2, 3, 7, 4, 1, 0, 2, 20, 30, 28, 33, 41, 56, 37, 43, 44, 54, 40, 42, 45, 44, 48, 54, 58, 67, 80, 90, 105, 94, 111, 109, 107, 109, 92, 108, 114, 80, 91, 85, 76, 78, 86, 79, 99, 103, 104, 95, 103, 102, 92, 96, 115, 148, 128, 145, 141, 169, 148, 160, 152, 158, 138, 122, 132, 173, 175, 210, 213, 178, 184, 200, 152, 177, 135, 151, 134, 132, 133, 134, 135, 108, 90, 105, 96, 106, 116, 94, 85, 82, 67, 47, 41, 43, 35, 17, 22, 14, 10, 8, 7, 5, 7, 4, 3, 1, 2, 1, 6, 1312, 1427, 1712, 1869, 2127, 2177, 2116, 2153, 2265, 2268, 2042, 2238, 2192, 2192, 2163, 2257, 2333, 2459, 2712, 3172, 3539, 3401, 3721, 3894, 4033, 4049, 4003, 3961, 4040, 3578, 3483, 3294, 3155, 3098, 3067, 3152, 3308, 3574, 4001, 4146, 4041, 3960, 3629, 3645, 3533, 3958, 4276, 4494, 4460, 4939, 4980, 5369, 5440, 5275, 5306, 5310, 4976, 5770, 5617, 6709, 6183, 5556, 5056, 5095, 4531, 4753, 3826, 3380, 3536, 2711, 2870, 2700, 2574, 2383, 1724, 1759, 1716, 1929, 1945, 1534, 1360, 1269, 1063, 933, 820, 775, 608, 484, 440, 310, 245, 208, 190, 110, 76, 67, 44, 47, 27, 21, 99, 90, 89, 83, 84, 86, 58, 61, 63, 68, 73, 61, 50, 56, 54, 59, 57, 79, 86, 97, 119, 146, 132, 156, 204, 223, 230, 255, 248, 234, 264, 235, 232, 190, 197, 195, 183, 189, 178, 192, 209, 180, 170, 162, 161, 135, 189, 180, 201, 187, 205, 233, 285, 258, 296, 277, 297, 259, 339, 325, 421, 388, 347, 300, 295, 266, 251, 254, 198, 215, 159, 183, 162, 151, 135, 102, 123, 101, 113, 112, 97, 93, 77, 66, 59, 49, 41, 29, 29, 23, 16, 16, 8, 12, 4, 2, 3, 7, 3, 1, 4, 5, 110, 111, 138, 136, 160, 171, 160, 162, 180, 171, 165, 178, 167, 158, 174, 185, 164, 171, 198, 235, 303, 275, 328, 379, 423, 413, 406, 440, 438, 339, 380, 362, 301, 313, 296, 324, 308, 351, 393, 358, 341, 347, 324, 309, 270, 325, 375, 381, 384, 456, 486, 498, 540, 501, 513, 506, 481, 583, 556, 711, 664, 524, 506, 465, 452, 474, 353, 334, 347, 270, 272, 255, 253, 222, 165, 156, 140, 199, 188, 145, 126, 111, 88, 77, 83, 68, 50, 36, 29, 18, 18, 16, 18, 6, 1, 4, 6, 4, 1, 3, 16, 54, 50, 79, 88, 91, 121, 112, 133, 125, 129, 125, 129, 141, 130, 122, 154, 158, 172, 184, 261, 261, 272, 313, 332, 329, 348, 314, 299, 293, 264, 222, 203, 196, 162, 197, 177, 187, 212, 253, 260, 237, 268, 240, 259, 272, 284, 305, 349, 367, 385, 383, 405, 423, 434, 440, 450, 385, 467, 455, 516, 509, 427, 378, 405, 363, 366, 292, 235, 268, 206, 219, 211, 206, 185, 110, 129, 120, 137, 140, 95, 85, 82, 73, 62, 42, 37, 36, 22, 30, 18, 15, 15, 8, 5, 6, 3, 2, 4, 1, 1, 3, 140, 146, 206, 197, 233, 253, 243, 242, 268, 301, 235, 302, 303, 305, 268, 308, 342, 357, 408, 452, 425, 448, 495, 491, 467, 463, 488, 481, 472, 410, 399, 367, 379, 343, 365, 337, 362, 424, 459, 486, 499, 492, 403, 437, 463, 548, 587, 633, 614, 738, 682, 714, 763, 715, 750, 747, 759, 778, 842, 916, 912, 815, 756, 758, 643, 680, 552, 492, 510, 410, 432, 405, 393, 383, 295, 332, 308, 368, 344, 331, 270, 285, 232, 221, 187, 185, 152, 116, 115, 68, 52, 43, 43, 19, 14, 14, 8, 5, 5, 1, 3, 258, 295, 342, 423, 493, 480, 487, 459, 461, 458, 417, 444, 438, 450, 431, 428, 447, 431, 546, 557, 660, 611, 635, 615, 628, 614, 593, 572, 572, 561, 505, 512, 485, 526, 511, 510, 568, 599, 637, 740, 690, 648, 636, 614, 601, 621, 638, 723, 714, 798, 800, 873, 893, 846, 806, 852, 783, 877, 780, 956, 815, 753, 591, 598, 480, 503, 372, 325, 351, 265, 273, 234, 215, 209, 154, 143, 123, 135, 150, 111, 117, 81, 73, 58, 68, 52, 46, 37, 36, 21, 13, 15, 18, 7, 8, 10, 3, 2, 2, 2, 5, 68, 61, 92, 91, 103, 128, 112, 101, 129, 113, 101, 126, 100, 126, 97, 129, 128, 150, 159, 191, 228, 215, 231, 236, 237, 232, 230, 236, 237, 204, 211, 179, 158, 173, 164, 149, 159, 156, 198, 168, 177, 187, 173, 166, 151, 200, 232, 231, 241, 274, 291, 276, 322, 328, 322, 325, 292, 389, 344, 377, 317, 270, 296, 261, 265, 231, 182, 178, 174, 144, 139, 126, 121, 130, 98, 89, 105, 94, 118, 85, 70, 68, 58, 53, 44, 39, 38, 32, 25, 19, 21, 13, 9, 5, 4, 5, 4, 4, 6, 3, 38, 142, 176, 185, 227, 281, 297, 350, 329, 345, 370, 343, 364, 384, 408, 414, 424, 390, 404, 422, 473, 483, 436, 445, 442, 422, 427, 362, 353, 339, 321, 305, 300, 248, 241, 280, 299, 322, 367, 409, 483, 490, 498, 495, 515, 507, 544, 615, 638, 637, 637, 654, 667, 622, 606, 538, 499, 478, 503, 444, 472, 453, 384, 331, 336, 318, 315, 266, 257, 264, 186, 236, 204, 212, 173, 153, 141, 159, 148, 175, 111, 127, 114, 89, 68, 86, 60, 38, 40, 34, 23, 24, 17, 13, 9, 5, 7, 1, 3, 4, 1, 1, 42, 42, 62, 55, 56, 61, 38, 44, 48, 46, 46, 50, 60, 52, 35, 50, 55, 68, 84, 89, 121, 133, 124, 152, 173, 189, 175, 175, 182, 150, 165, 173, 158, 151, 155, 149, 143, 140, 195, 141, 168, 146, 164, 127, 119, 144, 145, 131, 177, 215, 206, 227, 202, 179, 230, 228, 215, 242, 238, 326, 319, 286, 268, 302, 242, 268, 225, 200, 185, 177, 178, 169, 169, 158, 107, 92, 114, 110, 122, 106, 94, 93, 72, 53, 57, 67, 44, 35, 35, 28, 23, 13, 16, 5, 5, 1, 2, 2, 1, 2, 4, 36, 36, 43, 37, 46, 50, 44, 53, 58, 61, 51, 41, 46, 48, 56, 65, 82, 77, 88, 113, 131, 135, 190, 190, 195, 221, 224, 231, 225, 206, 199, 168, 155, 147, 132, 138, 145, 151, 155, 183, 144, 121, 150, 137, 144, 147, 171, 169, 175, 215, 185, 229, 229, 219, 228, 252, 212, 262, 234, 331, 284, 283, 247, 243, 248, 279, 226, 186, 207, 139, 169, 131, 119, 133, 100, 102, 91, 113, 104, 75, 74, 72, 56, 57, 29, 44, 34, 21, 25, 18, 14, 12, 7, 10, 7, 4, 3, 5, 1, 2, 5, 33, 29, 35, 36, 56, 51, 59, 54, 69, 57, 67, 70, 57, 56, 52, 56, 47, 70, 72, 111, 117, 107, 136, 129, 180, 158, 174, 173, 169, 121, 134, 110, 128, 98, 92, 121, 113, 122, 144, 148, 160, 147, 130, 118, 136, 150, 161, 164, 150, 178, 169, 215, 198, 191, 193, 183, 185, 215, 236, 224, 268, 259, 219, 219, 220, 247, 182, 180, 184, 168, 158, 173, 151, 145, 89, 104, 114, 122, 129, 88, 77, 63, 55, 49, 52, 55, 37, 38, 19, 24, 7, 12, 7, 7, 3, 2, 3, 5, 2, 0, 6, 112, 92, 98, 102, 110, 89, 83, 89, 93, 87, 68, 86, 75, 73, 72, 70, 82, 81, 86, 94, 137, 103, 122, 137, 134, 160, 149, 169, 208, 204, 203, 202, 222, 211, 183, 189, 196, 198, 218, 224, 195, 192, 157, 169, 143, 134, 155, 147, 138, 159, 165, 183, 190, 209, 226, 211, 213, 254, 269, 347, 261, 278, 253, 260, 216, 233, 199, 182, 199, 140, 145, 153, 143, 122, 71, 84, 80, 95, 88, 77, 56, 64, 45, 39, 26, 36, 27, 13, 13, 11, 10, 10, 8, 6, 3, 4, 1, 3, 1, 0, 5, 151, 177, 234, 261, 267, 270, 237, 281, 266, 249, 241, 249, 250, 223, 257, 205, 223, 237, 244, 294, 310, 305, 334, 357, 352, 336, 348, 330, 375, 294, 310, 278, 293, 307, 306, 333, 372, 390, 445, 439, 462, 476, 394, 422, 369, 422, 442, 459, 417, 394, 449, 487, 460, 453, 449, 431, 393, 457, 504, 620, 533, 499, 490, 510, 454, 500, 373, 342, 368, 266, 247, 266, 237, 221, 168, 158, 154, 152, 160, 116, 106, 83, 76, 83, 56, 54, 47, 38, 34, 21, 14, 17, 21, 15, 11, 8, 2, 2, 1, 0, 7, 76, 123, 115, 132, 145, 148, 130, 143, 155, 153, 122, 149, 115, 109, 126, 126, 136, 155, 124, 183, 217, 229, 212, 230, 270, 258, 285, 254, 296, 240, 215, 208, 242, 229, 191, 243, 244, 286, 303, 307, 298, 268, 201, 211, 223, 250, 270, 268, 259, 285, 277, 310, 340, 298, 334, 329, 321, 404, 390, 492, 460, 431, 421, 443, 364, 406, 350, 271, 264, 181, 219, 211, 204, 167, 112, 106, 107, 143, 115, 97, 65, 76, 80, 54, 41, 37, 30, 27, 22, 25, 18, 17, 10, 12, 7, 2, 2, 5, 1, 2, 1, 1752, 2029, 2268, 2493, 2995, 3228, 3205, 3488, 3594, 3714, 3504, 3491, 3762, 3802, 3561, 3584, 3927, 3989, 4161, 4656, 4905, 4745, 4849, 5018, 5239, 5053, 5039, 4976, 4986, 4525, 4309, 4201, 3965, 4029, 4217, 4307, 4744, 5223, 5973, 6213, 6552, 6096, 5798, 5969, 5908, 6365, 7081, 7101, 7487, 7822, 7628, 7561, 7418, 6859, 6566, 6607, 6274, 7193, 6758, 7660, 7383, 6654, 6465, 6387, 6006, 6160, 5001, 4598, 4823, 3621, 3800, 3914, 3779, 3495, 2397, 2698, 2648, 2776, 2742, 2420, 2061, 2016, 1718, 1526, 1282, 1193, 947, 820, 650, 501, 406, 333, 314, 191, 119, 113, 73, 68, 43, 27, 159, 101, 111, 112, 112, 157, 154, 133, 156, 154, 156, 151, 140, 169, 152, 132, 147, 165, 172, 194, 213, 245, 297, 280, 284, 315, 336, 311, 351, 325, 356, 322, 280, 255, 257, 315, 260, 306, 310, 358, 334, 358, 332, 303, 319, 295, 338, 356, 417, 394, 442, 396, 429, 380, 398, 383, 365, 339, 412, 387, 419, 478, 394, 399, 413, 381, 389, 316, 301, 330, 244, 249, 302, 294, 260, 162, 187, 189, 191, 170, 159, 126, 132, 95, 102, 80, 71, 56, 39, 36, 35, 25, 25, 17, 17, 8, 3, 5, 5, 2, 1, 26, 182, 224, 268, 258, 310, 316, 329, 337, 343, 293, 307, 266, 319, 313, 276, 294, 324, 338, 351, 393, 392, 392, 370, 377, 359, 370, 333, 336, 310, 298, 263, 285, 322, 329, 354, 371, 431, 471, 519, 513, 575, 482, 457, 484, 463, 512, 579, 572, 605, 628, 612, 665, 571, 534, 478, 499, 482, 518, 462, 553, 533, 444, 415, 435, 416, 385, 358, 288, 338, 245, 280, 258, 246, 241, 167, 195, 170, 169, 187, 161, 148, 137, 132, 92, 96, 94, 61, 50, 33, 33, 35, 33, 25, 13, 14, 6, 6, 3, 6, 5, 7, 161, 193, 209, 236, 305, 327, 319, 338, 368, 350, 335, 329, 318, 326, 308, 320, 315, 286, 287, 299, 339, 312, 312, 298, 295, 293, 293, 263, 272, 270, 259, 256, 273, 281, 297, 305, 375, 427, 455, 487, 542, 465, 432, 462, 462, 497, 535, 525, 511, 542, 540, 515, 456, 499, 442, 429, 447, 511, 461, 548, 497, 438, 453, 417, 404, 373, 332, 285, 306, 240, 221, 252, 240, 204, 168, 163, 128, 162, 143, 160, 121, 114, 102, 93, 76, 70, 57, 52, 35, 31, 18, 22, 26, 12, 10, 7, 4, 2, 3, 1, 4, 112, 109, 146, 165, 209, 224, 212, 214, 236, 219, 176, 224, 223, 227, 218, 224, 213, 240, 279, 276, 333, 305, 324, 303, 327, 322, 353, 335, 344, 300, 261, 299, 258, 280, 272, 273, 288, 319, 425, 365, 418, 397, 373, 406, 403, 436, 436, 451, 492, 475, 518, 509, 501, 414, 374, 417, 440, 439, 375, 449, 391, 401, 432, 361, 323, 363, 270, 262, 271, 187, 227, 226, 222, 201, 138, 168, 174, 158, 177, 134, 132, 120, 101, 93, 81, 73, 54, 50, 41, 30, 21, 14, 21, 7, 9, 1, 6, 4, 3, 3, 16, 79, 121, 97, 128, 141, 149, 133, 134, 126, 146, 116, 91, 117, 105, 102, 89, 113, 116, 119, 163, 144, 140, 159, 182, 188, 177, 186, 162, 197, 180, 167, 178, 178, 205, 193, 217, 235, 268, 298, 315, 291, 253, 251, 210, 248, 236, 276, 259, 335, 329, 303, 241, 283, 274, 234, 313, 249, 283, 285, 310, 313, 292, 272, 273, 265, 269, 217, 170, 182, 148, 150, 126, 145, 134, 98, 107, 95, 92, 88, 99, 63, 53, 45, 51, 46, 29, 30, 28, 28, 24, 10, 15, 5, 7, 6, 3, 5, 5, 2, 0, 8, 63, 77, 76, 105, 131, 134, 154, 169, 195, 188, 162, 177, 203, 216, 196, 211, 225, 225, 227, 268, 269, 265, 315, 300, 287, 297, 278, 276, 301, 241, 235, 187, 186, 174, 197, 182, 205, 212, 260, 272, 287, 280, 254, 275, 299, 325, 360, 371, 436, 429, 410, 408, 369, 311, 275, 296, 238, 288, 269, 282, 255, 204, 226, 232, 174, 193, 149, 124, 124, 94, 119, 102, 115, 97, 94, 96, 91, 109, 125, 111, 93, 85, 87, 70, 57, 78, 42, 40, 34, 25, 27, 18, 7, 11, 3, 2, 3, 3, 1, 0, 2, 168, 175, 185, 184, 214, 226, 225, 230, 245, 274, 247, 271, 266, 296, 278, 260, 308, 306, 339, 380, 418, 414, 447, 484, 553, 561, 599, 542, 600, 485, 474, 475, 446, 428, 429, 414, 409, 435, 489, 495, 528, 443, 460, 472, 415, 479, 530, 558, 614, 603, 618, 583, 645, 583, 568, 551, 513, 585, 542, 577, 540, 467, 446, 423, 400, 388, 321, 280, 269, 181, 217, 217, 250, 225, 170, 167, 168, 187, 193, 166, 143, 153, 129, 112, 102, 95, 80, 85, 72, 46, 37, 16, 21, 11, 9, 10, 11, 1, 3, 1, 1, 59, 80, 77, 109, 107, 130, 129, 153, 136, 160, 162, 151, 166, 170, 180, 176, 211, 212, 213, 214, 210, 215, 226, 201, 201, 219, 177, 195, 201, 151, 156, 170, 136, 159, 145, 148, 167, 219, 195, 242, 239, 205, 190, 228, 223, 243, 274, 309, 325, 335, 334, 349, 346, 275, 271, 301, 279, 299, 260, 312, 314, 270, 252, 257, 219, 249, 158, 166, 183, 128, 121, 156, 144, 129, 83, 116, 102, 134, 119, 105, 110, 117, 99, 82, 62, 52, 57, 47, 42, 30, 26, 22, 18, 9, 4, 5, 2, 3, 1, 1, 0, 112, 114, 142, 147, 183, 186, 198, 236, 230, 238, 263, 269, 316, 304, 291, 302, 327, 313, 350, 331, 362, 312, 337, 324, 318, 296, 292, 282, 258, 268, 259, 231, 209, 190, 203, 211, 208, 244, 320, 321, 352, 364, 343, 369, 364, 381, 448, 475, 506, 557, 506, 547, 464, 404, 418, 416, 380, 422, 360, 400, 379, 315, 339, 298, 276, 256, 198, 209, 183, 152, 155, 165, 147, 148, 124, 115, 125, 129, 126, 128, 103, 110, 99, 87, 73, 70, 51, 53, 36, 25, 31, 18, 16, 15, 1, 9, 3, 4, 3, 1, 0, 44, 35, 42, 47, 62, 62, 54, 66, 65, 49, 62, 37, 47, 53, 46, 33, 53, 56, 58, 70, 90, 102, 91, 126, 135, 125, 124, 155, 153, 124, 116, 122, 123, 99, 119, 136, 125, 140, 175, 176, 151, 124, 107, 113, 113, 122, 125, 143, 158, 156, 162, 183, 175, 160, 163, 155, 153, 207, 185, 221, 223, 209, 205, 214, 188, 208, 173, 168, 182, 120, 117, 115, 130, 106, 69, 83, 92, 92, 91, 71, 64, 73, 63, 53, 45, 53, 36, 22, 26, 18, 12, 12, 16, 5, 4, 4, 2, 5, 1, 1, 4, 133, 183, 214, 218, 268, 266, 307, 349, 360, 398, 372, 367, 432, 424, 414, 412, 421, 461, 486, 489, 544, 477, 444, 461, 459, 398, 405, 380, 368, 326, 318, 293, 316, 311, 345, 353, 367, 434, 496, 519, 577, 551, 550, 551, 609, 640, 723, 687, 720, 766, 709, 665, 696, 635, 611, 598, 522, 631, 616, 662, 626, 578, 525, 500, 450, 487, 384, 368, 393, 310, 294, 316, 263, 273, 182, 160, 179, 195, 189, 145, 144, 141, 102, 106, 90, 86, 69, 62, 42, 42, 26, 24, 28, 17, 12, 6, 7, 4, 5, 0, 4, 64, 52, 43, 55, 59, 64, 36, 47, 56, 53, 48, 52, 52, 50, 62, 64, 76, 87, 98, 121, 131, 127, 138, 161, 173, 166, 165, 147, 151, 150, 190, 169, 143, 166, 144, 155, 166, 161, 159, 174, 169, 163, 161, 139, 149, 167, 220, 205, 204, 228, 237, 252, 248, 211, 260, 209, 239, 256, 259, 322, 295, 293, 270, 276, 290, 279, 231, 200, 220, 185, 181, 192, 203, 176, 120, 134, 146, 146, 142, 132, 98, 90, 64, 86, 62, 47, 39, 37, 33, 20, 13, 13, 7, 5, 4, 8, 3, 2, 1, 1, 15, 23, 13, 23, 27, 28, 31, 22, 29, 35, 41, 41, 48, 34, 39, 44, 57, 43, 71, 77, 94, 89, 99, 91, 111, 107, 89, 105, 108, 108, 110, 86, 80, 78, 84, 74, 66, 76, 95, 109, 96, 112, 117, 79, 95, 92, 118, 129, 145, 139, 165, 158, 168, 167, 170, 172, 152, 164, 210, 196, 224, 231, 195, 196, 223, 195, 194, 178, 154, 151, 133, 145, 127, 119, 126, 87, 92, 106, 107, 115, 97, 95, 67, 67, 49, 49, 37, 30, 29, 27, 7, 11, 13, 10, 7, 2, 3, 1, 1, 1, 1, 6, 104, 101, 117, 118, 138, 155, 133, 160, 124, 173, 126, 144, 151, 157, 153, 139, 162, 181, 169, 207, 220, 223, 207, 212, 260, 240, 215, 215, 214, 188, 208, 190, 162, 178, 178, 197, 202, 210, 274, 298, 260, 260, 238, 242, 226, 254, 298, 273, 289, 303, 302, 300, 349, 302, 298, 285, 284, 305, 287, 342, 347, 289, 268, 261, 260, 255, 205, 186, 189, 150, 151, 144, 120, 117, 78, 80, 80, 75, 79, 75, 62, 47, 37, 33, 28, 27, 29, 19, 16, 11, 6, 9, 13, 4, 3, 4, 2, 0, 1, 1, 2, 23, 29, 28, 31, 38, 48, 41, 39, 61, 59, 56, 55, 60, 63, 69, 69, 111, 101, 98, 142, 155, 142, 154, 181, 199, 201, 163, 198, 140, 144, 114, 120, 104, 101, 104, 100, 121, 130, 141, 158, 176, 153, 148, 140, 145, 182, 201, 219, 218, 269, 263, 255, 260, 285, 248, 267, 269, 298, 294, 350, 324, 299, 300, 287, 294, 321, 265, 243, 278, 215, 231, 268, 249, 227, 132, 196, 193, 208, 202, 159, 146, 142, 126, 95, 78, 77, 62, 42, 38, 20, 31, 15, 16, 11, 7, 9, 4, 9, 2, 2, 27, 57, 70, 80, 88, 112, 110, 121, 99, 130, 131, 127, 133, 123, 136, 124, 146, 172, 180, 198, 260, 239, 226, 248, 251, 278, 239, 289, 277, 266, 214, 208, 220, 183, 161, 178, 181, 234, 198, 253, 273, 271, 284, 298, 310, 288, 340, 367, 361, 381, 379, 400, 369, 413, 443, 405, 395, 400, 457, 523, 590, 571, 519, 531, 548, 532, 587, 446, 455, 488, 399, 363, 371, 370, 368, 243, 277, 279, 304, 300, 264, 200, 217, 179, 156, 111, 117, 87, 69, 47, 53, 35, 31, 35, 18, 13, 14, 3, 7, 6, 2, 24, 194, 240, 301, 342, 397, 485, 519, 554, 563, 598, 558, 557, 572, 547, 469, 462, 469, 449, 399, 451, 447, 411, 430, 432, 435, 372, 409, 412, 442, 390, 378, 348, 355, 358, 411, 460, 540, 617, 697, 785, 820, 824, 785, 799, 771, 741, 824, 718, 754, 756, 699, 647, 634, 524, 505, 492, 438, 523, 478, 533, 520, 528, 443, 454, 466, 469, 381, 357, 366, 246, 279, 294, 264, 225, 146, 189, 175, 166, 141, 108, 106, 107, 89, 83, 63, 54, 55, 44, 29, 24, 19, 13, 16, 14, 6, 12, 3, 7, 2, 4, 6, 73, 102, 108, 123, 136, 161, 140, 178, 167, 188, 195, 180, 194, 224, 199, 179, 219, 195, 219, 285, 278, 286, 276, 330, 350, 352, 342, 342, 336, 330, 295, 298, 238, 268, 259, 278, 289, 333, 350, 390, 426, 399, 369, 355, 343, 354, 400, 413, 406, 460, 461, 476, 461, 437, 461, 467, 438, 549, 519, 566, 546, 519, 493, 515, 473, 495, 419, 382, 370, 244, 300, 283, 258, 238, 136, 173, 156, 152, 155, 146, 107, 111, 102, 83, 83, 63, 52, 52, 35, 27, 23, 20, 17, 8, 4, 7, 3, 3, 0, 2, 7, 1247, 1488, 1752, 1878, 2186, 2286, 2292, 2332, 2546, 2620, 2285, 2339, 2494, 2496, 2246, 2306, 2620, 2739, 2916, 3366, 3750, 3705, 4150, 4168, 4364, 4150, 4188, 4154, 4010, 3716, 3649, 3361, 3306, 3181, 3381, 3549, 3780, 4210, 4630, 4912, 4850, 4391, 4190, 4137, 4072, 4503, 4974, 4984, 5013, 5500, 5487, 5581, 5621, 5203, 5223, 5195, 5031, 5685, 5858, 6639, 6629, 5842, 5619, 5767, 5148, 5431, 4567, 4153, 4229, 3322, 3358, 3345, 3255, 3022, 2210, 2331, 2130, 2286, 2308, 1865, 1646, 1523, 1323, 1199, 928, 840, 709, 565, 455, 350, 317, 277, 219, 172, 86, 86, 71, 47, 31, 20, 162, 78, 83, 90, 99, 108, 131, 122, 142, 153, 147, 138, 135, 135, 168, 146, 149, 173, 185, 188, 201, 211, 220, 243, 224, 229, 224, 249, 273, 251, 225, 241, 213, 201, 190, 203, 245, 222, 259, 285, 315, 264, 279, 255, 271, 236, 249, 294, 300, 314, 327, 342, 365, 352, 337, 323, 325, 312, 363, 364, 393, 453, 381, 364, 403, 356, 359, 330, 256, 343, 250, 240, 236, 269, 217, 182, 194, 166, 189, 194, 150, 146, 127, 126, 107, 74, 68, 65, 51, 52, 31, 38, 22, 18, 14, 5, 12, 8, 5, 7, 4, 28, 38, 58, 65, 81, 99, 110, 122, 108, 118, 150, 99, 108, 121, 97, 108, 88, 113, 124, 130, 153, 141, 148, 182, 166, 170, 152, 163, 168, 155, 145, 142, 133, 117, 124, 142, 157, 163, 180, 217, 218, 223, 215, 211, 216, 189, 230, 240, 215, 240, 232, 250, 257, 240, 214, 230, 215, 227, 214, 238, 294, 301, 249, 286, 284, 244, 309, 240, 233, 239, 172, 223, 194, 198, 168, 120, 133, 126, 144, 120, 93, 95, 84, 73, 61, 48, 49, 38, 28, 16, 10, 18, 19, 11, 11, 3, 2, 2, 3, 0, 0, 9, 37, 48, 63, 58, 75, 52, 58, 62, 64, 62, 71, 58, 71, 59, 64, 69, 86, 92, 100, 115, 132, 123, 153, 129, 152, 153, 166, 174, 152, 161, 193, 158, 171, 144, 150, 164, 158, 164, 138, 169, 175, 178, 138, 148, 140, 142, 173, 212, 181, 188, 219, 223, 219, 193, 215, 205, 196, 259, 247, 274, 307, 308, 286, 270, 282, 294, 253, 216, 220, 162, 192, 196, 152, 172, 102, 147, 132, 129, 160, 100, 101, 87, 62, 79, 64, 44, 49, 33, 25, 17, 13, 17, 13, 12, 2, 7, 4, 1, 2, 1, 12, 30, 33, 56, 52, 57, 70, 68, 64, 58, 64, 59, 72, 68, 84, 69, 75, 64, 100, 99, 105, 139, 142, 149, 170, 140, 148, 155, 143, 138, 122, 122, 79, 107, 82, 111, 118, 122, 123, 152, 162, 158, 129, 123, 143, 129, 144, 170, 179, 200, 208, 205, 206, 202, 171, 178, 181, 168, 197, 218, 277, 267, 228, 218, 230, 205, 248, 222, 196, 179, 164, 162, 169, 155, 140, 113, 99, 93, 109, 109, 87, 69, 83, 61, 41, 42, 40, 35, 26, 20, 22, 14, 8, 12, 5, 4, 2, 3, 5, 0, 0, 7, 87, 93, 127, 137, 196, 212, 195, 191, 251, 241, 190, 212, 242, 265, 187, 216, 267, 242, 274, 285, 339, 311, 354, 315, 389, 413, 375, 377, 334, 335, 333, 298, 263, 251, 232, 275, 311, 358, 390, 451, 419, 406, 371, 349, 330, 398, 412, 412, 384, 485, 446, 483, 532, 451, 442, 459, 442, 528, 524, 588, 586, 537, 514, 506, 477, 520, 421, 382, 390, 295, 292, 312, 293, 266, 181, 192, 187, 199, 195, 155, 140, 131, 91, 98, 91, 65, 73, 47, 46, 42, 26, 23, 14, 11, 4, 5, 2, 5, 0, 1, 10, 74, 93, 113, 109, 124, 149, 139, 158, 156, 169, 150, 155, 159, 164, 152, 138, 175, 208, 196, 231, 266, 314, 329, 383, 441, 370, 408, 415, 419, 322, 362, 311, 261, 268, 278, 244, 282, 297, 338, 327, 322, 298, 277, 251, 251, 297, 328, 341, 331, 368, 347, 393, 346, 359, 338, 359, 351, 404, 403, 425, 422, 422, 399, 402, 331, 333, 288, 264, 252, 191, 226, 225, 193, 197, 144, 130, 144, 124, 125, 109, 99, 96, 95, 85, 45, 51, 47, 32, 20, 25, 19, 13, 15, 12, 2, 5, 5, 3, 1, 1, 10, 99, 125, 131, 127, 160, 173, 169, 170, 168, 158, 158, 191, 182, 175, 169, 193, 209, 218, 254, 340, 453, 446, 600, 588, 599, 539, 518, 448, 475, 408, 347, 313, 335, 295, 309, 265, 309, 296, 399, 392, 379, 353, 325, 295, 327, 345, 374, 384, 380, 404, 453, 424, 456, 413, 410, 398, 371, 412, 398, 486, 494, 382, 405, 425, 390, 344, 307, 293, 251, 219, 241, 212, 200, 204, 164, 178, 151, 138, 156, 126, 113, 95, 90, 77, 53, 53, 37, 39, 34, 19, 17, 15, 8, 6, 6, 2, 4, 4, 2, 1, 4, 86, 88, 110, 110, 125, 138, 128, 112, 116, 136, 108, 101, 108, 123, 104, 117, 131, 128, 125, 148, 169, 181, 200, 199, 227, 203, 197, 206, 205, 204, 186, 177, 213, 188, 187, 245, 215, 283, 271, 283, 274, 246, 228, 212, 225, 279, 252, 300, 304, 325, 287, 323, 307, 310, 299, 330, 298, 304, 386, 410, 404, 331, 330, 376, 299, 337, 272, 266, 246, 206, 220, 200, 184, 210, 127, 131, 123, 135, 146, 127, 104, 96, 82, 72, 57, 38, 37, 22, 24, 14, 19, 13, 20, 14, 5, 6, 3, 2, 4, 2, 22, 96, 93, 100, 100, 119, 132, 133, 115, 135, 138, 122, 100, 108, 142, 117, 126, 161, 137, 156, 184, 192, 217, 215, 239, 226, 228, 224, 233, 228, 232, 239, 209, 230, 199, 196, 203, 222, 243, 248, 290, 249, 228, 188, 229, 205, 256, 269, 269, 263, 290, 278, 287, 309, 272, 247, 282, 275, 317, 322, 373, 337, 312, 282, 271, 208, 242, 196, 220, 180, 151, 143, 136, 144, 94, 74, 72, 88, 82, 71, 67, 58, 59, 31, 36, 37, 40, 30, 20, 21, 14, 22, 14, 9, 6, 2, 4, 0, 1, 0, 1, 2, 51, 72, 95, 110, 102, 114, 125, 104, 132, 115, 101, 104, 110, 106, 103, 99, 94, 73, 90, 108, 113, 93, 103, 104, 121, 112, 129, 115, 104, 107, 118, 99, 100, 128, 138, 163, 175, 226, 237, 223, 231, 226, 189, 196, 187, 195, 210, 200, 187, 232, 170, 184, 180, 196, 168, 164, 159, 189, 205, 204, 221, 206, 165, 164, 169, 177, 132, 145, 145, 139, 118, 113, 128, 96, 88, 73, 69, 69, 74, 65, 55, 43, 62, 18, 33, 21, 12, 16, 14, 9, 6, 5, 7, 3, 3, 2, 1, 0, 0, 0, 2, 116, 165, 158, 195, 219, 210, 230, 221, 272, 283, 238, 254, 270, 258, 218, 202, 251, 227, 268, 309, 319, 285, 342, 335, 381, 373, 395, 405, 361, 401, 377, 360, 342, 341, 352, 320, 339, 428, 457, 518, 516, 412, 431, 408, 388, 417, 507, 476, 443, 508, 518, 481, 457, 479, 498, 464, 436, 511, 502, 571, 561, 518, 462, 495, 434, 470, 364, 325, 351, 276, 254, 258, 264, 200, 154, 161, 149, 169, 166, 127, 101, 83, 74, 73, 58, 50, 33, 33, 22, 20, 18, 15, 13, 15, 4, 2, 2, 1, 2, 0, 4, 190, 209, 259, 265, 319, 351, 375, 386, 429, 455, 391, 376, 455, 423, 352, 362, 374, 422, 422, 475, 516, 476, 517, 512, 500, 438, 443, 431, 391, 377, 344, 395, 353, 343, 374, 453, 518, 561, 581, 600, 650, 591, 578, 600, 602, 650, 751, 714, 739, 765, 783, 768, 778, 657, 670, 642, 640, 737, 734, 808, 777, 684, 672, 642, 591, 555, 514, 424, 472, 377, 339, 350, 321, 344, 264, 268, 221, 268, 279, 224, 189, 155, 151, 156, 119, 108, 83, 74, 56, 43, 36, 38, 28, 15, 15, 9, 11, 5, 4, 4, 11, 74, 113, 147, 181, 195, 210, 196, 226, 223, 229, 226, 220, 238, 197, 237, 234, 267, 292, 290, 375, 359, 349, 390, 343, 357, 363, 344, 322, 319, 271, 247, 243, 225, 227, 244, 258, 293, 330, 382, 381, 405, 342, 377, 336, 391, 405, 453, 453, 489, 527, 550, 553, 560, 507, 540, 514, 513, 518, 581, 683, 647, 569, 534, 559, 452, 526, 404, 382, 355, 277, 291, 281, 287, 283, 186, 198, 187, 190, 194, 160, 147, 156, 116, 118, 96, 97, 74, 67, 51, 29, 37, 37, 22, 18, 13, 15, 11, 2, 2, 0, 7, 127, 134, 140, 157, 169, 127, 119, 118, 119, 117, 78, 96, 84, 84, 61, 70, 95, 97, 87, 103, 132, 114, 111, 149, 120, 119, 117, 151, 162, 167, 155, 161, 183, 193, 228, 206, 232, 221, 250, 254, 249, 199, 191, 170, 153, 162, 162, 164, 164, 205, 179, 155, 189, 190, 166, 169, 185, 205, 197, 208, 223, 157, 173, 175, 171, 173, 129, 120, 129, 105, 103, 102, 69, 86, 63, 50, 51, 55, 38, 44, 41, 39, 22, 26, 16, 14, 12, 16, 9, 11, 5, 9, 5, 7, 4, 3, 3, 0, 2, 1, 6, 54, 73, 85, 87, 106, 89, 98, 139, 137, 131, 140, 134, 123, 129, 130, 141, 127, 159, 200, 201, 213, 227, 207, 251, 247, 249, 238, 238, 259, 202, 192, 161, 175, 170, 186, 190, 186, 193, 224, 253, 267, 220, 242, 234, 252, 266, 281, 288, 295, 334, 359, 350, 371, 322, 379, 369, 336, 382, 420, 480, 461, 424, 396, 422, 407, 411, 345, 301, 337, 236, 204, 259, 268, 236, 160, 189, 149, 176, 170, 138, 110, 112, 105, 86, 54, 61, 55, 34, 30, 29, 19, 17, 11, 16, 7, 8, 5, 4, 3, 0, 13, 10, 8, 13, 10, 13, 18, 15, 16, 15, 25, 16, 23, 20, 22, 29, 27, 33, 35, 37, 33, 56, 59, 55, 61, 65, 66, 67, 55, 57, 37, 51, 51, 30, 38, 51, 43, 33, 48, 61, 76, 69, 69, 66, 79, 67, 68, 98, 77, 99, 102, 101, 129, 123, 132, 120, 119, 122, 145, 119, 165, 168, 134, 133, 143, 132, 133, 150, 130, 140, 102, 110, 102, 130, 109, 88, 116, 94, 110, 111, 93, 78, 77, 82, 66, 41, 41, 29, 27, 15, 15, 10, 12, 13, 7, 7, 2, 7, 6, 2, 4, 15, 815, 912, 1031, 1228, 1318, 1513, 1534, 1586, 1664, 1694, 1603, 1570, 1655, 1728, 1592, 1634, 1761, 1926, 2026, 2532, 3001, 3088, 3519, 3680, 3846, 3618, 3585, 3213, 3195, 2792, 2703, 2537, 2369, 2278, 2301, 2255, 2409, 2710, 3015, 3206, 3250, 3107, 2923, 2825, 2737, 3035, 3451, 3572, 3619, 3958, 3771, 4053, 4052, 3876, 3911, 3857, 3837, 4358, 4347, 5030, 4845, 4397, 4134, 4248, 3922, 4241, 3349, 3239, 3365, 2603, 2718, 2734, 2600, 2435, 1793, 1854, 1874, 2007, 1951, 1661, 1451, 1326, 1134, 961, 872, 866, 672, 495, 458, 357, 285, 242, 183, 128, 98, 74, 49, 41, 38, 24, 200, 6, 6, 5, 13, 8, 13, 13, 14, 20, 13, 13, 17, 21, 26, 33, 23, 35, 33, 48, 46, 47, 45, 57, 60, 73, 49, 60, 59, 67, 61, 47, 54, 38, 44, 46, 54, 38, 53, 65, 78, 72, 76, 70, 71, 58, 87, 85, 91, 75, 101, 107, 113, 105, 112, 119, 97, 115, 128, 141, 162, 151, 151, 145, 150, 150, 158, 108, 116, 119, 123, 96, 100, 90, 96, 67, 83, 74, 74, 75, 67, 58, 63, 46, 28, 35, 34, 24, 22, 20, 8, 10, 6, 8, 4, 1, 3, 0, 0, 0, 2, 11, 17, 19, 28, 36, 40, 45, 42, 42, 37, 55, 40, 37, 49, 51, 41, 40, 54, 45, 64, 89, 98, 82, 101, 114, 123, 139, 148, 135, 141, 90, 122, 94, 85, 103, 95, 80, 89, 113, 124, 123, 105, 104, 106, 107, 102, 131, 126, 150, 151, 136, 179, 180, 166, 171, 212, 211, 192, 220, 222, 290, 280, 262, 232, 239, 226, 231, 187, 162, 193, 139, 159, 140, 137, 106, 93, 96, 101, 123, 77, 74, 70, 64, 59, 38, 41, 28, 28, 16, 20, 12, 7, 10, 6, 7, 3, 3, 1, 1, 2, 2, 15, 28, 28, 32, 38, 25, 42, 34, 44, 33, 48, 47, 50, 55, 42, 42, 44, 42, 78, 83, 106, 100, 97, 107, 120, 117, 143, 139, 152, 158, 123, 115, 123, 103, 104, 120, 104, 113, 130, 128, 111, 128, 111, 107, 124, 103, 131, 154, 180, 159, 169, 177, 214, 199, 235, 234, 208, 217, 286, 252, 345, 318, 279, 251, 260, 242, 280, 191, 219, 202, 162, 190, 185, 180, 173, 112, 126, 131, 121, 144, 103, 88, 108, 78, 63, 42, 44, 38, 25, 23, 17, 11, 14, 11, 5, 2, 2, 3, 4, 1, 0, 11, 15, 19, 26, 28, 32, 33, 36, 23, 37, 30, 26, 38, 23, 43, 28, 30, 38, 46, 49, 52, 69, 90, 66, 79, 94, 84, 103, 89, 99, 74, 99, 77, 80, 72, 65, 86, 68, 73, 96, 103, 115, 112, 82, 74, 80, 90, 120, 94, 119, 125, 134, 138, 140, 128, 161, 162, 176, 178, 191, 225, 231, 240, 191, 203, 179, 224, 152, 184, 182, 128, 132, 145, 121, 112, 75, 91, 94, 103, 82, 95, 77, 46, 39, 35, 30, 25, 27, 16, 17, 13, 8, 11, 4, 7, 6, 6, 2, 2, 1, 0, 4, 23, 19, 30, 32, 24, 36, 33, 32, 43, 44, 29, 37, 43, 60, 41, 37, 53, 44, 53, 80, 86, 78, 86, 95, 103, 83, 91, 103, 92, 92, 88, 76, 71, 72, 75, 76, 99, 90, 95, 106, 102, 109, 103, 111, 90, 110, 116, 133, 124, 164, 111, 141, 153, 106, 134, 132, 150, 168, 177, 227, 194, 185, 178, 177, 204, 197, 166, 158, 173, 158, 155, 162, 138, 138, 107, 113, 100, 109, 115, 100, 70, 70, 57, 42, 51, 52, 42, 28, 23, 20, 11, 16, 5, 4, 4, 1, 1, 1, 0, 1, 3, 58, 61, 83, 89, 97, 98, 104, 91, 110, 113, 129, 103, 118, 136, 122, 117, 170, 178, 162, 216, 242, 274, 265, 288, 274, 284, 262, 223, 221, 229, 194, 174, 157, 165, 164, 164, 175, 199, 208, 219, 224, 225, 192, 171, 183, 247, 281, 291, 301, 295, 275, 290, 309, 311, 276, 288, 290, 341, 274, 355, 351, 320, 295, 290, 259, 303, 223, 223, 206, 151, 174, 164, 178, 157, 121, 124, 107, 164, 143, 108, 96, 85, 77, 88, 66, 71, 55, 27, 31, 27, 21, 18, 12, 9, 6, 6, 2, 4, 3, 0, 7, 94, 95, 86, 120, 114, 132, 136, 140, 153, 126, 126, 113, 126, 113, 115, 162, 132, 145, 158, 165, 218, 231, 267, 250, 246, 219, 240, 215, 229, 192, 200, 191, 217, 192, 200, 197, 191, 196, 232, 249, 287, 209, 192, 214, 202, 214, 235, 250, 254, 291, 275, 284, 300, 311, 270, 241, 251, 266, 289, 358, 292, 281, 263, 267, 269, 285, 208, 187, 212, 149, 157, 154, 150, 139, 93, 92, 88, 100, 92, 108, 88, 65, 77, 64, 59, 70, 43, 36, 30, 26, 22, 18, 14, 8, 10, 2, 0, 7, 2, 0, 5, 41, 50, 50, 55, 60, 56, 62, 62, 50, 67, 60, 63, 67, 89, 71, 84, 87, 94, 93, 119, 135, 117, 179, 150, 179, 175, 184, 173, 144, 167, 169, 134, 125, 146, 140, 135, 165, 182, 140, 170, 183, 160, 143, 165, 169, 152, 198, 200, 229, 206, 222, 199, 231, 218, 229, 203, 231, 251, 267, 281, 296, 272, 277, 275, 280, 309, 233, 237, 240, 208, 201, 195, 186, 170, 132, 125, 129, 138, 136, 96, 89, 88, 58, 54, 50, 53, 34, 24, 23, 16, 15, 16, 15, 1, 2, 4, 1, 4, 7, 2, 2, 55, 64, 59, 83, 105, 114, 102, 126, 121, 132, 120, 116, 118, 109, 98, 96, 99, 109, 143, 239, 364, 555, 719, 787, 749, 707, 588, 463, 415, 327, 272, 244, 207, 161, 168, 176, 151, 185, 213, 227, 225, 223, 225, 215, 199, 213, 217, 212, 228, 228, 220, 247, 243, 229, 226, 211, 203, 231, 251, 243, 264, 223, 197, 222, 193, 209, 172, 171, 175, 152, 160, 133, 141, 137, 96, 88, 103, 96, 110, 77, 97, 78, 48, 45, 35, 44, 44, 29, 37, 22, 18, 10, 9, 4, 4, 5, 3, 1, 1, 1, 10, 163, 185, 189, 253, 284, 296, 319, 323, 348, 314, 278, 293, 258, 275, 236, 237, 225, 226, 218, 261, 297, 281, 334, 354, 357, 360, 405, 351, 370, 334, 328, 334, 372, 316, 331, 332, 365, 435, 502, 514, 558, 519, 504, 438, 425, 452, 488, 461, 418, 469, 414, 399, 399, 393, 360, 354, 354, 372, 325, 456, 425, 344, 361, 381, 326, 355, 317, 287, 292, 233, 244, 235, 262, 207, 182, 174, 185, 181, 201, 154, 134, 121, 118, 101, 96, 83, 62, 45, 49, 40, 37, 23, 24, 25, 10, 14, 13, 6, 7, 7, 98, 2, 10, 6, 9, 8, 13, 7, 6, 5, 6, 12, 8, 6, 10, 10, 10, 14, 13, 14, 17, 16, 18, 20, 21, 23, 23, 23, 19, 31, 20, 22, 24, 8, 16, 19, 15, 29, 25, 23, 20, 22, 26, 13, 29, 15, 16, 24, 25, 37, 31, 31, 48, 44, 35, 42, 42, 55, 56, 62, 72, 71, 77, 59, 48, 56, 61, 48, 42, 43, 34, 42, 44, 38, 40, 31, 32, 35, 23, 29, 33, 26, 22, 19, 16, 18, 14, 14, 9, 12, 7, 3, 4, 3, 2, 3, 0, 1, 1, 0, 0, 4, 28, 28, 41, 46, 52, 71, 60, 65, 63, 72, 67, 52, 64, 74, 67, 66, 86, 64, 78, 91, 113, 106, 114, 114, 130, 99, 119, 95, 136, 110, 89, 88, 100, 105, 80, 92, 91, 92, 124, 120, 118, 126, 115, 101, 115, 100, 150, 150, 157, 151, 146, 169, 148, 176, 171, 201, 191, 198, 192, 217, 214, 205, 198, 203, 198, 210, 203, 159, 193, 141, 155, 146, 164, 150, 91, 96, 99, 120, 104, 77, 79, 75, 68, 49, 58, 65, 38, 29, 31, 21, 15, 14, 7, 8, 7, 0, 1, 4, 5, 2, 4, 78, 89, 98, 107, 125, 147, 140, 168, 166, 162, 164, 147, 173, 175, 169, 212, 197, 253, 271, 412, 456, 441, 469, 539, 528, 467, 495, 440, 429, 361, 376, 351, 290, 274, 269, 246, 282, 285, 372, 357, 346, 330, 324, 305, 278, 351, 404, 442, 454, 565, 506, 576, 577, 549, 510, 530, 502, 610, 641, 691, 646, 584, 566, 548, 544, 533, 423, 390, 437, 329, 334, 360, 324, 307, 255, 265, 280, 291, 260, 246, 210, 170, 145, 126, 104, 115, 89, 69, 59, 45, 37, 28, 27, 12, 16, 10, 10, 3, 3, 2, 8, 97, 88, 117, 115, 117, 160, 153, 169, 172, 187, 178, 175, 200, 194, 171, 170, 182, 215, 235, 209, 275, 235, 253, 238, 275, 296, 262, 257, 279, 220, 209, 211, 199, 201, 208, 179, 212, 276, 270, 297, 300, 282, 279, 256, 264, 281, 312, 330, 312, 379, 356, 415, 400, 313, 340, 354, 332, 376, 377, 397, 393, 313, 328, 349, 266, 312, 248, 266, 242, 161, 180, 180, 181, 169, 121, 119, 114, 131, 138, 134, 88, 95, 93, 71, 61, 51, 47, 37, 24, 20, 20, 15, 9, 14, 7, 5, 4, 1, 2, 1, 7, 109, 149, 178, 201, 221, 246, 280, 272, 289, 309, 301, 305, 322, 321, 333, 293, 339, 374, 347, 423, 473, 432, 476, 462, 570, 484, 458, 429, 375, 381, 366, 357, 312, 302, 314, 317, 330, 369, 404, 499, 451, 476, 445, 429, 434, 446, 525, 542, 585, 631, 604, 627, 626, 577, 610, 604, 562, 651, 668, 682, 695, 635, 573, 609, 511, 551, 452, 416, 434, 317, 323, 372, 299, 321, 214, 227, 223, 226, 231, 182, 172, 168, 149, 136, 119, 111, 82, 79, 58, 61, 49, 36, 28, 17, 16, 12, 6, 2, 4, 3, 9, 1, 2, 3, 3, 6, 11, 13, 9, 17, 16, 13, 16, 12, 10, 15, 13, 8, 9, 10, 7, 12, 6, 6, 9, 5, 6, 8, 10, 9, 11, 7, 5, 5, 5, 7, 2, 11, 7, 19, 13, 14, 19, 23, 15, 20, 14, 16, 21, 16, 17, 14, 13, 12, 12, 17, 19, 16, 26, 18, 29, 24, 26, 20, 27, 19, 23, 18, 22, 22, 18, 16, 19, 11, 13, 3, 3, 11, 7, 14, 7, 9, 8, 3, 5, 7, 6, 5, 4, 1, 2, 1, 3, 1, 1, 1, 1, 1, 0, 0, 1, 2, 1411, 1584, 1933, 2133, 2313, 2253, 2220, 2069, 2091, 1952, 1683, 1481, 1431, 1158, 1019, 982, 958, 833, 836, 949, 953, 918, 1012, 982, 1110, 1137, 1269, 1483, 1583, 1668, 1806, 2011, 2094, 2315, 2484, 2645, 3057, 3389, 3649, 3609, 3366, 2890, 2569, 2375, 2068, 2136, 2028, 1933, 1707, 1810, 1726, 1668, 1636, 1540, 1535, 1552, 1483, 1714, 1743, 2095, 2014, 1832, 1798, 1807, 1586, 1646, 1344, 1211, 1233, 976, 884, 887, 843, 796, 550, 542, 578, 547, 619, 487, 437, 411, 340, 315, 242, 243, 207, 166, 148, 109, 108, 100, 72, 52, 35, 29, 22, 16, 8, 8, 45, 16, 16, 16, 25, 14, 19, 15, 19, 21, 23, 25, 21, 33, 24, 21, 30, 38, 30, 45, 35, 41, 64, 65, 54, 55, 69, 69, 88, 78, 77, 61, 65, 64, 57, 37, 62, 52, 48, 71, 67, 91, 53, 55, 73, 59, 63, 81, 73, 79, 88, 115, 110, 104, 111, 119, 126, 141, 162, 131, 160, 201, 164, 179, 188, 176, 175, 151, 128, 152, 129, 137, 114, 123, 103, 80, 91, 94, 97, 96, 83, 58, 63, 54, 39, 41, 32, 27, 21, 23, 22, 13, 14, 6, 5, 7, 2, 5, 0, 3, 1, 3, 34, 29, 41, 43, 62, 57, 57, 52, 73, 57, 49, 56, 55, 49, 40, 45, 37, 58, 46, 47, 65, 51, 84, 78, 87, 84, 85, 113, 97, 93, 82, 93, 97, 83, 80, 79, 78, 103, 75, 110, 88, 94, 90, 104, 84, 82, 88, 96, 95, 95, 94, 85, 118, 95, 102, 111, 98, 125, 130, 160, 166, 171, 166, 137, 142, 145, 112, 102, 118, 92, 83, 90, 88, 76, 59, 47, 65, 56, 84, 49, 64, 52, 33, 43, 20, 32, 30, 27, 18, 12, 15, 11, 11, 4, 8, 4, 1, 2, 1, 1, 7, 4, 3, 17, 7, 12, 6, 10, 9, 12, 9, 14, 16, 10, 6, 15, 15, 16, 13, 19, 22, 23, 36, 26, 36, 42, 33, 40, 36, 45, 49, 40, 42, 41, 33, 33, 36, 33, 33, 34, 34, 44, 32, 37, 26, 32, 34, 41, 46, 40, 45, 54, 64, 77, 81, 98, 96, 102, 102, 128, 173, 157, 144, 140, 148, 120, 125, 120, 110, 122, 94, 74, 65, 73, 62, 54, 57, 54, 57, 57, 42, 45, 34, 36, 39, 28, 25, 19, 19, 16, 6, 18, 3, 11, 7, 4, 6, 0, 0, 0, 4, 12, 813, 859, 999, 1073, 1048, 986, 970, 893, 834, 779, 602, 530, 527, 413, 338, 319, 281, 243, 230, 308, 313, 251, 329, 322, 342, 344, 360, 477, 589, 679, 782, 927, 989, 1129, 1234, 1280, 1431, 1516, 1622, 1576, 1385, 1131, 939, 864, 756, 751, 608, 626, 501, 508, 462, 495, 480, 405, 412, 414, 378, 432, 467, 539, 492, 415, 432, 437, 366, 382, 342, 283, 291, 182, 177, 208, 178, 185, 93, 105, 99, 90, 99, 83, 76, 80, 50, 53, 35, 42, 40, 26, 30, 14, 20, 22, 9, 13, 1, 5, 3, 6, 1, 1, 9, 228, 301, 429, 479, 602, 664, 633, 633, 655, 648, 613, 512, 517, 426, 386, 371, 378, 311, 315, 310, 267, 255, 249, 211, 239, 245, 266, 266, 253, 234, 282, 301, 324, 318, 398, 476, 587, 759, 820, 900, 865, 801, 728, 705, 581, 668, 641, 559, 508, 521, 433, 402, 353, 336, 294, 298, 268, 312, 292, 358, 311, 317, 298, 279, 270, 236, 194, 175, 161, 138, 118, 117, 115, 93, 64, 54, 57, 70, 66, 59, 50, 47, 31, 27, 24, 28, 24, 21, 10, 13, 11, 16, 8, 3, 5, 2, 0, 2, 0, 0, 1, 2, 5, 2, 6, 4, 6, 9, 7, 13, 8, 8, 4, 4, 3, 5, 12, 2, 9, 9, 9, 14, 17, 14, 18, 22, 22, 29, 32, 17, 19, 25, 23, 20, 20, 18, 12, 26, 28, 17, 17, 18, 17, 21, 22, 16, 18, 21, 31, 24, 23, 27, 40, 44, 50, 44, 58, 51, 63, 59, 67, 62, 64, 75, 61, 55, 78, 55, 58, 57, 49, 50, 49, 40, 49, 37, 42, 37, 34, 36, 37, 37, 25, 21, 22, 17, 16, 12, 11, 7, 11, 7, 6, 6, 5, 1, 1, 3, 1, 0, 1, 3, 308, 365, 418, 488, 555, 499, 510, 445, 472, 418, 364, 330, 272, 228, 200, 180, 187, 151, 153, 196, 198, 217, 221, 233, 302, 312, 385, 439, 483, 478, 493, 526, 544, 645, 648, 666, 821, 870, 978, 873, 841, 731, 652, 548, 511, 474, 513, 460, 410, 463, 472, 410, 401, 409, 396, 382, 366, 448, 435, 519, 493, 460, 418, 460, 366, 414, 292, 279, 264, 234, 202, 188, 168, 168, 120, 112, 131, 109, 143, 87, 80, 88, 87, 70, 51, 50, 33, 30, 26, 22, 19, 16, 15, 8, 7, 5, 9, 2, 2, 0, 5, 6, 6, 11, 12, 16, 16, 16, 11, 11, 10, 8, 12, 13, 9, 14, 10, 19, 18, 19, 22, 32, 27, 24, 30, 21, 28, 35, 32, 21, 39, 41, 34, 15, 30, 36, 34, 29, 32, 32, 32, 34, 31, 47, 33, 29, 46, 35, 42, 50, 67, 69, 62, 59, 53, 70, 67, 79, 70, 101, 119, 132, 97, 90, 97, 91, 91, 78, 76, 68, 58, 43, 56, 58, 60, 43, 34, 41, 34, 38, 47, 27, 22, 28, 22, 26, 18, 22, 11, 18, 9, 5, 12, 6, 7, 2, 4, 1, 3, 1, 0, 5, 1065, 1278, 1286, 1411, 1712, 1692, 1642, 1650, 1691, 1725, 1568, 1538, 1609, 1656, 1486, 1540, 1686, 1700, 1750, 2055, 2299, 2272, 2554, 2556, 2738, 2756, 2819, 2844, 2838, 2666, 2650, 2586, 2459, 2482, 2569, 2591, 2767, 3029, 3277, 3468, 3468, 3213, 2913, 2875, 2850, 2960, 3379, 3331, 3453, 3570, 3505, 3464, 3632, 3386, 3221, 3236, 2961, 3419, 3523, 4022, 3976, 3645, 3480, 3576, 3370, 3481, 2970, 2718, 2847, 2159, 2240, 2278, 2325, 2042, 1446, 1521, 1526, 1748, 1595, 1374, 1204, 1084, 901, 833, 720, 613, 494, 372, 307, 256, 214, 182, 131, 96, 43, 45, 41, 40, 24, 19, 85, 140, 172, 197, 218, 274, 311, 309, 330, 359, 390, 345, 338, 386, 383, 354, 325, 370, 336, 346, 403, 416, 362, 383, 319, 337, 309, 294, 275, 297, 247, 260, 248, 263, 268, 241, 307, 329, 409, 451, 515, 537, 548, 484, 537, 509, 522, 609, 627, 577, 646, 576, 521, 559, 493, 435, 428, 372, 456, 436, 482, 420, 415, 359, 386, 376, 393, 340, 312, 343, 273, 270, 252, 272, 225, 195, 194, 208, 222, 216, 167, 148, 141, 109, 108, 99, 76, 66, 44, 35, 25, 27, 21, 18, 14, 9, 5, 5, 2, 5, 6, 2, 47, 81, 57, 97, 103, 119, 144, 156, 137, 171, 158, 162, 154, 184, 134, 162, 144, 144, 171, 154, 141, 127, 157, 136, 168, 140, 139, 118, 123, 91, 99, 114, 96, 102, 117, 102, 128, 160, 192, 182, 203, 229, 221, 210, 232, 240, 261, 266, 259, 264, 225, 246, 199, 185, 181, 183, 181, 191, 173, 204, 209, 195, 170, 182, 193, 164, 148, 155, 124, 101, 113, 117, 127, 104, 72, 73, 75, 92, 74, 81, 62, 57, 37, 46, 45, 37, 22, 19, 16, 15, 9, 8, 7, 6, 3, 1, 1, 0, 0, 1, 9, 29, 51, 42, 56, 61, 63, 45, 58, 50, 42, 61, 71, 52, 79, 59, 76, 78, 79, 87, 93, 85, 111, 98, 121, 127, 136, 105, 131, 139, 134, 107, 120, 110, 109, 94, 89, 105, 112, 135, 136, 133, 125, 100, 120, 123, 131, 159, 142, 150, 183, 174, 189, 185, 162, 139, 150, 148, 149, 171, 203, 229, 200, 175, 201, 180, 187, 166, 186, 165, 127, 124, 146, 155, 145, 107, 106, 115, 140, 121, 116, 90, 93, 81, 72, 74, 43, 46, 40, 27, 18, 23, 23, 16, 5, 4, 4, 5, 5, 1, 1, 7, 50, 57, 55, 70, 76, 82, 86, 70, 113, 108, 106, 86, 99, 100, 92, 96, 104, 89, 84, 123, 131, 129, 143, 120, 135, 136, 103, 120, 141, 100, 102, 108, 112, 98, 102, 119, 120, 136, 144, 182, 177, 153, 128, 153, 143, 157, 161, 182, 198, 162, 214, 184, 181, 169, 181, 199, 172, 181, 192, 216, 212, 194, 207, 192, 201, 173, 179, 141, 153, 119, 118, 122, 119, 96, 62, 78, 80, 88, 82, 65, 53, 68, 42, 46, 37, 34, 17, 26, 19, 19, 9, 14, 8, 9, 2, 3, 3, 0, 3, 1, 1, 91, 108, 118, 117, 152, 138, 143, 134, 147, 120, 125, 131, 129, 120, 133, 111, 137, 119, 125, 132, 153, 144, 182, 174, 205, 199, 202, 195, 208, 218, 208, 184, 170, 186, 227, 222, 225, 220, 276, 316, 302, 256, 243, 227, 217, 222, 260, 245, 273, 231, 244, 278, 259, 247, 246, 283, 245, 275, 284, 345, 352, 302, 292, 319, 268, 295, 269, 202, 264, 171, 206, 204, 181, 174, 108, 121, 112, 129, 118, 85, 88, 85, 76, 65, 47, 39, 37, 23, 29, 20, 10, 12, 7, 2, 2, 5, 2, 3, 3, 0, 8, 182, 223, 191, 206, 243, 239, 193, 200, 160, 146, 125, 112, 132, 128, 100, 106, 123, 139, 132, 189, 228, 236, 240, 266, 243, 233, 242, 260, 275, 311, 324, 305, 333, 335, 370, 378, 417, 397, 438, 416, 371, 346, 278, 243, 258, 251, 304, 319, 326, 297, 313, 292, 366, 326, 297, 318, 242, 292, 306, 321, 389, 267, 325, 310, 306, 278, 252, 220, 244, 180, 208, 198, 207, 176, 126, 150, 137, 153, 147, 140, 111, 93, 82, 79, 64, 53, 44, 36, 17, 29, 21, 17, 15, 10, 3, 4, 3, 6, 3, 1, 8, 16, 23, 11, 20, 26, 27, 30, 30, 24, 34, 25, 24, 26, 43, 35, 47, 43, 52, 52, 50, 77, 70, 81, 74, 98, 89, 83, 98, 82, 79, 66, 69, 69, 76, 56, 86, 71, 73, 90, 91, 107, 94, 71, 73, 92, 88, 108, 119, 111, 138, 120, 140, 143, 127, 115, 107, 111, 136, 157, 176, 196, 170, 177, 160, 159, 202, 139, 117, 146, 115, 124, 125, 119, 125, 94, 91, 87, 91, 90, 62, 74, 55, 48, 43, 43, 28, 25, 18, 15, 7, 10, 6, 8, 4, 2, 0, 2, 3, 1, 2, 5, 59, 54, 67, 66, 74, 63, 84, 104, 83, 92, 93, 59, 83, 85, 75, 68, 97, 106, 107, 117, 187, 191, 201, 234, 254, 250, 317, 280, 270, 247, 255, 226, 205, 169, 195, 170, 199, 225, 221, 249, 241, 250, 209, 201, 175, 207, 238, 227, 263, 287, 260, 245, 276, 286, 270, 274, 274, 311, 327, 382, 364, 365, 348, 317, 339, 351, 288, 270, 273, 205, 223, 208, 229, 205, 133, 138, 166, 172, 141, 124, 112, 94, 94, 96, 63, 51, 37, 29, 28, 21, 14, 18, 11, 11, 2, 3, 5, 1, 4, 2, 5, 98, 99, 80, 81, 91, 82, 78, 70, 45, 77, 55, 49, 62, 64, 54, 48, 69, 75, 76, 125, 152, 171, 261, 299, 341, 422, 447, 493, 455, 418, 417, 387, 326, 312, 321, 281, 268, 312, 271, 273, 293, 244, 220, 200, 196, 204, 242, 214, 250, 246, 246, 253, 260, 229, 215, 205, 200, 224, 241, 271, 277, 238, 241, 252, 198, 228, 189, 172, 178, 130, 137, 137, 158, 141, 93, 104, 101, 117, 105, 88, 62, 71, 72, 50, 40, 43, 26, 26, 20, 11, 10, 4, 2, 2, 2, 4, 3, 3, 1, 1, 8, 95, 116, 114, 104, 126, 126, 116, 91, 109, 93, 80, 98, 83, 88, 105, 113, 113, 112, 109, 135, 145, 162, 179, 175, 188, 205, 214, 211, 240, 227, 227, 263, 213, 241, 216, 210, 243, 260, 277, 250, 260, 213, 238, 197, 200, 213, 247, 244, 253, 249, 272, 241, 252, 271, 265, 269, 248, 260, 314, 358, 353, 338, 325, 343, 310, 335, 292, 252, 286, 236, 214, 224, 244, 202, 151, 149, 162, 197, 184, 176, 149, 116, 90, 93, 73, 77, 41, 40, 29, 36, 26, 17, 7, 7, 9, 6, 2, 3, 2, 2, 12, 91, 97, 110, 132, 160, 155, 132, 132, 163, 148, 119, 136, 108, 116, 99, 100, 109, 115, 121, 120, 155, 145, 163, 168, 168, 162, 187, 166, 164, 180, 154, 159, 151, 181, 182, 193, 186, 218, 248, 251, 254, 239, 205, 226, 216, 231, 244, 176, 234, 226, 220, 226, 264, 257, 239, 237, 225, 253, 274, 300, 265, 238, 255, 265, 241, 247, 200, 184, 188, 163, 150, 163, 163, 120, 101, 96, 99, 93, 90, 75, 74, 58, 47, 39, 25, 42, 38, 13, 21, 13, 17, 9, 6, 4, 0, 1, 5, 5, 1, 1, 7, 167, 197, 244, 244, 326, 287, 282, 275, 301, 304, 276, 272, 295, 266, 246, 288, 299, 334, 340, 414, 429, 424, 466, 470, 474, 475, 486, 497, 444, 414, 431, 403, 411, 405, 448, 434, 476, 507, 534, 607, 590, 516, 516, 488, 489, 494, 546, 570, 559, 641, 641, 649, 688, 634, 638, 583, 543, 691, 648, 764, 710, 723, 606, 649, 599, 628, 508, 507, 483, 339, 353, 382, 351, 329, 204, 221, 184, 254, 227, 195, 181, 153, 123, 96, 110, 90, 95, 58, 51, 42, 38, 33, 26, 22, 5, 9, 5, 9, 0, 1, 13, 800, 847, 932, 1002, 1166, 1184, 1101, 1103, 1140, 1177, 1016, 1059, 1107, 1151, 1049, 1155, 1248, 1255, 1342, 1596, 1797, 1758, 2012, 2280, 2509, 2656, 2859, 2928, 2900, 2695, 2576, 2472, 2242, 2202, 2220, 2115, 2272, 2554, 2668, 2750, 2834, 2566, 2308, 2295, 2175, 2399, 2643, 2722, 2767, 2960, 2889, 2835, 2826, 2604, 2520, 2574, 2423, 2915, 2832, 3365, 3315, 3166, 3107, 3116, 3004, 3110, 2553, 2446, 2589, 1903, 2069, 2146, 2163, 2055, 1458, 1422, 1448, 1500, 1518, 1272, 1097, 1076, 859, 821, 657, 589, 493, 418, 334, 275, 198, 216, 153, 105, 66, 44, 35, 25, 20, 14, 64, 48, 60, 54, 54, 73, 85, 83, 77, 88, 88, 88, 100, 111, 118, 94, 114, 135, 140, 146, 160, 178, 153, 173, 187, 202, 178, 187, 211, 202, 202, 184, 191, 133, 140, 161, 139, 158, 173, 178, 196, 193, 183, 155, 166, 177, 210, 214, 217, 262, 274, 255, 263, 246, 239, 235, 223, 206, 244, 242, 267, 281, 239, 237, 252, 233, 217, 183, 173, 181, 124, 126, 181, 147, 164, 126, 104, 115, 110, 110, 112, 101, 93, 87, 69, 53, 57, 49, 38, 36, 27, 22, 26, 21, 9, 10, 4, 1, 2, 3, 2, 6, 58, 32, 66, 80, 78, 110, 82, 114, 129, 118, 105, 98, 124, 136, 99, 135, 111, 128, 128, 141, 153, 143, 153, 154, 166, 136, 131, 117, 141, 130, 108, 108, 114, 91, 131, 112, 134, 141, 168, 158, 185, 202, 166, 163, 197, 196, 194, 226, 212, 246, 231, 238, 231, 205, 202, 208, 180, 218, 230, 244, 203, 240, 210, 207, 196, 202, 172, 169, 163, 127, 150, 129, 132, 137, 81, 81, 82, 94, 90, 71, 72, 61, 37, 44, 39, 37, 38, 31, 24, 16, 19, 19, 12, 12, 10, 6, 2, 1, 1, 1, 10, 52, 54, 64, 69, 75, 58, 63, 52, 66, 72, 55, 66, 59, 51, 51, 53, 70, 70, 101, 104, 115, 105, 146, 189, 202, 194, 226, 235, 209, 199, 192, 191, 181, 172, 180, 162, 145, 196, 208, 209, 221, 195, 169, 161, 164, 173, 218, 207, 202, 210, 212, 211, 235, 233, 239, 220, 197, 220, 260, 322, 318, 311, 327, 326, 297, 349, 265, 264, 298, 217, 235, 229, 249, 234, 161, 177, 164, 180, 175, 166, 136, 146, 103, 87, 78, 70, 58, 41, 31, 32, 24, 23, 13, 8, 8, 4, 3, 2, 0, 0, 6, 117, 133, 144, 147, 215, 196, 185, 196, 180, 205, 179, 164, 211, 197, 182, 161, 213, 199, 218, 250, 252, 293, 293, 293, 299, 333, 340, 358, 363, 328, 363, 344, 314, 306, 271, 314, 344, 365, 406, 445, 416, 384, 343, 331, 320, 388, 383, 414, 386, 382, 461, 409, 418, 385, 395, 392, 437, 499, 483, 574, 601, 556, 562, 516, 559, 532, 480, 473, 449, 343, 357, 381, 402, 361, 263, 224, 256, 248, 259, 197, 204, 180, 146, 166, 113, 101, 101, 105, 52, 56, 35, 44, 29, 22, 13, 11, 5, 4, 3, 3, 8, 68, 62, 74, 68, 69, 85, 66, 76, 77, 83, 69, 71, 89, 89, 91, 82, 77, 95, 91, 109, 129, 104, 116, 121, 139, 134, 122, 129, 147, 119, 140, 120, 145, 131, 135, 125, 157, 155, 170, 195, 192, 187, 155, 152, 173, 148, 155, 174, 204, 212, 197, 214, 194, 182, 185, 167, 147, 196, 178, 231, 221, 219, 227, 214, 216, 227, 178, 182, 169, 126, 166, 156, 137, 160, 105, 104, 112, 108, 98, 88, 55, 65, 56, 44, 48, 45, 22, 27, 22, 14, 14, 14, 8, 4, 5, 0, 2, 1, 4, 0, 4, 87, 109, 120, 133, 144, 152, 146, 140, 151, 159, 122, 146, 145, 154, 153, 169, 171, 159, 206, 252, 281, 282, 377, 438, 516, 588, 686, 679, 665, 600, 508, 465, 437, 394, 381, 344, 362, 397, 429, 395, 405, 383, 367, 343, 310, 336, 397, 370, 392, 429, 375, 367, 358, 345, 308, 355, 285, 385, 375, 425, 422, 415, 395, 375, 396, 412, 336, 281, 335, 237, 249, 278, 295, 264, 192, 184, 150, 218, 189, 172, 139, 131, 111, 98, 80, 64, 48, 47, 40, 38, 21, 24, 26, 14, 5, 5, 4, 3, 6, 4, 7, 73, 96, 89, 97, 136, 115, 131, 139, 128, 133, 124, 122, 111, 96, 129, 123, 140, 129, 142, 153, 194, 189, 216, 273, 283, 329, 355, 368, 364, 324, 326, 263, 231, 269, 241, 230, 240, 299, 298, 301, 328, 295, 255, 261, 232, 263, 316, 305, 283, 331, 316, 271, 280, 268, 236, 274, 244, 285, 278, 313, 314, 289, 257, 313, 265, 269, 219, 233, 227, 193, 201, 208, 217, 186, 162, 154, 171, 158, 174, 123, 113, 99, 99, 83, 60, 58, 53, 38, 33, 27, 15, 17, 12, 6, 2, 2, 4, 3, 0, 1, 7, 32, 30, 22, 27, 30, 37, 32, 42, 28, 49, 49, 43, 31, 38, 35, 45, 44, 39, 49, 64, 101, 89, 129, 181, 189, 237, 232, 255, 253, 230, 203, 188, 165, 145, 146, 117, 128, 152, 132, 129, 153, 129, 107, 124, 113, 112, 131, 144, 126, 136, 137, 144, 156, 120, 100, 124, 142, 158, 155, 190, 194, 159, 200, 182, 174, 151, 154, 148, 159, 104, 130, 126, 146, 113, 91, 83, 95, 95, 88, 64, 61, 63, 53, 49, 43, 42, 33, 19, 16, 15, 5, 11, 6, 10, 5, 2, 1, 1, 0, 1, 6, 68, 53, 71, 74, 81, 82, 70, 68, 73, 69, 66, 83, 62, 88, 77, 91, 93, 91, 69, 107, 118, 115, 126, 135, 172, 184, 207, 200, 172, 203, 183, 198, 174, 174, 188, 180, 169, 191, 191, 205, 196, 178, 176, 172, 147, 181, 212, 201, 216, 229, 220, 195, 224, 192, 175, 182, 182, 213, 171, 224, 234, 219, 195, 200, 189, 227, 189, 156, 190, 116, 128, 156, 139, 131, 88, 103, 99, 97, 110, 90, 80, 100, 66, 73, 59, 36, 35, 29, 26, 16, 11, 12, 9, 6, 2, 6, 5, 2, 1, 2, 5, 197, 218, 228, 253, 265, 264, 243, 199, 220, 201, 159, 166, 164, 184, 138, 182, 194, 205, 192, 256, 276, 285, 283, 309, 341, 343, 373, 376, 384, 360, 369, 404, 348, 380, 386, 392, 435, 485, 488, 517, 545, 430, 415, 422, 342, 392, 423, 464, 484, 511, 485, 523, 484, 435, 445, 429, 403, 497, 460, 575, 527, 519, 497, 531, 479, 524, 377, 367, 418, 316, 327, 302, 299, 305, 189, 208, 204, 192, 225, 189, 136, 138, 101, 108, 84, 79, 56, 43, 54, 34, 32, 26, 17, 14, 6, 4, 8, 6, 2, 0, 5, 855, 959, 1099, 1231, 1355, 1436, 1348, 1443, 1579, 1497, 1387, 1345, 1470, 1384, 1374, 1358, 1594, 1598, 1757, 2140, 2415, 2459, 2813, 2979, 3110, 3152, 3156, 3209, 3095, 2801, 2731, 2460, 2373, 2364, 2306, 2351, 2358, 2683, 2988, 3134, 3143, 2843, 2657, 2648, 2588, 2836, 3082, 3246, 3265, 3470, 3649, 3980, 4075, 3936, 4000, 4048, 3913, 4389, 4501, 5248, 5016, 4489, 4092, 3979, 3717, 3782, 3167, 2765, 2888, 2358, 2246, 2286, 2195, 1974, 1363, 1435, 1384, 1470, 1405, 1196, 1005, 923, 794, 717, 577, 516, 422, 333, 290, 178, 149, 139, 103, 86, 53, 44, 21, 25, 17, 12, 71, 11, 20, 18, 30, 24, 23, 21, 37, 26, 18, 22, 28, 25, 26, 29, 23, 34, 47, 42, 39, 62, 53, 65, 63, 67, 80, 79, 63, 68, 68, 53, 56, 61, 61, 63, 58, 64, 58, 69, 64, 73, 59, 51, 67, 68, 80, 74, 94, 91, 99, 116, 110, 124, 115, 149, 155, 104, 129, 158, 176, 182, 166, 135, 132, 118, 138, 104, 97, 115, 74, 82, 84, 97, 84, 64, 62, 57, 50, 63, 47, 37, 40, 31, 35, 19, 19, 9, 11, 9, 8, 3, 4, 5, 4, 1, 2, 1, 1, 0, 0, 5, 119, 130, 163, 170, 151, 204, 168, 176, 189, 186, 194, 174, 202, 195, 178, 172, 227, 189, 248, 266, 299, 302, 348, 349, 400, 421, 400, 381, 401, 389, 352, 358, 322, 289, 290, 296, 303, 344, 380, 390, 410, 385, 345, 327, 342, 364, 411, 414, 404, 431, 442, 534, 540, 530, 516, 553, 525, 575, 663, 744, 708, 618, 533, 570, 536, 573, 442, 360, 437, 334, 305, 331, 296, 249, 174, 192, 192, 198, 191, 162, 144, 117, 112, 89, 70, 72, 57, 37, 35, 24, 20, 21, 11, 6, 7, 2, 4, 3, 2, 1, 16, 24, 16, 23, 28, 42, 34, 36, 39, 42, 37, 35, 42, 39, 39, 47, 51, 53, 58, 61, 94, 91, 86, 92, 89, 88, 89, 96, 83, 102, 86, 92, 86, 75, 60, 69, 76, 63, 93, 120, 128, 114, 124, 112, 123, 108, 138, 146, 161, 147, 155, 182, 192, 211, 208, 190, 234, 202, 243, 279, 289, 275, 297, 254, 248, 269, 275, 236, 220, 248, 200, 201, 207, 229, 194, 148, 134, 134, 140, 160, 131, 124, 113, 97, 102, 82, 64, 53, 44, 40, 13, 18, 19, 13, 12, 4, 7, 1, 2, 0, 1, 4, 25, 41, 39, 55, 45, 74, 55, 48, 75, 58, 58, 63, 65, 68, 53, 61, 67, 70, 78, 90, 101, 97, 97, 111, 133, 113, 92, 125, 111, 88, 104, 94, 90, 95, 102, 98, 95, 87, 136, 126, 124, 125, 108, 118, 96, 126, 142, 125, 136, 143, 170, 162, 184, 173, 192, 178, 172, 192, 174, 248, 209, 192, 158, 128, 151, 165, 127, 115, 125, 105, 98, 100, 107, 99, 57, 93, 84, 60, 63, 51, 57, 42, 45, 32, 30, 22, 18, 17, 13, 7, 3, 5, 4, 7, 7, 0, 2, 3, 0, 0, 4, 38, 49, 58, 71, 94, 85, 74, 91, 98, 96, 89, 76, 92, 88, 77, 81, 93, 100, 121, 138, 136, 132, 157, 169, 219, 174, 223, 186, 174, 200, 158, 147, 156, 140, 137, 133, 139, 147, 171, 184, 188, 158, 160, 152, 135, 165, 177, 199, 198, 194, 224, 281, 237, 254, 269, 275, 275, 283, 333, 377, 342, 286, 268, 253, 273, 260, 209, 180, 182, 162, 161, 145, 137, 101, 91, 82, 84, 87, 77, 60, 38, 59, 44, 49, 28, 31, 16, 21, 22, 9, 6, 13, 5, 9, 2, 4, 1, 2, 0, 2, 2, 95, 111, 124, 121, 124, 114, 113, 100, 106, 113, 85, 86, 97, 94, 91, 84, 116, 106, 123, 212, 218, 240, 338, 419, 414, 475, 459, 521, 489, 395, 420, 342, 314, 299, 298, 325, 273, 328, 295, 312, 308, 270, 270, 218, 220, 252, 266, 292, 295, 357, 343, 401, 431, 391, 437, 445, 401, 458, 438, 550, 513, 440, 427, 395, 368, 352, 326, 271, 253, 231, 196, 209, 192, 215, 122, 117, 113, 144, 118, 91, 73, 65, 60, 53, 40, 42, 24, 25, 26, 15, 13, 8, 11, 4, 2, 4, 0, 0, 3, 2, 14, 31, 31, 43, 43, 72, 52, 64, 64, 71, 66, 67, 66, 65, 42, 62, 68, 86, 78, 103, 91, 128, 137, 168, 167, 186, 168, 208, 199, 192, 196, 179, 184, 158, 171, 145, 134, 134, 158, 187, 196, 201, 179, 143, 152, 166, 164, 181, 205, 204, 231, 235, 246, 270, 272, 265, 290, 291, 345, 308, 385, 350, 317, 282, 326, 279, 288, 224, 218, 228, 183, 199, 157, 177, 135, 117, 114, 108, 130, 124, 101, 64, 82, 53, 47, 50, 40, 33, 11, 19, 14, 12, 14, 5, 2, 3, 2, 4, 4, 5, 1, 8, 68, 97, 94, 89, 109, 98, 94, 97, 125, 111, 105, 90, 111, 106, 103, 112, 107, 133, 122, 163, 184, 182, 224, 219, 239, 265, 242, 244, 219, 188, 218, 182, 170, 191, 161, 183, 162, 191, 199, 216, 234, 188, 178, 204, 189, 171, 209, 218, 225, 228, 262, 325, 325, 309, 303, 312, 292, 361, 331, 401, 396, 342, 288, 319, 265, 285, 215, 217, 208, 154, 141, 165, 143, 114, 101, 122, 91, 94, 89, 79, 57, 59, 43, 48, 35, 38, 35, 26, 16, 18, 9, 10, 10, 4, 4, 3, 1, 4, 0, 1, 3, 120, 120, 113, 153, 151, 159, 159, 186, 177, 188, 199, 163, 161, 174, 182, 160, 184, 167, 204, 266, 369, 342, 436, 451, 427, 435, 413, 448, 419, 368, 344, 278, 288, 292, 268, 281, 281, 340, 358, 356, 373, 332, 354, 335, 292, 327, 328, 387, 374, 365, 377, 381, 394, 352, 377, 361, 379, 459, 403, 513, 437, 388, 398, 368, 338, 319, 291, 263, 236, 234, 193, 229, 212, 169, 115, 140, 127, 149, 153, 132, 112, 96, 93, 61, 49, 46, 37, 34, 27, 17, 19, 10, 9, 4, 10, 6, 1, 1, 3, 2, 7, 41, 54, 63, 69, 84, 78, 92, 91, 107, 89, 83, 104, 99, 93, 99, 106, 129, 124, 114, 131, 155, 165, 157, 201, 198, 192, 199, 218, 183, 167, 165, 156, 138, 147, 142, 126, 144, 167, 168, 176, 213, 164, 141, 165, 158, 174, 217, 212, 204, 186, 246, 256, 250, 224, 247, 250, 217, 255, 260, 296, 322, 315, 272, 259, 214, 235, 228, 171, 189, 145, 161, 151, 114, 136, 95, 90, 98, 88, 82, 90, 61, 66, 54, 53, 41, 32, 54, 31, 31, 9, 13, 8, 9, 5, 5, 1, 1, 1, 2, 0, 0, 137, 138, 174, 184, 218, 232, 187, 226, 258, 245, 199, 191, 235, 193, 224, 214, 221, 257, 260, 328, 317, 356, 355, 368, 358, 362, 357, 371, 360, 308, 333, 290, 299, 294, 290, 337, 350, 392, 482, 503, 474, 394, 377, 375, 419, 415, 433, 462, 485, 527, 524, 565, 533, 526, 521, 497, 528, 564, 570, 685, 687, 616, 613, 555, 531, 501, 437, 383, 385, 298, 294, 306, 287, 276, 162, 179, 169, 195, 177, 138, 148, 118, 89, 103, 79, 62, 40, 41, 30, 26, 21, 15, 13, 19, 7, 3, 2, 4, 0, 1, 6, 146, 152, 187, 218, 241, 283, 285, 288, 305, 290, 251, 262, 279, 266, 229, 226, 277, 269, 281, 322, 355, 367, 376, 373, 381, 378, 388, 370, 377, 348, 313, 287, 302, 325, 341, 304, 350, 378, 423, 483, 431, 465, 418, 412, 395, 460, 498, 477, 502, 554, 528, 527, 576, 582, 534, 498, 527, 525, 584, 584, 595, 512, 464, 426, 375, 391, 328, 270, 282, 238, 215, 202, 204, 202, 117, 110, 127, 135, 108, 114, 90, 66, 73, 45, 54, 48, 46, 35, 22, 18, 12, 12, 8, 10, 1, 10, 3, 0, 2, 1, 2, 1170, 1397, 1560, 1851, 2120, 2210, 2243, 2176, 2317, 2232, 1974, 1844, 1890, 1853, 1586, 1615, 1656, 1612, 1585, 1652, 1703, 1586, 1626, 1622, 1641, 1648, 1684, 1718, 1763, 1824, 1829, 1818, 2002, 2036, 2165, 2309, 2677, 3085, 3516, 3659, 3870, 3485, 3208, 3047, 2968, 3101, 3121, 3022, 2977, 2982, 2735, 2721, 2451, 2352, 2239, 2150, 2023, 2337, 2217, 2510, 2578, 2438, 2246, 2309, 2117, 2225, 1868, 1759, 1823, 1532, 1468, 1482, 1517, 1420, 1002, 1095, 1101, 1112, 1055, 850, 843, 800, 663, 563, 507, 458, 381, 315, 289, 218, 184, 120, 110, 91, 58, 63, 34, 25, 28, 13, 44, 210, 235, 302, 332, 325, 351, 336, 375, 393, 421, 422, 365, 411, 432, 418, 430, 451, 527, 500, 564, 611, 568, 654, 645, 646, 674, 618, 647, 650, 627, 553, 465, 523, 504, 471, 492, 567, 619, 689, 761, 833, 786, 737, 727, 704, 816, 891, 944, 936, 1067, 992, 1050, 908, 945, 888, 892, 877, 918, 919, 986, 1040, 970, 837, 925, 813, 845, 681, 706, 685, 584, 537, 555, 626, 577, 393, 445, 478, 451, 473, 377, 360, 356, 290, 259, 221, 212, 164, 133, 122, 82, 85, 55, 46, 43, 30, 27, 12, 11, 10, 5, 20, 50, 34, 37, 43, 37, 45, 48, 38, 51, 50, 24, 39, 47, 27, 37, 43, 40, 49, 56, 79, 88, 97, 83, 102, 102, 116, 127, 112, 98, 95, 120, 108, 113, 103, 94, 93, 106, 99, 123, 110, 96, 109, 101, 68, 87, 76, 101, 86, 126, 111, 149, 145, 154, 141, 152, 161, 168, 181, 144, 196, 192, 197, 198, 183, 155, 184, 149, 139, 148, 98, 119, 107, 124, 101, 74, 90, 89, 93, 82, 79, 86, 71, 69, 49, 63, 42, 34, 40, 30, 28, 22, 13, 9, 10, 8, 6, 4, 7, 4, 2, 10, 673, 833, 930, 1135, 1395, 1485, 1508, 1462, 1593, 1510, 1288, 1249, 1243, 1233, 971, 987, 995, 873, 852, 770, 761, 672, 614, 607, 638, 591, 652, 644, 704, 760, 800, 887, 958, 1031, 1152, 1284, 1517, 1807, 2109, 2233, 2384, 2153, 1965, 1878, 1793, 1841, 1719, 1603, 1506, 1390, 1174, 1105, 922, 840, 770, 692, 577, 739, 714, 768, 799, 770, 724, 685, 700, 720, 654, 574, 620, 532, 508, 495, 460, 427, 331, 349, 332, 328, 277, 239, 219, 211, 167, 134, 118, 113, 95, 75, 80, 59, 40, 31, 26, 27, 14, 18, 8, 4, 4, 1, 6, 218, 278, 257, 308, 310, 279, 294, 247, 225, 200, 175, 154, 145, 117, 112, 126, 137, 122, 141, 185, 184, 192, 198, 197, 177, 170, 198, 237, 233, 278, 302, 303, 350, 335, 383, 377, 413, 470, 506, 464, 452, 361, 331, 276, 291, 274, 281, 268, 294, 304, 304, 292, 320, 281, 291, 281, 275, 334, 293, 354, 355, 324, 299, 323, 271, 284, 229, 188, 196, 185, 169, 174, 185, 190, 114, 105, 122, 135, 132, 88, 86, 81, 79, 67, 62, 61, 61, 37, 35, 28, 19, 10, 21, 5, 5, 9, 6, 2, 7, 2, 6, 19, 17, 34, 33, 53, 50, 57, 54, 55, 51, 65, 37, 44, 44, 48, 29, 33, 41, 36, 54, 59, 57, 77, 71, 78, 97, 89, 78, 78, 64, 54, 55, 58, 63, 65, 63, 74, 90, 89, 91, 105, 76, 74, 98, 93, 94, 129, 121, 115, 110, 116, 129, 147, 145, 138, 124, 126, 165, 147, 206, 192, 177, 188, 193, 178, 192, 155, 152, 174, 133, 135, 151, 122, 125, 90, 106, 80, 105, 91, 67, 92, 81, 58, 54, 43, 30, 27, 30, 22, 21, 18, 11, 8, 6, 1, 3, 4, 1, 3, 3, 2, 6, 4, 4, 2, 8, 6, 1, 8, 5, 2, 6, 4, 7, 6, 6, 2, 10, 13, 9, 13, 16, 14, 15, 10, 11, 5, 9, 9, 5, 2, 1, 7, 9, 4, 1, 4, 8, 11, 11, 6, 8, 11, 10, 16, 12, 11, 16, 15, 14, 37, 20, 24, 24, 22, 26, 34, 29, 25, 18, 25, 25, 29, 24, 14, 26, 27, 22, 16, 28, 18, 19, 23, 22, 29, 27, 19, 27, 25, 42, 35, 34, 36, 31, 19, 25, 25, 17, 15, 21, 10, 10, 11, 8, 8, 8, 4, 1, 2, 1, 1, 0]\n"
          ],
          "name": "stdout"
        }
      ]
    },
    {
      "cell_type": "code",
      "metadata": {
        "id": "p2g9JMTlZ9v3",
        "outputId": "3a83443f-5b17-4342-d34d-3cad0a65ee1b",
        "colab": {
          "base_uri": "https://localhost:8080/"
        }
      },
      "source": [
        "# 우리나라 전체 인구 데이터 출력 - numpy 이용\n",
        "\n",
        "filename = '/content/drive/My Drive/DATA/age.csv'\n",
        "\n",
        "import csv\n",
        "import numpy as np\n",
        "\n",
        "f = open(filename, 'r', encoding='cp949')\n",
        "data = csv.reader(f)\n",
        "\n",
        "next(data)\n",
        "\n",
        "loc_name = input('인구 구조가 알고 싶은 지역의 이름(읍면동 단위)을 입력해 주세요 : ')\n",
        "\n",
        "for row in data:\n",
        "  if loc_name in row[0]:                        # 입력받은 지역의 이름이 포함된 행 찾기\n",
        "    result = np.array(row[3:], dtype=int)\n",
        "    break   # 핵심 코드임.\n",
        "\n",
        "print(result)\n",
        "\n",
        "f.close()"
      ],
      "execution_count": null,
      "outputs": [
        {
          "output_type": "stream",
          "text": [
            "인구 구조가 알고 싶은 지역의 이름(읍면동 단위)을 입력해 주세요 : 부산\n",
            "[15330 17410 19879 22084 25372 26442 26251 26633 28263 28207 26008 25495\n",
            " 26733 26758 24678 25021 27474 28000 29496 34624 38524 38016 41954 43919\n",
            " 45930 45649 45914 45624 45636 41637 40565 38871 37336 37174 38003 38932\n",
            " 41864 46630 51414 53329 54274 50244 46541 46073 45079 49191 53775 54341\n",
            " 54971 58475 57140 58525 57877 54712 53748 53724 51237 58791 58733 67981\n",
            " 66685 60711 57725 58490 54081 56917 46705 42996 45168 35613 36510 36840\n",
            " 35746 33303 23800 25193 25144 26721 26541 22061 19500 18201 15122 13583\n",
            " 11594 10444  8354  6699  5755  4257  3568  3093  2490  1784  1102   940\n",
            "   643   594   429   265  1871]\n"
          ],
          "name": "stdout"
        }
      ]
    },
    {
      "cell_type": "code",
      "metadata": {
        "id": "0NfoVZlpBMso"
      },
      "source": [
        "# Colab에서 한글 사용\n",
        "# 참고사이트 : https://teddylee777.github.io/colab/colab-korean\n",
        "!sudo apt-get install -y fonts-nanum\n",
        "!sudo fc-cache -fv\n",
        "!rm ~/.cache/matplotlib -rf\n",
        "# 설치 이후 런타임-런타임 다시 시작을 클릭하여 런타임을 재시작합니다."
      ],
      "execution_count": null,
      "outputs": []
    },
    {
      "cell_type": "code",
      "metadata": {
        "id": "gfBAxt697ydo",
        "outputId": "e46d6a5a-f5f6-4ca4-9802-a7dd41625f04",
        "colab": {
          "base_uri": "https://localhost:8080/",
          "height": 298
        }
      },
      "source": [
        "# 우리나라 전체 인구 데이터 출력 - numpy 이용 - 그래프 그리기\n",
        "\n",
        "filename = '/content/drive/My Drive/DATA/age.csv'\n",
        "\n",
        "import csv\n",
        "import numpy as np\n",
        "import matplotlib.pyplot as plt\n",
        "\n",
        "plt.rc('font', family=\"NanumBarunGothic\")    # 한글 글꼴 사용\n",
        "plt.rcParams['axes.unicode_minus'] = False   # 수치상의 -기호 표시하기\n",
        "plt.style.use('ggplot')\n",
        "\n",
        "f = open(filename, 'r', encoding='cp949')\n",
        "data = csv.reader(f)\n",
        "\n",
        "next(data)\n",
        "\n",
        "loc_name = input('인구 구조가 알고 싶은 지역의 이름(읍면동 단위)을 입력해 주세요 : ')\n",
        "\n",
        "for row in data:\n",
        "  if loc_name in row[0]:                        # 입력받은 지역의 이름이 포함된 행 찾기\n",
        "    result = np.array(row[3:], dtype=int)        # 문자열을 numpy 함수 사용해 정수형으로 한꺼번에 바꾸기\n",
        "    break\n",
        "\n",
        "f.close()\n",
        "\n",
        "plt.title(f'{loc_name} 지역의 인구 구조')\n",
        "\n",
        "plt.plot(result)\n",
        "\n",
        "plt.show()"
      ],
      "execution_count": null,
      "outputs": [
        {
          "output_type": "stream",
          "text": [
            "인구 구조가 알고 싶은 지역의 이름(읍면동 단위)을 입력해 주세요 : 부산\n"
          ],
          "name": "stdout"
        },
        {
          "output_type": "display_data",
          "data": {
            "image/png": "[encoded data removed]",
            "text/plain": [
              "<Figure size 432x288 with 1 Axes>"
            ]
          },
          "metadata": {
            "tags": []
          }
        }
      ]
    },
    {
      "cell_type": "markdown",
      "metadata": {
        "id": "6EQ4faW9H2yu"
      },
      "source": [
        "3) 궁금한 지역의 인구 구조와 가장 비슷한 인구 구조를 가진 지역 찾기\n",
        "* [ 알고리즘 표현 ]\n",
        "* 전국의 모든 지역 중 한 곳(B)을 선택한다.\n",
        "* 궁금한 지역 A의 0세 인구수에서 B의 0세 인구수를 뺀다.\n",
        "* 위 작업을 100세 이상 인구수에 해당하는 값까지 반복한 후 각각의 차이를 모두 더한다.\n",
        "* 전국의 모든 지역에 대해 반복하며 그 차이가 가장 작은 지역을 찾는다."
      ]
    },
    {
      "cell_type": "markdown",
      "metadata": {
        "id": "MAJqckv-Ihs1"
      },
      "source": [
        "Q1) 서로 다른 인구를 가진 두 지역을 어떻게 비교할 수 있을까?\n",
        "* [알고리즘 수정] : 수에서 비율로 변환\n",
        "* 전국의 모든 지역 중 한 곳(B)을 선택한다.\n",
        "* 궁금한 지역 A의 0세 인구 비율에서 B의 0세 인구 비율을 뺀다.\n",
        "* 위 작업을 100세 이상 인구수에 해당하는 값까지 반복한 후 각각의 차이를 모두 더한다.\n",
        "* 전국의 모든 지역에 대해 반복하며 그 차이가 가장 작은 지역을 찾는다."
      ]
    },
    {
      "cell_type": "markdown",
      "metadata": {
        "id": "66MvUB_uJRic"
      },
      "source": [
        "Q2) 한 번 불러온 데이터를 여러 번 사용하려면 어떻게 해야 할까?"
      ]
    },
    {
      "cell_type": "code",
      "metadata": {
        "id": "38LUaKnXJcsy",
        "outputId": "7404bafc-f56a-4aec-a9ba-38c4186b696f",
        "colab": {
          "base_uri": "https://localhost:8080/"
        }
      },
      "source": [
        "filename = '/content/drive/My Drive/DATA/age.csv'\n",
        "\n",
        "import csv\n",
        "import numpy as np\n",
        "\n",
        "f = open(filename, 'r', encoding='cp949')\n",
        "data = csv.reader(f)\n",
        "\n",
        "next(data)\n",
        "\n",
        "loc_name = input('인구 구조가 알고 싶은 지역의 이름(읍면동 단위)을 입력해 주세요 : ')\n",
        "\n",
        "for row in data:\n",
        "  if loc_name in row[0]:                       \n",
        "    result = np.array(row[3:], dtype=int) / int(row[2])     \n",
        "\n",
        "for row in data:\n",
        "  print(row)\n",
        "\n",
        "f.close()\n",
        "# 아무것도 출력되지 않음"
      ],
      "execution_count": null,
      "outputs": [
        {
          "output_type": "stream",
          "text": [
            "인구 구조가 알고 싶은 지역의 이름(읍면동 단위)을 입력해 주세요 : 서울\n"
          ],
          "name": "stdout"
        }
      ]
    },
    {
      "cell_type": "code",
      "metadata": {
        "id": "mh8QbVe8JxIW"
      },
      "source": [
        "# 해결책 : data = list(data) : 리스트로 저장하는 방법이 있음.\n",
        "\n",
        "filename = '/content/drive/My Drive/DATA/age.csv'\n",
        "\n",
        "import csv\n",
        "import numpy as np\n",
        "\n",
        "f = open(filename, 'r', encoding='cp949')\n",
        "data = csv.reader(f)\n",
        "\n",
        "next(data)\n",
        "\n",
        "data = list(data)  # 읽어온 파일의 내용을 리스트로 저장 => data값 읽어오는 것을 반복할 수 있도록 하기 위한 방편\n",
        "\n",
        "loc_name = input('인구 구조가 알고 싶은 지역의 이름(읍면동 단위)을 입력해 주세요 : ')\n",
        "\n",
        "for row in data:\n",
        "  if loc_name in row[0]:                       \n",
        "    result = np.array(row[3:], dtype=int) / int(row[2])     \n",
        "\n",
        "for row in data:\n",
        "  print(row)\n",
        "\n",
        "f.close()"
      ],
      "execution_count": null,
      "outputs": []
    },
    {
      "cell_type": "code",
      "metadata": {
        "id": "39n30NUELBcL"
      },
      "source": [
        "# 1. 전국의 모든 지역 중 한 곳(B)을 선택한다.\n",
        "# 2. 궁금한 지역 A의 0세 인구비율에서 B의 0세 인구 비율을 뺀다.\n",
        "\n",
        "filename = '/content/drive/My Drive/DATA/age.csv'\n",
        "\n",
        "import csv\n",
        "import numpy as np\n",
        "\n",
        "f = open(filename, 'r', encoding='cp949')\n",
        "data = csv.reader(f)\n",
        "\n",
        "next(data)\n",
        "\n",
        "data = list(data)\n",
        "\n",
        "loc_name = input('인구 구조가 알고 싶은 지역의 이름(읍면동 단위)을 입력해 주세요 : ')\n",
        "\n",
        "for row in data:\n",
        "  if loc_name in row[0]:                       \n",
        "    home = np.array(row[3:], dtype=int) / int(row[2])     \n",
        "\n",
        "for row in data:\n",
        "  away = np.array(row[3:], dtype=int) / int(row[2])\n",
        "  print(home - away)\n",
        "\n",
        "f.close()"
      ],
      "execution_count": null,
      "outputs": []
    },
    {
      "cell_type": "code",
      "metadata": {
        "id": "bLKdaIEkL0YK"
      },
      "source": [
        "# 3. 2를 100세 이상 인구수에 해당하는 값까지 반복한 후 각각의 차이를 모두 더한다.\n",
        "\n",
        "filename = '/content/drive/My Drive/DATA/age.csv'\n",
        "\n",
        "import csv\n",
        "import numpy as np\n",
        "\n",
        "f = open(filename, 'r', encoding='cp949')\n",
        "data = csv.reader(f)\n",
        "\n",
        "next(data)\n",
        "\n",
        "data = list(data)\n",
        "\n",
        "loc_name = input('인구 구조가 알고 싶은 지역의 이름(읍면동 단위)을 입력해 주세요 : ')\n",
        "\n",
        "for row in data:\n",
        "  if loc_name in row[0]:                       \n",
        "    home = np.array(row[3:], dtype=int) / int(row[2])     \n",
        "\n",
        "for row in data:\n",
        "  away = np.array(row[3:], dtype=int) / int(row[2])\n",
        "  print(np.sum(home - away)) # 핵심 코드 부분 : 차이를 모두 더하는 코드\n",
        "\n",
        "f.close()"
      ],
      "execution_count": null,
      "outputs": []
    },
    {
      "cell_type": "code",
      "metadata": {
        "id": "DmBHqPQRMhG9",
        "outputId": "4342852f-ea2c-415e-bc93-1fa398c77d06",
        "colab": {
          "base_uri": "https://localhost:8080/"
        }
      },
      "source": [
        "# 4. 전국의 모든 지역에 대해 반복하며 그 차이가 가장 작은 지역을 찾는다.\n",
        "\n",
        "filename = '/content/drive/My Drive/DATA/age.csv'\n",
        "\n",
        "import csv\n",
        "import numpy as np\n",
        "\n",
        "f = open(filename, 'r', encoding='cp949')\n",
        "data = csv.reader(f)\n",
        "\n",
        "next(data)\n",
        "\n",
        "data = list(data)\n",
        "\n",
        "loc_name = input('인구 구조가 알고 싶은 지역의 이름(읍면동 단위)을 입력해 주세요 : ')\n",
        "\n",
        "mn = 1            # 최솟값을 저장할 변수 생성 및 초기화\n",
        "result_name = ''  # 최솟값을 갖는 지역의 이름을 저장할 변수 생성 및 초기화\n",
        "result = 0        # 최솟값을 갖는 지역의 연령대별 인구 비율을 저장할 배열 생성 및 초기화\n",
        "\n",
        "for row in data:\n",
        "  if loc_name in row[0]:                       \n",
        "    home = np.array(row[3:], dtype=int) / int(row[2])     \n",
        "\n",
        "for row in data:\n",
        "  away = np.array(row[3:], dtype=int) / int(row[2])\n",
        "  s = np.sum(home - away) \n",
        "  if s < mn:   # 계산한 합이 최솟값인지 확인\n",
        "    mn = s     # 만약 최솟값이면 변수 mn값을 갱신\n",
        "    result_name = row[0] # 최솟값을 갖는 지역의 이름\n",
        "    result = away        # 최솟값을 갖는 지역의 연령대별 인구 비율 값을 저장\n",
        "\n",
        "f.close()\n",
        "\n",
        "# 에러가 발생하지 않으면 가장 비슷한 인구 구조를 가진 지역을 찾은 것임."
      ],
      "execution_count": null,
      "outputs": [
        {
          "output_type": "stream",
          "text": [
            "인구 구조가 알고 싶은 지역의 이름(읍면동 단위)을 입력해 주세요 : 부산\n"
          ],
          "name": "stdout"
        }
      ]
    },
    {
      "cell_type": "code",
      "metadata": {
        "id": "LeswpJYbOWHd",
        "outputId": "84b12420-a567-4a5f-c7d5-dda3702b78bf",
        "colab": {
          "base_uri": "https://localhost:8080/",
          "height": 286
        }
      },
      "source": [
        "# 5. 가장 비슷한 곳의 인구 구조와 궁금한 지역의 인구 구조를 시각화 한다.\n",
        "\n",
        "filename = '/content/drive/My Drive/DATA/age.csv'\n",
        "\n",
        "import csv\n",
        "import numpy as np\n",
        "\n",
        "f = open(filename, 'r', encoding='cp949')\n",
        "data = csv.reader(f)\n",
        "\n",
        "next(data)\n",
        "\n",
        "data = list(data)\n",
        "\n",
        "loc_name = input('인구 구조가 알고 싶은 지역의 이름(읍면동 단위)을 입력해 주세요 : ')\n",
        "\n",
        "mn = 1            # 최솟값을 저장할 변수 생성 및 초기화\n",
        "result_name = ''  # 최솟값을 갖는 지역의 이름을 저장할 변수 생성 및 초기화\n",
        "result = 0        # 최솟값을 갖는 지역의 연령대별 인구 비율을 저장할 배열 생성 및 초기화\n",
        "\n",
        "for row in data:\n",
        "  if loc_name in row[0]:                       \n",
        "    home = np.array(row[3:], dtype=int) / int(row[2])     \n",
        "\n",
        "for row in data:\n",
        "  away = np.array(row[3:], dtype=int) / int(row[2])\n",
        "  s = np.sum(home - away) \n",
        "  if s < mn:   # 계산한 합이 최솟값인지 확인\n",
        "    mn = s     # 만약 최솟값이면 변수 mn값을 갱신\n",
        "    result_name = row[0] # 최솟값을 갖는 지역의 이름\n",
        "    result = away        # 최솟값을 갖는 지역의 연령대별 인구 비율 값을 저장\n",
        "\n",
        "f.close()\n",
        "\n",
        "import matplotlib.pyplot as plt\n",
        "\n",
        "plt.rc('font', family=\"NanumBarunGothic\")    # 한글 글꼴 사용\n",
        "plt.rcParams['axes.unicode_minus'] = False   # 수치상의 -기호 표시하기\n",
        "plt.style.use('ggplot')\n",
        "\n",
        "plt.plot(home)\n",
        "plt.plot(result)\n",
        "\n",
        "plt.show()"
      ],
      "execution_count": null,
      "outputs": [
        {
          "output_type": "stream",
          "text": [
            "인구 구조가 알고 싶은 지역의 이름(읍면동 단위)을 입력해 주세요 : 부산\n"
          ],
          "name": "stdout"
        },
        {
          "output_type": "display_data",
          "data": {
            "image/png": "[encoded data removed]",
            "text/plain": [
              "<Figure size 432x288 with 1 Axes>"
            ]
          },
          "metadata": {
            "tags": []
          }
        }
      ]
    },
    {
      "cell_type": "code",
      "metadata": {
        "id": "0RZpttNtO2LY",
        "outputId": "d6082e21-977d-43e5-be7d-b5e6fef90e4c",
        "colab": {
          "base_uri": "https://localhost:8080/",
          "height": 298
        }
      },
      "source": [
        "# 제목과 범례 넣기\n",
        "\n",
        "filename = '/content/drive/My Drive/DATA/age.csv'\n",
        "\n",
        "import csv\n",
        "import numpy as np\n",
        "\n",
        "f = open(filename, 'r', encoding='cp949')\n",
        "data = csv.reader(f)\n",
        "\n",
        "next(data)\n",
        "\n",
        "data = list(data)\n",
        "\n",
        "loc_name = input('인구 구조가 알고 싶은 지역의 이름(읍면동 단위)을 입력해 주세요 : ')\n",
        "\n",
        "mn = 1            # 최솟값을 저장할 변수 생성 및 초기화\n",
        "result_name = ''  # 최솟값을 갖는 지역의 이름을 저장할 변수 생성 및 초기화\n",
        "result = 0        # 최솟값을 갖는 지역의 연령대별 인구 비율을 저장할 배열 생성 및 초기화\n",
        "\n",
        "for row in data:\n",
        "  if loc_name in row[0]:                       \n",
        "    home = np.array(row[3:], dtype=int) / int(row[2])     \n",
        "\n",
        "for row in data:\n",
        "  away = np.array(row[3:], dtype=int) / int(row[2])\n",
        "  s = np.sum(home - away) \n",
        "  if s < mn:   # 계산한 합이 최솟값인지 확인\n",
        "    mn = s     # 만약 최솟값이면 변수 mn값을 갱신\n",
        "    result_name = row[0] # 최솟값을 갖는 지역의 이름\n",
        "    result = away        # 최솟값을 갖는 지역의 연령대별 인구 비율 값을 저장\n",
        "\n",
        "f.close()\n",
        "\n",
        "import matplotlib.pyplot as plt\n",
        "\n",
        "plt.rc('font', family=\"NanumBarunGothic\")    # 한글 글꼴 사용\n",
        "plt.rcParams['axes.unicode_minus'] = False   # 수치상의 -기호 표시하기\n",
        "plt.style.use('ggplot')\n",
        "\n",
        "plt.title(f'{loc_name} 지역과 가장 비슷한 인구 구조를 가진 지역')  # 그래프 제목 설정\n",
        "\n",
        "plt.plot(home, label=loc_name)      # home 값을 그리는 그래프 레이블 설정\n",
        "plt.plot(result, label=result_name) # result 값을 그리는 그래프 레이블 설정\n",
        "\n",
        "plt.legend() # 범례 표기\n",
        "\n",
        "plt.show()\n",
        "\n",
        "# 문제 발생 - 그래프 구조가 비슷하지 않음."
      ],
      "execution_count": null,
      "outputs": [
        {
          "output_type": "stream",
          "text": [
            "인구 구조가 알고 싶은 지역의 이름(읍면동 단위)을 입력해 주세요 : 부산\n"
          ],
          "name": "stdout"
        },
        {
          "output_type": "display_data",
          "data": {
            "image/png": "[encoded data removed]",
            "text/plain": [
              "<Figure size 432x288 with 1 Axes>"
            ]
          },
          "metadata": {
            "tags": []
          }
        }
      ]
    },
    {
      "cell_type": "markdown",
      "metadata": {
        "id": "MMvC8p8bP61W"
      },
      "source": [
        "문제 발생 : 알고리즘 설계상의 문제\n",
        "* 인구구조가 가장 비슷한 지역, 즉 연령대별 인구 비율과 분포가 가장 비슷한 지역 찾는 것\n",
        "* 두 지역의 차이를 합한 값이 0에 가까울 수록 인구 구조가 비슷하다.\n",
        "* 그런데 알고리즘에서는 음수(-)값이 선택되어 이상한 결과가 도출"
      ]
    },
    {
      "cell_type": "code",
      "metadata": {
        "id": "n7a3Av2oPkbo",
        "outputId": "e956acf2-eca1-4ce3-83c1-60e2d8694869",
        "colab": {
          "base_uri": "https://localhost:8080/",
          "height": 298
        }
      },
      "source": [
        "# 해결 : 거듭제곱 연산자를 활용한 코드\n",
        "\n",
        "filename = '/content/drive/My Drive/DATA/age.csv'\n",
        "\n",
        "import csv\n",
        "import numpy as np\n",
        "\n",
        "f = open(filename, 'r', encoding='cp949')\n",
        "data = csv.reader(f)\n",
        "\n",
        "next(data)\n",
        "\n",
        "data = list(data)\n",
        "\n",
        "loc_name = input('인구 구조가 알고 싶은 지역의 이름(읍면동 단위)을 입력해 주세요 : ')\n",
        "\n",
        "mn = 1            \n",
        "result_name = '' \n",
        "result = 0       \n",
        "\n",
        "for row in data:\n",
        "  if loc_name in row[0]:                       \n",
        "    home = np.array(row[3:], dtype=int) / int(row[2])     \n",
        "\n",
        "for row in data:\n",
        "  away = np.array(row[3:], dtype=int) / int(row[2])\n",
        "  s = np.sum((home - away)**2)   # 핵심 코드 : 거듭제곱을 하여 해결 \n",
        "  if s < mn:   \n",
        "    mn = s     \n",
        "    result_name = row[0] \n",
        "    result = away       \n",
        "\n",
        "f.close()\n",
        "\n",
        "import matplotlib.pyplot as plt\n",
        "\n",
        "plt.rc('font', family=\"NanumBarunGothic\")    # 한글 글꼴 사용\n",
        "plt.rcParams['axes.unicode_minus'] = False   # 수치상의 -기호 표시하기\n",
        "plt.style.use('ggplot')\n",
        "\n",
        "plt.title(f'{loc_name} 지역과 가장 비슷한 인구 구조를 가진 지역')  \n",
        "\n",
        "plt.plot(home, label=loc_name)      \n",
        "plt.plot(result, label=result_name)\n",
        "\n",
        "plt.legend()\n",
        "\n",
        "plt.show()"
      ],
      "execution_count": null,
      "outputs": [
        {
          "output_type": "stream",
          "text": [
            "인구 구조가 알고 싶은 지역의 이름(읍면동 단위)을 입력해 주세요 : 부산\n"
          ],
          "name": "stdout"
        },
        {
          "output_type": "display_data",
          "data": {
            "image/png": "[encoded data removed]",
            "text/plain": [
              "<Figure size 432x288 with 1 Axes>"
            ]
          },
          "metadata": {
            "tags": []
          }
        }
      ]
    },
    {
      "cell_type": "code",
      "metadata": {
        "id": "RS1hS80QQ4ks",
        "outputId": "e206d9aa-f823-4302-95eb-c0bf1468f225",
        "colab": {
          "base_uri": "https://localhost:8080/",
          "height": 298
        }
      },
      "source": [
        "# 자기 자신을 제외한 지역에 대해서만 찾도록 코드 수정\n",
        "# not in 연산을 사용\n",
        "# 입력받은 이름과 같은 이름이 아닌 데이터 중에서 최솟값을 찾도록 합니다.\n",
        "\n",
        "filename = '/content/drive/My Drive/DATA/age.csv'\n",
        "\n",
        "import csv\n",
        "import numpy as np\n",
        "\n",
        "f = open(filename, 'r', encoding='cp949')\n",
        "data = csv.reader(f)\n",
        "\n",
        "next(data)\n",
        "\n",
        "data = list(data)\n",
        "\n",
        "loc_name = input('인구 구조가 알고 싶은 지역의 이름(읍면동 단위)을 입력해 주세요 : ')\n",
        "\n",
        "mn = 1            \n",
        "result_name = '' \n",
        "result = 0       \n",
        "\n",
        "for row in data:\n",
        "  if loc_name in row[0]:                       \n",
        "    home = np.array(row[3:], dtype=int) / int(row[2])     \n",
        "\n",
        "for row in data:\n",
        "  away = np.array(row[3:], dtype=int) / int(row[2])\n",
        "  s = np.sum((home - away)**2) \n",
        "  if s < mn and loc_name not in row[0]:  # 핵심코드\n",
        "  # 전국에서 인구 구조가 완전히 똑같은 지역은 없을 것이라 가정하면 \"if 0 < s < mn : \"와 같이 코드 작성 가능\n",
        "    mn = s     \n",
        "    result_name = row[0] \n",
        "    result = away       \n",
        "\n",
        "f.close()\n",
        "\n",
        "import matplotlib.pyplot as plt\n",
        "\n",
        "plt.rc('font', family=\"NanumBarunGothic\")    # 한글 글꼴 사용\n",
        "plt.rcParams['axes.unicode_minus'] = False   # 수치상의 -기호 표시하기\n",
        "plt.style.use('ggplot')\n",
        "\n",
        "plt.title(f'{loc_name} 지역과 가장 비슷한 인구 구조를 가진 지역')  \n",
        "\n",
        "plt.plot(home, label=loc_name)      \n",
        "plt.plot(result, label=result_name)\n",
        "\n",
        "plt.legend()\n",
        "\n",
        "plt.show()"
      ],
      "execution_count": null,
      "outputs": [
        {
          "output_type": "stream",
          "text": [
            "인구 구조가 알고 싶은 지역의 이름(읍면동 단위)을 입력해 주세요 : 부산광역시\n"
          ],
          "name": "stdout"
        },
        {
          "output_type": "display_data",
          "data": {
            "image/png": "[encoded data removed]",
            "text/plain": [
              "<Figure size 432x288 with 1 Axes>"
            ]
          },
          "metadata": {
            "tags": []
          }
        }
      ]
    },
    {
      "cell_type": "code",
      "metadata": {
        "id": "aZmkcOSrS0Qb",
        "outputId": "bf664c56-cc99-4404-b065-b5e9b1825c4b",
        "colab": {
          "base_uri": "https://localhost:8080/",
          "height": 569
        }
      },
      "source": [
        "# 최종 : 우리 동네와 인구 구조가 가장 비슷한 동네를 찾는 코드\n",
        "\n",
        "filename = '/content/drive/My Drive/DATA/age.csv'\n",
        "\n",
        "import csv\n",
        "import numpy as np\n",
        "\n",
        "# 1. 데이터를 읽어온다.\n",
        "f = open(filename, 'r', encoding='cp949')\n",
        "data = csv.reader(f)\n",
        "\n",
        "next(data)\n",
        "\n",
        "data = list(data)\n",
        "\n",
        "# 2. 궁금한 지역의 이름을 입력받는다.\n",
        "loc_name = input('인구 구조가 알고 싶은 지역의 이름(읍면동 단위)을 입력해 주세요 : ')\n",
        "\n",
        "mn = 1            \n",
        "result_name = '' \n",
        "result = 0       \n",
        "\n",
        "# 3. 궁금한 지역의 인구 구조를 저장한다.\n",
        "for row in data:\n",
        "  if loc_name in row[0]:                       \n",
        "    home = np.array(row[3:], dtype=int) / int(row[2])     \n",
        "\n",
        "# 4. 궁금한 지역의 인구 구조와 가장 비슷한 인구 구조를 가진 지역을 찾는다.\n",
        "for row in data:\n",
        "  away = np.array(row[3:], dtype=int) / int(row[2])\n",
        "  s = np.sum((home - away)**2) \n",
        "  if s < mn and loc_name not in row[0]:  \n",
        "    mn = s     \n",
        "    result_name = row[0] \n",
        "    result = away       \n",
        "\n",
        "f.close()\n",
        "\n",
        "# 5. 궁금한 지역의 인구 구조와 가장 비슷한 곳의 인구 구조를 시각화 한다.\n",
        "import matplotlib.pyplot as plt\n",
        "\n",
        "plt.rc('font', family=\"NanumBarunGothic\")    # 한글 글꼴 사용\n",
        "plt.rcParams['axes.unicode_minus'] = False   # 수치상의 -기호 표시하기\n",
        "plt.style.use('ggplot')\n",
        "plt.figure(figsize=(10,5), dpi=120)\n",
        "\n",
        "plt.title(f'{loc_name} 지역과 가장 비슷한 인구 구조를 가진 지역')  \n",
        "\n",
        "plt.plot(home, label=loc_name)      \n",
        "plt.plot(result, label=result_name)\n",
        "\n",
        "plt.legend()\n",
        "\n",
        "plt.show()"
      ],
      "execution_count": null,
      "outputs": [
        {
          "output_type": "stream",
          "text": [
            "인구 구조가 알고 싶은 지역의 이름(읍면동 단위)을 입력해 주세요 : 서울\n"
          ],
          "name": "stdout"
        },
        {
          "output_type": "display_data",
          "data": {
            "image/png": "[encoded data removed]",
            "text/plain": [
              "<Figure size 1200x600 with 1 Axes>"
            ]
          },
          "metadata": {
            "tags": []
          }
        }
      ]
    },
    {
      "cell_type": "markdown",
      "metadata": {
        "id": "NMNCMWSgxNfo"
      },
      "source": [
        "# 3장. 데이블 형태의 데이터를 쉽게 다루도록 도와주는 pandas 라이브러리"
      ]
    },
    {
      "cell_type": "markdown",
      "metadata": {
        "id": "VNll4t0PxjS8"
      },
      "source": [
        "## 1. 위키피디아 데이터 엑셀로 저장하기"
      ]
    },
    {
      "cell_type": "code",
      "metadata": {
        "id": "spVxj2pqUkZ6"
      },
      "source": [
        "# Colab에서 한글 사용\n",
        "# 참고사이트 : https://teddylee777.github.io/colab/colab-korean\n",
        "!sudo apt-get install -y fonts-nanum\n",
        "!sudo fc-cache -fv\n",
        "!rm ~/.cache/matplotlib -rf\n",
        "# 설치 이후 런타임-런타임 다시 시작을 클릭하여 런타임을 재시작합니다."
      ],
      "execution_count": null,
      "outputs": []
    },
    {
      "cell_type": "markdown",
      "metadata": {
        "id": "BDxD2T2fyw-H"
      },
      "source": [
        "하계 및 동계 올림픽의 메달 획득 결과 위키피디아 주소 : \n",
        "\n",
        "https://en.wikipedia.org/wiki/All-time_Olympic_Games_medal_table"
      ]
    },
    {
      "cell_type": "code",
      "metadata": {
        "id": "iXs_x3BDx3-o"
      },
      "source": [
        "# 하계 및 동계 올림픽의 메달 획득 결과\n",
        "\n",
        "import pandas as pd\n",
        "\n",
        "df = pd.read_html('https://en.wikipedia.org/wiki/All-time_Olympic_Games_medal_table')  # 결과 df는 리스트 형태로 반환됨.\n",
        "\n",
        "print(df)"
      ],
      "execution_count": null,
      "outputs": []
    },
    {
      "cell_type": "code",
      "metadata": {
        "id": "FGT2hO_IyZfn"
      },
      "source": [
        "# 1번 인덱스 리스트 내용 보기\n",
        "\n",
        "import pandas as pd\n",
        "\n",
        "# pd.read_html() 함수 : html에 있는 table속성에 해당하는 값 가져오기\n",
        "df = pd.read_html('https://en.wikipedia.org/wiki/All-time_Olympic_Games_medal_table')\n",
        "\n",
        "result = df[1]\n",
        "\n",
        "print(result)"
      ],
      "execution_count": null,
      "outputs": []
    },
    {
      "cell_type": "code",
      "metadata": {
        "id": "tWpsmf0CzbBd",
        "outputId": "a090d2bc-5d38-42f7-8496-706aea827115",
        "colab": {
          "base_uri": "https://localhost:8080/"
        }
      },
      "source": [
        "# 구분을 하여 다시 데이터 읽기\n",
        "\n",
        "import pandas as pd\n",
        "\n",
        "\n",
        "# header : column의 title을 정하기 위해 int, list of ints를 제공(default 0)\n",
        "# index_col : row의 라벨로 이용할 column을 세팅\n",
        "# header, index_col 속성 : header=> 열이름 / index_col=> 나라이름 으로 정함.\n",
        "df = pd.read_html('https://en.wikipedia.org/wiki/All-time_Olympic_Games_medal_table', header = 0, index_col = 0)\n",
        "\n",
        "print(df[1])"
      ],
      "execution_count": 11,
      "outputs": [
        {
          "output_type": "stream",
          "text": [
            "                                             Summer Games  ...  Combined Total.4\n",
            "Team (IOC code)                                         №  ...             Total\n",
            "Afghanistan (AFG)                                      14  ...                 2\n",
            "Algeria (ALG)                                          13  ...                17\n",
            "Argentina (ARG)                                        24  ...                74\n",
            "Armenia (ARM)                                           6  ...                14\n",
            "...                                                   ...  ...               ...\n",
            "Zimbabwe (ZIM) [ZIM]                                   13  ...                 8\n",
            "Independent Olympic Athletes (IOA) [IOA]                3  ...                 2\n",
            "Independent Olympic Participants (IOP) [IOP]            1  ...                 3\n",
            "Mixed team (ZZX) [ZZX]                                  3  ...                17\n",
            "Totals                                                 28  ...             18856\n",
            "\n",
            "[154 rows x 15 columns]\n"
          ],
          "name": "stdout"
        }
      ]
    },
    {
      "cell_type": "markdown",
      "metadata": {
        "id": "4poC5MqI2UKr"
      },
      "source": [
        "[ 참고 사이트 ] - Pandas 기초 : 다양한 데이터 읽고 쓰기\n",
        "\n",
        "https://yganalyst.github.io/data_handling/Pd_4/\n",
        "\n",
        "https://dandyrilla.github.io/2017-08-12/pandas-10min/\n"
      ]
    },
    {
      "cell_type": "code",
      "metadata": {
        "id": "5eSwAZBe2aXy",
        "outputId": "b1e4f896-5b82-41a9-84b6-2d589a55c6e1",
        "colab": {
          "base_uri": "https://localhost:8080/"
        }
      },
      "source": [
        "# 데이터 중 하계올림픽에 대한 데이터만 추출\n",
        "\n",
        "import pandas as pd\n",
        "\n",
        "df = pd.read_html('https://en.wikipedia.org/wiki/All-time_Olympic_Games_medal_table', header = 0, index_col = 0)\n",
        "\n",
        "# df[1]의 데이터에서 앞의 5개의 데이터를 슬라이싱 함.\n",
        "summer = df[1].iloc[:,:5]\n",
        "# iloc 인덱싱 방식 : 데이터의 순서에 따라 접근하는 것인데 콤마를 중심으로 [앞:행 / 뒤:열] 에 접근하는 것.\n",
        "# iloc[:,:5]의 의미 : 모든 행에 대해 앞에서 부터 5개의 열을 슬라이싱 하라는 의미.\n",
        "\n",
        "print(summer)"
      ],
      "execution_count": 12,
      "outputs": [
        {
          "output_type": "stream",
          "text": [
            "                                             Summer Games  ...  Summer Games.4\n",
            "Team (IOC code)                                         №  ...           Total\n",
            "Afghanistan (AFG)                                      14  ...               2\n",
            "Algeria (ALG)                                          13  ...              17\n",
            "Argentina (ARG)                                        24  ...              74\n",
            "Armenia (ARM)                                           6  ...              14\n",
            "...                                                   ...  ...             ...\n",
            "Zimbabwe (ZIM) [ZIM]                                   13  ...               8\n",
            "Independent Olympic Athletes (IOA) [IOA]                3  ...               2\n",
            "Independent Olympic Participants (IOP) [IOP]            1  ...               3\n",
            "Mixed team (ZZX) [ZZX]                                  3  ...              17\n",
            "Totals                                                 28  ...           15685\n",
            "\n",
            "[154 rows x 5 columns]\n"
          ],
          "name": "stdout"
        }
      ]
    },
    {
      "cell_type": "code",
      "metadata": {
        "id": "xWIs5GmM4Js7",
        "outputId": "35c3eabf-9575-4b2b-cdd3-4485c652fe8d",
        "colab": {
          "base_uri": "https://localhost:8080/"
        }
      },
      "source": [
        "# 컬럼(열)의 이름 설정\n",
        "\n",
        "import pandas as pd\n",
        "\n",
        "df = pd.read_html('https://en.wikipedia.org/wiki/All-time_Olympic_Games_medal_table', header = 0, index_col = 0)\n",
        "\n",
        "summer = df[1].iloc[1:,:5] # 1행부터 시작해서 끝까지\n",
        "\n",
        "summer.columns = ['경기수', '금', '은', '동', '계'] # 컬럼(열)의 이름 설정\n",
        "\n",
        "print(summer)"
      ],
      "execution_count": 18,
      "outputs": [
        {
          "output_type": "stream",
          "text": [
            "                                             경기수       금       은       동      계\n",
            "Afghanistan (AFG)                             14     0.0     0.0     2.0      2\n",
            "Algeria (ALG)                                 13     5.0     4.0     8.0     17\n",
            "Argentina (ARG)                               24    21.0    25.0    28.0     74\n",
            "Armenia (ARM)                                  6     2.0     6.0     6.0     14\n",
            "Australasia (ANZ) [ANZ]                        2     3.0     4.0     5.0     12\n",
            "...                                           ..     ...     ...     ...    ...\n",
            "Zimbabwe (ZIM) [ZIM]                          13     3.0     4.0     1.0      8\n",
            "Independent Olympic Athletes (IOA) [IOA]       3     1.0     0.0     1.0      2\n",
            "Independent Olympic Participants (IOP) [IOP]   1     0.0     1.0     2.0      3\n",
            "Mixed team (ZZX) [ZZX]                         3     8.0     5.0     4.0     17\n",
            "Totals                                        28  5116.0  5081.0  5488.0  15685\n",
            "\n",
            "[153 rows x 5 columns]\n"
          ],
          "name": "stdout"
        }
      ]
    },
    {
      "cell_type": "code",
      "metadata": {
        "id": "wYvED1z54-d-",
        "outputId": "7af495df-988b-435a-ef7f-8f7a278fcd12",
        "colab": {
          "base_uri": "https://localhost:8080/"
        }
      },
      "source": [
        "# 금메달 기준으로 정렬\n",
        "\n",
        "import pandas as pd\n",
        "\n",
        "df = pd.read_html('https://en.wikipedia.org/wiki/All-time_Olympic_Games_medal_table', header = 0, index_col = 0)\n",
        "\n",
        "summer = df[1].iloc[1:,:5] # 1행부터 시작해서 끝까지\n",
        "\n",
        "summer.columns = ['경기수', '금', '은', '동', '계'] # 컬럼(열)의 이름 설정\n",
        "\n",
        "print(summer.sort_values('금', ascending=False)) # sort_value()함수를 사용하여 내림차순으로 정렬 참고:오름차순은 ascending=True로 하면 됨."
      ],
      "execution_count": 19,
      "outputs": [
        {
          "output_type": "stream",
          "text": [
            "                                        경기수       금       은       동      계\n",
            "Totals                                   28  5116.0  5081.0  5488.0  15685\n",
            "United States (USA) [P] [Q] [R] [Z] [F]  27  1022.0   795.0   706.0   2523\n",
            "Soviet Union (URS) [URS]                  9   395.0   319.0   296.0   1010\n",
            "Great Britain (GBR) [GBR] [Z]            28   263.0   295.0   293.0    851\n",
            "China (CHN) [CHN]                        10   224.0   167.0   155.0    546\n",
            "...                                      ..     ...     ...     ...    ...\n",
            "Lebanon (LIB)                            17     0.0     2.0     2.0      4\n",
            "Eritrea (ERI)                             5     0.0     0.0     1.0      1\n",
            "Serbia and Montenegro (SCG) [SCG]         1     0.0     2.0     0.0      2\n",
            "Djibouti (DJI) [B]                        8     0.0     0.0     1.0      1\n",
            "Afghanistan (AFG)                        14     0.0     0.0     2.0      2\n",
            "\n",
            "[153 rows x 5 columns]\n"
          ],
          "name": "stdout"
        }
      ]
    },
    {
      "cell_type": "code",
      "metadata": {
        "id": "pjDEL50C5sMk"
      },
      "source": [
        "# 결과를 파일로 저장\n",
        "\n",
        "import pandas as pd\n",
        "\n",
        "df = pd.read_html('https://en.wikipedia.org/wiki/All-time_Olympic_Games_medal_table', header = 0, index_col = 0)\n",
        "\n",
        "summer = df[1].iloc[1:,:5]\n",
        "\n",
        "summer.columns = ['경기수', '금', '은', '동', '계']\n",
        "\n",
        "summer = summer.sort_values('금', ascending=False) # 정렬된 값을 저장\n",
        "\n",
        "path = \"/content/drive/My Drive/DATA/\"             # 저장될 위치 경로 설정\n",
        "summer.to_excel(path + '하계올림픽메달.xlsx')      # 엑셀 파일로 저장"
      ],
      "execution_count": 21,
      "outputs": []
    },
    {
      "cell_type": "markdown",
      "metadata": {
        "id": "5EWBbTJcK5tY"
      },
      "source": [
        "## 2. Pandas란?\n",
        "* Series : 1차원 배열 형태의 데이터 구조 \n",
        "* DataFrame : 2차원 배열 형태의 데이터 구조 (행렬)"
      ]
    },
    {
      "cell_type": "markdown",
      "metadata": {
        "id": "fLWV0heNLSA8"
      },
      "source": [
        "## 3. 데이터 프레임 기초\n",
        "* 2차원 배열 형태의 데이터 프레임\n",
        "* 행, 열 구분\n",
        "* 인덱스(index) : 행을 구분\n",
        "* 컬럼(column) : 열을 구분\n",
        "* 인덱스 값 : 리스트처럼 정수로 기본 설정 (별도로 지정해 주면 다른 타입으로 변환)\n",
        "* 한 번 설정된 인덱스는 변경되지 않음"
      ]
    },
    {
      "cell_type": "code",
      "metadata": {
        "id": "fSMGcaUTJuV9",
        "outputId": "3e3d32a0-4705-4b26-8467-21568889471d",
        "colab": {
          "base_uri": "https://localhost:8080/"
        }
      },
      "source": [
        "# 날짜 형태로 된 8개의 인덱스 생성\n",
        "\n",
        "import pandas as pd\n",
        "\n",
        "index = pd.date_range('1/1/2020', periods=8) # 날짜 형태의 데이터를 8개 순서대로 생성\n",
        "\n",
        "print(index)"
      ],
      "execution_count": 22,
      "outputs": [
        {
          "output_type": "stream",
          "text": [
            "DatetimeIndex(['2020-01-01', '2020-01-02', '2020-01-03', '2020-01-04',\n",
            "               '2020-01-05', '2020-01-06', '2020-01-07', '2020-01-08'],\n",
            "              dtype='datetime64[ns]', freq='D')\n"
          ],
          "name": "stdout"
        }
      ]
    },
    {
      "cell_type": "code",
      "metadata": {
        "id": "LJCJQTqBMN0A",
        "outputId": "9a513aa7-a138-481a-97e7-ee3db4160c6d",
        "colab": {
          "base_uri": "https://localhost:8080/"
        }
      },
      "source": [
        "# numpy 라이브러리 이용해 8행 3열로 구성된 랜덤 데이터 생성\n",
        "# 인덱스와 컬럼 이름 정한 데이터 프레임 생성\n",
        "\n",
        "import numpy as np\n",
        "import pandas as pd\n",
        "\n",
        "index = pd.date_range('1/1/2020', periods=8)\n",
        "\n",
        "df = pd.DataFrame(np.random.rand(8,3), index=index, columns=list('ABC'))  # np.random.rand(8,3)은 8행 3열 만큼의 24개 0~1 사이의 랜덤값 생성\n",
        "\n",
        "print(df)"
      ],
      "execution_count": 23,
      "outputs": [
        {
          "output_type": "stream",
          "text": [
            "                   A         B         C\n",
            "2020-01-01  0.628680  0.071955  0.690351\n",
            "2020-01-02  0.279799  0.520962  0.484116\n",
            "2020-01-03  0.201757  0.861134  0.709911\n",
            "2020-01-04  0.851464  0.545348  0.604790\n",
            "2020-01-05  0.226003  0.485488  0.417031\n",
            "2020-01-06  0.208095  0.140123  0.735140\n",
            "2020-01-07  0.073035  0.411207  0.842105\n",
            "2020-01-08  0.401441  0.058820  0.972105\n"
          ],
          "name": "stdout"
        }
      ]
    },
    {
      "cell_type": "code",
      "metadata": {
        "id": "Q8yJRlx7M-C3",
        "outputId": "8344973d-b0d4-4a95-bc78-a27a8b1199c2",
        "colab": {
          "base_uri": "https://localhost:8080/"
        }
      },
      "source": [
        "# 특정 컬럼(열)을 선택하여 추출하기\n",
        "\n",
        "import numpy as np\n",
        "import pandas as pd\n",
        "\n",
        "index = pd.date_range('1/1/2020', periods=8)\n",
        "\n",
        "df = pd.DataFrame(np.random.rand(8,3), index=index, columns=list('ABC'))  # np.random.rand(8,3)은 8행 3열 만큼의 24개 0~1 사이의 랜덤값 생성\n",
        "\n",
        "print(df['B']) # B컬럼 인덱스 값만 추출"
      ],
      "execution_count": 28,
      "outputs": [
        {
          "output_type": "stream",
          "text": [
            "2020-01-01    0.504517\n",
            "2020-01-02    0.546100\n",
            "2020-01-03    0.866486\n",
            "2020-01-04    0.007621\n",
            "2020-01-05    0.199198\n",
            "2020-01-06    0.303602\n",
            "2020-01-07    0.715592\n",
            "2020-01-08    0.885168\n",
            "Freq: D, Name: B, dtype: float64\n"
          ],
          "name": "stdout"
        }
      ]
    },
    {
      "cell_type": "code",
      "metadata": {
        "id": "i2T-SAnCNnhE",
        "outputId": "10e95a90-d6f0-44ca-de50-f744974c54d9",
        "colab": {
          "base_uri": "https://localhost:8080/"
        }
      },
      "source": [
        "# 마스크 기능 사용\n",
        "\n",
        "import numpy as np\n",
        "import pandas as pd\n",
        "\n",
        "index = pd.date_range('1/1/2020', periods=8)\n",
        "\n",
        "df = pd.DataFrame(np.random.rand(8,3), index=index, columns=list('ABC'))\n",
        "\n",
        "print(df['B'] > 0.4) # 마스크 기능 코드 추가"
      ],
      "execution_count": 29,
      "outputs": [
        {
          "output_type": "stream",
          "text": [
            "2020-01-01    False\n",
            "2020-01-02     True\n",
            "2020-01-03    False\n",
            "2020-01-04     True\n",
            "2020-01-05     True\n",
            "2020-01-06    False\n",
            "2020-01-07    False\n",
            "2020-01-08     True\n",
            "Freq: D, Name: B, dtype: bool\n"
          ],
          "name": "stdout"
        }
      ]
    },
    {
      "cell_type": "code",
      "metadata": {
        "id": "xGs_4N2nOjC1",
        "outputId": "c8f704dc-7032-4087-ebf6-b08cb03d5086",
        "colab": {
          "base_uri": "https://localhost:8080/"
        }
      },
      "source": [
        "# 데이터 프레임 적용 : 마스크 기능 사용\n",
        "\n",
        "import numpy as np\n",
        "import pandas as pd\n",
        "\n",
        "index = pd.date_range('1/1/2020', periods=8)\n",
        "\n",
        "df = pd.DataFrame(np.random.rand(8,3), index=index, columns=list('ABC'))\n",
        "\n",
        "df2 = df[df['B'] > 0.4]\n",
        "\n",
        "print(df2)"
      ],
      "execution_count": 30,
      "outputs": [
        {
          "output_type": "stream",
          "text": [
            "                   A         B         C\n",
            "2020-01-02  0.495725  0.740124  0.058200\n",
            "2020-01-03  0.890248  0.905581  0.790319\n",
            "2020-01-05  0.984988  0.846182  0.078697\n",
            "2020-01-06  0.092383  0.713925  0.116333\n"
          ],
          "name": "stdout"
        }
      ]
    },
    {
      "cell_type": "code",
      "metadata": {
        "id": "fP8i7tKFPFiW",
        "outputId": "5d9f8d38-93b2-4e9f-fb65-5c9648dc5b51",
        "colab": {
          "base_uri": "https://localhost:8080/"
        }
      },
      "source": [
        "# 행과 열의 위치 전치\n",
        "\n",
        "import numpy as np\n",
        "import pandas as pd\n",
        "\n",
        "index = pd.date_range('1/1/2020', periods=8)\n",
        "\n",
        "df = pd.DataFrame(np.random.rand(8,3), index=index, columns=list('ABC'))\n",
        "\n",
        "df['D'] = df['A'] / df['B'] # A열의 값을 B열의 값으로 나눈 값을 D열에 저장\n",
        "\n",
        "print(df)"
      ],
      "execution_count": 31,
      "outputs": [
        {
          "output_type": "stream",
          "text": [
            "                   A         B         C         D\n",
            "2020-01-01  0.464647  0.982400  0.906689  0.472971\n",
            "2020-01-02  0.976222  0.623726  0.818989  1.565147\n",
            "2020-01-03  0.709518  0.508173  0.816158  1.396213\n",
            "2020-01-04  0.239064  0.877089  0.564761  0.272565\n",
            "2020-01-05  0.016234  0.136660  0.851638  0.118790\n",
            "2020-01-06  0.663829  0.716085  0.902848  0.927026\n",
            "2020-01-07  0.621885  0.200493  0.051655  3.101780\n",
            "2020-01-08  0.243848  0.665551  0.372901  0.366385\n"
          ],
          "name": "stdout"
        }
      ]
    },
    {
      "cell_type": "markdown",
      "metadata": {
        "id": "AwZmuH6IQQxS"
      },
      "source": [
        "데이터 프레임의 행 우선 계산과 열 우선 계산\n",
        "* 기본 : 2차원 데이터 프레임은 기본적으로 행 방향을 축으로 계산\n",
        "* 변경 : 열 방향을 축으로 계산하려면 axis=1 로 설정"
      ]
    },
    {
      "cell_type": "code",
      "metadata": {
        "id": "0zdf5V4YQAlt",
        "outputId": "6331bad1-b404-4de3-c11f-ac5049b87328",
        "colab": {
          "base_uri": "https://localhost:8080/",
          "height": 196
        }
      },
      "source": [
        "# 열 방향 축을 기준으로 계산하는 예\n",
        "\n",
        "import numpy as np\n",
        "import pandas as pd\n",
        "\n",
        "index = pd.date_range('1/1/2020', periods = 8)\n",
        "df = pd.DataFrame(np.random.rand(8,3), index=index, columns=list('ABC'))\n",
        "\n",
        "df['D'] = df['A'] / df['B']\n",
        "df['E'] = np.sum(df, axis=1) # 열 방향 축(->)으로 계산 한 값을 E열에 저장(행 우선 계산 값을 E열에 저장)\n",
        "# axis = 1 : 열방향으로 동작 / 작업결과가 열로 출력 / 책을 옆으로 정리하는 것과 같음\n",
        "df.head()"
      ],
      "execution_count": 37,
      "outputs": [
        {
          "output_type": "execute_result",
          "data": {
            "text/html": [
              "<div>\n",
              "<style scoped>\n",
              "    .dataframe tbody tr th:only-of-type {\n",
              "        vertical-align: middle;\n",
              "    }\n",
              "\n",
              "    .dataframe tbody tr th {\n",
              "        vertical-align: top;\n",
              "    }\n",
              "\n",
              "    .dataframe thead th {\n",
              "        text-align: right;\n",
              "    }\n",
              "</style>\n",
              "<table border=\"1\" class=\"dataframe\">\n",
              "  <thead>\n",
              "    <tr style=\"text-align: right;\">\n",
              "      <th></th>\n",
              "      <th>A</th>\n",
              "      <th>B</th>\n",
              "      <th>C</th>\n",
              "      <th>D</th>\n",
              "      <th>E</th>\n",
              "    </tr>\n",
              "  </thead>\n",
              "  <tbody>\n",
              "    <tr>\n",
              "      <th>2020-01-01</th>\n",
              "      <td>0.012620</td>\n",
              "      <td>0.145004</td>\n",
              "      <td>0.359275</td>\n",
              "      <td>0.087029</td>\n",
              "      <td>0.603927</td>\n",
              "    </tr>\n",
              "    <tr>\n",
              "      <th>2020-01-02</th>\n",
              "      <td>0.744723</td>\n",
              "      <td>0.761981</td>\n",
              "      <td>0.284921</td>\n",
              "      <td>0.977351</td>\n",
              "      <td>2.768976</td>\n",
              "    </tr>\n",
              "    <tr>\n",
              "      <th>2020-01-03</th>\n",
              "      <td>0.789013</td>\n",
              "      <td>0.392122</td>\n",
              "      <td>0.979994</td>\n",
              "      <td>2.012162</td>\n",
              "      <td>4.173290</td>\n",
              "    </tr>\n",
              "    <tr>\n",
              "      <th>2020-01-04</th>\n",
              "      <td>0.537516</td>\n",
              "      <td>0.264869</td>\n",
              "      <td>0.922503</td>\n",
              "      <td>2.029365</td>\n",
              "      <td>3.754254</td>\n",
              "    </tr>\n",
              "    <tr>\n",
              "      <th>2020-01-05</th>\n",
              "      <td>0.982643</td>\n",
              "      <td>0.067524</td>\n",
              "      <td>0.301125</td>\n",
              "      <td>14.552446</td>\n",
              "      <td>15.903738</td>\n",
              "    </tr>\n",
              "  </tbody>\n",
              "</table>\n",
              "</div>"
            ],
            "text/plain": [
              "                   A         B         C          D          E\n",
              "2020-01-01  0.012620  0.145004  0.359275   0.087029   0.603927\n",
              "2020-01-02  0.744723  0.761981  0.284921   0.977351   2.768976\n",
              "2020-01-03  0.789013  0.392122  0.979994   2.012162   4.173290\n",
              "2020-01-04  0.537516  0.264869  0.922503   2.029365   3.754254\n",
              "2020-01-05  0.982643  0.067524  0.301125  14.552446  15.903738"
            ]
          },
          "metadata": {
            "tags": []
          },
          "execution_count": 37
        }
      ]
    },
    {
      "cell_type": "code",
      "metadata": {
        "id": "uDj59oYQSjgc",
        "outputId": "38e5f805-efd2-4be1-ccaf-f6bff0620afb",
        "colab": {
          "base_uri": "https://localhost:8080/",
          "height": 196
        }
      },
      "source": [
        "# 전체 데이터를 A열의 값으로 뺄 때는 sub()함수를 사용.\n",
        "\n",
        "import numpy as np\n",
        "import pandas as pd\n",
        "\n",
        "index = pd.date_range('1/1/2020', periods = 8)\n",
        "df = pd.DataFrame(np.random.rand(8,3), index=index, columns=list('ABC'))\n",
        "\n",
        "df['D'] = df['A'] / df['B']\n",
        "df['E'] = np.sum(df, axis=1)\n",
        "\n",
        "df = df.sub(df['A'], axis=0) # 행 방향 축( | )으로 계산 (A열의 데이터를 기준으로 열 우선 계산)\n",
        "# axis = 0 : 행방향으로 동작 / 작업결과가 행으로 출력 / 책을 위로 쌓아 정리하는 것과 같음\n",
        "\n",
        "df.head()"
      ],
      "execution_count": 38,
      "outputs": [
        {
          "output_type": "execute_result",
          "data": {
            "text/html": [
              "<div>\n",
              "<style scoped>\n",
              "    .dataframe tbody tr th:only-of-type {\n",
              "        vertical-align: middle;\n",
              "    }\n",
              "\n",
              "    .dataframe tbody tr th {\n",
              "        vertical-align: top;\n",
              "    }\n",
              "\n",
              "    .dataframe thead th {\n",
              "        text-align: right;\n",
              "    }\n",
              "</style>\n",
              "<table border=\"1\" class=\"dataframe\">\n",
              "  <thead>\n",
              "    <tr style=\"text-align: right;\">\n",
              "      <th></th>\n",
              "      <th>A</th>\n",
              "      <th>B</th>\n",
              "      <th>C</th>\n",
              "      <th>D</th>\n",
              "      <th>E</th>\n",
              "    </tr>\n",
              "  </thead>\n",
              "  <tbody>\n",
              "    <tr>\n",
              "      <th>2020-01-01</th>\n",
              "      <td>0.0</td>\n",
              "      <td>0.733929</td>\n",
              "      <td>0.366527</td>\n",
              "      <td>0.020148</td>\n",
              "      <td>1.544205</td>\n",
              "    </tr>\n",
              "    <tr>\n",
              "      <th>2020-01-02</th>\n",
              "      <td>0.0</td>\n",
              "      <td>-0.395445</td>\n",
              "      <td>0.070729</td>\n",
              "      <td>6.121856</td>\n",
              "      <td>7.195773</td>\n",
              "    </tr>\n",
              "    <tr>\n",
              "      <th>2020-01-03</th>\n",
              "      <td>0.0</td>\n",
              "      <td>0.626158</td>\n",
              "      <td>-0.079769</td>\n",
              "      <td>0.001914</td>\n",
              "      <td>1.654336</td>\n",
              "    </tr>\n",
              "    <tr>\n",
              "      <th>2020-01-04</th>\n",
              "      <td>0.0</td>\n",
              "      <td>-0.167734</td>\n",
              "      <td>0.111710</td>\n",
              "      <td>0.953003</td>\n",
              "      <td>2.461009</td>\n",
              "    </tr>\n",
              "    <tr>\n",
              "      <th>2020-01-05</th>\n",
              "      <td>0.0</td>\n",
              "      <td>-0.141612</td>\n",
              "      <td>-0.378600</td>\n",
              "      <td>0.957365</td>\n",
              "      <td>1.852185</td>\n",
              "    </tr>\n",
              "  </tbody>\n",
              "</table>\n",
              "</div>"
            ],
            "text/plain": [
              "              A         B         C         D         E\n",
              "2020-01-01  0.0  0.733929  0.366527  0.020148  1.544205\n",
              "2020-01-02  0.0 -0.395445  0.070729  6.121856  7.195773\n",
              "2020-01-03  0.0  0.626158 -0.079769  0.001914  1.654336\n",
              "2020-01-04  0.0 -0.167734  0.111710  0.953003  2.461009\n",
              "2020-01-05  0.0 -0.141612 -0.378600  0.957365  1.852185"
            ]
          },
          "metadata": {
            "tags": []
          },
          "execution_count": 38
        }
      ]
    },
    {
      "cell_type": "code",
      "metadata": {
        "id": "huOCT60gZx8o",
        "outputId": "2d437af3-d55e-43e0-bf6f-4fed04108a64",
        "colab": {
          "base_uri": "https://localhost:8080/",
          "height": 196
        }
      },
      "source": [
        "# 전체 데이터를 C열의 값으로 나룰 때는 div()함수를 사용.\n",
        "# 데이터 저장\n",
        "\n",
        "import numpy as np\n",
        "import pandas as pd\n",
        "\n",
        "index = pd.date_range('1/1/2020', periods = 8)\n",
        "df = pd.DataFrame(np.random.rand(8,3), index=index, columns=list('ABC'))\n",
        "\n",
        "df['D'] = df['A'] / df['B']\n",
        "df['E'] = np.sum(df, axis=1)\n",
        "\n",
        "df = df.sub(df['A'], axis=0) \n",
        "df = df.div(df['C'], axis=0) # C열 데이터를 기준으로 열 우선 계산\n",
        "\n",
        "path = \"/content/drive/My Drive/DATA/\"   # 저장될 위치 경로 설정\n",
        "df.to_csv(path+'test.csv') # 데이터 프레임을 test.csv 파일로 저장\n",
        "\n",
        "df.head()"
      ],
      "execution_count": 41,
      "outputs": [
        {
          "output_type": "execute_result",
          "data": {
            "text/html": [
              "<div>\n",
              "<style scoped>\n",
              "    .dataframe tbody tr th:only-of-type {\n",
              "        vertical-align: middle;\n",
              "    }\n",
              "\n",
              "    .dataframe tbody tr th {\n",
              "        vertical-align: top;\n",
              "    }\n",
              "\n",
              "    .dataframe thead th {\n",
              "        text-align: right;\n",
              "    }\n",
              "</style>\n",
              "<table border=\"1\" class=\"dataframe\">\n",
              "  <thead>\n",
              "    <tr style=\"text-align: right;\">\n",
              "      <th></th>\n",
              "      <th>A</th>\n",
              "      <th>B</th>\n",
              "      <th>C</th>\n",
              "      <th>D</th>\n",
              "      <th>E</th>\n",
              "    </tr>\n",
              "  </thead>\n",
              "  <tbody>\n",
              "    <tr>\n",
              "      <th>2020-01-01</th>\n",
              "      <td>-0.0</td>\n",
              "      <td>0.398326</td>\n",
              "      <td>1.0</td>\n",
              "      <td>-1.168114</td>\n",
              "      <td>-8.214524</td>\n",
              "    </tr>\n",
              "    <tr>\n",
              "      <th>2020-01-02</th>\n",
              "      <td>-0.0</td>\n",
              "      <td>2.061779</td>\n",
              "      <td>1.0</td>\n",
              "      <td>-32.949628</td>\n",
              "      <td>-36.536028</td>\n",
              "    </tr>\n",
              "    <tr>\n",
              "      <th>2020-01-03</th>\n",
              "      <td>-0.0</td>\n",
              "      <td>-0.196829</td>\n",
              "      <td>1.0</td>\n",
              "      <td>-0.072922</td>\n",
              "      <td>-2.666681</td>\n",
              "    </tr>\n",
              "    <tr>\n",
              "      <th>2020-01-04</th>\n",
              "      <td>0.0</td>\n",
              "      <td>0.602805</td>\n",
              "      <td>1.0</td>\n",
              "      <td>1.745475</td>\n",
              "      <td>6.804216</td>\n",
              "    </tr>\n",
              "    <tr>\n",
              "      <th>2020-01-05</th>\n",
              "      <td>-0.0</td>\n",
              "      <td>2.818157</td>\n",
              "      <td>1.0</td>\n",
              "      <td>-10.133485</td>\n",
              "      <td>-24.561926</td>\n",
              "    </tr>\n",
              "  </tbody>\n",
              "</table>\n",
              "</div>"
            ],
            "text/plain": [
              "              A         B    C          D          E\n",
              "2020-01-01 -0.0  0.398326  1.0  -1.168114  -8.214524\n",
              "2020-01-02 -0.0  2.061779  1.0 -32.949628 -36.536028\n",
              "2020-01-03 -0.0 -0.196829  1.0  -0.072922  -2.666681\n",
              "2020-01-04  0.0  0.602805  1.0   1.745475   6.804216\n",
              "2020-01-05 -0.0  2.818157  1.0 -10.133485 -24.561926"
            ]
          },
          "metadata": {
            "tags": []
          },
          "execution_count": 41
        }
      ]
    },
    {
      "cell_type": "markdown",
      "metadata": {
        "id": "ZpGT6ZmY1Koc"
      },
      "source": [
        "# 4장. pandas로 인구 구조 분석하기"
      ]
    },
    {
      "cell_type": "markdown",
      "metadata": {
        "id": "1xHcukwJ1QP1"
      },
      "source": [
        "1. 데이터를 읽어온다.\n",
        "\n",
        " * 전체 데이터를 총 인구수로 나누어 비율로 변환한다.\n",
        " * 총인구수와 연령구간인구수를 삭제한다.\n",
        "\n",
        "2. 궁금한 지역의 이름을 입력받는다.\n",
        "3. 궁금한 지역의 인구 구조를 저장한다.\n",
        "4. 궁금한 지역의 인구 구조와 가장 비슷한 인구 구조를 가진 지역을 찾는다.\n",
        " * 전국의 모든 지역 중 한 곳(B)을 선택한다.\n",
        " * 궁금한 지역 A의 0세 인구 비율에서 B의 0세 인구 비율을 뺀다. \n",
        " * 위 작업을 100세 이상 인구수에 해당하는 값까지 반복한 후 차이의 제곱을 모두 더한다.\n",
        " * 전국의 모든 지역에 대해 반복하며 그 차이가 가장 작은 지역을 찾는다.\n",
        "\n",
        "5. 가장 비슷한 곳의 인구 구조와 궁금한 지역의 인구 구조를 시각화 한다."
      ]
    },
    {
      "cell_type": "code",
      "metadata": {
        "id": "BYgn6OBnhb1c",
        "outputId": "a03d814f-fa99-44f3-c359-34dd661aa0f3",
        "colab": {
          "base_uri": "https://localhost:8080/",
          "height": 476
        }
      },
      "source": [
        "# 1. 데이터 읽어오기\n",
        "\n",
        "filename = '/content/drive/My Drive/DATA/age_pandas.csv'\n",
        "\n",
        "import pandas as pd\n",
        "\n",
        "df = pd.read_csv(filename, encoding='cp949', index_col=0)  # 인덱스를 첫번째 컬럼 값으로 정한다. (index_col=0)\n",
        "\n",
        "df.head()"
      ],
      "execution_count": 49,
      "outputs": [
        {
          "output_type": "execute_result",
          "data": {
            "text/html": [
              "<div>\n",
              "<style scoped>\n",
              "    .dataframe tbody tr th:only-of-type {\n",
              "        vertical-align: middle;\n",
              "    }\n",
              "\n",
              "    .dataframe tbody tr th {\n",
              "        vertical-align: top;\n",
              "    }\n",
              "\n",
              "    .dataframe thead th {\n",
              "        text-align: right;\n",
              "    }\n",
              "</style>\n",
              "<table border=\"1\" class=\"dataframe\">\n",
              "  <thead>\n",
              "    <tr style=\"text-align: right;\">\n",
              "      <th></th>\n",
              "      <th>총인구수</th>\n",
              "      <th>연령구간인구수</th>\n",
              "      <th>0세</th>\n",
              "      <th>1세</th>\n",
              "      <th>2세</th>\n",
              "      <th>3세</th>\n",
              "      <th>4세</th>\n",
              "      <th>5세</th>\n",
              "      <th>6세</th>\n",
              "      <th>7세</th>\n",
              "      <th>8세</th>\n",
              "      <th>9세</th>\n",
              "      <th>10세</th>\n",
              "      <th>11세</th>\n",
              "      <th>12세</th>\n",
              "      <th>13세</th>\n",
              "      <th>14세</th>\n",
              "      <th>15세</th>\n",
              "      <th>16세</th>\n",
              "      <th>17세</th>\n",
              "      <th>18세</th>\n",
              "      <th>19세</th>\n",
              "      <th>20세</th>\n",
              "      <th>21세</th>\n",
              "      <th>22세</th>\n",
              "      <th>23세</th>\n",
              "      <th>24세</th>\n",
              "      <th>25세</th>\n",
              "      <th>26세</th>\n",
              "      <th>27세</th>\n",
              "      <th>28세</th>\n",
              "      <th>29세</th>\n",
              "      <th>30세</th>\n",
              "      <th>31세</th>\n",
              "      <th>32세</th>\n",
              "      <th>33세</th>\n",
              "      <th>34세</th>\n",
              "      <th>35세</th>\n",
              "      <th>36세</th>\n",
              "      <th>37세</th>\n",
              "      <th>...</th>\n",
              "      <th>61세</th>\n",
              "      <th>62세</th>\n",
              "      <th>63세</th>\n",
              "      <th>64세</th>\n",
              "      <th>65세</th>\n",
              "      <th>66세</th>\n",
              "      <th>67세</th>\n",
              "      <th>68세</th>\n",
              "      <th>69세</th>\n",
              "      <th>70세</th>\n",
              "      <th>71세</th>\n",
              "      <th>72세</th>\n",
              "      <th>73세</th>\n",
              "      <th>74세</th>\n",
              "      <th>75세</th>\n",
              "      <th>76세</th>\n",
              "      <th>77세</th>\n",
              "      <th>78세</th>\n",
              "      <th>79세</th>\n",
              "      <th>80세</th>\n",
              "      <th>81세</th>\n",
              "      <th>82세</th>\n",
              "      <th>83세</th>\n",
              "      <th>84세</th>\n",
              "      <th>85세</th>\n",
              "      <th>86세</th>\n",
              "      <th>87세</th>\n",
              "      <th>88세</th>\n",
              "      <th>89세</th>\n",
              "      <th>90세</th>\n",
              "      <th>91세</th>\n",
              "      <th>92세</th>\n",
              "      <th>93세</th>\n",
              "      <th>94세</th>\n",
              "      <th>95세</th>\n",
              "      <th>96세</th>\n",
              "      <th>97세</th>\n",
              "      <th>98세</th>\n",
              "      <th>99세</th>\n",
              "      <th>100세 이상</th>\n",
              "    </tr>\n",
              "    <tr>\n",
              "      <th>행정구역</th>\n",
              "      <th></th>\n",
              "      <th></th>\n",
              "      <th></th>\n",
              "      <th></th>\n",
              "      <th></th>\n",
              "      <th></th>\n",
              "      <th></th>\n",
              "      <th></th>\n",
              "      <th></th>\n",
              "      <th></th>\n",
              "      <th></th>\n",
              "      <th></th>\n",
              "      <th></th>\n",
              "      <th></th>\n",
              "      <th></th>\n",
              "      <th></th>\n",
              "      <th></th>\n",
              "      <th></th>\n",
              "      <th></th>\n",
              "      <th></th>\n",
              "      <th></th>\n",
              "      <th></th>\n",
              "      <th></th>\n",
              "      <th></th>\n",
              "      <th></th>\n",
              "      <th></th>\n",
              "      <th></th>\n",
              "      <th></th>\n",
              "      <th></th>\n",
              "      <th></th>\n",
              "      <th></th>\n",
              "      <th></th>\n",
              "      <th></th>\n",
              "      <th></th>\n",
              "      <th></th>\n",
              "      <th></th>\n",
              "      <th></th>\n",
              "      <th></th>\n",
              "      <th></th>\n",
              "      <th></th>\n",
              "      <th></th>\n",
              "      <th></th>\n",
              "      <th></th>\n",
              "      <th></th>\n",
              "      <th></th>\n",
              "      <th></th>\n",
              "      <th></th>\n",
              "      <th></th>\n",
              "      <th></th>\n",
              "      <th></th>\n",
              "      <th></th>\n",
              "      <th></th>\n",
              "      <th></th>\n",
              "      <th></th>\n",
              "      <th></th>\n",
              "      <th></th>\n",
              "      <th></th>\n",
              "      <th></th>\n",
              "      <th></th>\n",
              "      <th></th>\n",
              "      <th></th>\n",
              "      <th></th>\n",
              "      <th></th>\n",
              "      <th></th>\n",
              "      <th></th>\n",
              "      <th></th>\n",
              "      <th></th>\n",
              "      <th></th>\n",
              "      <th></th>\n",
              "      <th></th>\n",
              "      <th></th>\n",
              "      <th></th>\n",
              "      <th></th>\n",
              "      <th></th>\n",
              "      <th></th>\n",
              "      <th></th>\n",
              "      <th></th>\n",
              "      <th></th>\n",
              "      <th></th>\n",
              "      <th></th>\n",
              "      <th></th>\n",
              "    </tr>\n",
              "  </thead>\n",
              "  <tbody>\n",
              "    <tr>\n",
              "      <th>서울특별시  (1100000000)</th>\n",
              "      <td>9699232</td>\n",
              "      <td>9699232</td>\n",
              "      <td>46381</td>\n",
              "      <td>51544</td>\n",
              "      <td>54284</td>\n",
              "      <td>59088</td>\n",
              "      <td>66949</td>\n",
              "      <td>68826</td>\n",
              "      <td>68668</td>\n",
              "      <td>70428</td>\n",
              "      <td>74850</td>\n",
              "      <td>74815</td>\n",
              "      <td>71890</td>\n",
              "      <td>70989</td>\n",
              "      <td>77165</td>\n",
              "      <td>77805</td>\n",
              "      <td>72697</td>\n",
              "      <td>73332</td>\n",
              "      <td>80543</td>\n",
              "      <td>80760</td>\n",
              "      <td>85363</td>\n",
              "      <td>100919</td>\n",
              "      <td>112971</td>\n",
              "      <td>114782</td>\n",
              "      <td>125454</td>\n",
              "      <td>137378</td>\n",
              "      <td>147475</td>\n",
              "      <td>155287</td>\n",
              "      <td>164986</td>\n",
              "      <td>170890</td>\n",
              "      <td>173033</td>\n",
              "      <td>162189</td>\n",
              "      <td>154529</td>\n",
              "      <td>149025</td>\n",
              "      <td>143337</td>\n",
              "      <td>140968</td>\n",
              "      <td>141150</td>\n",
              "      <td>139124</td>\n",
              "      <td>143489</td>\n",
              "      <td>152483</td>\n",
              "      <td>...</td>\n",
              "      <td>146803</td>\n",
              "      <td>137887</td>\n",
              "      <td>137117</td>\n",
              "      <td>125895</td>\n",
              "      <td>132810</td>\n",
              "      <td>108814</td>\n",
              "      <td>99601</td>\n",
              "      <td>104071</td>\n",
              "      <td>76037</td>\n",
              "      <td>84877</td>\n",
              "      <td>85305</td>\n",
              "      <td>83301</td>\n",
              "      <td>83449</td>\n",
              "      <td>62044</td>\n",
              "      <td>62340</td>\n",
              "      <td>60253</td>\n",
              "      <td>62325</td>\n",
              "      <td>65362</td>\n",
              "      <td>52050</td>\n",
              "      <td>45394</td>\n",
              "      <td>42757</td>\n",
              "      <td>37059</td>\n",
              "      <td>32741</td>\n",
              "      <td>28190</td>\n",
              "      <td>25381</td>\n",
              "      <td>20164</td>\n",
              "      <td>16805</td>\n",
              "      <td>14232</td>\n",
              "      <td>10744</td>\n",
              "      <td>9685</td>\n",
              "      <td>8334</td>\n",
              "      <td>6512</td>\n",
              "      <td>5036</td>\n",
              "      <td>3400</td>\n",
              "      <td>2666</td>\n",
              "      <td>2035</td>\n",
              "      <td>2056</td>\n",
              "      <td>1403</td>\n",
              "      <td>1033</td>\n",
              "      <td>6678</td>\n",
              "    </tr>\n",
              "    <tr>\n",
              "      <th>서울특별시 종로구 (1111000000)</th>\n",
              "      <td>149952</td>\n",
              "      <td>149952</td>\n",
              "      <td>523</td>\n",
              "      <td>582</td>\n",
              "      <td>598</td>\n",
              "      <td>693</td>\n",
              "      <td>825</td>\n",
              "      <td>816</td>\n",
              "      <td>880</td>\n",
              "      <td>870</td>\n",
              "      <td>946</td>\n",
              "      <td>967</td>\n",
              "      <td>942</td>\n",
              "      <td>964</td>\n",
              "      <td>1105</td>\n",
              "      <td>1083</td>\n",
              "      <td>1023</td>\n",
              "      <td>1009</td>\n",
              "      <td>1140</td>\n",
              "      <td>1127</td>\n",
              "      <td>1213</td>\n",
              "      <td>1580</td>\n",
              "      <td>1811</td>\n",
              "      <td>1914</td>\n",
              "      <td>2004</td>\n",
              "      <td>2371</td>\n",
              "      <td>2459</td>\n",
              "      <td>2597</td>\n",
              "      <td>2539</td>\n",
              "      <td>2689</td>\n",
              "      <td>2627</td>\n",
              "      <td>2408</td>\n",
              "      <td>2264</td>\n",
              "      <td>2031</td>\n",
              "      <td>2014</td>\n",
              "      <td>1981</td>\n",
              "      <td>1803</td>\n",
              "      <td>1891</td>\n",
              "      <td>1833</td>\n",
              "      <td>2000</td>\n",
              "      <td>...</td>\n",
              "      <td>2340</td>\n",
              "      <td>2166</td>\n",
              "      <td>2220</td>\n",
              "      <td>2053</td>\n",
              "      <td>2140</td>\n",
              "      <td>1745</td>\n",
              "      <td>1642</td>\n",
              "      <td>1681</td>\n",
              "      <td>1178</td>\n",
              "      <td>1353</td>\n",
              "      <td>1413</td>\n",
              "      <td>1425</td>\n",
              "      <td>1404</td>\n",
              "      <td>1089</td>\n",
              "      <td>1160</td>\n",
              "      <td>1146</td>\n",
              "      <td>1188</td>\n",
              "      <td>1295</td>\n",
              "      <td>1083</td>\n",
              "      <td>954</td>\n",
              "      <td>902</td>\n",
              "      <td>790</td>\n",
              "      <td>699</td>\n",
              "      <td>590</td>\n",
              "      <td>564</td>\n",
              "      <td>458</td>\n",
              "      <td>368</td>\n",
              "      <td>307</td>\n",
              "      <td>275</td>\n",
              "      <td>221</td>\n",
              "      <td>195</td>\n",
              "      <td>145</td>\n",
              "      <td>132</td>\n",
              "      <td>91</td>\n",
              "      <td>81</td>\n",
              "      <td>55</td>\n",
              "      <td>56</td>\n",
              "      <td>60</td>\n",
              "      <td>37</td>\n",
              "      <td>271</td>\n",
              "    </tr>\n",
              "    <tr>\n",
              "      <th>서울특별시 종로구 청운효자동(1111051500)</th>\n",
              "      <td>12479</td>\n",
              "      <td>12479</td>\n",
              "      <td>54</td>\n",
              "      <td>64</td>\n",
              "      <td>60</td>\n",
              "      <td>85</td>\n",
              "      <td>82</td>\n",
              "      <td>102</td>\n",
              "      <td>89</td>\n",
              "      <td>93</td>\n",
              "      <td>115</td>\n",
              "      <td>99</td>\n",
              "      <td>104</td>\n",
              "      <td>114</td>\n",
              "      <td>119</td>\n",
              "      <td>135</td>\n",
              "      <td>110</td>\n",
              "      <td>103</td>\n",
              "      <td>134</td>\n",
              "      <td>120</td>\n",
              "      <td>112</td>\n",
              "      <td>121</td>\n",
              "      <td>154</td>\n",
              "      <td>142</td>\n",
              "      <td>162</td>\n",
              "      <td>147</td>\n",
              "      <td>181</td>\n",
              "      <td>137</td>\n",
              "      <td>152</td>\n",
              "      <td>170</td>\n",
              "      <td>197</td>\n",
              "      <td>167</td>\n",
              "      <td>149</td>\n",
              "      <td>147</td>\n",
              "      <td>157</td>\n",
              "      <td>158</td>\n",
              "      <td>165</td>\n",
              "      <td>157</td>\n",
              "      <td>167</td>\n",
              "      <td>175</td>\n",
              "      <td>...</td>\n",
              "      <td>170</td>\n",
              "      <td>144</td>\n",
              "      <td>140</td>\n",
              "      <td>151</td>\n",
              "      <td>150</td>\n",
              "      <td>115</td>\n",
              "      <td>128</td>\n",
              "      <td>112</td>\n",
              "      <td>87</td>\n",
              "      <td>111</td>\n",
              "      <td>106</td>\n",
              "      <td>109</td>\n",
              "      <td>108</td>\n",
              "      <td>90</td>\n",
              "      <td>96</td>\n",
              "      <td>99</td>\n",
              "      <td>101</td>\n",
              "      <td>107</td>\n",
              "      <td>85</td>\n",
              "      <td>83</td>\n",
              "      <td>86</td>\n",
              "      <td>64</td>\n",
              "      <td>60</td>\n",
              "      <td>58</td>\n",
              "      <td>40</td>\n",
              "      <td>42</td>\n",
              "      <td>38</td>\n",
              "      <td>26</td>\n",
              "      <td>23</td>\n",
              "      <td>11</td>\n",
              "      <td>17</td>\n",
              "      <td>6</td>\n",
              "      <td>6</td>\n",
              "      <td>11</td>\n",
              "      <td>6</td>\n",
              "      <td>5</td>\n",
              "      <td>5</td>\n",
              "      <td>4</td>\n",
              "      <td>2</td>\n",
              "      <td>19</td>\n",
              "    </tr>\n",
              "    <tr>\n",
              "      <th>서울특별시 종로구 사직동(1111053000)</th>\n",
              "      <td>9568</td>\n",
              "      <td>9568</td>\n",
              "      <td>31</td>\n",
              "      <td>38</td>\n",
              "      <td>46</td>\n",
              "      <td>51</td>\n",
              "      <td>64</td>\n",
              "      <td>74</td>\n",
              "      <td>77</td>\n",
              "      <td>70</td>\n",
              "      <td>69</td>\n",
              "      <td>63</td>\n",
              "      <td>64</td>\n",
              "      <td>63</td>\n",
              "      <td>86</td>\n",
              "      <td>79</td>\n",
              "      <td>56</td>\n",
              "      <td>73</td>\n",
              "      <td>72</td>\n",
              "      <td>70</td>\n",
              "      <td>60</td>\n",
              "      <td>79</td>\n",
              "      <td>89</td>\n",
              "      <td>99</td>\n",
              "      <td>101</td>\n",
              "      <td>104</td>\n",
              "      <td>111</td>\n",
              "      <td>142</td>\n",
              "      <td>117</td>\n",
              "      <td>162</td>\n",
              "      <td>161</td>\n",
              "      <td>154</td>\n",
              "      <td>159</td>\n",
              "      <td>136</td>\n",
              "      <td>145</td>\n",
              "      <td>155</td>\n",
              "      <td>122</td>\n",
              "      <td>133</td>\n",
              "      <td>150</td>\n",
              "      <td>139</td>\n",
              "      <td>...</td>\n",
              "      <td>153</td>\n",
              "      <td>140</td>\n",
              "      <td>150</td>\n",
              "      <td>117</td>\n",
              "      <td>120</td>\n",
              "      <td>102</td>\n",
              "      <td>93</td>\n",
              "      <td>106</td>\n",
              "      <td>61</td>\n",
              "      <td>71</td>\n",
              "      <td>97</td>\n",
              "      <td>84</td>\n",
              "      <td>72</td>\n",
              "      <td>74</td>\n",
              "      <td>87</td>\n",
              "      <td>74</td>\n",
              "      <td>73</td>\n",
              "      <td>75</td>\n",
              "      <td>73</td>\n",
              "      <td>69</td>\n",
              "      <td>60</td>\n",
              "      <td>71</td>\n",
              "      <td>48</td>\n",
              "      <td>41</td>\n",
              "      <td>54</td>\n",
              "      <td>48</td>\n",
              "      <td>31</td>\n",
              "      <td>17</td>\n",
              "      <td>25</td>\n",
              "      <td>12</td>\n",
              "      <td>26</td>\n",
              "      <td>9</td>\n",
              "      <td>10</td>\n",
              "      <td>9</td>\n",
              "      <td>8</td>\n",
              "      <td>2</td>\n",
              "      <td>8</td>\n",
              "      <td>3</td>\n",
              "      <td>2</td>\n",
              "      <td>20</td>\n",
              "    </tr>\n",
              "    <tr>\n",
              "      <th>서울특별시 종로구 삼청동(1111054000)</th>\n",
              "      <td>2692</td>\n",
              "      <td>2692</td>\n",
              "      <td>7</td>\n",
              "      <td>5</td>\n",
              "      <td>7</td>\n",
              "      <td>12</td>\n",
              "      <td>6</td>\n",
              "      <td>11</td>\n",
              "      <td>13</td>\n",
              "      <td>11</td>\n",
              "      <td>10</td>\n",
              "      <td>18</td>\n",
              "      <td>12</td>\n",
              "      <td>21</td>\n",
              "      <td>26</td>\n",
              "      <td>18</td>\n",
              "      <td>26</td>\n",
              "      <td>17</td>\n",
              "      <td>15</td>\n",
              "      <td>19</td>\n",
              "      <td>23</td>\n",
              "      <td>19</td>\n",
              "      <td>27</td>\n",
              "      <td>24</td>\n",
              "      <td>36</td>\n",
              "      <td>36</td>\n",
              "      <td>29</td>\n",
              "      <td>46</td>\n",
              "      <td>33</td>\n",
              "      <td>41</td>\n",
              "      <td>39</td>\n",
              "      <td>26</td>\n",
              "      <td>40</td>\n",
              "      <td>42</td>\n",
              "      <td>35</td>\n",
              "      <td>21</td>\n",
              "      <td>30</td>\n",
              "      <td>41</td>\n",
              "      <td>29</td>\n",
              "      <td>36</td>\n",
              "      <td>...</td>\n",
              "      <td>50</td>\n",
              "      <td>47</td>\n",
              "      <td>46</td>\n",
              "      <td>39</td>\n",
              "      <td>49</td>\n",
              "      <td>37</td>\n",
              "      <td>38</td>\n",
              "      <td>44</td>\n",
              "      <td>16</td>\n",
              "      <td>31</td>\n",
              "      <td>31</td>\n",
              "      <td>39</td>\n",
              "      <td>30</td>\n",
              "      <td>26</td>\n",
              "      <td>20</td>\n",
              "      <td>30</td>\n",
              "      <td>20</td>\n",
              "      <td>36</td>\n",
              "      <td>20</td>\n",
              "      <td>34</td>\n",
              "      <td>13</td>\n",
              "      <td>16</td>\n",
              "      <td>14</td>\n",
              "      <td>18</td>\n",
              "      <td>18</td>\n",
              "      <td>10</td>\n",
              "      <td>13</td>\n",
              "      <td>11</td>\n",
              "      <td>7</td>\n",
              "      <td>11</td>\n",
              "      <td>2</td>\n",
              "      <td>5</td>\n",
              "      <td>6</td>\n",
              "      <td>1</td>\n",
              "      <td>2</td>\n",
              "      <td>2</td>\n",
              "      <td>1</td>\n",
              "      <td>2</td>\n",
              "      <td>1</td>\n",
              "      <td>6</td>\n",
              "    </tr>\n",
              "  </tbody>\n",
              "</table>\n",
              "<p>5 rows × 103 columns</p>\n",
              "</div>"
            ],
            "text/plain": [
              "                                총인구수  연령구간인구수     0세  ...   98세   99세  100세 이상\n",
              "행정구역                                                  ...                     \n",
              "서울특별시  (1100000000)          9699232  9699232  46381  ...  1403  1033     6678\n",
              "서울특별시 종로구 (1111000000)        149952   149952    523  ...    60    37      271\n",
              "서울특별시 종로구 청운효자동(1111051500)    12479    12479     54  ...     4     2       19\n",
              "서울특별시 종로구 사직동(1111053000)       9568     9568     31  ...     3     2       20\n",
              "서울특별시 종로구 삼청동(1111054000)       2692     2692      7  ...     2     1        6\n",
              "\n",
              "[5 rows x 103 columns]"
            ]
          },
          "metadata": {
            "tags": []
          },
          "execution_count": 49
        }
      ]
    },
    {
      "cell_type": "code",
      "metadata": {
        "id": "X5XGf5P34p2d"
      },
      "source": [
        "# 특정열 삭제 - del() 함수 사용.\n",
        "\n",
        "filename = '/content/drive/My Drive/DATA/age_pandas.csv'\n",
        "\n",
        "import pandas as pd\n",
        "\n",
        "df = pd.read_csv(filename, encoding='cp949', index_col=0)  # 인덱스를 첫번째 컬럼 값으로 정한다. (index_col=0)\n",
        "\n",
        "df = df.div(df['총인구수'], axis=0) # 전체 데이터를 총인구수로 나눠서 비율로 변환\n",
        "del df['총인구수'], df['연령구간인구수'] # 총인구수, 연령구간인구수 열 삭제"
      ],
      "execution_count": 50,
      "outputs": []
    },
    {
      "cell_type": "code",
      "metadata": {
        "id": "yaHIunGL5Ylf",
        "outputId": "9d54ecaa-5a94-4e73-b572-a7627686539c",
        "colab": {
          "base_uri": "https://localhost:8080/",
          "height": 806
        }
      },
      "source": [
        "# 2~3. 궁금한 지역 이름 입력받고 해당 지역의 인구 구조 저장하기\n",
        "\n",
        "filename = '/content/drive/My Drive/DATA/age_pandas.csv'\n",
        "\n",
        "import pandas as pd\n",
        "\n",
        "df = pd.read_csv(filename, encoding='cp949', index_col=0)  \n",
        "\n",
        "df = df.div(df['총인구수'], axis=0) \n",
        "del df['총인구수'], df['연령구간인구수'] \n",
        "\n",
        "loc_name = input('원하는 지역의 이름을 입력해 주세요 : ')  # 2. 지역 이름 입력\n",
        "\n",
        "a = df.index.str.contains(loc_name)  # 3. 해당 행을 찾아서 해당 지역의 인구 구조를 저장\n",
        "df2 = df[a]\n",
        "df2"
      ],
      "execution_count": 52,
      "outputs": [
        {
          "output_type": "stream",
          "text": [
            "원하는 지역의 이름을 입력해 주세요 : 부산\n"
          ],
          "name": "stdout"
        },
        {
          "output_type": "execute_result",
          "data": {
            "text/html": [
              "<div>\n",
              "<style scoped>\n",
              "    .dataframe tbody tr th:only-of-type {\n",
              "        vertical-align: middle;\n",
              "    }\n",
              "\n",
              "    .dataframe tbody tr th {\n",
              "        vertical-align: top;\n",
              "    }\n",
              "\n",
              "    .dataframe thead th {\n",
              "        text-align: right;\n",
              "    }\n",
              "</style>\n",
              "<table border=\"1\" class=\"dataframe\">\n",
              "  <thead>\n",
              "    <tr style=\"text-align: right;\">\n",
              "      <th></th>\n",
              "      <th>0세</th>\n",
              "      <th>1세</th>\n",
              "      <th>2세</th>\n",
              "      <th>3세</th>\n",
              "      <th>4세</th>\n",
              "      <th>5세</th>\n",
              "      <th>6세</th>\n",
              "      <th>7세</th>\n",
              "      <th>8세</th>\n",
              "      <th>9세</th>\n",
              "      <th>10세</th>\n",
              "      <th>11세</th>\n",
              "      <th>12세</th>\n",
              "      <th>13세</th>\n",
              "      <th>14세</th>\n",
              "      <th>15세</th>\n",
              "      <th>16세</th>\n",
              "      <th>17세</th>\n",
              "      <th>18세</th>\n",
              "      <th>19세</th>\n",
              "      <th>20세</th>\n",
              "      <th>21세</th>\n",
              "      <th>22세</th>\n",
              "      <th>23세</th>\n",
              "      <th>24세</th>\n",
              "      <th>25세</th>\n",
              "      <th>26세</th>\n",
              "      <th>27세</th>\n",
              "      <th>28세</th>\n",
              "      <th>29세</th>\n",
              "      <th>30세</th>\n",
              "      <th>31세</th>\n",
              "      <th>32세</th>\n",
              "      <th>33세</th>\n",
              "      <th>34세</th>\n",
              "      <th>35세</th>\n",
              "      <th>36세</th>\n",
              "      <th>37세</th>\n",
              "      <th>38세</th>\n",
              "      <th>39세</th>\n",
              "      <th>...</th>\n",
              "      <th>61세</th>\n",
              "      <th>62세</th>\n",
              "      <th>63세</th>\n",
              "      <th>64세</th>\n",
              "      <th>65세</th>\n",
              "      <th>66세</th>\n",
              "      <th>67세</th>\n",
              "      <th>68세</th>\n",
              "      <th>69세</th>\n",
              "      <th>70세</th>\n",
              "      <th>71세</th>\n",
              "      <th>72세</th>\n",
              "      <th>73세</th>\n",
              "      <th>74세</th>\n",
              "      <th>75세</th>\n",
              "      <th>76세</th>\n",
              "      <th>77세</th>\n",
              "      <th>78세</th>\n",
              "      <th>79세</th>\n",
              "      <th>80세</th>\n",
              "      <th>81세</th>\n",
              "      <th>82세</th>\n",
              "      <th>83세</th>\n",
              "      <th>84세</th>\n",
              "      <th>85세</th>\n",
              "      <th>86세</th>\n",
              "      <th>87세</th>\n",
              "      <th>88세</th>\n",
              "      <th>89세</th>\n",
              "      <th>90세</th>\n",
              "      <th>91세</th>\n",
              "      <th>92세</th>\n",
              "      <th>93세</th>\n",
              "      <th>94세</th>\n",
              "      <th>95세</th>\n",
              "      <th>96세</th>\n",
              "      <th>97세</th>\n",
              "      <th>98세</th>\n",
              "      <th>99세</th>\n",
              "      <th>100세 이상</th>\n",
              "    </tr>\n",
              "    <tr>\n",
              "      <th>행정구역</th>\n",
              "      <th></th>\n",
              "      <th></th>\n",
              "      <th></th>\n",
              "      <th></th>\n",
              "      <th></th>\n",
              "      <th></th>\n",
              "      <th></th>\n",
              "      <th></th>\n",
              "      <th></th>\n",
              "      <th></th>\n",
              "      <th></th>\n",
              "      <th></th>\n",
              "      <th></th>\n",
              "      <th></th>\n",
              "      <th></th>\n",
              "      <th></th>\n",
              "      <th></th>\n",
              "      <th></th>\n",
              "      <th></th>\n",
              "      <th></th>\n",
              "      <th></th>\n",
              "      <th></th>\n",
              "      <th></th>\n",
              "      <th></th>\n",
              "      <th></th>\n",
              "      <th></th>\n",
              "      <th></th>\n",
              "      <th></th>\n",
              "      <th></th>\n",
              "      <th></th>\n",
              "      <th></th>\n",
              "      <th></th>\n",
              "      <th></th>\n",
              "      <th></th>\n",
              "      <th></th>\n",
              "      <th></th>\n",
              "      <th></th>\n",
              "      <th></th>\n",
              "      <th></th>\n",
              "      <th></th>\n",
              "      <th></th>\n",
              "      <th></th>\n",
              "      <th></th>\n",
              "      <th></th>\n",
              "      <th></th>\n",
              "      <th></th>\n",
              "      <th></th>\n",
              "      <th></th>\n",
              "      <th></th>\n",
              "      <th></th>\n",
              "      <th></th>\n",
              "      <th></th>\n",
              "      <th></th>\n",
              "      <th></th>\n",
              "      <th></th>\n",
              "      <th></th>\n",
              "      <th></th>\n",
              "      <th></th>\n",
              "      <th></th>\n",
              "      <th></th>\n",
              "      <th></th>\n",
              "      <th></th>\n",
              "      <th></th>\n",
              "      <th></th>\n",
              "      <th></th>\n",
              "      <th></th>\n",
              "      <th></th>\n",
              "      <th></th>\n",
              "      <th></th>\n",
              "      <th></th>\n",
              "      <th></th>\n",
              "      <th></th>\n",
              "      <th></th>\n",
              "      <th></th>\n",
              "      <th></th>\n",
              "      <th></th>\n",
              "      <th></th>\n",
              "      <th></th>\n",
              "      <th></th>\n",
              "      <th></th>\n",
              "      <th></th>\n",
              "    </tr>\n",
              "  </thead>\n",
              "  <tbody>\n",
              "    <tr>\n",
              "      <th>부산광역시  (2600000000)</th>\n",
              "      <td>0.004509</td>\n",
              "      <td>0.005121</td>\n",
              "      <td>0.005847</td>\n",
              "      <td>0.006496</td>\n",
              "      <td>0.007463</td>\n",
              "      <td>0.007778</td>\n",
              "      <td>0.007721</td>\n",
              "      <td>0.007834</td>\n",
              "      <td>0.008313</td>\n",
              "      <td>0.008297</td>\n",
              "      <td>0.007650</td>\n",
              "      <td>0.007499</td>\n",
              "      <td>0.007863</td>\n",
              "      <td>0.007871</td>\n",
              "      <td>0.007259</td>\n",
              "      <td>0.007360</td>\n",
              "      <td>0.008081</td>\n",
              "      <td>0.008236</td>\n",
              "      <td>0.008676</td>\n",
              "      <td>0.010184</td>\n",
              "      <td>0.011331</td>\n",
              "      <td>0.011182</td>\n",
              "      <td>0.012340</td>\n",
              "      <td>0.012918</td>\n",
              "      <td>0.013510</td>\n",
              "      <td>0.013427</td>\n",
              "      <td>0.013505</td>\n",
              "      <td>0.013420</td>\n",
              "      <td>0.013423</td>\n",
              "      <td>0.012247</td>\n",
              "      <td>0.011932</td>\n",
              "      <td>0.011433</td>\n",
              "      <td>0.010982</td>\n",
              "      <td>0.010934</td>\n",
              "      <td>0.011178</td>\n",
              "      <td>0.011451</td>\n",
              "      <td>0.012314</td>\n",
              "      <td>0.013716</td>\n",
              "      <td>0.015123</td>\n",
              "      <td>0.015686</td>\n",
              "      <td>...</td>\n",
              "      <td>0.017857</td>\n",
              "      <td>0.016979</td>\n",
              "      <td>0.017204</td>\n",
              "      <td>0.015907</td>\n",
              "      <td>0.016742</td>\n",
              "      <td>0.013738</td>\n",
              "      <td>0.012647</td>\n",
              "      <td>0.013286</td>\n",
              "      <td>0.010475</td>\n",
              "      <td>0.010739</td>\n",
              "      <td>0.010836</td>\n",
              "      <td>0.010514</td>\n",
              "      <td>0.009796</td>\n",
              "      <td>0.007001</td>\n",
              "      <td>0.007410</td>\n",
              "      <td>0.007396</td>\n",
              "      <td>0.007860</td>\n",
              "      <td>0.007807</td>\n",
              "      <td>0.006489</td>\n",
              "      <td>0.005736</td>\n",
              "      <td>0.005354</td>\n",
              "      <td>0.004448</td>\n",
              "      <td>0.003995</td>\n",
              "      <td>0.003410</td>\n",
              "      <td>0.003072</td>\n",
              "      <td>0.002457</td>\n",
              "      <td>0.001970</td>\n",
              "      <td>0.001693</td>\n",
              "      <td>0.001252</td>\n",
              "      <td>0.001049</td>\n",
              "      <td>0.000910</td>\n",
              "      <td>0.000732</td>\n",
              "      <td>0.000525</td>\n",
              "      <td>0.000324</td>\n",
              "      <td>0.000276</td>\n",
              "      <td>0.000189</td>\n",
              "      <td>0.000175</td>\n",
              "      <td>0.000126</td>\n",
              "      <td>0.000078</td>\n",
              "      <td>0.000550</td>\n",
              "    </tr>\n",
              "    <tr>\n",
              "      <th>부산광역시 중구 (2611000000)</th>\n",
              "      <td>0.002164</td>\n",
              "      <td>0.002164</td>\n",
              "      <td>0.002909</td>\n",
              "      <td>0.003053</td>\n",
              "      <td>0.002957</td>\n",
              "      <td>0.003895</td>\n",
              "      <td>0.003751</td>\n",
              "      <td>0.003342</td>\n",
              "      <td>0.004280</td>\n",
              "      <td>0.004280</td>\n",
              "      <td>0.004256</td>\n",
              "      <td>0.003943</td>\n",
              "      <td>0.004183</td>\n",
              "      <td>0.004087</td>\n",
              "      <td>0.004207</td>\n",
              "      <td>0.004183</td>\n",
              "      <td>0.004784</td>\n",
              "      <td>0.005722</td>\n",
              "      <td>0.006708</td>\n",
              "      <td>0.007838</td>\n",
              "      <td>0.010122</td>\n",
              "      <td>0.009737</td>\n",
              "      <td>0.012166</td>\n",
              "      <td>0.013897</td>\n",
              "      <td>0.014401</td>\n",
              "      <td>0.014810</td>\n",
              "      <td>0.015531</td>\n",
              "      <td>0.015099</td>\n",
              "      <td>0.015796</td>\n",
              "      <td>0.013897</td>\n",
              "      <td>0.012502</td>\n",
              "      <td>0.010627</td>\n",
              "      <td>0.010699</td>\n",
              "      <td>0.009545</td>\n",
              "      <td>0.009641</td>\n",
              "      <td>0.010531</td>\n",
              "      <td>0.008703</td>\n",
              "      <td>0.011204</td>\n",
              "      <td>0.012238</td>\n",
              "      <td>0.012021</td>\n",
              "      <td>...</td>\n",
              "      <td>0.020388</td>\n",
              "      <td>0.020677</td>\n",
              "      <td>0.021157</td>\n",
              "      <td>0.019282</td>\n",
              "      <td>0.021734</td>\n",
              "      <td>0.017214</td>\n",
              "      <td>0.016565</td>\n",
              "      <td>0.017118</td>\n",
              "      <td>0.013344</td>\n",
              "      <td>0.014762</td>\n",
              "      <td>0.014642</td>\n",
              "      <td>0.014570</td>\n",
              "      <td>0.012694</td>\n",
              "      <td>0.010434</td>\n",
              "      <td>0.010747</td>\n",
              "      <td>0.011420</td>\n",
              "      <td>0.011661</td>\n",
              "      <td>0.011204</td>\n",
              "      <td>0.010074</td>\n",
              "      <td>0.008367</td>\n",
              "      <td>0.008367</td>\n",
              "      <td>0.006972</td>\n",
              "      <td>0.005674</td>\n",
              "      <td>0.005217</td>\n",
              "      <td>0.004280</td>\n",
              "      <td>0.003606</td>\n",
              "      <td>0.002693</td>\n",
              "      <td>0.002765</td>\n",
              "      <td>0.001755</td>\n",
              "      <td>0.001996</td>\n",
              "      <td>0.001539</td>\n",
              "      <td>0.001611</td>\n",
              "      <td>0.001154</td>\n",
              "      <td>0.000673</td>\n",
              "      <td>0.000433</td>\n",
              "      <td>0.000289</td>\n",
              "      <td>0.000505</td>\n",
              "      <td>0.000505</td>\n",
              "      <td>0.000168</td>\n",
              "      <td>0.002020</td>\n",
              "    </tr>\n",
              "    <tr>\n",
              "      <th>부산광역시 중구 중앙동(2611051000)</th>\n",
              "      <td>0.002073</td>\n",
              "      <td>0.001658</td>\n",
              "      <td>0.002902</td>\n",
              "      <td>0.001658</td>\n",
              "      <td>0.001658</td>\n",
              "      <td>0.000829</td>\n",
              "      <td>0.002073</td>\n",
              "      <td>0.000000</td>\n",
              "      <td>0.001244</td>\n",
              "      <td>0.003317</td>\n",
              "      <td>0.002073</td>\n",
              "      <td>0.001658</td>\n",
              "      <td>0.003317</td>\n",
              "      <td>0.002902</td>\n",
              "      <td>0.002073</td>\n",
              "      <td>0.002488</td>\n",
              "      <td>0.003317</td>\n",
              "      <td>0.002902</td>\n",
              "      <td>0.006633</td>\n",
              "      <td>0.008292</td>\n",
              "      <td>0.006219</td>\n",
              "      <td>0.012023</td>\n",
              "      <td>0.016998</td>\n",
              "      <td>0.025290</td>\n",
              "      <td>0.025705</td>\n",
              "      <td>0.023632</td>\n",
              "      <td>0.034826</td>\n",
              "      <td>0.025705</td>\n",
              "      <td>0.033997</td>\n",
              "      <td>0.026534</td>\n",
              "      <td>0.027363</td>\n",
              "      <td>0.018657</td>\n",
              "      <td>0.019486</td>\n",
              "      <td>0.018657</td>\n",
              "      <td>0.012438</td>\n",
              "      <td>0.017413</td>\n",
              "      <td>0.013267</td>\n",
              "      <td>0.011194</td>\n",
              "      <td>0.017828</td>\n",
              "      <td>0.014511</td>\n",
              "      <td>...</td>\n",
              "      <td>0.014511</td>\n",
              "      <td>0.016584</td>\n",
              "      <td>0.016169</td>\n",
              "      <td>0.015340</td>\n",
              "      <td>0.017828</td>\n",
              "      <td>0.015340</td>\n",
              "      <td>0.015755</td>\n",
              "      <td>0.014096</td>\n",
              "      <td>0.011609</td>\n",
              "      <td>0.010779</td>\n",
              "      <td>0.013682</td>\n",
              "      <td>0.005390</td>\n",
              "      <td>0.008292</td>\n",
              "      <td>0.006633</td>\n",
              "      <td>0.007048</td>\n",
              "      <td>0.007877</td>\n",
              "      <td>0.004561</td>\n",
              "      <td>0.007048</td>\n",
              "      <td>0.006219</td>\n",
              "      <td>0.004146</td>\n",
              "      <td>0.007048</td>\n",
              "      <td>0.004146</td>\n",
              "      <td>0.003317</td>\n",
              "      <td>0.002488</td>\n",
              "      <td>0.002902</td>\n",
              "      <td>0.003317</td>\n",
              "      <td>0.001244</td>\n",
              "      <td>0.003317</td>\n",
              "      <td>0.002073</td>\n",
              "      <td>0.000829</td>\n",
              "      <td>0.001658</td>\n",
              "      <td>0.003731</td>\n",
              "      <td>0.000000</td>\n",
              "      <td>0.000415</td>\n",
              "      <td>0.000829</td>\n",
              "      <td>0.000415</td>\n",
              "      <td>0.000829</td>\n",
              "      <td>0.001244</td>\n",
              "      <td>0.000000</td>\n",
              "      <td>0.001244</td>\n",
              "    </tr>\n",
              "    <tr>\n",
              "      <th>부산광역시 중구 동광동(2611052000)</th>\n",
              "      <td>0.001704</td>\n",
              "      <td>0.002044</td>\n",
              "      <td>0.003066</td>\n",
              "      <td>0.002726</td>\n",
              "      <td>0.002044</td>\n",
              "      <td>0.003066</td>\n",
              "      <td>0.002726</td>\n",
              "      <td>0.003407</td>\n",
              "      <td>0.004429</td>\n",
              "      <td>0.002726</td>\n",
              "      <td>0.004429</td>\n",
              "      <td>0.003066</td>\n",
              "      <td>0.002385</td>\n",
              "      <td>0.002726</td>\n",
              "      <td>0.002044</td>\n",
              "      <td>0.004089</td>\n",
              "      <td>0.001363</td>\n",
              "      <td>0.003407</td>\n",
              "      <td>0.004429</td>\n",
              "      <td>0.006814</td>\n",
              "      <td>0.008177</td>\n",
              "      <td>0.007836</td>\n",
              "      <td>0.009199</td>\n",
              "      <td>0.007496</td>\n",
              "      <td>0.011244</td>\n",
              "      <td>0.012947</td>\n",
              "      <td>0.013969</td>\n",
              "      <td>0.014310</td>\n",
              "      <td>0.017036</td>\n",
              "      <td>0.009881</td>\n",
              "      <td>0.008518</td>\n",
              "      <td>0.008177</td>\n",
              "      <td>0.007155</td>\n",
              "      <td>0.008177</td>\n",
              "      <td>0.006474</td>\n",
              "      <td>0.007836</td>\n",
              "      <td>0.010221</td>\n",
              "      <td>0.010562</td>\n",
              "      <td>0.009199</td>\n",
              "      <td>0.008518</td>\n",
              "      <td>...</td>\n",
              "      <td>0.022828</td>\n",
              "      <td>0.015673</td>\n",
              "      <td>0.025894</td>\n",
              "      <td>0.017376</td>\n",
              "      <td>0.023509</td>\n",
              "      <td>0.014651</td>\n",
              "      <td>0.018399</td>\n",
              "      <td>0.019761</td>\n",
              "      <td>0.018399</td>\n",
              "      <td>0.020102</td>\n",
              "      <td>0.017376</td>\n",
              "      <td>0.019080</td>\n",
              "      <td>0.013969</td>\n",
              "      <td>0.013288</td>\n",
              "      <td>0.014310</td>\n",
              "      <td>0.013969</td>\n",
              "      <td>0.015332</td>\n",
              "      <td>0.013629</td>\n",
              "      <td>0.017376</td>\n",
              "      <td>0.012266</td>\n",
              "      <td>0.008518</td>\n",
              "      <td>0.006133</td>\n",
              "      <td>0.005451</td>\n",
              "      <td>0.007836</td>\n",
              "      <td>0.004770</td>\n",
              "      <td>0.005111</td>\n",
              "      <td>0.002044</td>\n",
              "      <td>0.003066</td>\n",
              "      <td>0.003407</td>\n",
              "      <td>0.002044</td>\n",
              "      <td>0.003066</td>\n",
              "      <td>0.002726</td>\n",
              "      <td>0.001363</td>\n",
              "      <td>0.001363</td>\n",
              "      <td>0.001363</td>\n",
              "      <td>0.000000</td>\n",
              "      <td>0.001022</td>\n",
              "      <td>0.000681</td>\n",
              "      <td>0.000000</td>\n",
              "      <td>0.001704</td>\n",
              "    </tr>\n",
              "    <tr>\n",
              "      <th>부산광역시 중구 대청동(2611053000)</th>\n",
              "      <td>0.001064</td>\n",
              "      <td>0.002280</td>\n",
              "      <td>0.002888</td>\n",
              "      <td>0.002280</td>\n",
              "      <td>0.003647</td>\n",
              "      <td>0.003343</td>\n",
              "      <td>0.003647</td>\n",
              "      <td>0.003647</td>\n",
              "      <td>0.004711</td>\n",
              "      <td>0.005167</td>\n",
              "      <td>0.003799</td>\n",
              "      <td>0.003647</td>\n",
              "      <td>0.005167</td>\n",
              "      <td>0.005167</td>\n",
              "      <td>0.004711</td>\n",
              "      <td>0.005319</td>\n",
              "      <td>0.006231</td>\n",
              "      <td>0.008967</td>\n",
              "      <td>0.008359</td>\n",
              "      <td>0.008967</td>\n",
              "      <td>0.009271</td>\n",
              "      <td>0.008055</td>\n",
              "      <td>0.014894</td>\n",
              "      <td>0.015350</td>\n",
              "      <td>0.017173</td>\n",
              "      <td>0.013678</td>\n",
              "      <td>0.017781</td>\n",
              "      <td>0.015198</td>\n",
              "      <td>0.018541</td>\n",
              "      <td>0.013070</td>\n",
              "      <td>0.011246</td>\n",
              "      <td>0.012918</td>\n",
              "      <td>0.012310</td>\n",
              "      <td>0.009726</td>\n",
              "      <td>0.010638</td>\n",
              "      <td>0.007903</td>\n",
              "      <td>0.008359</td>\n",
              "      <td>0.010942</td>\n",
              "      <td>0.011854</td>\n",
              "      <td>0.010334</td>\n",
              "      <td>...</td>\n",
              "      <td>0.019453</td>\n",
              "      <td>0.024012</td>\n",
              "      <td>0.019605</td>\n",
              "      <td>0.014438</td>\n",
              "      <td>0.019453</td>\n",
              "      <td>0.015502</td>\n",
              "      <td>0.016109</td>\n",
              "      <td>0.014286</td>\n",
              "      <td>0.011854</td>\n",
              "      <td>0.012158</td>\n",
              "      <td>0.015502</td>\n",
              "      <td>0.012766</td>\n",
              "      <td>0.012310</td>\n",
              "      <td>0.010182</td>\n",
              "      <td>0.011550</td>\n",
              "      <td>0.009878</td>\n",
              "      <td>0.012766</td>\n",
              "      <td>0.011702</td>\n",
              "      <td>0.008207</td>\n",
              "      <td>0.006687</td>\n",
              "      <td>0.008055</td>\n",
              "      <td>0.006079</td>\n",
              "      <td>0.003951</td>\n",
              "      <td>0.005015</td>\n",
              "      <td>0.003799</td>\n",
              "      <td>0.003495</td>\n",
              "      <td>0.002432</td>\n",
              "      <td>0.001824</td>\n",
              "      <td>0.002128</td>\n",
              "      <td>0.002736</td>\n",
              "      <td>0.001368</td>\n",
              "      <td>0.002432</td>\n",
              "      <td>0.001672</td>\n",
              "      <td>0.000912</td>\n",
              "      <td>0.000608</td>\n",
              "      <td>0.000456</td>\n",
              "      <td>0.000608</td>\n",
              "      <td>0.000304</td>\n",
              "      <td>0.000152</td>\n",
              "      <td>0.001216</td>\n",
              "    </tr>\n",
              "    <tr>\n",
              "      <th>...</th>\n",
              "      <td>...</td>\n",
              "      <td>...</td>\n",
              "      <td>...</td>\n",
              "      <td>...</td>\n",
              "      <td>...</td>\n",
              "      <td>...</td>\n",
              "      <td>...</td>\n",
              "      <td>...</td>\n",
              "      <td>...</td>\n",
              "      <td>...</td>\n",
              "      <td>...</td>\n",
              "      <td>...</td>\n",
              "      <td>...</td>\n",
              "      <td>...</td>\n",
              "      <td>...</td>\n",
              "      <td>...</td>\n",
              "      <td>...</td>\n",
              "      <td>...</td>\n",
              "      <td>...</td>\n",
              "      <td>...</td>\n",
              "      <td>...</td>\n",
              "      <td>...</td>\n",
              "      <td>...</td>\n",
              "      <td>...</td>\n",
              "      <td>...</td>\n",
              "      <td>...</td>\n",
              "      <td>...</td>\n",
              "      <td>...</td>\n",
              "      <td>...</td>\n",
              "      <td>...</td>\n",
              "      <td>...</td>\n",
              "      <td>...</td>\n",
              "      <td>...</td>\n",
              "      <td>...</td>\n",
              "      <td>...</td>\n",
              "      <td>...</td>\n",
              "      <td>...</td>\n",
              "      <td>...</td>\n",
              "      <td>...</td>\n",
              "      <td>...</td>\n",
              "      <td>...</td>\n",
              "      <td>...</td>\n",
              "      <td>...</td>\n",
              "      <td>...</td>\n",
              "      <td>...</td>\n",
              "      <td>...</td>\n",
              "      <td>...</td>\n",
              "      <td>...</td>\n",
              "      <td>...</td>\n",
              "      <td>...</td>\n",
              "      <td>...</td>\n",
              "      <td>...</td>\n",
              "      <td>...</td>\n",
              "      <td>...</td>\n",
              "      <td>...</td>\n",
              "      <td>...</td>\n",
              "      <td>...</td>\n",
              "      <td>...</td>\n",
              "      <td>...</td>\n",
              "      <td>...</td>\n",
              "      <td>...</td>\n",
              "      <td>...</td>\n",
              "      <td>...</td>\n",
              "      <td>...</td>\n",
              "      <td>...</td>\n",
              "      <td>...</td>\n",
              "      <td>...</td>\n",
              "      <td>...</td>\n",
              "      <td>...</td>\n",
              "      <td>...</td>\n",
              "      <td>...</td>\n",
              "      <td>...</td>\n",
              "      <td>...</td>\n",
              "      <td>...</td>\n",
              "      <td>...</td>\n",
              "      <td>...</td>\n",
              "      <td>...</td>\n",
              "      <td>...</td>\n",
              "      <td>...</td>\n",
              "      <td>...</td>\n",
              "      <td>...</td>\n",
              "    </tr>\n",
              "    <tr>\n",
              "      <th>부산광역시 기장군 장안읍(2671025300)</th>\n",
              "      <td>0.005732</td>\n",
              "      <td>0.003898</td>\n",
              "      <td>0.004242</td>\n",
              "      <td>0.004929</td>\n",
              "      <td>0.004242</td>\n",
              "      <td>0.005159</td>\n",
              "      <td>0.005503</td>\n",
              "      <td>0.004356</td>\n",
              "      <td>0.005847</td>\n",
              "      <td>0.005732</td>\n",
              "      <td>0.002751</td>\n",
              "      <td>0.004471</td>\n",
              "      <td>0.005388</td>\n",
              "      <td>0.003095</td>\n",
              "      <td>0.004242</td>\n",
              "      <td>0.004929</td>\n",
              "      <td>0.004586</td>\n",
              "      <td>0.005617</td>\n",
              "      <td>0.006420</td>\n",
              "      <td>0.009057</td>\n",
              "      <td>0.010088</td>\n",
              "      <td>0.011120</td>\n",
              "      <td>0.009515</td>\n",
              "      <td>0.011693</td>\n",
              "      <td>0.011693</td>\n",
              "      <td>0.013298</td>\n",
              "      <td>0.014559</td>\n",
              "      <td>0.012840</td>\n",
              "      <td>0.011235</td>\n",
              "      <td>0.010891</td>\n",
              "      <td>0.013757</td>\n",
              "      <td>0.012381</td>\n",
              "      <td>0.012954</td>\n",
              "      <td>0.011808</td>\n",
              "      <td>0.010776</td>\n",
              "      <td>0.010661</td>\n",
              "      <td>0.012152</td>\n",
              "      <td>0.011349</td>\n",
              "      <td>0.014101</td>\n",
              "      <td>0.012610</td>\n",
              "      <td>...</td>\n",
              "      <td>0.022584</td>\n",
              "      <td>0.022699</td>\n",
              "      <td>0.020979</td>\n",
              "      <td>0.017769</td>\n",
              "      <td>0.021094</td>\n",
              "      <td>0.017081</td>\n",
              "      <td>0.015935</td>\n",
              "      <td>0.016967</td>\n",
              "      <td>0.011235</td>\n",
              "      <td>0.013642</td>\n",
              "      <td>0.012266</td>\n",
              "      <td>0.014215</td>\n",
              "      <td>0.011579</td>\n",
              "      <td>0.008483</td>\n",
              "      <td>0.010318</td>\n",
              "      <td>0.010203</td>\n",
              "      <td>0.010661</td>\n",
              "      <td>0.009400</td>\n",
              "      <td>0.009057</td>\n",
              "      <td>0.009859</td>\n",
              "      <td>0.008139</td>\n",
              "      <td>0.007910</td>\n",
              "      <td>0.005617</td>\n",
              "      <td>0.007222</td>\n",
              "      <td>0.004815</td>\n",
              "      <td>0.003898</td>\n",
              "      <td>0.004586</td>\n",
              "      <td>0.003439</td>\n",
              "      <td>0.003210</td>\n",
              "      <td>0.002522</td>\n",
              "      <td>0.001490</td>\n",
              "      <td>0.001032</td>\n",
              "      <td>0.001146</td>\n",
              "      <td>0.000917</td>\n",
              "      <td>0.000688</td>\n",
              "      <td>0.000459</td>\n",
              "      <td>0.000802</td>\n",
              "      <td>0.000459</td>\n",
              "      <td>0.000229</td>\n",
              "      <td>0.001146</td>\n",
              "    </tr>\n",
              "    <tr>\n",
              "      <th>부산광역시 기장군 정관읍(2671025600)</th>\n",
              "      <td>0.008216</td>\n",
              "      <td>0.010169</td>\n",
              "      <td>0.011354</td>\n",
              "      <td>0.013856</td>\n",
              "      <td>0.017030</td>\n",
              "      <td>0.018129</td>\n",
              "      <td>0.018410</td>\n",
              "      <td>0.017848</td>\n",
              "      <td>0.019447</td>\n",
              "      <td>0.018434</td>\n",
              "      <td>0.015724</td>\n",
              "      <td>0.015248</td>\n",
              "      <td>0.015175</td>\n",
              "      <td>0.015053</td>\n",
              "      <td>0.011854</td>\n",
              "      <td>0.012049</td>\n",
              "      <td>0.012147</td>\n",
              "      <td>0.010658</td>\n",
              "      <td>0.010401</td>\n",
              "      <td>0.009400</td>\n",
              "      <td>0.009290</td>\n",
              "      <td>0.008204</td>\n",
              "      <td>0.007496</td>\n",
              "      <td>0.007410</td>\n",
              "      <td>0.007789</td>\n",
              "      <td>0.007215</td>\n",
              "      <td>0.007960</td>\n",
              "      <td>0.007862</td>\n",
              "      <td>0.008594</td>\n",
              "      <td>0.009278</td>\n",
              "      <td>0.009766</td>\n",
              "      <td>0.010829</td>\n",
              "      <td>0.011695</td>\n",
              "      <td>0.012587</td>\n",
              "      <td>0.014064</td>\n",
              "      <td>0.015675</td>\n",
              "      <td>0.018520</td>\n",
              "      <td>0.022060</td>\n",
              "      <td>0.025747</td>\n",
              "      <td>0.027261</td>\n",
              "      <td>...</td>\n",
              "      <td>0.009400</td>\n",
              "      <td>0.008839</td>\n",
              "      <td>0.008363</td>\n",
              "      <td>0.008546</td>\n",
              "      <td>0.008790</td>\n",
              "      <td>0.007984</td>\n",
              "      <td>0.007007</td>\n",
              "      <td>0.007569</td>\n",
              "      <td>0.006495</td>\n",
              "      <td>0.006202</td>\n",
              "      <td>0.006043</td>\n",
              "      <td>0.005616</td>\n",
              "      <td>0.005213</td>\n",
              "      <td>0.004041</td>\n",
              "      <td>0.004261</td>\n",
              "      <td>0.004053</td>\n",
              "      <td>0.004004</td>\n",
              "      <td>0.003382</td>\n",
              "      <td>0.002918</td>\n",
              "      <td>0.002674</td>\n",
              "      <td>0.002576</td>\n",
              "      <td>0.002039</td>\n",
              "      <td>0.001636</td>\n",
              "      <td>0.001441</td>\n",
              "      <td>0.001380</td>\n",
              "      <td>0.001160</td>\n",
              "      <td>0.000916</td>\n",
              "      <td>0.000977</td>\n",
              "      <td>0.000720</td>\n",
              "      <td>0.000488</td>\n",
              "      <td>0.000378</td>\n",
              "      <td>0.000317</td>\n",
              "      <td>0.000330</td>\n",
              "      <td>0.000171</td>\n",
              "      <td>0.000220</td>\n",
              "      <td>0.000098</td>\n",
              "      <td>0.000049</td>\n",
              "      <td>0.000049</td>\n",
              "      <td>0.000012</td>\n",
              "      <td>0.000073</td>\n",
              "    </tr>\n",
              "    <tr>\n",
              "      <th>부산광역시 기장군 일광면(2671031000)</th>\n",
              "      <td>0.010425</td>\n",
              "      <td>0.013294</td>\n",
              "      <td>0.012290</td>\n",
              "      <td>0.014729</td>\n",
              "      <td>0.014825</td>\n",
              "      <td>0.013342</td>\n",
              "      <td>0.014060</td>\n",
              "      <td>0.011812</td>\n",
              "      <td>0.010760</td>\n",
              "      <td>0.009564</td>\n",
              "      <td>0.008369</td>\n",
              "      <td>0.007365</td>\n",
              "      <td>0.006934</td>\n",
              "      <td>0.005595</td>\n",
              "      <td>0.005356</td>\n",
              "      <td>0.006026</td>\n",
              "      <td>0.006552</td>\n",
              "      <td>0.005834</td>\n",
              "      <td>0.006743</td>\n",
              "      <td>0.008847</td>\n",
              "      <td>0.008799</td>\n",
              "      <td>0.009182</td>\n",
              "      <td>0.009469</td>\n",
              "      <td>0.009421</td>\n",
              "      <td>0.008464</td>\n",
              "      <td>0.008130</td>\n",
              "      <td>0.009469</td>\n",
              "      <td>0.011334</td>\n",
              "      <td>0.011142</td>\n",
              "      <td>0.013294</td>\n",
              "      <td>0.014442</td>\n",
              "      <td>0.014490</td>\n",
              "      <td>0.016738</td>\n",
              "      <td>0.016020</td>\n",
              "      <td>0.018316</td>\n",
              "      <td>0.018029</td>\n",
              "      <td>0.019750</td>\n",
              "      <td>0.022476</td>\n",
              "      <td>0.024198</td>\n",
              "      <td>0.022189</td>\n",
              "      <td>...</td>\n",
              "      <td>0.015494</td>\n",
              "      <td>0.014299</td>\n",
              "      <td>0.015446</td>\n",
              "      <td>0.012960</td>\n",
              "      <td>0.013581</td>\n",
              "      <td>0.010951</td>\n",
              "      <td>0.008990</td>\n",
              "      <td>0.009373</td>\n",
              "      <td>0.008847</td>\n",
              "      <td>0.008082</td>\n",
              "      <td>0.008321</td>\n",
              "      <td>0.008847</td>\n",
              "      <td>0.009086</td>\n",
              "      <td>0.005452</td>\n",
              "      <td>0.005021</td>\n",
              "      <td>0.005834</td>\n",
              "      <td>0.006456</td>\n",
              "      <td>0.006312</td>\n",
              "      <td>0.004208</td>\n",
              "      <td>0.004113</td>\n",
              "      <td>0.003874</td>\n",
              "      <td>0.003778</td>\n",
              "      <td>0.003204</td>\n",
              "      <td>0.002965</td>\n",
              "      <td>0.002917</td>\n",
              "      <td>0.002917</td>\n",
              "      <td>0.001769</td>\n",
              "      <td>0.001674</td>\n",
              "      <td>0.001339</td>\n",
              "      <td>0.000909</td>\n",
              "      <td>0.000478</td>\n",
              "      <td>0.001004</td>\n",
              "      <td>0.000239</td>\n",
              "      <td>0.000239</td>\n",
              "      <td>0.000430</td>\n",
              "      <td>0.000287</td>\n",
              "      <td>0.000096</td>\n",
              "      <td>0.000335</td>\n",
              "      <td>0.000096</td>\n",
              "      <td>0.000287</td>\n",
              "    </tr>\n",
              "    <tr>\n",
              "      <th>부산광역시 기장군 철마면(2671033000)</th>\n",
              "      <td>0.002350</td>\n",
              "      <td>0.002102</td>\n",
              "      <td>0.004205</td>\n",
              "      <td>0.004081</td>\n",
              "      <td>0.006555</td>\n",
              "      <td>0.006184</td>\n",
              "      <td>0.007049</td>\n",
              "      <td>0.006678</td>\n",
              "      <td>0.006802</td>\n",
              "      <td>0.006307</td>\n",
              "      <td>0.008039</td>\n",
              "      <td>0.004576</td>\n",
              "      <td>0.005442</td>\n",
              "      <td>0.005442</td>\n",
              "      <td>0.005936</td>\n",
              "      <td>0.003586</td>\n",
              "      <td>0.004081</td>\n",
              "      <td>0.005070</td>\n",
              "      <td>0.004452</td>\n",
              "      <td>0.006678</td>\n",
              "      <td>0.007297</td>\n",
              "      <td>0.007049</td>\n",
              "      <td>0.009523</td>\n",
              "      <td>0.008781</td>\n",
              "      <td>0.009646</td>\n",
              "      <td>0.011996</td>\n",
              "      <td>0.011007</td>\n",
              "      <td>0.009646</td>\n",
              "      <td>0.009646</td>\n",
              "      <td>0.007915</td>\n",
              "      <td>0.006678</td>\n",
              "      <td>0.006802</td>\n",
              "      <td>0.007173</td>\n",
              "      <td>0.007791</td>\n",
              "      <td>0.008039</td>\n",
              "      <td>0.007791</td>\n",
              "      <td>0.009152</td>\n",
              "      <td>0.011130</td>\n",
              "      <td>0.011007</td>\n",
              "      <td>0.011254</td>\n",
              "      <td>...</td>\n",
              "      <td>0.021890</td>\n",
              "      <td>0.023250</td>\n",
              "      <td>0.023868</td>\n",
              "      <td>0.022013</td>\n",
              "      <td>0.023745</td>\n",
              "      <td>0.019169</td>\n",
              "      <td>0.018798</td>\n",
              "      <td>0.021519</td>\n",
              "      <td>0.016448</td>\n",
              "      <td>0.016696</td>\n",
              "      <td>0.018674</td>\n",
              "      <td>0.015088</td>\n",
              "      <td>0.015459</td>\n",
              "      <td>0.011130</td>\n",
              "      <td>0.013109</td>\n",
              "      <td>0.009894</td>\n",
              "      <td>0.012985</td>\n",
              "      <td>0.011254</td>\n",
              "      <td>0.008286</td>\n",
              "      <td>0.011378</td>\n",
              "      <td>0.010017</td>\n",
              "      <td>0.007173</td>\n",
              "      <td>0.006678</td>\n",
              "      <td>0.005318</td>\n",
              "      <td>0.003710</td>\n",
              "      <td>0.003339</td>\n",
              "      <td>0.003710</td>\n",
              "      <td>0.002721</td>\n",
              "      <td>0.002597</td>\n",
              "      <td>0.002226</td>\n",
              "      <td>0.001360</td>\n",
              "      <td>0.000989</td>\n",
              "      <td>0.000742</td>\n",
              "      <td>0.000124</td>\n",
              "      <td>0.000371</td>\n",
              "      <td>0.000495</td>\n",
              "      <td>0.000124</td>\n",
              "      <td>0.000371</td>\n",
              "      <td>0.000371</td>\n",
              "      <td>0.000247</td>\n",
              "    </tr>\n",
              "    <tr>\n",
              "      <th>전라남도 장흥군 부산면(4680036000)</th>\n",
              "      <td>0.004107</td>\n",
              "      <td>0.002738</td>\n",
              "      <td>0.002738</td>\n",
              "      <td>0.001369</td>\n",
              "      <td>0.005476</td>\n",
              "      <td>0.004107</td>\n",
              "      <td>0.000684</td>\n",
              "      <td>0.005476</td>\n",
              "      <td>0.003422</td>\n",
              "      <td>0.001369</td>\n",
              "      <td>0.004107</td>\n",
              "      <td>0.002738</td>\n",
              "      <td>0.004791</td>\n",
              "      <td>0.004107</td>\n",
              "      <td>0.004107</td>\n",
              "      <td>0.001369</td>\n",
              "      <td>0.006845</td>\n",
              "      <td>0.008898</td>\n",
              "      <td>0.006160</td>\n",
              "      <td>0.008898</td>\n",
              "      <td>0.010951</td>\n",
              "      <td>0.009582</td>\n",
              "      <td>0.010267</td>\n",
              "      <td>0.006845</td>\n",
              "      <td>0.007529</td>\n",
              "      <td>0.003422</td>\n",
              "      <td>0.006160</td>\n",
              "      <td>0.006160</td>\n",
              "      <td>0.003422</td>\n",
              "      <td>0.001369</td>\n",
              "      <td>0.000684</td>\n",
              "      <td>0.004791</td>\n",
              "      <td>0.006160</td>\n",
              "      <td>0.002738</td>\n",
              "      <td>0.000684</td>\n",
              "      <td>0.002738</td>\n",
              "      <td>0.005476</td>\n",
              "      <td>0.007529</td>\n",
              "      <td>0.007529</td>\n",
              "      <td>0.004107</td>\n",
              "      <td>...</td>\n",
              "      <td>0.019849</td>\n",
              "      <td>0.016427</td>\n",
              "      <td>0.009582</td>\n",
              "      <td>0.017796</td>\n",
              "      <td>0.018480</td>\n",
              "      <td>0.015058</td>\n",
              "      <td>0.010951</td>\n",
              "      <td>0.019165</td>\n",
              "      <td>0.012320</td>\n",
              "      <td>0.013005</td>\n",
              "      <td>0.015743</td>\n",
              "      <td>0.015058</td>\n",
              "      <td>0.019849</td>\n",
              "      <td>0.018480</td>\n",
              "      <td>0.013005</td>\n",
              "      <td>0.018480</td>\n",
              "      <td>0.017112</td>\n",
              "      <td>0.028747</td>\n",
              "      <td>0.023956</td>\n",
              "      <td>0.023272</td>\n",
              "      <td>0.024641</td>\n",
              "      <td>0.021218</td>\n",
              "      <td>0.013005</td>\n",
              "      <td>0.017112</td>\n",
              "      <td>0.017112</td>\n",
              "      <td>0.011636</td>\n",
              "      <td>0.010267</td>\n",
              "      <td>0.014374</td>\n",
              "      <td>0.006845</td>\n",
              "      <td>0.006845</td>\n",
              "      <td>0.007529</td>\n",
              "      <td>0.005476</td>\n",
              "      <td>0.005476</td>\n",
              "      <td>0.005476</td>\n",
              "      <td>0.002738</td>\n",
              "      <td>0.000684</td>\n",
              "      <td>0.001369</td>\n",
              "      <td>0.000684</td>\n",
              "      <td>0.000684</td>\n",
              "      <td>0.000000</td>\n",
              "    </tr>\n",
              "  </tbody>\n",
              "</table>\n",
              "<p>223 rows × 101 columns</p>\n",
              "</div>"
            ],
            "text/plain": [
              "                                 0세        1세  ...       99세   100세 이상\n",
              "행정구역                                           ...                    \n",
              "부산광역시  (2600000000)        0.004509  0.005121  ...  0.000078  0.000550\n",
              "부산광역시 중구 (2611000000)      0.002164  0.002164  ...  0.000168  0.002020\n",
              "부산광역시 중구 중앙동(2611051000)   0.002073  0.001658  ...  0.000000  0.001244\n",
              "부산광역시 중구 동광동(2611052000)   0.001704  0.002044  ...  0.000000  0.001704\n",
              "부산광역시 중구 대청동(2611053000)   0.001064  0.002280  ...  0.000152  0.001216\n",
              "...                             ...       ...  ...       ...       ...\n",
              "부산광역시 기장군 장안읍(2671025300)  0.005732  0.003898  ...  0.000229  0.001146\n",
              "부산광역시 기장군 정관읍(2671025600)  0.008216  0.010169  ...  0.000012  0.000073\n",
              "부산광역시 기장군 일광면(2671031000)  0.010425  0.013294  ...  0.000096  0.000287\n",
              "부산광역시 기장군 철마면(2671033000)  0.002350  0.002102  ...  0.000371  0.000247\n",
              "전라남도 장흥군 부산면(4680036000)   0.004107  0.002738  ...  0.000684  0.000000\n",
              "\n",
              "[223 rows x 101 columns]"
            ]
          },
          "metadata": {
            "tags": []
          },
          "execution_count": 52
        }
      ]
    },
    {
      "cell_type": "code",
      "metadata": {
        "id": "Z3i3NQ0j6eXG",
        "outputId": "b7a07986-4d02-453a-8d08-3251d0274c29",
        "colab": {
          "base_uri": "https://localhost:8080/",
          "height": 300
        }
      },
      "source": [
        "# 데이터 그래프로 그리기\n",
        "\n",
        "filename = '/content/drive/My Drive/DATA/age_pandas.csv'\n",
        "\n",
        "import pandas as pd\n",
        "\n",
        "df = pd.read_csv(filename, encoding='cp949', index_col=0)  \n",
        "\n",
        "df = df.div(df['총인구수'], axis=0) \n",
        "del df['총인구수'], df['연령구간인구수'] \n",
        "\n",
        "loc_name = input('원하는 지역의 이름을 입력해 주세요 : ')  # 2. 지역 이름 입력\n",
        "\n",
        "a = df.index.str.contains(loc_name)  # 3. 해당 행을 찾아서 해당 지역의 인구 구조를 저장\n",
        "# df.index.str.contains()함수는 데이터 프레임의 인덱스 문자열에 원하는 문자열이 포함된 행을 찾아냅니다.\n",
        "\n",
        "df2 = df[a]\n",
        "\n",
        "# 5. 궁금한 지역의 인구 구조와 가장 비슷한 곳의 인구 구조를 시각화 한다.\n",
        "import matplotlib.pyplot as plt\n",
        "\n",
        "plt.rc('font', family=\"NanumBarunGothic\")    # 한글 글꼴 사용\n",
        "plt.rcParams['axes.unicode_minus'] = False   # 수치상의 -기호 표시하기\n",
        "plt.style.use('ggplot')\n",
        "\n",
        "df2.T.plot()\n",
        "\n",
        "plt.show()"
      ],
      "execution_count": 56,
      "outputs": [
        {
          "output_type": "stream",
          "text": [
            "원하는 지역의 이름을 입력해 주세요 : 연산제1동\n"
          ],
          "name": "stdout"
        },
        {
          "output_type": "display_data",
          "data": {
            "text/plain": [
              "<Figure size 1440x360 with 0 Axes>"
            ]
          },
          "metadata": {
            "tags": []
          }
        },
        {
          "output_type": "display_data",
          "data": {
            "image/png": "[encoded data removed]",
            "text/plain": [
              "<Figure size 432x288 with 1 Axes>"
            ]
          },
          "metadata": {
            "tags": []
          }
        }
      ]
    },
    {
      "cell_type": "code",
      "metadata": {
        "id": "nIiW2tYp8nul",
        "outputId": "a344ac27-2d2f-4053-90d4-5c150e761fd8",
        "colab": {
          "base_uri": "https://localhost:8080/",
          "height": 282
        }
      },
      "source": [
        "# 4~5 궁금한 지역의 인구 구조와 가장 비슷한 인구 구조를 가진 지역 시각화 하기\n",
        "\n",
        "filename = '/content/drive/My Drive/DATA/age_pandas.csv'\n",
        "\n",
        "import numpy as np # numpy 라이브러리 이용\n",
        "import pandas as pd\n",
        "\n",
        "df = pd.read_csv(filename, encoding='cp949', index_col=0)  \n",
        "\n",
        "df = df.div(df['총인구수'], axis=0) \n",
        "del df['총인구수'], df['연령구간인구수'] \n",
        "\n",
        "loc_name = input('원하는 지역의 이름을 입력해 주세요 : ')\n",
        "\n",
        "a = df.index.str.contains(loc_name)\n",
        "\n",
        "df2 = df[a]\n",
        "\n",
        "x = df.sub(df2.iloc[0], axis=1) # 궁금한 지역 A의 인구 비율에서 B의 인구 비율을 뺀다.\n",
        "y = np.power(x, 2) # A의 인구 비율에서 B의 인구 비율을 뺀 값의 제곱값을 모두 더한다.\n",
        "z = y.sum(axis=1)\n",
        "i = z.sort_values().index[:5] # 그 차이가 가장 작은 지역 5곳을 찾는다.\n",
        "\n",
        "import matplotlib.pyplot as plt\n",
        "\n",
        "plt.rc('font', family=\"NanumBarunGothic\")    # 한글 글꼴 사용\n",
        "plt.rcParams['axes.unicode_minus'] = False   # 수치상의 -기호 표시하기\n",
        "plt.style.use('ggplot')\n",
        "\n",
        "df.loc[i].T.plot() # 결과를 꺾은선 그래프로 보여준다.\n",
        "\n",
        "plt.show()"
      ],
      "execution_count": 63,
      "outputs": [
        {
          "output_type": "stream",
          "text": [
            "원하는 지역의 이름을 입력해 주세요 : 부산\n"
          ],
          "name": "stdout"
        },
        {
          "output_type": "display_data",
          "data": {
            "image/png": "[encoded data removed]",
            "text/plain": [
              "<Figure size 432x288 with 1 Axes>"
            ]
          },
          "metadata": {
            "tags": []
          }
        }
      ]
    },
    {
      "cell_type": "code",
      "metadata": {
        "id": "NuUXBBAt-MEO",
        "outputId": "bea2219e-cecf-40fe-fdca-661c35da6732",
        "colab": {
          "base_uri": "https://localhost:8080/",
          "height": 282
        }
      },
      "source": [
        "# 우리 동네와 인구 구조와 비슷한 지역들을 그래프로 나타내기 (pandas 사용)\n",
        "# 위 4~5번 코드와 동일 출력임.\n",
        "\n",
        "filename = '/content/drive/My Drive/DATA/age_pandas.csv'\n",
        "\n",
        "import numpy as np # numpy 라이브러리 이용\n",
        "import pandas as pd\n",
        "import matplotlib.pyplot as plt\n",
        "\n",
        "plt.rc('font', family=\"NanumBarunGothic\")    # 한글 글꼴 사용\n",
        "plt.rcParams['axes.unicode_minus'] = False   # 수치상의 -기호 표시하기\n",
        "plt.style.use('ggplot')\n",
        "\n",
        "df = pd.read_csv(filename, encoding='cp949', index_col=0)  \n",
        "\n",
        "df = df.div(df['총인구수'], axis=0) \n",
        "del df['총인구수'], df['연령구간인구수'] \n",
        "\n",
        "loc_name = input('원하는 지역의 이름을 입력해 주세요 : ')\n",
        "\n",
        "a = df.index.str.contains(loc_name)\n",
        "\n",
        "df2 = df[a]\n",
        "\n",
        "df.loc[np.power(df.sub(df2.iloc[0], axis=1), 2).sum(axis=1).sort_values().index[:5]].T.plot()\n",
        "\n",
        "plt.show()"
      ],
      "execution_count": 64,
      "outputs": [
        {
          "output_type": "stream",
          "text": [
            "원하는 지역의 이름을 입력해 주세요 : 부산\n"
          ],
          "name": "stdout"
        },
        {
          "output_type": "display_data",
          "data": {
            "image/png": "[encoded data removed]",
            "text/plain": [
              "<Figure size 432x288 with 1 Axes>"
            ]
          },
          "metadata": {
            "tags": []
          }
        }
      ]
    },
    {
      "cell_type": "code",
      "metadata": {
        "id": "zU6yOWzd_nFW"
      },
      "source": [
        ""
      ],
      "execution_count": null,
      "outputs": []
    }
  ]
}